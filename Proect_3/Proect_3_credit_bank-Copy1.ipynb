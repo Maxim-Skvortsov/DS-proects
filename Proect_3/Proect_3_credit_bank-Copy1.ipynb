{
 "cells": [
  {
   "cell_type": "markdown",
   "metadata": {},
   "source": [
    "# Исследование надёжности заёмщиков\n",
    "\n",
    "Заказчик — кредитный отдел банка. Нужно разобраться, влияет ли семейное положение и количество детей клиента на факт погашения кредита в срок. Входные данные от банка — статистика о платёжеспособности клиентов.\n",
    "\n",
    "Результаты исследования будут учтены при построении модели **кредитного скоринга** — специальной системы, которая оценивает способность потенциального заёмщика вернуть кредит банку."
   ]
  },
  {
   "cell_type": "markdown",
   "metadata": {},
   "source": [
    "## Шаг 1. Откройте файл с данными и изучите общую информацию"
   ]
  },
  {
   "cell_type": "markdown",
   "metadata": {},
   "source": [
    "Импортируем библиотеки. Читаем файл data.csv из папки /datasets и сохраняем его в переменной df."
   ]
  },
  {
   "cell_type": "code",
   "execution_count": 1,
   "metadata": {},
   "outputs": [],
   "source": [
    "import seaborn as sns\n",
    "import numpy as np\n",
    "import pandas as pd\n",
    "import matplotlib.pyplot as plt"
   ]
  },
  {
   "cell_type": "code",
   "execution_count": 2,
   "metadata": {},
   "outputs": [],
   "source": [
    "df = pd.read_csv('/datasets/data.csv')"
   ]
  },
  {
   "cell_type": "markdown",
   "metadata": {},
   "source": [
    "Посмотрим на первые 10 строк."
   ]
  },
  {
   "cell_type": "code",
   "execution_count": 3,
   "metadata": {},
   "outputs": [
    {
     "data": {
      "text/html": [
       "<div>\n",
       "<style scoped>\n",
       "    .dataframe tbody tr th:only-of-type {\n",
       "        vertical-align: middle;\n",
       "    }\n",
       "\n",
       "    .dataframe tbody tr th {\n",
       "        vertical-align: top;\n",
       "    }\n",
       "\n",
       "    .dataframe thead th {\n",
       "        text-align: right;\n",
       "    }\n",
       "</style>\n",
       "<table border=\"1\" class=\"dataframe\">\n",
       "  <thead>\n",
       "    <tr style=\"text-align: right;\">\n",
       "      <th></th>\n",
       "      <th>children</th>\n",
       "      <th>days_employed</th>\n",
       "      <th>dob_years</th>\n",
       "      <th>education</th>\n",
       "      <th>education_id</th>\n",
       "      <th>family_status</th>\n",
       "      <th>family_status_id</th>\n",
       "      <th>gender</th>\n",
       "      <th>income_type</th>\n",
       "      <th>debt</th>\n",
       "      <th>total_income</th>\n",
       "      <th>purpose</th>\n",
       "    </tr>\n",
       "  </thead>\n",
       "  <tbody>\n",
       "    <tr>\n",
       "      <td>0</td>\n",
       "      <td>1</td>\n",
       "      <td>-8437.673028</td>\n",
       "      <td>42</td>\n",
       "      <td>высшее</td>\n",
       "      <td>0</td>\n",
       "      <td>женат / замужем</td>\n",
       "      <td>0</td>\n",
       "      <td>F</td>\n",
       "      <td>сотрудник</td>\n",
       "      <td>0</td>\n",
       "      <td>253875.639453</td>\n",
       "      <td>покупка жилья</td>\n",
       "    </tr>\n",
       "    <tr>\n",
       "      <td>1</td>\n",
       "      <td>1</td>\n",
       "      <td>-4024.803754</td>\n",
       "      <td>36</td>\n",
       "      <td>среднее</td>\n",
       "      <td>1</td>\n",
       "      <td>женат / замужем</td>\n",
       "      <td>0</td>\n",
       "      <td>F</td>\n",
       "      <td>сотрудник</td>\n",
       "      <td>0</td>\n",
       "      <td>112080.014102</td>\n",
       "      <td>приобретение автомобиля</td>\n",
       "    </tr>\n",
       "    <tr>\n",
       "      <td>2</td>\n",
       "      <td>0</td>\n",
       "      <td>-5623.422610</td>\n",
       "      <td>33</td>\n",
       "      <td>Среднее</td>\n",
       "      <td>1</td>\n",
       "      <td>женат / замужем</td>\n",
       "      <td>0</td>\n",
       "      <td>M</td>\n",
       "      <td>сотрудник</td>\n",
       "      <td>0</td>\n",
       "      <td>145885.952297</td>\n",
       "      <td>покупка жилья</td>\n",
       "    </tr>\n",
       "    <tr>\n",
       "      <td>3</td>\n",
       "      <td>3</td>\n",
       "      <td>-4124.747207</td>\n",
       "      <td>32</td>\n",
       "      <td>среднее</td>\n",
       "      <td>1</td>\n",
       "      <td>женат / замужем</td>\n",
       "      <td>0</td>\n",
       "      <td>M</td>\n",
       "      <td>сотрудник</td>\n",
       "      <td>0</td>\n",
       "      <td>267628.550329</td>\n",
       "      <td>дополнительное образование</td>\n",
       "    </tr>\n",
       "    <tr>\n",
       "      <td>4</td>\n",
       "      <td>0</td>\n",
       "      <td>340266.072047</td>\n",
       "      <td>53</td>\n",
       "      <td>среднее</td>\n",
       "      <td>1</td>\n",
       "      <td>гражданский брак</td>\n",
       "      <td>1</td>\n",
       "      <td>F</td>\n",
       "      <td>пенсионер</td>\n",
       "      <td>0</td>\n",
       "      <td>158616.077870</td>\n",
       "      <td>сыграть свадьбу</td>\n",
       "    </tr>\n",
       "    <tr>\n",
       "      <td>5</td>\n",
       "      <td>0</td>\n",
       "      <td>-926.185831</td>\n",
       "      <td>27</td>\n",
       "      <td>высшее</td>\n",
       "      <td>0</td>\n",
       "      <td>гражданский брак</td>\n",
       "      <td>1</td>\n",
       "      <td>M</td>\n",
       "      <td>компаньон</td>\n",
       "      <td>0</td>\n",
       "      <td>255763.565419</td>\n",
       "      <td>покупка жилья</td>\n",
       "    </tr>\n",
       "    <tr>\n",
       "      <td>6</td>\n",
       "      <td>0</td>\n",
       "      <td>-2879.202052</td>\n",
       "      <td>43</td>\n",
       "      <td>высшее</td>\n",
       "      <td>0</td>\n",
       "      <td>женат / замужем</td>\n",
       "      <td>0</td>\n",
       "      <td>F</td>\n",
       "      <td>компаньон</td>\n",
       "      <td>0</td>\n",
       "      <td>240525.971920</td>\n",
       "      <td>операции с жильем</td>\n",
       "    </tr>\n",
       "    <tr>\n",
       "      <td>7</td>\n",
       "      <td>0</td>\n",
       "      <td>-152.779569</td>\n",
       "      <td>50</td>\n",
       "      <td>СРЕДНЕЕ</td>\n",
       "      <td>1</td>\n",
       "      <td>женат / замужем</td>\n",
       "      <td>0</td>\n",
       "      <td>M</td>\n",
       "      <td>сотрудник</td>\n",
       "      <td>0</td>\n",
       "      <td>135823.934197</td>\n",
       "      <td>образование</td>\n",
       "    </tr>\n",
       "    <tr>\n",
       "      <td>8</td>\n",
       "      <td>2</td>\n",
       "      <td>-6929.865299</td>\n",
       "      <td>35</td>\n",
       "      <td>ВЫСШЕЕ</td>\n",
       "      <td>0</td>\n",
       "      <td>гражданский брак</td>\n",
       "      <td>1</td>\n",
       "      <td>F</td>\n",
       "      <td>сотрудник</td>\n",
       "      <td>0</td>\n",
       "      <td>95856.832424</td>\n",
       "      <td>на проведение свадьбы</td>\n",
       "    </tr>\n",
       "    <tr>\n",
       "      <td>9</td>\n",
       "      <td>0</td>\n",
       "      <td>-2188.756445</td>\n",
       "      <td>41</td>\n",
       "      <td>среднее</td>\n",
       "      <td>1</td>\n",
       "      <td>женат / замужем</td>\n",
       "      <td>0</td>\n",
       "      <td>M</td>\n",
       "      <td>сотрудник</td>\n",
       "      <td>0</td>\n",
       "      <td>144425.938277</td>\n",
       "      <td>покупка жилья для семьи</td>\n",
       "    </tr>\n",
       "  </tbody>\n",
       "</table>\n",
       "</div>"
      ],
      "text/plain": [
       "   children  days_employed  dob_years education  education_id  \\\n",
       "0         1   -8437.673028         42    высшее             0   \n",
       "1         1   -4024.803754         36   среднее             1   \n",
       "2         0   -5623.422610         33   Среднее             1   \n",
       "3         3   -4124.747207         32   среднее             1   \n",
       "4         0  340266.072047         53   среднее             1   \n",
       "5         0    -926.185831         27    высшее             0   \n",
       "6         0   -2879.202052         43    высшее             0   \n",
       "7         0    -152.779569         50   СРЕДНЕЕ             1   \n",
       "8         2   -6929.865299         35    ВЫСШЕЕ             0   \n",
       "9         0   -2188.756445         41   среднее             1   \n",
       "\n",
       "      family_status  family_status_id gender income_type  debt   total_income  \\\n",
       "0   женат / замужем                 0      F   сотрудник     0  253875.639453   \n",
       "1   женат / замужем                 0      F   сотрудник     0  112080.014102   \n",
       "2   женат / замужем                 0      M   сотрудник     0  145885.952297   \n",
       "3   женат / замужем                 0      M   сотрудник     0  267628.550329   \n",
       "4  гражданский брак                 1      F   пенсионер     0  158616.077870   \n",
       "5  гражданский брак                 1      M   компаньон     0  255763.565419   \n",
       "6   женат / замужем                 0      F   компаньон     0  240525.971920   \n",
       "7   женат / замужем                 0      M   сотрудник     0  135823.934197   \n",
       "8  гражданский брак                 1      F   сотрудник     0   95856.832424   \n",
       "9   женат / замужем                 0      M   сотрудник     0  144425.938277   \n",
       "\n",
       "                      purpose  \n",
       "0               покупка жилья  \n",
       "1     приобретение автомобиля  \n",
       "2               покупка жилья  \n",
       "3  дополнительное образование  \n",
       "4             сыграть свадьбу  \n",
       "5               покупка жилья  \n",
       "6           операции с жильем  \n",
       "7                 образование  \n",
       "8       на проведение свадьбы  \n",
       "9     покупка жилья для семьи  "
      ]
     },
     "execution_count": 3,
     "metadata": {},
     "output_type": "execute_result"
    }
   ],
   "source": [
    "df.head(10)"
   ]
  },
  {
   "cell_type": "markdown",
   "metadata": {},
   "source": [
    "Взглянем на общую информацию"
   ]
  },
  {
   "cell_type": "code",
   "execution_count": 4,
   "metadata": {},
   "outputs": [
    {
     "name": "stdout",
     "output_type": "stream",
     "text": [
      "<class 'pandas.core.frame.DataFrame'>\n",
      "RangeIndex: 21525 entries, 0 to 21524\n",
      "Data columns (total 12 columns):\n",
      "children            21525 non-null int64\n",
      "days_employed       19351 non-null float64\n",
      "dob_years           21525 non-null int64\n",
      "education           21525 non-null object\n",
      "education_id        21525 non-null int64\n",
      "family_status       21525 non-null object\n",
      "family_status_id    21525 non-null int64\n",
      "gender              21525 non-null object\n",
      "income_type         21525 non-null object\n",
      "debt                21525 non-null int64\n",
      "total_income        19351 non-null float64\n",
      "purpose             21525 non-null object\n",
      "dtypes: float64(2), int64(5), object(5)\n",
      "memory usage: 2.0+ MB\n"
     ]
    }
   ],
   "source": [
    "df.info()"
   ]
  },
  {
   "cell_type": "markdown",
   "metadata": {},
   "source": [
    "У нас в таблице 12 столбцов<br>\n",
    "\n",
    "Согласно документации к данным:\n",
    "* children — количество детей в семье\n",
    "*days_employed — общий трудовой стаж в днях\n",
    "*dob_years — возраст клиента в годах\n",
    "*education — уровень образования клиента\n",
    "*education_id — идентификатор уровня образования\n",
    "*family_status — семейное положение\n",
    "*family_status_id — идентификатор семейного положения\n",
    "*gender — пол клиента\n",
    "*income_type — тип занятости\n",
    "*debt — имел ли задолженность по возврату кредитов\n",
    "*total_income — ежемесячный доход\n",
    "*purpose — цель получения кредита\n",
    "\n",
    "Количество значений в столбцах различается. Значит, в данных есть пропущенные значения."
   ]
  },
  {
   "cell_type": "markdown",
   "metadata": {},
   "source": [
    "**Вывод**"
   ]
  },
  {
   "cell_type": "markdown",
   "metadata": {},
   "source": [
    "В каждой строке таблицы - статистика о платёжеспособности клиента. Все данные состоят из информации о клиенте кредитного банка: количество детей, трудовой стаж, возраст, образование, семейное положение, пол клиента, ежемесячный доход, цель получения кредита а так же имел ли задолженность по возврату кредитов.\n",
    "\n",
    "Предварительно можно утверждать, что, данных достаточно для проверки гипотез. Но встречаются пропуски в данных. Так же заметны неправильные данные в столбце days_employed — общий трудовой стаж в днях.\n",
    "\n",
    "Чтоб исследование удалось надо устранить проблемы в данных.\n"
   ]
  },
  {
   "cell_type": "markdown",
   "metadata": {},
   "source": [
    "## Шаг 2. Предобработка данных"
   ]
  },
  {
   "cell_type": "markdown",
   "metadata": {},
   "source": [
    "### Исправление значений days_employed\t"
   ]
  },
  {
   "cell_type": "markdown",
   "metadata": {},
   "source": [
    "Взглянем на столбец days_employed"
   ]
  },
  {
   "cell_type": "code",
   "execution_count": 5,
   "metadata": {},
   "outputs": [
    {
     "data": {
      "text/plain": [
       "Text(0, 0.5, 'Количество людей')"
      ]
     },
     "execution_count": 5,
     "metadata": {},
     "output_type": "execute_result"
    },
    {
     "data": {
      "image/png": "[encoded data removed]",
      "text/plain": [
       "<Figure size 432x288 with 1 Axes>"
      ]
     },
     "metadata": {
      "needs_background": "light"
     },
     "output_type": "display_data"
    }
   ],
   "source": [
    "df['days_employed'].hist()\n",
    "plt.title(\"days_employed\")\n",
    "plt.xlabel(\"Дней проработал\")\n",
    "plt.ylabel(\"Количество людей\")"
   ]
  },
  {
   "cell_type": "markdown",
   "metadata": {},
   "source": [
    "Данные разделились на 2 группы расмотрим первую(которая левее)"
   ]
  },
  {
   "cell_type": "code",
   "execution_count": 6,
   "metadata": {},
   "outputs": [
    {
     "data": {
      "text/plain": [
       "Text(0, 0.5, 'Количество людей')"
      ]
     },
     "execution_count": 6,
     "metadata": {},
     "output_type": "execute_result"
    },
    {
     "data": {
      "image/png": "[encoded data removed]",
      "text/plain": [
       "<Figure size 432x288 with 1 Axes>"
      ]
     },
     "metadata": {
      "needs_background": "light"
     },
     "output_type": "display_data"
    }
   ],
   "source": [
    "df[df['days_employed']<100000]['days_employed'].hist()\n",
    "plt.title(\"1 группа\")\n",
    "plt.xlabel(\"Дней проработал\")\n",
    "plt.ylabel(\"Количество людей\")"
   ]
  },
  {
   "cell_type": "markdown",
   "metadata": {},
   "source": [
    "Они получились отрицательные. Такого не может быть. Взгянем на вторую группу"
   ]
  },
  {
   "cell_type": "code",
   "execution_count": 7,
   "metadata": {},
   "outputs": [
    {
     "data": {
      "text/plain": [
       "Text(0, 0.5, 'Количество людей')"
      ]
     },
     "execution_count": 7,
     "metadata": {},
     "output_type": "execute_result"
    },
    {
     "data": {
      "image/png": "[encoded data removed]",
      "text/plain": [
       "<Figure size 432x288 with 1 Axes>"
      ]
     },
     "metadata": {
      "needs_background": "light"
     },
     "output_type": "display_data"
    }
   ],
   "source": [
    "df[df['days_employed']>100000]['days_employed'].hist()\n",
    "plt.title(\"2 группа\")\n",
    "plt.xlabel(\"Дней проработал\")\n",
    "plt.ylabel(\"Количество людей\")"
   ]
  },
  {
   "cell_type": "markdown",
   "metadata": {},
   "source": [
    "Все данные(дни) больше 300000 это больше 800 лет тоже неверно. Взглянем какие данные во 2 группе"
   ]
  },
  {
   "cell_type": "code",
   "execution_count": 8,
   "metadata": {},
   "outputs": [
    {
     "data": {
      "text/html": [
       "<div>\n",
       "<style scoped>\n",
       "    .dataframe tbody tr th:only-of-type {\n",
       "        vertical-align: middle;\n",
       "    }\n",
       "\n",
       "    .dataframe tbody tr th {\n",
       "        vertical-align: top;\n",
       "    }\n",
       "\n",
       "    .dataframe thead th {\n",
       "        text-align: right;\n",
       "    }\n",
       "</style>\n",
       "<table border=\"1\" class=\"dataframe\">\n",
       "  <thead>\n",
       "    <tr style=\"text-align: right;\">\n",
       "      <th></th>\n",
       "      <th>children</th>\n",
       "      <th>days_employed</th>\n",
       "      <th>dob_years</th>\n",
       "      <th>education</th>\n",
       "      <th>education_id</th>\n",
       "      <th>family_status</th>\n",
       "      <th>family_status_id</th>\n",
       "      <th>gender</th>\n",
       "      <th>income_type</th>\n",
       "      <th>debt</th>\n",
       "      <th>total_income</th>\n",
       "      <th>purpose</th>\n",
       "    </tr>\n",
       "  </thead>\n",
       "  <tbody>\n",
       "    <tr>\n",
       "      <td>4</td>\n",
       "      <td>0</td>\n",
       "      <td>340266.072047</td>\n",
       "      <td>53</td>\n",
       "      <td>среднее</td>\n",
       "      <td>1</td>\n",
       "      <td>гражданский брак</td>\n",
       "      <td>1</td>\n",
       "      <td>F</td>\n",
       "      <td>пенсионер</td>\n",
       "      <td>0</td>\n",
       "      <td>158616.077870</td>\n",
       "      <td>сыграть свадьбу</td>\n",
       "    </tr>\n",
       "    <tr>\n",
       "      <td>18</td>\n",
       "      <td>0</td>\n",
       "      <td>400281.136913</td>\n",
       "      <td>53</td>\n",
       "      <td>среднее</td>\n",
       "      <td>1</td>\n",
       "      <td>вдовец / вдова</td>\n",
       "      <td>2</td>\n",
       "      <td>F</td>\n",
       "      <td>пенсионер</td>\n",
       "      <td>0</td>\n",
       "      <td>56823.777243</td>\n",
       "      <td>на покупку подержанного автомобиля</td>\n",
       "    </tr>\n",
       "    <tr>\n",
       "      <td>24</td>\n",
       "      <td>1</td>\n",
       "      <td>338551.952911</td>\n",
       "      <td>57</td>\n",
       "      <td>среднее</td>\n",
       "      <td>1</td>\n",
       "      <td>Не женат / не замужем</td>\n",
       "      <td>4</td>\n",
       "      <td>F</td>\n",
       "      <td>пенсионер</td>\n",
       "      <td>0</td>\n",
       "      <td>290547.235997</td>\n",
       "      <td>операции с коммерческой недвижимостью</td>\n",
       "    </tr>\n",
       "    <tr>\n",
       "      <td>25</td>\n",
       "      <td>0</td>\n",
       "      <td>363548.489348</td>\n",
       "      <td>67</td>\n",
       "      <td>среднее</td>\n",
       "      <td>1</td>\n",
       "      <td>женат / замужем</td>\n",
       "      <td>0</td>\n",
       "      <td>M</td>\n",
       "      <td>пенсионер</td>\n",
       "      <td>0</td>\n",
       "      <td>55112.757732</td>\n",
       "      <td>покупка недвижимости</td>\n",
       "    </tr>\n",
       "    <tr>\n",
       "      <td>30</td>\n",
       "      <td>1</td>\n",
       "      <td>335581.668515</td>\n",
       "      <td>62</td>\n",
       "      <td>среднее</td>\n",
       "      <td>1</td>\n",
       "      <td>женат / замужем</td>\n",
       "      <td>0</td>\n",
       "      <td>F</td>\n",
       "      <td>пенсионер</td>\n",
       "      <td>0</td>\n",
       "      <td>171456.067993</td>\n",
       "      <td>операции с коммерческой недвижимостью</td>\n",
       "    </tr>\n",
       "    <tr>\n",
       "      <td>...</td>\n",
       "      <td>...</td>\n",
       "      <td>...</td>\n",
       "      <td>...</td>\n",
       "      <td>...</td>\n",
       "      <td>...</td>\n",
       "      <td>...</td>\n",
       "      <td>...</td>\n",
       "      <td>...</td>\n",
       "      <td>...</td>\n",
       "      <td>...</td>\n",
       "      <td>...</td>\n",
       "      <td>...</td>\n",
       "    </tr>\n",
       "    <tr>\n",
       "      <td>21505</td>\n",
       "      <td>0</td>\n",
       "      <td>338904.866406</td>\n",
       "      <td>53</td>\n",
       "      <td>среднее</td>\n",
       "      <td>1</td>\n",
       "      <td>гражданский брак</td>\n",
       "      <td>1</td>\n",
       "      <td>M</td>\n",
       "      <td>пенсионер</td>\n",
       "      <td>0</td>\n",
       "      <td>75439.993167</td>\n",
       "      <td>сыграть свадьбу</td>\n",
       "    </tr>\n",
       "    <tr>\n",
       "      <td>21508</td>\n",
       "      <td>0</td>\n",
       "      <td>386497.714078</td>\n",
       "      <td>62</td>\n",
       "      <td>среднее</td>\n",
       "      <td>1</td>\n",
       "      <td>женат / замужем</td>\n",
       "      <td>0</td>\n",
       "      <td>M</td>\n",
       "      <td>пенсионер</td>\n",
       "      <td>0</td>\n",
       "      <td>72638.590915</td>\n",
       "      <td>недвижимость</td>\n",
       "    </tr>\n",
       "    <tr>\n",
       "      <td>21509</td>\n",
       "      <td>0</td>\n",
       "      <td>362161.054124</td>\n",
       "      <td>59</td>\n",
       "      <td>высшее</td>\n",
       "      <td>0</td>\n",
       "      <td>женат / замужем</td>\n",
       "      <td>0</td>\n",
       "      <td>M</td>\n",
       "      <td>пенсионер</td>\n",
       "      <td>0</td>\n",
       "      <td>73029.059379</td>\n",
       "      <td>операции с недвижимостью</td>\n",
       "    </tr>\n",
       "    <tr>\n",
       "      <td>21518</td>\n",
       "      <td>0</td>\n",
       "      <td>373995.710838</td>\n",
       "      <td>59</td>\n",
       "      <td>СРЕДНЕЕ</td>\n",
       "      <td>1</td>\n",
       "      <td>женат / замужем</td>\n",
       "      <td>0</td>\n",
       "      <td>F</td>\n",
       "      <td>пенсионер</td>\n",
       "      <td>0</td>\n",
       "      <td>153864.650328</td>\n",
       "      <td>сделка с автомобилем</td>\n",
       "    </tr>\n",
       "    <tr>\n",
       "      <td>21521</td>\n",
       "      <td>0</td>\n",
       "      <td>343937.404131</td>\n",
       "      <td>67</td>\n",
       "      <td>среднее</td>\n",
       "      <td>1</td>\n",
       "      <td>женат / замужем</td>\n",
       "      <td>0</td>\n",
       "      <td>F</td>\n",
       "      <td>пенсионер</td>\n",
       "      <td>0</td>\n",
       "      <td>155999.806512</td>\n",
       "      <td>сделка с автомобилем</td>\n",
       "    </tr>\n",
       "  </tbody>\n",
       "</table>\n",
       "<p>3445 rows × 12 columns</p>\n",
       "</div>"
      ],
      "text/plain": [
       "       children  days_employed  dob_years education  education_id  \\\n",
       "4             0  340266.072047         53   среднее             1   \n",
       "18            0  400281.136913         53   среднее             1   \n",
       "24            1  338551.952911         57   среднее             1   \n",
       "25            0  363548.489348         67   среднее             1   \n",
       "30            1  335581.668515         62   среднее             1   \n",
       "...         ...            ...        ...       ...           ...   \n",
       "21505         0  338904.866406         53   среднее             1   \n",
       "21508         0  386497.714078         62   среднее             1   \n",
       "21509         0  362161.054124         59    высшее             0   \n",
       "21518         0  373995.710838         59   СРЕДНЕЕ             1   \n",
       "21521         0  343937.404131         67   среднее             1   \n",
       "\n",
       "               family_status  family_status_id gender income_type  debt  \\\n",
       "4           гражданский брак                 1      F   пенсионер     0   \n",
       "18            вдовец / вдова                 2      F   пенсионер     0   \n",
       "24     Не женат / не замужем                 4      F   пенсионер     0   \n",
       "25           женат / замужем                 0      M   пенсионер     0   \n",
       "30           женат / замужем                 0      F   пенсионер     0   \n",
       "...                      ...               ...    ...         ...   ...   \n",
       "21505       гражданский брак                 1      M   пенсионер     0   \n",
       "21508        женат / замужем                 0      M   пенсионер     0   \n",
       "21509        женат / замужем                 0      M   пенсионер     0   \n",
       "21518        женат / замужем                 0      F   пенсионер     0   \n",
       "21521        женат / замужем                 0      F   пенсионер     0   \n",
       "\n",
       "        total_income                                purpose  \n",
       "4      158616.077870                        сыграть свадьбу  \n",
       "18      56823.777243     на покупку подержанного автомобиля  \n",
       "24     290547.235997  операции с коммерческой недвижимостью  \n",
       "25      55112.757732                   покупка недвижимости  \n",
       "30     171456.067993  операции с коммерческой недвижимостью  \n",
       "...              ...                                    ...  \n",
       "21505   75439.993167                        сыграть свадьбу  \n",
       "21508   72638.590915                           недвижимость  \n",
       "21509   73029.059379               операции с недвижимостью  \n",
       "21518  153864.650328                   сделка с автомобилем  \n",
       "21521  155999.806512                   сделка с автомобилем  \n",
       "\n",
       "[3445 rows x 12 columns]"
      ]
     },
     "execution_count": 8,
     "metadata": {},
     "output_type": "execute_result"
    }
   ],
   "source": [
    "df[df['days_employed']>100000]"
   ]
  },
  {
   "cell_type": "markdown",
   "metadata": {},
   "source": [
    "Обратим внимание на income_type большая часть это пенсионеры \n",
    "\n",
    "Посмотрим сколько людей во второй группе, но не пенсионеры"
   ]
  },
  {
   "cell_type": "code",
   "execution_count": 9,
   "metadata": {},
   "outputs": [
    {
     "data": {
      "text/html": [
       "<div>\n",
       "<style scoped>\n",
       "    .dataframe tbody tr th:only-of-type {\n",
       "        vertical-align: middle;\n",
       "    }\n",
       "\n",
       "    .dataframe tbody tr th {\n",
       "        vertical-align: top;\n",
       "    }\n",
       "\n",
       "    .dataframe thead th {\n",
       "        text-align: right;\n",
       "    }\n",
       "</style>\n",
       "<table border=\"1\" class=\"dataframe\">\n",
       "  <thead>\n",
       "    <tr style=\"text-align: right;\">\n",
       "      <th></th>\n",
       "      <th>children</th>\n",
       "      <th>days_employed</th>\n",
       "      <th>dob_years</th>\n",
       "      <th>education</th>\n",
       "      <th>education_id</th>\n",
       "      <th>family_status</th>\n",
       "      <th>family_status_id</th>\n",
       "      <th>gender</th>\n",
       "      <th>income_type</th>\n",
       "      <th>debt</th>\n",
       "      <th>total_income</th>\n",
       "      <th>purpose</th>\n",
       "    </tr>\n",
       "  </thead>\n",
       "  <tbody>\n",
       "    <tr>\n",
       "      <td>3133</td>\n",
       "      <td>1</td>\n",
       "      <td>337524.466835</td>\n",
       "      <td>31</td>\n",
       "      <td>среднее</td>\n",
       "      <td>1</td>\n",
       "      <td>женат / замужем</td>\n",
       "      <td>0</td>\n",
       "      <td>M</td>\n",
       "      <td>безработный</td>\n",
       "      <td>1</td>\n",
       "      <td>59956.991984</td>\n",
       "      <td>покупка жилья для сдачи</td>\n",
       "    </tr>\n",
       "    <tr>\n",
       "      <td>14798</td>\n",
       "      <td>0</td>\n",
       "      <td>395302.838654</td>\n",
       "      <td>45</td>\n",
       "      <td>Высшее</td>\n",
       "      <td>0</td>\n",
       "      <td>гражданский брак</td>\n",
       "      <td>1</td>\n",
       "      <td>F</td>\n",
       "      <td>безработный</td>\n",
       "      <td>0</td>\n",
       "      <td>202722.511368</td>\n",
       "      <td>ремонт жилью</td>\n",
       "    </tr>\n",
       "  </tbody>\n",
       "</table>\n",
       "</div>"
      ],
      "text/plain": [
       "       children  days_employed  dob_years education  education_id  \\\n",
       "3133          1  337524.466835         31   среднее             1   \n",
       "14798         0  395302.838654         45    Высшее             0   \n",
       "\n",
       "          family_status  family_status_id gender  income_type  debt  \\\n",
       "3133    женат / замужем                 0      M  безработный     1   \n",
       "14798  гражданский брак                 1      F  безработный     0   \n",
       "\n",
       "        total_income                  purpose  \n",
       "3133    59956.991984  покупка жилья для сдачи  \n",
       "14798  202722.511368             ремонт жилью  "
      ]
     },
     "execution_count": 9,
     "metadata": {},
     "output_type": "execute_result"
    }
   ],
   "source": [
    "df[(df['days_employed']>100000)&(df['income_type'] != 'пенсионер')]"
   ]
  },
  {
   "cell_type": "markdown",
   "metadata": {},
   "source": [
    "А теперь посчитаем сколько человек в 1 группе пенсионеры."
   ]
  },
  {
   "cell_type": "code",
   "execution_count": 10,
   "metadata": {},
   "outputs": [
    {
     "data": {
      "text/plain": [
       "0"
      ]
     },
     "execution_count": 10,
     "metadata": {},
     "output_type": "execute_result"
    }
   ],
   "source": [
    "df[(df['days_employed']<100000)&(df['income_type'] == 'пенсионер')]['income_type'].count()"
   ]
  },
  {
   "cell_type": "markdown",
   "metadata": {},
   "source": [
    "Ни одного.\n",
    "\n",
    "Так же можно заметить что 1 группа меньше 0 а 2 группа больше 300000. Предположу что 1 группу перепутали местами начало и конец даты работы и появились отрицательные числа. А 2 группа значения приведены не в днях а  в часах. Давайте заменим значения в  группах."
   ]
  },
  {
   "cell_type": "code",
   "execution_count": 11,
   "metadata": {},
   "outputs": [],
   "source": [
    "df.loc[df['days_employed']>222222,'days_employed'] /= 24"
   ]
  },
  {
   "cell_type": "code",
   "execution_count": 12,
   "metadata": {},
   "outputs": [],
   "source": [
    "df.loc[df['days_employed']<0,'days_employed'] *= -1"
   ]
  },
  {
   "cell_type": "markdown",
   "metadata": {},
   "source": [
    "Взглянем на данные days_employed"
   ]
  },
  {
   "cell_type": "code",
   "execution_count": 13,
   "metadata": {},
   "outputs": [
    {
     "data": {
      "text/plain": [
       "Text(0, 0.5, 'Количество людей')"
      ]
     },
     "execution_count": 13,
     "metadata": {},
     "output_type": "execute_result"
    },
    {
     "data": {
      "image/png": "[encoded data removed]",
      "text/plain": [
       "<Figure size 432x288 with 1 Axes>"
      ]
     },
     "metadata": {
      "needs_background": "light"
     },
     "output_type": "display_data"
    }
   ],
   "source": [
    "df['days_employed'].hist()\n",
    "plt.title(\"days_employed\")\n",
    "plt.xlabel(\"Дней проработал\")\n",
    "plt.ylabel(\"Количество людей\")"
   ]
  },
  {
   "cell_type": "markdown",
   "metadata": {},
   "source": [
    "Убедимся в их правильности посмотрим на максимальное и минимальное значение"
   ]
  },
  {
   "cell_type": "code",
   "execution_count": 14,
   "metadata": {},
   "outputs": [
    {
     "data": {
      "text/plain": [
       "18388.949900568383"
      ]
     },
     "execution_count": 14,
     "metadata": {},
     "output_type": "execute_result"
    }
   ],
   "source": [
    "df['days_employed'].max()"
   ]
  },
  {
   "cell_type": "code",
   "execution_count": 15,
   "metadata": {},
   "outputs": [
    {
     "data": {
      "text/plain": [
       "24.14163324048118"
      ]
     },
     "execution_count": 15,
     "metadata": {},
     "output_type": "execute_result"
    }
   ],
   "source": [
    "df['days_employed'].min()"
   ]
  },
  {
   "cell_type": "markdown",
   "metadata": {},
   "source": [
    "Все в порядке."
   ]
  },
  {
   "cell_type": "markdown",
   "metadata": {},
   "source": [
    "**Вывод**"
   ]
  },
  {
   "cell_type": "markdown",
   "metadata": {},
   "source": [
    "В столбце days_employed были явные неправильные данные разделившиеся на 2 группы. \n",
    "\n",
    "Первая группа была людей не пенсионеров с отрицательными значениями, заменили значения положительными. \n",
    "\n",
    "Вторая группа пенсионеры у которых были завышенные значения, предположительно в часах вместо днях, поделили значения на 24."
   ]
  },
  {
   "cell_type": "markdown",
   "metadata": {},
   "source": [
    "### Обработка пропусков"
   ]
  },
  {
   "cell_type": "markdown",
   "metadata": {},
   "source": [
    "Сначала посчитаем, сколько в таблице пропущенных значений."
   ]
  },
  {
   "cell_type": "code",
   "execution_count": 16,
   "metadata": {},
   "outputs": [
    {
     "data": {
      "text/plain": [
       "children               0\n",
       "days_employed       2174\n",
       "dob_years              0\n",
       "education              0\n",
       "education_id           0\n",
       "family_status          0\n",
       "family_status_id       0\n",
       "gender                 0\n",
       "income_type            0\n",
       "debt                   0\n",
       "total_income        2174\n",
       "purpose                0\n",
       "dtype: int64"
      ]
     },
     "execution_count": 16,
     "metadata": {},
     "output_type": "execute_result"
    }
   ],
   "source": [
    "df.isna().sum()"
   ]
  },
  {
   "cell_type": "markdown",
   "metadata": {},
   "source": [
    "Все пропущенные значения в двух столбцах( days_employed - 2174 пропуска и total_income - 2174 пропуска). Скорее всего пропуски у одинаковых клиентов. \n",
    "\n",
    "Посчитаем сколько клиентов с пропусками."
   ]
  },
  {
   "cell_type": "code",
   "execution_count": 17,
   "metadata": {},
   "outputs": [
    {
     "data": {
      "text/plain": [
       "2174"
      ]
     },
     "execution_count": 17,
     "metadata": {},
     "output_type": "execute_result"
    }
   ],
   "source": [
    "df[df.isna().any(axis=1)]['children'].count()"
   ]
  },
  {
   "cell_type": "markdown",
   "metadata": {},
   "source": [
    "Число клиентов с пропусками совпадает с числом пропусков в days_employed и total_income. А значит на одну ошибку в days_employed приходиться ошибка в total_income. Взглянем на них."
   ]
  },
  {
   "cell_type": "code",
   "execution_count": 18,
   "metadata": {},
   "outputs": [
    {
     "data": {
      "text/html": [
       "<div>\n",
       "<style scoped>\n",
       "    .dataframe tbody tr th:only-of-type {\n",
       "        vertical-align: middle;\n",
       "    }\n",
       "\n",
       "    .dataframe tbody tr th {\n",
       "        vertical-align: top;\n",
       "    }\n",
       "\n",
       "    .dataframe thead th {\n",
       "        text-align: right;\n",
       "    }\n",
       "</style>\n",
       "<table border=\"1\" class=\"dataframe\">\n",
       "  <thead>\n",
       "    <tr style=\"text-align: right;\">\n",
       "      <th></th>\n",
       "      <th>children</th>\n",
       "      <th>days_employed</th>\n",
       "      <th>dob_years</th>\n",
       "      <th>education</th>\n",
       "      <th>education_id</th>\n",
       "      <th>family_status</th>\n",
       "      <th>family_status_id</th>\n",
       "      <th>gender</th>\n",
       "      <th>income_type</th>\n",
       "      <th>debt</th>\n",
       "      <th>total_income</th>\n",
       "      <th>purpose</th>\n",
       "    </tr>\n",
       "  </thead>\n",
       "  <tbody>\n",
       "    <tr>\n",
       "      <td>12</td>\n",
       "      <td>0</td>\n",
       "      <td>NaN</td>\n",
       "      <td>65</td>\n",
       "      <td>среднее</td>\n",
       "      <td>1</td>\n",
       "      <td>гражданский брак</td>\n",
       "      <td>1</td>\n",
       "      <td>M</td>\n",
       "      <td>пенсионер</td>\n",
       "      <td>0</td>\n",
       "      <td>NaN</td>\n",
       "      <td>сыграть свадьбу</td>\n",
       "    </tr>\n",
       "    <tr>\n",
       "      <td>26</td>\n",
       "      <td>0</td>\n",
       "      <td>NaN</td>\n",
       "      <td>41</td>\n",
       "      <td>среднее</td>\n",
       "      <td>1</td>\n",
       "      <td>женат / замужем</td>\n",
       "      <td>0</td>\n",
       "      <td>M</td>\n",
       "      <td>госслужащий</td>\n",
       "      <td>0</td>\n",
       "      <td>NaN</td>\n",
       "      <td>образование</td>\n",
       "    </tr>\n",
       "    <tr>\n",
       "      <td>29</td>\n",
       "      <td>0</td>\n",
       "      <td>NaN</td>\n",
       "      <td>63</td>\n",
       "      <td>среднее</td>\n",
       "      <td>1</td>\n",
       "      <td>Не женат / не замужем</td>\n",
       "      <td>4</td>\n",
       "      <td>F</td>\n",
       "      <td>пенсионер</td>\n",
       "      <td>0</td>\n",
       "      <td>NaN</td>\n",
       "      <td>строительство жилой недвижимости</td>\n",
       "    </tr>\n",
       "    <tr>\n",
       "      <td>41</td>\n",
       "      <td>0</td>\n",
       "      <td>NaN</td>\n",
       "      <td>50</td>\n",
       "      <td>среднее</td>\n",
       "      <td>1</td>\n",
       "      <td>женат / замужем</td>\n",
       "      <td>0</td>\n",
       "      <td>F</td>\n",
       "      <td>госслужащий</td>\n",
       "      <td>0</td>\n",
       "      <td>NaN</td>\n",
       "      <td>сделка с подержанным автомобилем</td>\n",
       "    </tr>\n",
       "    <tr>\n",
       "      <td>55</td>\n",
       "      <td>0</td>\n",
       "      <td>NaN</td>\n",
       "      <td>54</td>\n",
       "      <td>среднее</td>\n",
       "      <td>1</td>\n",
       "      <td>гражданский брак</td>\n",
       "      <td>1</td>\n",
       "      <td>F</td>\n",
       "      <td>пенсионер</td>\n",
       "      <td>1</td>\n",
       "      <td>NaN</td>\n",
       "      <td>сыграть свадьбу</td>\n",
       "    </tr>\n",
       "    <tr>\n",
       "      <td>65</td>\n",
       "      <td>0</td>\n",
       "      <td>NaN</td>\n",
       "      <td>21</td>\n",
       "      <td>среднее</td>\n",
       "      <td>1</td>\n",
       "      <td>Не женат / не замужем</td>\n",
       "      <td>4</td>\n",
       "      <td>M</td>\n",
       "      <td>компаньон</td>\n",
       "      <td>0</td>\n",
       "      <td>NaN</td>\n",
       "      <td>операции с коммерческой недвижимостью</td>\n",
       "    </tr>\n",
       "    <tr>\n",
       "      <td>67</td>\n",
       "      <td>0</td>\n",
       "      <td>NaN</td>\n",
       "      <td>52</td>\n",
       "      <td>высшее</td>\n",
       "      <td>0</td>\n",
       "      <td>женат / замужем</td>\n",
       "      <td>0</td>\n",
       "      <td>F</td>\n",
       "      <td>пенсионер</td>\n",
       "      <td>0</td>\n",
       "      <td>NaN</td>\n",
       "      <td>покупка жилья для семьи</td>\n",
       "    </tr>\n",
       "    <tr>\n",
       "      <td>72</td>\n",
       "      <td>1</td>\n",
       "      <td>NaN</td>\n",
       "      <td>32</td>\n",
       "      <td>высшее</td>\n",
       "      <td>0</td>\n",
       "      <td>женат / замужем</td>\n",
       "      <td>0</td>\n",
       "      <td>M</td>\n",
       "      <td>госслужащий</td>\n",
       "      <td>0</td>\n",
       "      <td>NaN</td>\n",
       "      <td>операции с коммерческой недвижимостью</td>\n",
       "    </tr>\n",
       "    <tr>\n",
       "      <td>82</td>\n",
       "      <td>2</td>\n",
       "      <td>NaN</td>\n",
       "      <td>50</td>\n",
       "      <td>высшее</td>\n",
       "      <td>0</td>\n",
       "      <td>женат / замужем</td>\n",
       "      <td>0</td>\n",
       "      <td>F</td>\n",
       "      <td>сотрудник</td>\n",
       "      <td>0</td>\n",
       "      <td>NaN</td>\n",
       "      <td>жилье</td>\n",
       "    </tr>\n",
       "    <tr>\n",
       "      <td>83</td>\n",
       "      <td>0</td>\n",
       "      <td>NaN</td>\n",
       "      <td>52</td>\n",
       "      <td>среднее</td>\n",
       "      <td>1</td>\n",
       "      <td>женат / замужем</td>\n",
       "      <td>0</td>\n",
       "      <td>M</td>\n",
       "      <td>сотрудник</td>\n",
       "      <td>0</td>\n",
       "      <td>NaN</td>\n",
       "      <td>жилье</td>\n",
       "    </tr>\n",
       "  </tbody>\n",
       "</table>\n",
       "</div>"
      ],
      "text/plain": [
       "    children  days_employed  dob_years education  education_id  \\\n",
       "12         0            NaN         65   среднее             1   \n",
       "26         0            NaN         41   среднее             1   \n",
       "29         0            NaN         63   среднее             1   \n",
       "41         0            NaN         50   среднее             1   \n",
       "55         0            NaN         54   среднее             1   \n",
       "65         0            NaN         21   среднее             1   \n",
       "67         0            NaN         52    высшее             0   \n",
       "72         1            NaN         32    высшее             0   \n",
       "82         2            NaN         50    высшее             0   \n",
       "83         0            NaN         52   среднее             1   \n",
       "\n",
       "            family_status  family_status_id gender  income_type  debt  \\\n",
       "12       гражданский брак                 1      M    пенсионер     0   \n",
       "26        женат / замужем                 0      M  госслужащий     0   \n",
       "29  Не женат / не замужем                 4      F    пенсионер     0   \n",
       "41        женат / замужем                 0      F  госслужащий     0   \n",
       "55       гражданский брак                 1      F    пенсионер     1   \n",
       "65  Не женат / не замужем                 4      M    компаньон     0   \n",
       "67        женат / замужем                 0      F    пенсионер     0   \n",
       "72        женат / замужем                 0      M  госслужащий     0   \n",
       "82        женат / замужем                 0      F    сотрудник     0   \n",
       "83        женат / замужем                 0      M    сотрудник     0   \n",
       "\n",
       "    total_income                                purpose  \n",
       "12           NaN                        сыграть свадьбу  \n",
       "26           NaN                            образование  \n",
       "29           NaN       строительство жилой недвижимости  \n",
       "41           NaN       сделка с подержанным автомобилем  \n",
       "55           NaN                        сыграть свадьбу  \n",
       "65           NaN  операции с коммерческой недвижимостью  \n",
       "67           NaN                покупка жилья для семьи  \n",
       "72           NaN  операции с коммерческой недвижимостью  \n",
       "82           NaN                                  жилье  \n",
       "83           NaN                                  жилье  "
      ]
     },
     "execution_count": 18,
     "metadata": {},
     "output_type": "execute_result"
    }
   ],
   "source": [
    "df[df.isna().any(axis=1)].head(10)"
   ]
  },
  {
   "cell_type": "markdown",
   "metadata": {},
   "source": [
    "В толбцах days_employedи income_type заменим медианной сгруппированой по income_type.К примеру для человека пенсионера найдем медиану для всех кто пенсионер и заполним этим значением."
   ]
  },
  {
   "cell_type": "raw",
   "metadata": {},
   "source": [
    "df['value'] = df['total_income'].fillna(df.groupby('gender')['total_income'].transform('median'))"
   ]
  },
  {
   "cell_type": "code",
   "execution_count": 19,
   "metadata": {},
   "outputs": [],
   "source": [
    "df['total_income'] = df['total_income'].fillna(df.groupby('income_type')['total_income'].transform('median'))"
   ]
  },
  {
   "cell_type": "code",
   "execution_count": 20,
   "metadata": {},
   "outputs": [],
   "source": [
    "df['days_employed'] = df['days_employed'].fillna(df.groupby('income_type')['days_employed'].transform('median'))"
   ]
  },
  {
   "cell_type": "markdown",
   "metadata": {},
   "source": [
    "Проверим остались ли пропуски"
   ]
  },
  {
   "cell_type": "markdown",
   "metadata": {},
   "source": [
    "Убедимся, что в таблице не осталось пропусков."
   ]
  },
  {
   "cell_type": "code",
   "execution_count": 21,
   "metadata": {},
   "outputs": [
    {
     "data": {
      "text/plain": [
       "children            0\n",
       "days_employed       0\n",
       "dob_years           0\n",
       "education           0\n",
       "education_id        0\n",
       "family_status       0\n",
       "family_status_id    0\n",
       "gender              0\n",
       "income_type         0\n",
       "debt                0\n",
       "total_income        0\n",
       "purpose             0\n",
       "dtype: int64"
      ]
     },
     "execution_count": 21,
     "metadata": {},
     "output_type": "execute_result"
    }
   ],
   "source": [
    "df.isna().sum()"
   ]
  },
  {
   "cell_type": "markdown",
   "metadata": {},
   "source": [
    "**Вывод**"
   ]
  },
  {
   "cell_type": "markdown",
   "metadata": {},
   "source": [
    "В строках где нет данных days_employed так же нет total_income. Возможно эти данные пришли из отделения, где не указываются days_employed и total_income, являются копиями других стрк без заполненых данных или они были повреждены. Так же мы заполнили пропуски столбцов медианной сгруппированой по dob_years."
   ]
  },
  {
   "cell_type": "markdown",
   "metadata": {},
   "source": [
    "### Замена типа данных"
   ]
  },
  {
   "cell_type": "markdown",
   "metadata": {},
   "source": [
    "Перейдем к замене типа данных для начала посмотрим на тип данных"
   ]
  },
  {
   "cell_type": "code",
   "execution_count": 22,
   "metadata": {},
   "outputs": [
    {
     "name": "stdout",
     "output_type": "stream",
     "text": [
      "<class 'pandas.core.frame.DataFrame'>\n",
      "RangeIndex: 21525 entries, 0 to 21524\n",
      "Data columns (total 12 columns):\n",
      "children            21525 non-null int64\n",
      "days_employed       21525 non-null float64\n",
      "dob_years           21525 non-null int64\n",
      "education           21525 non-null object\n",
      "education_id        21525 non-null int64\n",
      "family_status       21525 non-null object\n",
      "family_status_id    21525 non-null int64\n",
      "gender              21525 non-null object\n",
      "income_type         21525 non-null object\n",
      "debt                21525 non-null int64\n",
      "total_income        21525 non-null float64\n",
      "purpose             21525 non-null object\n",
      "dtypes: float64(2), int64(5), object(5)\n",
      "memory usage: 2.0+ MB\n"
     ]
    }
   ],
   "source": [
    "df.info()"
   ]
  },
  {
   "cell_type": "markdown",
   "metadata": {},
   "source": [
    "В столбце days_employed и total_income сейчас вещественные числа. В этих столбцах указаны количественные параметры и чтоб не работать с 0,001 днем лучше всего превратить их в целые числа.     "
   ]
  },
  {
   "cell_type": "code",
   "execution_count": 23,
   "metadata": {},
   "outputs": [],
   "source": [
    "df['days_employed'] = df['days_employed'].astype('int')"
   ]
  },
  {
   "cell_type": "code",
   "execution_count": 24,
   "metadata": {},
   "outputs": [],
   "source": [
    "df['total_income'] = df['total_income'].astype('int')"
   ]
  },
  {
   "cell_type": "markdown",
   "metadata": {},
   "source": [
    "Проверим заменились ли типы данных."
   ]
  },
  {
   "cell_type": "code",
   "execution_count": 25,
   "metadata": {},
   "outputs": [
    {
     "name": "stdout",
     "output_type": "stream",
     "text": [
      "<class 'pandas.core.frame.DataFrame'>\n",
      "RangeIndex: 21525 entries, 0 to 21524\n",
      "Data columns (total 12 columns):\n",
      "children            21525 non-null int64\n",
      "days_employed       21525 non-null int64\n",
      "dob_years           21525 non-null int64\n",
      "education           21525 non-null object\n",
      "education_id        21525 non-null int64\n",
      "family_status       21525 non-null object\n",
      "family_status_id    21525 non-null int64\n",
      "gender              21525 non-null object\n",
      "income_type         21525 non-null object\n",
      "debt                21525 non-null int64\n",
      "total_income        21525 non-null int64\n",
      "purpose             21525 non-null object\n",
      "dtypes: int64(7), object(5)\n",
      "memory usage: 2.0+ MB\n"
     ]
    }
   ],
   "source": [
    "df.info()"
   ]
  },
  {
   "cell_type": "markdown",
   "metadata": {},
   "source": [
    "**Вывод**"
   ]
  },
  {
   "cell_type": "markdown",
   "metadata": {},
   "source": [
    "В столбцах days_employed и total_income были вещественные числа,но days_employed и total_income количественные параметры .Чтобы не работать с 0,001 днем  мы превратили их в целочисленые."
   ]
  },
  {
   "cell_type": "markdown",
   "metadata": {},
   "source": [
    "<div class=\"alert alert-success\">\n",
    "<b>✅ Комментарий ревьюера:</b> \n",
    "\n",
    "Работа над типами корректна\n",
    "</div>"
   ]
  },
  {
   "cell_type": "markdown",
   "metadata": {},
   "source": [
    "### Обработка дубликатов"
   ]
  },
  {
   "cell_type": "markdown",
   "metadata": {},
   "source": [
    "Перед обработкой дубликатов надо посмотреть все ли впорядке во всех столбцах."
   ]
  },
  {
   "cell_type": "markdown",
   "metadata": {},
   "source": [
    "Начнем с children. Посмотрим сколько уникальных значений"
   ]
  },
  {
   "cell_type": "code",
   "execution_count": 26,
   "metadata": {},
   "outputs": [
    {
     "data": {
      "text/plain": [
       "[-1, 0, 1, 2, 3, 4, 5, 20]"
      ]
     },
     "execution_count": 26,
     "metadata": {},
     "output_type": "execute_result"
    }
   ],
   "source": [
    "sorted(df['children'].unique())"
   ]
  },
  {
   "cell_type": "markdown",
   "metadata": {},
   "source": [
    "У нас есть отрицательное колличество детей. Такого не может быть, так что заменим на положительное"
   ]
  },
  {
   "cell_type": "code",
   "execution_count": 27,
   "metadata": {},
   "outputs": [],
   "source": [
    "df.loc[df['children']<0,'children'] *= -1"
   ]
  },
  {
   "cell_type": "markdown",
   "metadata": {},
   "source": [
    "Еще у нас есть количество детей 20 скорее всего случайно добавили 0"
   ]
  },
  {
   "cell_type": "code",
   "execution_count": 28,
   "metadata": {},
   "outputs": [],
   "source": [
    "df.loc[df['children']== 20,['children']] = 2 "
   ]
  },
  {
   "cell_type": "code",
   "execution_count": 29,
   "metadata": {},
   "outputs": [
    {
     "data": {
      "text/plain": [
       "[0, 1, 2, 3, 4, 5]"
      ]
     },
     "execution_count": 29,
     "metadata": {},
     "output_type": "execute_result"
    }
   ],
   "source": [
    "sorted(df['children'].unique())"
   ]
  },
  {
   "cell_type": "markdown",
   "metadata": {},
   "source": [
    "Столбец children впорялке теперь очередь education"
   ]
  },
  {
   "cell_type": "code",
   "execution_count": 30,
   "metadata": {},
   "outputs": [
    {
     "data": {
      "text/plain": [
       "['ВЫСШЕЕ',\n",
       " 'Высшее',\n",
       " 'НАЧАЛЬНОЕ',\n",
       " 'НЕОКОНЧЕННОЕ ВЫСШЕЕ',\n",
       " 'Начальное',\n",
       " 'Неоконченное высшее',\n",
       " 'СРЕДНЕЕ',\n",
       " 'Среднее',\n",
       " 'УЧЕНАЯ СТЕПЕНЬ',\n",
       " 'Ученая степень',\n",
       " 'высшее',\n",
       " 'начальное',\n",
       " 'неоконченное высшее',\n",
       " 'среднее',\n",
       " 'ученая степень']"
      ]
     },
     "execution_count": 30,
     "metadata": {},
     "output_type": "execute_result"
    }
   ],
   "source": [
    "sorted(df['education'].unique())"
   ]
  },
  {
   "cell_type": "markdown",
   "metadata": {},
   "source": [
    "Встерчаются одинаковые слова но отличаются в их написании привидем все к одному виду."
   ]
  },
  {
   "cell_type": "code",
   "execution_count": 31,
   "metadata": {},
   "outputs": [],
   "source": [
    "df['education'] = df['education'].str.lower()"
   ]
  },
  {
   "cell_type": "code",
   "execution_count": 32,
   "metadata": {},
   "outputs": [
    {
     "data": {
      "text/plain": [
       "['высшее', 'начальное', 'неоконченное высшее', 'среднее', 'ученая степень']"
      ]
     },
     "execution_count": 32,
     "metadata": {},
     "output_type": "execute_result"
    }
   ],
   "source": [
    "sorted(df['education'].unique())"
   ]
  },
  {
   "cell_type": "markdown",
   "metadata": {},
   "source": [
    "В столбце education приведины к одному виду. Перейдем к следующему столбцу family_status"
   ]
  },
  {
   "cell_type": "code",
   "execution_count": 33,
   "metadata": {},
   "outputs": [
    {
     "data": {
      "text/plain": [
       "['Не женат / не замужем',\n",
       " 'в разводе',\n",
       " 'вдовец / вдова',\n",
       " 'гражданский брак',\n",
       " 'женат / замужем']"
      ]
     },
     "execution_count": 33,
     "metadata": {},
     "output_type": "execute_result"
    }
   ],
   "source": [
    "sorted(df['family_status'].unique())"
   ]
  },
  {
   "cell_type": "markdown",
   "metadata": {},
   "source": [
    "С ним все хорошо. Следующий столбец gender"
   ]
  },
  {
   "cell_type": "code",
   "execution_count": 34,
   "metadata": {},
   "outputs": [
    {
     "data": {
      "text/plain": [
       "['F', 'M', 'XNA']"
      ]
     },
     "execution_count": 34,
     "metadata": {},
     "output_type": "execute_result"
    }
   ],
   "source": [
    "sorted(df['gender'].unique())"
   ]
  },
  {
   "cell_type": "markdown",
   "metadata": {},
   "source": [
    "Кроме M - мужчина и F - женщина так же встечается XNA посмотрим на них"
   ]
  },
  {
   "cell_type": "code",
   "execution_count": 35,
   "metadata": {},
   "outputs": [
    {
     "data": {
      "text/html": [
       "<div>\n",
       "<style scoped>\n",
       "    .dataframe tbody tr th:only-of-type {\n",
       "        vertical-align: middle;\n",
       "    }\n",
       "\n",
       "    .dataframe tbody tr th {\n",
       "        vertical-align: top;\n",
       "    }\n",
       "\n",
       "    .dataframe thead th {\n",
       "        text-align: right;\n",
       "    }\n",
       "</style>\n",
       "<table border=\"1\" class=\"dataframe\">\n",
       "  <thead>\n",
       "    <tr style=\"text-align: right;\">\n",
       "      <th></th>\n",
       "      <th>children</th>\n",
       "      <th>days_employed</th>\n",
       "      <th>dob_years</th>\n",
       "      <th>education</th>\n",
       "      <th>education_id</th>\n",
       "      <th>family_status</th>\n",
       "      <th>family_status_id</th>\n",
       "      <th>gender</th>\n",
       "      <th>income_type</th>\n",
       "      <th>debt</th>\n",
       "      <th>total_income</th>\n",
       "      <th>purpose</th>\n",
       "    </tr>\n",
       "  </thead>\n",
       "  <tbody>\n",
       "    <tr>\n",
       "      <td>10701</td>\n",
       "      <td>0</td>\n",
       "      <td>2358</td>\n",
       "      <td>24</td>\n",
       "      <td>неоконченное высшее</td>\n",
       "      <td>2</td>\n",
       "      <td>гражданский брак</td>\n",
       "      <td>1</td>\n",
       "      <td>XNA</td>\n",
       "      <td>компаньон</td>\n",
       "      <td>0</td>\n",
       "      <td>203905</td>\n",
       "      <td>покупка недвижимости</td>\n",
       "    </tr>\n",
       "  </tbody>\n",
       "</table>\n",
       "</div>"
      ],
      "text/plain": [
       "       children  days_employed  dob_years            education  education_id  \\\n",
       "10701         0           2358         24  неоконченное высшее             2   \n",
       "\n",
       "          family_status  family_status_id gender income_type  debt  \\\n",
       "10701  гражданский брак                 1    XNA   компаньон     0   \n",
       "\n",
       "       total_income               purpose  \n",
       "10701        203905  покупка недвижимости  "
      ]
     },
     "execution_count": 35,
     "metadata": {},
     "output_type": "execute_result"
    }
   ],
   "source": [
    "df[df['gender']=='XNA'].head(10)"
   ]
  },
  {
   "cell_type": "markdown",
   "metadata": {},
   "source": [
    "Посмотрим на количество F, M, XNA."
   ]
  },
  {
   "cell_type": "code",
   "execution_count": 36,
   "metadata": {},
   "outputs": [
    {
     "data": {
      "text/plain": [
       "gender\n",
       "F      14236\n",
       "M       7288\n",
       "XNA        1\n",
       "Name: children, dtype: int64"
      ]
     },
     "execution_count": 36,
     "metadata": {},
     "output_type": "execute_result"
    }
   ],
   "source": [
    "df.groupby('gender')['children'].count()"
   ]
  },
  {
   "cell_type": "markdown",
   "metadata": {},
   "source": [
    "Заменим XNA на чаще встречающийся пол в данном случае F"
   ]
  },
  {
   "cell_type": "code",
   "execution_count": 37,
   "metadata": {},
   "outputs": [],
   "source": [
    "df.loc[df['gender']=='XNA','gender'] = 'F'"
   ]
  },
  {
   "cell_type": "code",
   "execution_count": 38,
   "metadata": {},
   "outputs": [
    {
     "data": {
      "text/plain": [
       "gender\n",
       "F    14237\n",
       "M     7288\n",
       "Name: children, dtype: int64"
      ]
     },
     "execution_count": 38,
     "metadata": {},
     "output_type": "execute_result"
    }
   ],
   "source": [
    "df.groupby('gender')['children'].count()"
   ]
  },
  {
   "cell_type": "markdown",
   "metadata": {},
   "source": [
    "Следующий income_type"
   ]
  },
  {
   "cell_type": "code",
   "execution_count": 39,
   "metadata": {},
   "outputs": [
    {
     "data": {
      "text/plain": [
       "['безработный',\n",
       " 'в декрете',\n",
       " 'госслужащий',\n",
       " 'компаньон',\n",
       " 'пенсионер',\n",
       " 'предприниматель',\n",
       " 'сотрудник',\n",
       " 'студент']"
      ]
     },
     "execution_count": 39,
     "metadata": {},
     "output_type": "execute_result"
    }
   ],
   "source": [
    "sorted(df['income_type'].unique())"
   ]
  },
  {
   "cell_type": "markdown",
   "metadata": {},
   "source": [
    "Дальше purpose"
   ]
  },
  {
   "cell_type": "code",
   "execution_count": 40,
   "metadata": {},
   "outputs": [
    {
     "data": {
      "text/plain": [
       "['автомобили',\n",
       " 'автомобиль',\n",
       " 'высшее образование',\n",
       " 'дополнительное образование',\n",
       " 'жилье',\n",
       " 'заняться высшим образованием',\n",
       " 'заняться образованием',\n",
       " 'на покупку автомобиля',\n",
       " 'на покупку подержанного автомобиля',\n",
       " 'на покупку своего автомобиля',\n",
       " 'на проведение свадьбы',\n",
       " 'недвижимость',\n",
       " 'образование',\n",
       " 'операции с жильем',\n",
       " 'операции с коммерческой недвижимостью',\n",
       " 'операции с недвижимостью',\n",
       " 'операции со своей недвижимостью',\n",
       " 'покупка жилой недвижимости',\n",
       " 'покупка жилья',\n",
       " 'покупка жилья для сдачи',\n",
       " 'покупка жилья для семьи',\n",
       " 'покупка коммерческой недвижимости',\n",
       " 'покупка недвижимости',\n",
       " 'покупка своего жилья',\n",
       " 'получение высшего образования',\n",
       " 'получение дополнительного образования',\n",
       " 'получение образования',\n",
       " 'приобретение автомобиля',\n",
       " 'профильное образование',\n",
       " 'ремонт жилью',\n",
       " 'свадьба',\n",
       " 'свой автомобиль',\n",
       " 'сделка с автомобилем',\n",
       " 'сделка с подержанным автомобилем',\n",
       " 'строительство жилой недвижимости',\n",
       " 'строительство недвижимости',\n",
       " 'строительство собственной недвижимости',\n",
       " 'сыграть свадьбу']"
      ]
     },
     "execution_count": 40,
     "metadata": {},
     "output_type": "execute_result"
    }
   ],
   "source": [
    "sorted(df['purpose'].unique())"
   ]
  },
  {
   "cell_type": "markdown",
   "metadata": {},
   "source": [
    "Посмотрим сколько дубликатов"
   ]
  },
  {
   "cell_type": "code",
   "execution_count": 41,
   "metadata": {},
   "outputs": [
    {
     "data": {
      "text/plain": [
       "71"
      ]
     },
     "execution_count": 41,
     "metadata": {},
     "output_type": "execute_result"
    }
   ],
   "source": [
    "df.duplicated().sum()\n"
   ]
  },
  {
   "cell_type": "markdown",
   "metadata": {},
   "source": [
    "Удаляем дубликаты и проверяем все ли выполнилось."
   ]
  },
  {
   "cell_type": "code",
   "execution_count": 42,
   "metadata": {},
   "outputs": [],
   "source": [
    "df = df.drop_duplicates().reset_index(drop= True)\n"
   ]
  },
  {
   "cell_type": "code",
   "execution_count": 43,
   "metadata": {},
   "outputs": [
    {
     "data": {
      "text/plain": [
       "0"
      ]
     },
     "execution_count": 43,
     "metadata": {},
     "output_type": "execute_result"
    }
   ],
   "source": [
    "df.duplicated().sum()"
   ]
  },
  {
   "cell_type": "markdown",
   "metadata": {},
   "source": [
    "**Вывод**"
   ]
  },
  {
   "cell_type": "markdown",
   "metadata": {},
   "source": [
    "В столбцах были неправельные значения:\n",
    "\n",
    "* В children -1 и 20 детей\n",
    "*В education одинаковые слова по разному написаны\n",
    "*в gender указан XNA\n",
    "\n",
    "Все ошибки исправили  и убрали дубликаты. Всего было выявлено 71 дубликат.\n"
   ]
  },
  {
   "cell_type": "markdown",
   "metadata": {},
   "source": [
    "### Лемматизация"
   ]
  },
  {
   "cell_type": "markdown",
   "metadata": {},
   "source": [
    "Лемматизация нужна чтобы снизить число рассматриваемых словоформ и снизить время поиска. "
   ]
  },
  {
   "cell_type": "markdown",
   "metadata": {},
   "source": [
    "Одна из библиотек с функцией лемматизации на русском языке — pymystem3, разработана сотрудниками Яндекса. Импортируем ее."
   ]
  },
  {
   "cell_type": "code",
   "execution_count": 44,
   "metadata": {},
   "outputs": [],
   "source": [
    "from pymystem3 import Mystem\n",
    "m = Mystem() "
   ]
  },
  {
   "cell_type": "markdown",
   "metadata": {},
   "source": [
    "Лемматизируем столбец purpose"
   ]
  },
  {
   "cell_type": "code",
   "execution_count": 45,
   "metadata": {},
   "outputs": [],
   "source": [
    "def replace_text(text):# функция для Лемматизации ячейки\n",
    "    lemmas = ' '.join(m.lemmatize(text))\n",
    "    return lemmas "
   ]
  },
  {
   "cell_type": "code",
   "execution_count": 46,
   "metadata": {},
   "outputs": [],
   "source": [
    "df['purpose'] = df['purpose'].apply(replace_text)"
   ]
  },
  {
   "cell_type": "markdown",
   "metadata": {},
   "source": [
    "Взглянем на измененные данные"
   ]
  },
  {
   "cell_type": "code",
   "execution_count": 47,
   "metadata": {},
   "outputs": [
    {
     "data": {
      "text/html": [
       "<div>\n",
       "<style scoped>\n",
       "    .dataframe tbody tr th:only-of-type {\n",
       "        vertical-align: middle;\n",
       "    }\n",
       "\n",
       "    .dataframe tbody tr th {\n",
       "        vertical-align: top;\n",
       "    }\n",
       "\n",
       "    .dataframe thead th {\n",
       "        text-align: right;\n",
       "    }\n",
       "</style>\n",
       "<table border=\"1\" class=\"dataframe\">\n",
       "  <thead>\n",
       "    <tr style=\"text-align: right;\">\n",
       "      <th></th>\n",
       "      <th>children</th>\n",
       "      <th>days_employed</th>\n",
       "      <th>dob_years</th>\n",
       "      <th>education</th>\n",
       "      <th>education_id</th>\n",
       "      <th>family_status</th>\n",
       "      <th>family_status_id</th>\n",
       "      <th>gender</th>\n",
       "      <th>income_type</th>\n",
       "      <th>debt</th>\n",
       "      <th>total_income</th>\n",
       "      <th>purpose</th>\n",
       "    </tr>\n",
       "  </thead>\n",
       "  <tbody>\n",
       "    <tr>\n",
       "      <td>0</td>\n",
       "      <td>1</td>\n",
       "      <td>8437</td>\n",
       "      <td>42</td>\n",
       "      <td>высшее</td>\n",
       "      <td>0</td>\n",
       "      <td>женат / замужем</td>\n",
       "      <td>0</td>\n",
       "      <td>F</td>\n",
       "      <td>сотрудник</td>\n",
       "      <td>0</td>\n",
       "      <td>253875</td>\n",
       "      <td>покупка   жилье \\n</td>\n",
       "    </tr>\n",
       "    <tr>\n",
       "      <td>1</td>\n",
       "      <td>1</td>\n",
       "      <td>4024</td>\n",
       "      <td>36</td>\n",
       "      <td>среднее</td>\n",
       "      <td>1</td>\n",
       "      <td>женат / замужем</td>\n",
       "      <td>0</td>\n",
       "      <td>F</td>\n",
       "      <td>сотрудник</td>\n",
       "      <td>0</td>\n",
       "      <td>112080</td>\n",
       "      <td>приобретение   автомобиль \\n</td>\n",
       "    </tr>\n",
       "    <tr>\n",
       "      <td>2</td>\n",
       "      <td>0</td>\n",
       "      <td>5623</td>\n",
       "      <td>33</td>\n",
       "      <td>среднее</td>\n",
       "      <td>1</td>\n",
       "      <td>женат / замужем</td>\n",
       "      <td>0</td>\n",
       "      <td>M</td>\n",
       "      <td>сотрудник</td>\n",
       "      <td>0</td>\n",
       "      <td>145885</td>\n",
       "      <td>покупка   жилье \\n</td>\n",
       "    </tr>\n",
       "    <tr>\n",
       "      <td>3</td>\n",
       "      <td>3</td>\n",
       "      <td>4124</td>\n",
       "      <td>32</td>\n",
       "      <td>среднее</td>\n",
       "      <td>1</td>\n",
       "      <td>женат / замужем</td>\n",
       "      <td>0</td>\n",
       "      <td>M</td>\n",
       "      <td>сотрудник</td>\n",
       "      <td>0</td>\n",
       "      <td>267628</td>\n",
       "      <td>дополнительный   образование \\n</td>\n",
       "    </tr>\n",
       "    <tr>\n",
       "      <td>4</td>\n",
       "      <td>0</td>\n",
       "      <td>14177</td>\n",
       "      <td>53</td>\n",
       "      <td>среднее</td>\n",
       "      <td>1</td>\n",
       "      <td>гражданский брак</td>\n",
       "      <td>1</td>\n",
       "      <td>F</td>\n",
       "      <td>пенсионер</td>\n",
       "      <td>0</td>\n",
       "      <td>158616</td>\n",
       "      <td>сыграть   свадьба \\n</td>\n",
       "    </tr>\n",
       "    <tr>\n",
       "      <td>...</td>\n",
       "      <td>...</td>\n",
       "      <td>...</td>\n",
       "      <td>...</td>\n",
       "      <td>...</td>\n",
       "      <td>...</td>\n",
       "      <td>...</td>\n",
       "      <td>...</td>\n",
       "      <td>...</td>\n",
       "      <td>...</td>\n",
       "      <td>...</td>\n",
       "      <td>...</td>\n",
       "      <td>...</td>\n",
       "    </tr>\n",
       "    <tr>\n",
       "      <td>21449</td>\n",
       "      <td>1</td>\n",
       "      <td>4529</td>\n",
       "      <td>43</td>\n",
       "      <td>среднее</td>\n",
       "      <td>1</td>\n",
       "      <td>гражданский брак</td>\n",
       "      <td>1</td>\n",
       "      <td>F</td>\n",
       "      <td>компаньон</td>\n",
       "      <td>0</td>\n",
       "      <td>224791</td>\n",
       "      <td>операция   с   жилье \\n</td>\n",
       "    </tr>\n",
       "    <tr>\n",
       "      <td>21450</td>\n",
       "      <td>0</td>\n",
       "      <td>14330</td>\n",
       "      <td>67</td>\n",
       "      <td>среднее</td>\n",
       "      <td>1</td>\n",
       "      <td>женат / замужем</td>\n",
       "      <td>0</td>\n",
       "      <td>F</td>\n",
       "      <td>пенсионер</td>\n",
       "      <td>0</td>\n",
       "      <td>155999</td>\n",
       "      <td>сделка   с   автомобиль \\n</td>\n",
       "    </tr>\n",
       "    <tr>\n",
       "      <td>21451</td>\n",
       "      <td>1</td>\n",
       "      <td>2113</td>\n",
       "      <td>38</td>\n",
       "      <td>среднее</td>\n",
       "      <td>1</td>\n",
       "      <td>гражданский брак</td>\n",
       "      <td>1</td>\n",
       "      <td>M</td>\n",
       "      <td>сотрудник</td>\n",
       "      <td>1</td>\n",
       "      <td>89672</td>\n",
       "      <td>недвижимость \\n</td>\n",
       "    </tr>\n",
       "    <tr>\n",
       "      <td>21452</td>\n",
       "      <td>3</td>\n",
       "      <td>3112</td>\n",
       "      <td>38</td>\n",
       "      <td>среднее</td>\n",
       "      <td>1</td>\n",
       "      <td>женат / замужем</td>\n",
       "      <td>0</td>\n",
       "      <td>M</td>\n",
       "      <td>сотрудник</td>\n",
       "      <td>1</td>\n",
       "      <td>244093</td>\n",
       "      <td>на   покупка   свой   автомобиль \\n</td>\n",
       "    </tr>\n",
       "    <tr>\n",
       "      <td>21453</td>\n",
       "      <td>2</td>\n",
       "      <td>1984</td>\n",
       "      <td>40</td>\n",
       "      <td>среднее</td>\n",
       "      <td>1</td>\n",
       "      <td>женат / замужем</td>\n",
       "      <td>0</td>\n",
       "      <td>F</td>\n",
       "      <td>сотрудник</td>\n",
       "      <td>0</td>\n",
       "      <td>82047</td>\n",
       "      <td>на   покупка   автомобиль \\n</td>\n",
       "    </tr>\n",
       "  </tbody>\n",
       "</table>\n",
       "<p>21454 rows × 12 columns</p>\n",
       "</div>"
      ],
      "text/plain": [
       "       children  days_employed  dob_years education  education_id  \\\n",
       "0             1           8437         42    высшее             0   \n",
       "1             1           4024         36   среднее             1   \n",
       "2             0           5623         33   среднее             1   \n",
       "3             3           4124         32   среднее             1   \n",
       "4             0          14177         53   среднее             1   \n",
       "...         ...            ...        ...       ...           ...   \n",
       "21449         1           4529         43   среднее             1   \n",
       "21450         0          14330         67   среднее             1   \n",
       "21451         1           2113         38   среднее             1   \n",
       "21452         3           3112         38   среднее             1   \n",
       "21453         2           1984         40   среднее             1   \n",
       "\n",
       "          family_status  family_status_id gender income_type  debt  \\\n",
       "0       женат / замужем                 0      F   сотрудник     0   \n",
       "1       женат / замужем                 0      F   сотрудник     0   \n",
       "2       женат / замужем                 0      M   сотрудник     0   \n",
       "3       женат / замужем                 0      M   сотрудник     0   \n",
       "4      гражданский брак                 1      F   пенсионер     0   \n",
       "...                 ...               ...    ...         ...   ...   \n",
       "21449  гражданский брак                 1      F   компаньон     0   \n",
       "21450   женат / замужем                 0      F   пенсионер     0   \n",
       "21451  гражданский брак                 1      M   сотрудник     1   \n",
       "21452   женат / замужем                 0      M   сотрудник     1   \n",
       "21453   женат / замужем                 0      F   сотрудник     0   \n",
       "\n",
       "       total_income                              purpose  \n",
       "0            253875                   покупка   жилье \\n  \n",
       "1            112080         приобретение   автомобиль \\n  \n",
       "2            145885                   покупка   жилье \\n  \n",
       "3            267628      дополнительный   образование \\n  \n",
       "4            158616                 сыграть   свадьба \\n  \n",
       "...             ...                                  ...  \n",
       "21449        224791              операция   с   жилье \\n  \n",
       "21450        155999           сделка   с   автомобиль \\n  \n",
       "21451         89672                      недвижимость \\n  \n",
       "21452        244093  на   покупка   свой   автомобиль \\n  \n",
       "21453         82047         на   покупка   автомобиль \\n  \n",
       "\n",
       "[21454 rows x 12 columns]"
      ]
     },
     "execution_count": 47,
     "metadata": {},
     "output_type": "execute_result"
    }
   ],
   "source": [
    "df"
   ]
  },
  {
   "cell_type": "markdown",
   "metadata": {},
   "source": [
    "**Вывод**"
   ]
  },
  {
   "cell_type": "markdown",
   "metadata": {},
   "source": [
    "В purpose были слова по разному написаны например жилье и жилья. Для облегчения поиска мы привили все слва к леме."
   ]
  },
  {
   "cell_type": "markdown",
   "metadata": {},
   "source": [
    "### Категоризация данных"
   ]
  },
  {
   "cell_type": "markdown",
   "metadata": {},
   "source": [
    "Выведим категорию в столбце purpose"
   ]
  },
  {
   "cell_type": "code",
   "execution_count": 48,
   "metadata": {},
   "outputs": [],
   "source": [
    "def text_category(text):# функция для выявления категории\n",
    "    if (('жилье' in text) or ('недвижимость' in text)) and ('строительство' not in text):\n",
    "        return 'недвижимость'\n",
    "    if (('жилье' in text) or ('недвижимость' in text)) and ('строительство' in text):\n",
    "        return 'строительство'\n",
    "    category = ['автомобиль','образование','свадьба']\n",
    "    for i in category:\n",
    "        if i in text:\n",
    "            return i\n",
    "    return text\n",
    "    \n",
    "    "
   ]
  },
  {
   "cell_type": "code",
   "execution_count": 49,
   "metadata": {},
   "outputs": [],
   "source": [
    "df['purpose'] = df['purpose'].apply(text_category)"
   ]
  },
  {
   "cell_type": "markdown",
   "metadata": {},
   "source": [
    "Посмотрим заменилось ли."
   ]
  },
  {
   "cell_type": "code",
   "execution_count": 50,
   "metadata": {
    "scrolled": true
   },
   "outputs": [
    {
     "data": {
      "text/html": [
       "<div>\n",
       "<style scoped>\n",
       "    .dataframe tbody tr th:only-of-type {\n",
       "        vertical-align: middle;\n",
       "    }\n",
       "\n",
       "    .dataframe tbody tr th {\n",
       "        vertical-align: top;\n",
       "    }\n",
       "\n",
       "    .dataframe thead th {\n",
       "        text-align: right;\n",
       "    }\n",
       "</style>\n",
       "<table border=\"1\" class=\"dataframe\">\n",
       "  <thead>\n",
       "    <tr style=\"text-align: right;\">\n",
       "      <th></th>\n",
       "      <th>children</th>\n",
       "      <th>days_employed</th>\n",
       "      <th>dob_years</th>\n",
       "      <th>education</th>\n",
       "      <th>education_id</th>\n",
       "      <th>family_status</th>\n",
       "      <th>family_status_id</th>\n",
       "      <th>gender</th>\n",
       "      <th>income_type</th>\n",
       "      <th>debt</th>\n",
       "      <th>total_income</th>\n",
       "      <th>purpose</th>\n",
       "    </tr>\n",
       "  </thead>\n",
       "  <tbody>\n",
       "    <tr>\n",
       "      <td>0</td>\n",
       "      <td>1</td>\n",
       "      <td>8437</td>\n",
       "      <td>42</td>\n",
       "      <td>высшее</td>\n",
       "      <td>0</td>\n",
       "      <td>женат / замужем</td>\n",
       "      <td>0</td>\n",
       "      <td>F</td>\n",
       "      <td>сотрудник</td>\n",
       "      <td>0</td>\n",
       "      <td>253875</td>\n",
       "      <td>недвижимость</td>\n",
       "    </tr>\n",
       "    <tr>\n",
       "      <td>1</td>\n",
       "      <td>1</td>\n",
       "      <td>4024</td>\n",
       "      <td>36</td>\n",
       "      <td>среднее</td>\n",
       "      <td>1</td>\n",
       "      <td>женат / замужем</td>\n",
       "      <td>0</td>\n",
       "      <td>F</td>\n",
       "      <td>сотрудник</td>\n",
       "      <td>0</td>\n",
       "      <td>112080</td>\n",
       "      <td>автомобиль</td>\n",
       "    </tr>\n",
       "    <tr>\n",
       "      <td>2</td>\n",
       "      <td>0</td>\n",
       "      <td>5623</td>\n",
       "      <td>33</td>\n",
       "      <td>среднее</td>\n",
       "      <td>1</td>\n",
       "      <td>женат / замужем</td>\n",
       "      <td>0</td>\n",
       "      <td>M</td>\n",
       "      <td>сотрудник</td>\n",
       "      <td>0</td>\n",
       "      <td>145885</td>\n",
       "      <td>недвижимость</td>\n",
       "    </tr>\n",
       "    <tr>\n",
       "      <td>3</td>\n",
       "      <td>3</td>\n",
       "      <td>4124</td>\n",
       "      <td>32</td>\n",
       "      <td>среднее</td>\n",
       "      <td>1</td>\n",
       "      <td>женат / замужем</td>\n",
       "      <td>0</td>\n",
       "      <td>M</td>\n",
       "      <td>сотрудник</td>\n",
       "      <td>0</td>\n",
       "      <td>267628</td>\n",
       "      <td>образование</td>\n",
       "    </tr>\n",
       "    <tr>\n",
       "      <td>4</td>\n",
       "      <td>0</td>\n",
       "      <td>14177</td>\n",
       "      <td>53</td>\n",
       "      <td>среднее</td>\n",
       "      <td>1</td>\n",
       "      <td>гражданский брак</td>\n",
       "      <td>1</td>\n",
       "      <td>F</td>\n",
       "      <td>пенсионер</td>\n",
       "      <td>0</td>\n",
       "      <td>158616</td>\n",
       "      <td>свадьба</td>\n",
       "    </tr>\n",
       "    <tr>\n",
       "      <td>...</td>\n",
       "      <td>...</td>\n",
       "      <td>...</td>\n",
       "      <td>...</td>\n",
       "      <td>...</td>\n",
       "      <td>...</td>\n",
       "      <td>...</td>\n",
       "      <td>...</td>\n",
       "      <td>...</td>\n",
       "      <td>...</td>\n",
       "      <td>...</td>\n",
       "      <td>...</td>\n",
       "      <td>...</td>\n",
       "    </tr>\n",
       "    <tr>\n",
       "      <td>21449</td>\n",
       "      <td>1</td>\n",
       "      <td>4529</td>\n",
       "      <td>43</td>\n",
       "      <td>среднее</td>\n",
       "      <td>1</td>\n",
       "      <td>гражданский брак</td>\n",
       "      <td>1</td>\n",
       "      <td>F</td>\n",
       "      <td>компаньон</td>\n",
       "      <td>0</td>\n",
       "      <td>224791</td>\n",
       "      <td>недвижимость</td>\n",
       "    </tr>\n",
       "    <tr>\n",
       "      <td>21450</td>\n",
       "      <td>0</td>\n",
       "      <td>14330</td>\n",
       "      <td>67</td>\n",
       "      <td>среднее</td>\n",
       "      <td>1</td>\n",
       "      <td>женат / замужем</td>\n",
       "      <td>0</td>\n",
       "      <td>F</td>\n",
       "      <td>пенсионер</td>\n",
       "      <td>0</td>\n",
       "      <td>155999</td>\n",
       "      <td>автомобиль</td>\n",
       "    </tr>\n",
       "    <tr>\n",
       "      <td>21451</td>\n",
       "      <td>1</td>\n",
       "      <td>2113</td>\n",
       "      <td>38</td>\n",
       "      <td>среднее</td>\n",
       "      <td>1</td>\n",
       "      <td>гражданский брак</td>\n",
       "      <td>1</td>\n",
       "      <td>M</td>\n",
       "      <td>сотрудник</td>\n",
       "      <td>1</td>\n",
       "      <td>89672</td>\n",
       "      <td>недвижимость</td>\n",
       "    </tr>\n",
       "    <tr>\n",
       "      <td>21452</td>\n",
       "      <td>3</td>\n",
       "      <td>3112</td>\n",
       "      <td>38</td>\n",
       "      <td>среднее</td>\n",
       "      <td>1</td>\n",
       "      <td>женат / замужем</td>\n",
       "      <td>0</td>\n",
       "      <td>M</td>\n",
       "      <td>сотрудник</td>\n",
       "      <td>1</td>\n",
       "      <td>244093</td>\n",
       "      <td>автомобиль</td>\n",
       "    </tr>\n",
       "    <tr>\n",
       "      <td>21453</td>\n",
       "      <td>2</td>\n",
       "      <td>1984</td>\n",
       "      <td>40</td>\n",
       "      <td>среднее</td>\n",
       "      <td>1</td>\n",
       "      <td>женат / замужем</td>\n",
       "      <td>0</td>\n",
       "      <td>F</td>\n",
       "      <td>сотрудник</td>\n",
       "      <td>0</td>\n",
       "      <td>82047</td>\n",
       "      <td>автомобиль</td>\n",
       "    </tr>\n",
       "  </tbody>\n",
       "</table>\n",
       "<p>21454 rows × 12 columns</p>\n",
       "</div>"
      ],
      "text/plain": [
       "       children  days_employed  dob_years education  education_id  \\\n",
       "0             1           8437         42    высшее             0   \n",
       "1             1           4024         36   среднее             1   \n",
       "2             0           5623         33   среднее             1   \n",
       "3             3           4124         32   среднее             1   \n",
       "4             0          14177         53   среднее             1   \n",
       "...         ...            ...        ...       ...           ...   \n",
       "21449         1           4529         43   среднее             1   \n",
       "21450         0          14330         67   среднее             1   \n",
       "21451         1           2113         38   среднее             1   \n",
       "21452         3           3112         38   среднее             1   \n",
       "21453         2           1984         40   среднее             1   \n",
       "\n",
       "          family_status  family_status_id gender income_type  debt  \\\n",
       "0       женат / замужем                 0      F   сотрудник     0   \n",
       "1       женат / замужем                 0      F   сотрудник     0   \n",
       "2       женат / замужем                 0      M   сотрудник     0   \n",
       "3       женат / замужем                 0      M   сотрудник     0   \n",
       "4      гражданский брак                 1      F   пенсионер     0   \n",
       "...                 ...               ...    ...         ...   ...   \n",
       "21449  гражданский брак                 1      F   компаньон     0   \n",
       "21450   женат / замужем                 0      F   пенсионер     0   \n",
       "21451  гражданский брак                 1      M   сотрудник     1   \n",
       "21452   женат / замужем                 0      M   сотрудник     1   \n",
       "21453   женат / замужем                 0      F   сотрудник     0   \n",
       "\n",
       "       total_income       purpose  \n",
       "0            253875  недвижимость  \n",
       "1            112080    автомобиль  \n",
       "2            145885  недвижимость  \n",
       "3            267628   образование  \n",
       "4            158616       свадьба  \n",
       "...             ...           ...  \n",
       "21449        224791  недвижимость  \n",
       "21450        155999    автомобиль  \n",
       "21451         89672  недвижимость  \n",
       "21452        244093    автомобиль  \n",
       "21453         82047    автомобиль  \n",
       "\n",
       "[21454 rows x 12 columns]"
      ]
     },
     "execution_count": 50,
     "metadata": {},
     "output_type": "execute_result"
    }
   ],
   "source": [
    "df"
   ]
  },
  {
   "cell_type": "markdown",
   "metadata": {},
   "source": [
    "Посмотрим что у нас осталось."
   ]
  },
  {
   "cell_type": "code",
   "execution_count": 51,
   "metadata": {},
   "outputs": [
    {
     "data": {
      "text/plain": [
       "array(['недвижимость', 'автомобиль', 'образование', 'свадьба',\n",
       "       'строительство'], dtype=object)"
      ]
     },
     "execution_count": 51,
     "metadata": {},
     "output_type": "execute_result"
    }
   ],
   "source": [
    "df['purpose'].unique()"
   ]
  },
  {
   "cell_type": "markdown",
   "metadata": {},
   "source": [
    "Теперь перейдем к столбцу total_income. Здесь сгрупперум в 5 групп самостоятельно разделив по числу людей."
   ]
  },
  {
   "cell_type": "code",
   "execution_count": 52,
   "metadata": {},
   "outputs": [],
   "source": [
    "list_category_income = [\"низкий\", \"ниже_среднего\", \"средний\",'выше_среднего','высокий']\n",
    "df.loc[:,'total_income'] = pd.qcut(df.loc[:,'total_income'],5,labels=list_category_income)"
   ]
  },
  {
   "cell_type": "markdown",
   "metadata": {},
   "source": [
    "Посмотрим все ли получилось"
   ]
  },
  {
   "cell_type": "code",
   "execution_count": 53,
   "metadata": {},
   "outputs": [
    {
     "data": {
      "text/plain": [
       "[высокий, ниже_среднего, средний, низкий, выше_среднего]\n",
       "Categories (5, object): [низкий < ниже_среднего < средний < выше_среднего < высокий]"
      ]
     },
     "execution_count": 53,
     "metadata": {},
     "output_type": "execute_result"
    }
   ],
   "source": [
    "df['total_income'].unique()"
   ]
  },
  {
   "cell_type": "markdown",
   "metadata": {},
   "source": [
    "Сделаем тоже самое с days_employed"
   ]
  },
  {
   "cell_type": "code",
   "execution_count": 54,
   "metadata": {},
   "outputs": [],
   "source": [
    "list_сategory_days_employed = [\"мало\", \"ниже_среднего\", \"средний\",'выше_среднего','много']\n",
    "df.loc[:,'days_employed'] = pd.qcut(df.loc[:,'days_employed'],5,labels=list_сategory_days_employed)"
   ]
  },
  {
   "cell_type": "code",
   "execution_count": 55,
   "metadata": {},
   "outputs": [
    {
     "data": {
      "text/plain": [
       "[выше_среднего, много, ниже_среднего, мало, средний]\n",
       "Categories (5, object): [мало < ниже_среднего < средний < выше_среднего < много]"
      ]
     },
     "execution_count": 55,
     "metadata": {},
     "output_type": "execute_result"
    }
   ],
   "source": [
    "df['days_employed'].unique()"
   ]
  },
  {
   "cell_type": "markdown",
   "metadata": {},
   "source": [
    "Посмотрим что у нас получилось."
   ]
  },
  {
   "cell_type": "code",
   "execution_count": 56,
   "metadata": {},
   "outputs": [
    {
     "data": {
      "text/html": [
       "<div>\n",
       "<style scoped>\n",
       "    .dataframe tbody tr th:only-of-type {\n",
       "        vertical-align: middle;\n",
       "    }\n",
       "\n",
       "    .dataframe tbody tr th {\n",
       "        vertical-align: top;\n",
       "    }\n",
       "\n",
       "    .dataframe thead th {\n",
       "        text-align: right;\n",
       "    }\n",
       "</style>\n",
       "<table border=\"1\" class=\"dataframe\">\n",
       "  <thead>\n",
       "    <tr style=\"text-align: right;\">\n",
       "      <th></th>\n",
       "      <th>children</th>\n",
       "      <th>days_employed</th>\n",
       "      <th>dob_years</th>\n",
       "      <th>education</th>\n",
       "      <th>education_id</th>\n",
       "      <th>family_status</th>\n",
       "      <th>family_status_id</th>\n",
       "      <th>gender</th>\n",
       "      <th>income_type</th>\n",
       "      <th>debt</th>\n",
       "      <th>total_income</th>\n",
       "      <th>purpose</th>\n",
       "    </tr>\n",
       "  </thead>\n",
       "  <tbody>\n",
       "    <tr>\n",
       "      <td>0</td>\n",
       "      <td>1</td>\n",
       "      <td>выше_среднего</td>\n",
       "      <td>42</td>\n",
       "      <td>высшее</td>\n",
       "      <td>0</td>\n",
       "      <td>женат / замужем</td>\n",
       "      <td>0</td>\n",
       "      <td>F</td>\n",
       "      <td>сотрудник</td>\n",
       "      <td>0</td>\n",
       "      <td>высокий</td>\n",
       "      <td>недвижимость</td>\n",
       "    </tr>\n",
       "    <tr>\n",
       "      <td>1</td>\n",
       "      <td>1</td>\n",
       "      <td>выше_среднего</td>\n",
       "      <td>36</td>\n",
       "      <td>среднее</td>\n",
       "      <td>1</td>\n",
       "      <td>женат / замужем</td>\n",
       "      <td>0</td>\n",
       "      <td>F</td>\n",
       "      <td>сотрудник</td>\n",
       "      <td>0</td>\n",
       "      <td>ниже_среднего</td>\n",
       "      <td>автомобиль</td>\n",
       "    </tr>\n",
       "    <tr>\n",
       "      <td>2</td>\n",
       "      <td>0</td>\n",
       "      <td>выше_среднего</td>\n",
       "      <td>33</td>\n",
       "      <td>среднее</td>\n",
       "      <td>1</td>\n",
       "      <td>женат / замужем</td>\n",
       "      <td>0</td>\n",
       "      <td>M</td>\n",
       "      <td>сотрудник</td>\n",
       "      <td>0</td>\n",
       "      <td>средний</td>\n",
       "      <td>недвижимость</td>\n",
       "    </tr>\n",
       "    <tr>\n",
       "      <td>3</td>\n",
       "      <td>3</td>\n",
       "      <td>выше_среднего</td>\n",
       "      <td>32</td>\n",
       "      <td>среднее</td>\n",
       "      <td>1</td>\n",
       "      <td>женат / замужем</td>\n",
       "      <td>0</td>\n",
       "      <td>M</td>\n",
       "      <td>сотрудник</td>\n",
       "      <td>0</td>\n",
       "      <td>высокий</td>\n",
       "      <td>образование</td>\n",
       "    </tr>\n",
       "    <tr>\n",
       "      <td>4</td>\n",
       "      <td>0</td>\n",
       "      <td>много</td>\n",
       "      <td>53</td>\n",
       "      <td>среднее</td>\n",
       "      <td>1</td>\n",
       "      <td>гражданский брак</td>\n",
       "      <td>1</td>\n",
       "      <td>F</td>\n",
       "      <td>пенсионер</td>\n",
       "      <td>0</td>\n",
       "      <td>средний</td>\n",
       "      <td>свадьба</td>\n",
       "    </tr>\n",
       "    <tr>\n",
       "      <td>...</td>\n",
       "      <td>...</td>\n",
       "      <td>...</td>\n",
       "      <td>...</td>\n",
       "      <td>...</td>\n",
       "      <td>...</td>\n",
       "      <td>...</td>\n",
       "      <td>...</td>\n",
       "      <td>...</td>\n",
       "      <td>...</td>\n",
       "      <td>...</td>\n",
       "      <td>...</td>\n",
       "      <td>...</td>\n",
       "    </tr>\n",
       "    <tr>\n",
       "      <td>21449</td>\n",
       "      <td>1</td>\n",
       "      <td>выше_среднего</td>\n",
       "      <td>43</td>\n",
       "      <td>среднее</td>\n",
       "      <td>1</td>\n",
       "      <td>гражданский брак</td>\n",
       "      <td>1</td>\n",
       "      <td>F</td>\n",
       "      <td>компаньон</td>\n",
       "      <td>0</td>\n",
       "      <td>высокий</td>\n",
       "      <td>недвижимость</td>\n",
       "    </tr>\n",
       "    <tr>\n",
       "      <td>21450</td>\n",
       "      <td>0</td>\n",
       "      <td>много</td>\n",
       "      <td>67</td>\n",
       "      <td>среднее</td>\n",
       "      <td>1</td>\n",
       "      <td>женат / замужем</td>\n",
       "      <td>0</td>\n",
       "      <td>F</td>\n",
       "      <td>пенсионер</td>\n",
       "      <td>0</td>\n",
       "      <td>средний</td>\n",
       "      <td>автомобиль</td>\n",
       "    </tr>\n",
       "    <tr>\n",
       "      <td>21451</td>\n",
       "      <td>1</td>\n",
       "      <td>средний</td>\n",
       "      <td>38</td>\n",
       "      <td>среднее</td>\n",
       "      <td>1</td>\n",
       "      <td>гражданский брак</td>\n",
       "      <td>1</td>\n",
       "      <td>M</td>\n",
       "      <td>сотрудник</td>\n",
       "      <td>1</td>\n",
       "      <td>низкий</td>\n",
       "      <td>недвижимость</td>\n",
       "    </tr>\n",
       "    <tr>\n",
       "      <td>21452</td>\n",
       "      <td>3</td>\n",
       "      <td>выше_среднего</td>\n",
       "      <td>38</td>\n",
       "      <td>среднее</td>\n",
       "      <td>1</td>\n",
       "      <td>женат / замужем</td>\n",
       "      <td>0</td>\n",
       "      <td>M</td>\n",
       "      <td>сотрудник</td>\n",
       "      <td>1</td>\n",
       "      <td>высокий</td>\n",
       "      <td>автомобиль</td>\n",
       "    </tr>\n",
       "    <tr>\n",
       "      <td>21453</td>\n",
       "      <td>2</td>\n",
       "      <td>средний</td>\n",
       "      <td>40</td>\n",
       "      <td>среднее</td>\n",
       "      <td>1</td>\n",
       "      <td>женат / замужем</td>\n",
       "      <td>0</td>\n",
       "      <td>F</td>\n",
       "      <td>сотрудник</td>\n",
       "      <td>0</td>\n",
       "      <td>низкий</td>\n",
       "      <td>автомобиль</td>\n",
       "    </tr>\n",
       "  </tbody>\n",
       "</table>\n",
       "<p>21454 rows × 12 columns</p>\n",
       "</div>"
      ],
      "text/plain": [
       "       children  days_employed  dob_years education  education_id  \\\n",
       "0             1  выше_среднего         42    высшее             0   \n",
       "1             1  выше_среднего         36   среднее             1   \n",
       "2             0  выше_среднего         33   среднее             1   \n",
       "3             3  выше_среднего         32   среднее             1   \n",
       "4             0          много         53   среднее             1   \n",
       "...         ...            ...        ...       ...           ...   \n",
       "21449         1  выше_среднего         43   среднее             1   \n",
       "21450         0          много         67   среднее             1   \n",
       "21451         1        средний         38   среднее             1   \n",
       "21452         3  выше_среднего         38   среднее             1   \n",
       "21453         2        средний         40   среднее             1   \n",
       "\n",
       "          family_status  family_status_id gender income_type  debt  \\\n",
       "0       женат / замужем                 0      F   сотрудник     0   \n",
       "1       женат / замужем                 0      F   сотрудник     0   \n",
       "2       женат / замужем                 0      M   сотрудник     0   \n",
       "3       женат / замужем                 0      M   сотрудник     0   \n",
       "4      гражданский брак                 1      F   пенсионер     0   \n",
       "...                 ...               ...    ...         ...   ...   \n",
       "21449  гражданский брак                 1      F   компаньон     0   \n",
       "21450   женат / замужем                 0      F   пенсионер     0   \n",
       "21451  гражданский брак                 1      M   сотрудник     1   \n",
       "21452   женат / замужем                 0      M   сотрудник     1   \n",
       "21453   женат / замужем                 0      F   сотрудник     0   \n",
       "\n",
       "        total_income       purpose  \n",
       "0            высокий  недвижимость  \n",
       "1      ниже_среднего    автомобиль  \n",
       "2            средний  недвижимость  \n",
       "3            высокий   образование  \n",
       "4            средний       свадьба  \n",
       "...              ...           ...  \n",
       "21449        высокий  недвижимость  \n",
       "21450        средний    автомобиль  \n",
       "21451         низкий  недвижимость  \n",
       "21452        высокий    автомобиль  \n",
       "21453         низкий    автомобиль  \n",
       "\n",
       "[21454 rows x 12 columns]"
      ]
     },
     "execution_count": 56,
     "metadata": {},
     "output_type": "execute_result"
    }
   ],
   "source": [
    "df\n",
    "             "
   ]
  },
  {
   "cell_type": "code",
   "execution_count": 57,
   "metadata": {
    "scrolled": true
   },
   "outputs": [
    {
     "name": "stdout",
     "output_type": "stream",
     "text": [
      "<class 'pandas.core.frame.DataFrame'>\n",
      "RangeIndex: 21454 entries, 0 to 21453\n",
      "Data columns (total 12 columns):\n",
      "children            21454 non-null int64\n",
      "days_employed       21454 non-null category\n",
      "dob_years           21454 non-null int64\n",
      "education           21454 non-null object\n",
      "education_id        21454 non-null int64\n",
      "family_status       21454 non-null object\n",
      "family_status_id    21454 non-null int64\n",
      "gender              21454 non-null object\n",
      "income_type         21454 non-null object\n",
      "debt                21454 non-null int64\n",
      "total_income        21454 non-null category\n",
      "purpose             21454 non-null object\n",
      "dtypes: category(2), int64(5), object(5)\n",
      "memory usage: 1.7+ MB\n"
     ]
    }
   ],
   "source": [
    "df.info()"
   ]
  },
  {
   "cell_type": "markdown",
   "metadata": {},
   "source": [
    "**Вывод**"
   ]
  },
  {
   "cell_type": "markdown",
   "metadata": {},
   "source": [
    "Мы выявили категории в purpose,чтобы точно и быстро понять для чего брал кредит. А так же мы разбили столбцы total_income и days_employed по колличеству людей на 5 категорий чтоб быстро сравнивать их между собой."
   ]
  },
  {
   "cell_type": "markdown",
   "metadata": {},
   "source": [
    "## Шаг 3. Ответьте на вопросы"
   ]
  },
  {
   "cell_type": "markdown",
   "metadata": {},
   "source": [
    "- Есть ли зависимость между наличием детей и возвратом кредита в срок?"
   ]
  },
  {
   "cell_type": "markdown",
   "metadata": {},
   "source": [
    "Расмотрим еще раз наши данные"
   ]
  },
  {
   "cell_type": "code",
   "execution_count": 58,
   "metadata": {},
   "outputs": [
    {
     "data": {
      "text/html": [
       "<div>\n",
       "<style scoped>\n",
       "    .dataframe tbody tr th:only-of-type {\n",
       "        vertical-align: middle;\n",
       "    }\n",
       "\n",
       "    .dataframe tbody tr th {\n",
       "        vertical-align: top;\n",
       "    }\n",
       "\n",
       "    .dataframe thead th {\n",
       "        text-align: right;\n",
       "    }\n",
       "</style>\n",
       "<table border=\"1\" class=\"dataframe\">\n",
       "  <thead>\n",
       "    <tr style=\"text-align: right;\">\n",
       "      <th></th>\n",
       "      <th>children</th>\n",
       "      <th>days_employed</th>\n",
       "      <th>dob_years</th>\n",
       "      <th>education</th>\n",
       "      <th>education_id</th>\n",
       "      <th>family_status</th>\n",
       "      <th>family_status_id</th>\n",
       "      <th>gender</th>\n",
       "      <th>income_type</th>\n",
       "      <th>debt</th>\n",
       "      <th>total_income</th>\n",
       "      <th>purpose</th>\n",
       "    </tr>\n",
       "  </thead>\n",
       "  <tbody>\n",
       "    <tr>\n",
       "      <td>0</td>\n",
       "      <td>1</td>\n",
       "      <td>выше_среднего</td>\n",
       "      <td>42</td>\n",
       "      <td>высшее</td>\n",
       "      <td>0</td>\n",
       "      <td>женат / замужем</td>\n",
       "      <td>0</td>\n",
       "      <td>F</td>\n",
       "      <td>сотрудник</td>\n",
       "      <td>0</td>\n",
       "      <td>высокий</td>\n",
       "      <td>недвижимость</td>\n",
       "    </tr>\n",
       "    <tr>\n",
       "      <td>1</td>\n",
       "      <td>1</td>\n",
       "      <td>выше_среднего</td>\n",
       "      <td>36</td>\n",
       "      <td>среднее</td>\n",
       "      <td>1</td>\n",
       "      <td>женат / замужем</td>\n",
       "      <td>0</td>\n",
       "      <td>F</td>\n",
       "      <td>сотрудник</td>\n",
       "      <td>0</td>\n",
       "      <td>ниже_среднего</td>\n",
       "      <td>автомобиль</td>\n",
       "    </tr>\n",
       "    <tr>\n",
       "      <td>2</td>\n",
       "      <td>0</td>\n",
       "      <td>выше_среднего</td>\n",
       "      <td>33</td>\n",
       "      <td>среднее</td>\n",
       "      <td>1</td>\n",
       "      <td>женат / замужем</td>\n",
       "      <td>0</td>\n",
       "      <td>M</td>\n",
       "      <td>сотрудник</td>\n",
       "      <td>0</td>\n",
       "      <td>средний</td>\n",
       "      <td>недвижимость</td>\n",
       "    </tr>\n",
       "    <tr>\n",
       "      <td>3</td>\n",
       "      <td>3</td>\n",
       "      <td>выше_среднего</td>\n",
       "      <td>32</td>\n",
       "      <td>среднее</td>\n",
       "      <td>1</td>\n",
       "      <td>женат / замужем</td>\n",
       "      <td>0</td>\n",
       "      <td>M</td>\n",
       "      <td>сотрудник</td>\n",
       "      <td>0</td>\n",
       "      <td>высокий</td>\n",
       "      <td>образование</td>\n",
       "    </tr>\n",
       "    <tr>\n",
       "      <td>4</td>\n",
       "      <td>0</td>\n",
       "      <td>много</td>\n",
       "      <td>53</td>\n",
       "      <td>среднее</td>\n",
       "      <td>1</td>\n",
       "      <td>гражданский брак</td>\n",
       "      <td>1</td>\n",
       "      <td>F</td>\n",
       "      <td>пенсионер</td>\n",
       "      <td>0</td>\n",
       "      <td>средний</td>\n",
       "      <td>свадьба</td>\n",
       "    </tr>\n",
       "  </tbody>\n",
       "</table>\n",
       "</div>"
      ],
      "text/plain": [
       "   children  days_employed  dob_years education  education_id  \\\n",
       "0         1  выше_среднего         42    высшее             0   \n",
       "1         1  выше_среднего         36   среднее             1   \n",
       "2         0  выше_среднего         33   среднее             1   \n",
       "3         3  выше_среднего         32   среднее             1   \n",
       "4         0          много         53   среднее             1   \n",
       "\n",
       "      family_status  family_status_id gender income_type  debt   total_income  \\\n",
       "0   женат / замужем                 0      F   сотрудник     0        высокий   \n",
       "1   женат / замужем                 0      F   сотрудник     0  ниже_среднего   \n",
       "2   женат / замужем                 0      M   сотрудник     0        средний   \n",
       "3   женат / замужем                 0      M   сотрудник     0        высокий   \n",
       "4  гражданский брак                 1      F   пенсионер     0        средний   \n",
       "\n",
       "        purpose  \n",
       "0  недвижимость  \n",
       "1    автомобиль  \n",
       "2  недвижимость  \n",
       "3   образование  \n",
       "4       свадьба  "
      ]
     },
     "execution_count": 58,
     "metadata": {},
     "output_type": "execute_result"
    }
   ],
   "source": [
    "df.head()"
   ]
  },
  {
   "cell_type": "markdown",
   "metadata": {},
   "source": [
    "Запишем необходимые данные в отдельную таблицу для работы"
   ]
  },
  {
   "cell_type": "code",
   "execution_count": 59,
   "metadata": {},
   "outputs": [],
   "source": [
    "df_children = df[['children','debt']]"
   ]
  },
  {
   "cell_type": "code",
   "execution_count": 60,
   "metadata": {},
   "outputs": [
    {
     "data": {
      "text/plain": [
       "1741"
      ]
     },
     "execution_count": 60,
     "metadata": {},
     "output_type": "execute_result"
    }
   ],
   "source": [
    "df_children['debt'].sum()"
   ]
  },
  {
   "cell_type": "code",
   "execution_count": 61,
   "metadata": {},
   "outputs": [
    {
     "data": {
      "text/html": [
       "<div>\n",
       "<style scoped>\n",
       "    .dataframe tbody tr th:only-of-type {\n",
       "        vertical-align: middle;\n",
       "    }\n",
       "\n",
       "    .dataframe tbody tr th {\n",
       "        vertical-align: top;\n",
       "    }\n",
       "\n",
       "    .dataframe thead th {\n",
       "        text-align: right;\n",
       "    }\n",
       "</style>\n",
       "<table border=\"1\" class=\"dataframe\">\n",
       "  <thead>\n",
       "    <tr style=\"text-align: right;\">\n",
       "      <th></th>\n",
       "      <th>children</th>\n",
       "      <th>debt</th>\n",
       "    </tr>\n",
       "  </thead>\n",
       "  <tbody>\n",
       "    <tr>\n",
       "      <td>0</td>\n",
       "      <td>1</td>\n",
       "      <td>0</td>\n",
       "    </tr>\n",
       "    <tr>\n",
       "      <td>1</td>\n",
       "      <td>1</td>\n",
       "      <td>0</td>\n",
       "    </tr>\n",
       "    <tr>\n",
       "      <td>2</td>\n",
       "      <td>0</td>\n",
       "      <td>0</td>\n",
       "    </tr>\n",
       "    <tr>\n",
       "      <td>3</td>\n",
       "      <td>3</td>\n",
       "      <td>0</td>\n",
       "    </tr>\n",
       "    <tr>\n",
       "      <td>4</td>\n",
       "      <td>0</td>\n",
       "      <td>0</td>\n",
       "    </tr>\n",
       "    <tr>\n",
       "      <td>...</td>\n",
       "      <td>...</td>\n",
       "      <td>...</td>\n",
       "    </tr>\n",
       "    <tr>\n",
       "      <td>21449</td>\n",
       "      <td>1</td>\n",
       "      <td>0</td>\n",
       "    </tr>\n",
       "    <tr>\n",
       "      <td>21450</td>\n",
       "      <td>0</td>\n",
       "      <td>0</td>\n",
       "    </tr>\n",
       "    <tr>\n",
       "      <td>21451</td>\n",
       "      <td>1</td>\n",
       "      <td>1</td>\n",
       "    </tr>\n",
       "    <tr>\n",
       "      <td>21452</td>\n",
       "      <td>3</td>\n",
       "      <td>1</td>\n",
       "    </tr>\n",
       "    <tr>\n",
       "      <td>21453</td>\n",
       "      <td>2</td>\n",
       "      <td>0</td>\n",
       "    </tr>\n",
       "  </tbody>\n",
       "</table>\n",
       "<p>21454 rows × 2 columns</p>\n",
       "</div>"
      ],
      "text/plain": [
       "       children  debt\n",
       "0             1     0\n",
       "1             1     0\n",
       "2             0     0\n",
       "3             3     0\n",
       "4             0     0\n",
       "...         ...   ...\n",
       "21449         1     0\n",
       "21450         0     0\n",
       "21451         1     1\n",
       "21452         3     1\n",
       "21453         2     0\n",
       "\n",
       "[21454 rows x 2 columns]"
      ]
     },
     "execution_count": 61,
     "metadata": {},
     "output_type": "execute_result"
    }
   ],
   "source": [
    "df_children"
   ]
  },
  {
   "cell_type": "markdown",
   "metadata": {},
   "source": [
    "Сгрупперуем данные по числу детей и посчитам их колличество(count) и сколько из них имели просрочку(sum)"
   ]
  },
  {
   "cell_type": "code",
   "execution_count": 62,
   "metadata": {},
   "outputs": [],
   "source": [
    "df_children_percent = df_children.groupby('children')['debt'].agg(['count','sum']).reset_index()"
   ]
  },
  {
   "cell_type": "markdown",
   "metadata": {},
   "source": [
    "Также вычеслим процент имевших просрочку"
   ]
  },
  {
   "cell_type": "code",
   "execution_count": 63,
   "metadata": {},
   "outputs": [],
   "source": [
    "df_children_percent['debt_percent'] = df_children_percent['sum'] / df_children_percent['count'] * 100\n"
   ]
  },
  {
   "cell_type": "markdown",
   "metadata": {},
   "source": [
    "Посмотрим что получилось. И построим график."
   ]
  },
  {
   "cell_type": "code",
   "execution_count": 64,
   "metadata": {},
   "outputs": [
    {
     "data": {
      "text/html": [
       "<div>\n",
       "<style scoped>\n",
       "    .dataframe tbody tr th:only-of-type {\n",
       "        vertical-align: middle;\n",
       "    }\n",
       "\n",
       "    .dataframe tbody tr th {\n",
       "        vertical-align: top;\n",
       "    }\n",
       "\n",
       "    .dataframe thead th {\n",
       "        text-align: right;\n",
       "    }\n",
       "</style>\n",
       "<table border=\"1\" class=\"dataframe\">\n",
       "  <thead>\n",
       "    <tr style=\"text-align: right;\">\n",
       "      <th></th>\n",
       "      <th>children</th>\n",
       "      <th>count</th>\n",
       "      <th>sum</th>\n",
       "      <th>debt_percent</th>\n",
       "    </tr>\n",
       "  </thead>\n",
       "  <tbody>\n",
       "    <tr>\n",
       "      <td>0</td>\n",
       "      <td>0</td>\n",
       "      <td>14091</td>\n",
       "      <td>1063</td>\n",
       "      <td>7.543822</td>\n",
       "    </tr>\n",
       "    <tr>\n",
       "      <td>1</td>\n",
       "      <td>1</td>\n",
       "      <td>4855</td>\n",
       "      <td>445</td>\n",
       "      <td>9.165808</td>\n",
       "    </tr>\n",
       "    <tr>\n",
       "      <td>2</td>\n",
       "      <td>2</td>\n",
       "      <td>2128</td>\n",
       "      <td>202</td>\n",
       "      <td>9.492481</td>\n",
       "    </tr>\n",
       "    <tr>\n",
       "      <td>3</td>\n",
       "      <td>3</td>\n",
       "      <td>330</td>\n",
       "      <td>27</td>\n",
       "      <td>8.181818</td>\n",
       "    </tr>\n",
       "    <tr>\n",
       "      <td>4</td>\n",
       "      <td>4</td>\n",
       "      <td>41</td>\n",
       "      <td>4</td>\n",
       "      <td>9.756098</td>\n",
       "    </tr>\n",
       "    <tr>\n",
       "      <td>5</td>\n",
       "      <td>5</td>\n",
       "      <td>9</td>\n",
       "      <td>0</td>\n",
       "      <td>0.000000</td>\n",
       "    </tr>\n",
       "  </tbody>\n",
       "</table>\n",
       "</div>"
      ],
      "text/plain": [
       "   children  count   sum  debt_percent\n",
       "0         0  14091  1063      7.543822\n",
       "1         1   4855   445      9.165808\n",
       "2         2   2128   202      9.492481\n",
       "3         3    330    27      8.181818\n",
       "4         4     41     4      9.756098\n",
       "5         5      9     0      0.000000"
      ]
     },
     "execution_count": 64,
     "metadata": {},
     "output_type": "execute_result"
    }
   ],
   "source": [
    "df_children_percent"
   ]
  },
  {
   "cell_type": "code",
   "execution_count": 65,
   "metadata": {},
   "outputs": [
    {
     "data": {
      "image/png": "[encoded data removed]",
      "text/plain": [
       "<Figure size 432x288 with 1 Axes>"
      ]
     },
     "metadata": {
      "needs_background": "light"
     },
     "output_type": "display_data"
    }
   ],
   "source": [
    "df_children_percent['debt_percent'].plot(ylim=0)\n",
    "plt.ylabel(\"Просрочка (%)\")\n",
    "plt.xlabel(\"children\")\n",
    "plt.grid()"
   ]
  },
  {
   "cell_type": "markdown",
   "metadata": {},
   "source": [
    "**Вывод**"
   ]
  },
  {
   "cell_type": "markdown",
   "metadata": {},
   "source": [
    "Людей с 5 детьми всего 9 человек и  их лучше не расматривать. Тогда  люди которые без детей, имеют просрочку меньше, чем с детьми . И чем больше детей, тем больше просрочка."
   ]
  },
  {
   "cell_type": "markdown",
   "metadata": {},
   "source": [
    "- Есть ли зависимость между семейным положением и возвратом кредита в срок?"
   ]
  },
  {
   "cell_type": "markdown",
   "metadata": {},
   "source": [
    "Запишем необходимые данные family_status, family_status_id и debt  в отдельную таблицу для работы"
   ]
  },
  {
   "cell_type": "code",
   "execution_count": 66,
   "metadata": {},
   "outputs": [],
   "source": [
    "df_family_status = df[['family_status','family_status_id','debt']]"
   ]
  },
  {
   "cell_type": "code",
   "execution_count": 67,
   "metadata": {},
   "outputs": [
    {
     "data": {
      "text/html": [
       "<div>\n",
       "<style scoped>\n",
       "    .dataframe tbody tr th:only-of-type {\n",
       "        vertical-align: middle;\n",
       "    }\n",
       "\n",
       "    .dataframe tbody tr th {\n",
       "        vertical-align: top;\n",
       "    }\n",
       "\n",
       "    .dataframe thead th {\n",
       "        text-align: right;\n",
       "    }\n",
       "</style>\n",
       "<table border=\"1\" class=\"dataframe\">\n",
       "  <thead>\n",
       "    <tr style=\"text-align: right;\">\n",
       "      <th></th>\n",
       "      <th>family_status</th>\n",
       "      <th>family_status_id</th>\n",
       "      <th>debt</th>\n",
       "    </tr>\n",
       "  </thead>\n",
       "  <tbody>\n",
       "    <tr>\n",
       "      <td>0</td>\n",
       "      <td>женат / замужем</td>\n",
       "      <td>0</td>\n",
       "      <td>0</td>\n",
       "    </tr>\n",
       "    <tr>\n",
       "      <td>1</td>\n",
       "      <td>женат / замужем</td>\n",
       "      <td>0</td>\n",
       "      <td>0</td>\n",
       "    </tr>\n",
       "    <tr>\n",
       "      <td>2</td>\n",
       "      <td>женат / замужем</td>\n",
       "      <td>0</td>\n",
       "      <td>0</td>\n",
       "    </tr>\n",
       "    <tr>\n",
       "      <td>3</td>\n",
       "      <td>женат / замужем</td>\n",
       "      <td>0</td>\n",
       "      <td>0</td>\n",
       "    </tr>\n",
       "    <tr>\n",
       "      <td>4</td>\n",
       "      <td>гражданский брак</td>\n",
       "      <td>1</td>\n",
       "      <td>0</td>\n",
       "    </tr>\n",
       "  </tbody>\n",
       "</table>\n",
       "</div>"
      ],
      "text/plain": [
       "      family_status  family_status_id  debt\n",
       "0   женат / замужем                 0     0\n",
       "1   женат / замужем                 0     0\n",
       "2   женат / замужем                 0     0\n",
       "3   женат / замужем                 0     0\n",
       "4  гражданский брак                 1     0"
      ]
     },
     "execution_count": 67,
     "metadata": {},
     "output_type": "execute_result"
    }
   ],
   "source": [
    "df_family_status.head()"
   ]
  },
  {
   "cell_type": "markdown",
   "metadata": {},
   "source": [
    "Сгрупперуем данные по числу детей и посчитам их колличество(count) и сколько из них имели просрочку(sum)"
   ]
  },
  {
   "cell_type": "code",
   "execution_count": 68,
   "metadata": {},
   "outputs": [],
   "source": [
    "df_family_status_percent = df_family_status.groupby('family_status_id')['debt'].agg(['count','sum']).reset_index()"
   ]
  },
  {
   "cell_type": "markdown",
   "metadata": {},
   "source": [
    "Также вычеслим процент имевших просрочку"
   ]
  },
  {
   "cell_type": "code",
   "execution_count": 69,
   "metadata": {},
   "outputs": [],
   "source": [
    "df_family_status_percent['debt_percent'] = df_family_status_percent['sum'] / df_family_status_percent['count']* 100"
   ]
  },
  {
   "cell_type": "code",
   "execution_count": 70,
   "metadata": {},
   "outputs": [
    {
     "data": {
      "text/html": [
       "<div>\n",
       "<style scoped>\n",
       "    .dataframe tbody tr th:only-of-type {\n",
       "        vertical-align: middle;\n",
       "    }\n",
       "\n",
       "    .dataframe tbody tr th {\n",
       "        vertical-align: top;\n",
       "    }\n",
       "\n",
       "    .dataframe thead th {\n",
       "        text-align: right;\n",
       "    }\n",
       "</style>\n",
       "<table border=\"1\" class=\"dataframe\">\n",
       "  <thead>\n",
       "    <tr style=\"text-align: right;\">\n",
       "      <th></th>\n",
       "      <th>family_status_id</th>\n",
       "      <th>count</th>\n",
       "      <th>sum</th>\n",
       "      <th>debt_percent</th>\n",
       "    </tr>\n",
       "  </thead>\n",
       "  <tbody>\n",
       "    <tr>\n",
       "      <td>0</td>\n",
       "      <td>0</td>\n",
       "      <td>12339</td>\n",
       "      <td>931</td>\n",
       "      <td>7.545182</td>\n",
       "    </tr>\n",
       "    <tr>\n",
       "      <td>1</td>\n",
       "      <td>1</td>\n",
       "      <td>4151</td>\n",
       "      <td>388</td>\n",
       "      <td>9.347145</td>\n",
       "    </tr>\n",
       "    <tr>\n",
       "      <td>2</td>\n",
       "      <td>2</td>\n",
       "      <td>959</td>\n",
       "      <td>63</td>\n",
       "      <td>6.569343</td>\n",
       "    </tr>\n",
       "    <tr>\n",
       "      <td>3</td>\n",
       "      <td>3</td>\n",
       "      <td>1195</td>\n",
       "      <td>85</td>\n",
       "      <td>7.112971</td>\n",
       "    </tr>\n",
       "    <tr>\n",
       "      <td>4</td>\n",
       "      <td>4</td>\n",
       "      <td>2810</td>\n",
       "      <td>274</td>\n",
       "      <td>9.750890</td>\n",
       "    </tr>\n",
       "  </tbody>\n",
       "</table>\n",
       "</div>"
      ],
      "text/plain": [
       "   family_status_id  count  sum  debt_percent\n",
       "0                 0  12339  931      7.545182\n",
       "1                 1   4151  388      9.347145\n",
       "2                 2    959   63      6.569343\n",
       "3                 3   1195   85      7.112971\n",
       "4                 4   2810  274      9.750890"
      ]
     },
     "execution_count": 70,
     "metadata": {},
     "output_type": "execute_result"
    }
   ],
   "source": [
    "df_family_status_percent"
   ]
  },
  {
   "cell_type": "code",
   "execution_count": 71,
   "metadata": {},
   "outputs": [
    {
     "data": {
      "image/png": "[encoded data removed]",
      "text/plain": [
       "<Figure size 432x288 with 1 Axes>"
      ]
     },
     "metadata": {
      "needs_background": "light"
     },
     "output_type": "display_data"
    }
   ],
   "source": [
    "plt.bar(df_family_status_percent['family_status_id'],df_family_status_percent['debt_percent'])\n",
    "plt.ylabel(\"Просрочка (%)\")\n",
    "plt.xlabel(\"family_status_id\")\n",
    "plt.grid()\n"
   ]
  },
  {
   "cell_type": "markdown",
   "metadata": {},
   "source": [
    "Где:\n",
    "* 0 - женат / замужем\n",
    "*1 - гражданский брак\n",
    "*2 - вдовец / вдова\n",
    "*3 - в разводе\n",
    "*4 - Не женат / не замужем"
   ]
  },
  {
   "cell_type": "markdown",
   "metadata": {},
   "source": [
    "**Вывод**"
   ]
  },
  {
   "cell_type": "markdown",
   "metadata": {},
   "source": [
    "Люди которые меньше всего с просрочкой по кредиту   со статусом вдовец / вдова. Далее идут  в разводе, женат / замужем. И больше всего не возращают со статусом гражданский брак и Не женат / не замужем."
   ]
  },
  {
   "cell_type": "markdown",
   "metadata": {},
   "source": [
    "- Есть ли зависимость между уровнем дохода и возвратом кредита в срок?"
   ]
  },
  {
   "cell_type": "markdown",
   "metadata": {},
   "source": [
    "Запишем необходимые данные total_income и debt в отдельную таблицу для работы"
   ]
  },
  {
   "cell_type": "code",
   "execution_count": 72,
   "metadata": {},
   "outputs": [],
   "source": [
    "df_total_income = df[['debt','total_income']]"
   ]
  },
  {
   "cell_type": "code",
   "execution_count": 73,
   "metadata": {},
   "outputs": [
    {
     "data": {
      "text/html": [
       "<div>\n",
       "<style scoped>\n",
       "    .dataframe tbody tr th:only-of-type {\n",
       "        vertical-align: middle;\n",
       "    }\n",
       "\n",
       "    .dataframe tbody tr th {\n",
       "        vertical-align: top;\n",
       "    }\n",
       "\n",
       "    .dataframe thead th {\n",
       "        text-align: right;\n",
       "    }\n",
       "</style>\n",
       "<table border=\"1\" class=\"dataframe\">\n",
       "  <thead>\n",
       "    <tr style=\"text-align: right;\">\n",
       "      <th></th>\n",
       "      <th>debt</th>\n",
       "      <th>total_income</th>\n",
       "    </tr>\n",
       "  </thead>\n",
       "  <tbody>\n",
       "    <tr>\n",
       "      <td>0</td>\n",
       "      <td>0</td>\n",
       "      <td>высокий</td>\n",
       "    </tr>\n",
       "    <tr>\n",
       "      <td>1</td>\n",
       "      <td>0</td>\n",
       "      <td>ниже_среднего</td>\n",
       "    </tr>\n",
       "    <tr>\n",
       "      <td>2</td>\n",
       "      <td>0</td>\n",
       "      <td>средний</td>\n",
       "    </tr>\n",
       "    <tr>\n",
       "      <td>3</td>\n",
       "      <td>0</td>\n",
       "      <td>высокий</td>\n",
       "    </tr>\n",
       "    <tr>\n",
       "      <td>4</td>\n",
       "      <td>0</td>\n",
       "      <td>средний</td>\n",
       "    </tr>\n",
       "    <tr>\n",
       "      <td>...</td>\n",
       "      <td>...</td>\n",
       "      <td>...</td>\n",
       "    </tr>\n",
       "    <tr>\n",
       "      <td>21449</td>\n",
       "      <td>0</td>\n",
       "      <td>высокий</td>\n",
       "    </tr>\n",
       "    <tr>\n",
       "      <td>21450</td>\n",
       "      <td>0</td>\n",
       "      <td>средний</td>\n",
       "    </tr>\n",
       "    <tr>\n",
       "      <td>21451</td>\n",
       "      <td>1</td>\n",
       "      <td>низкий</td>\n",
       "    </tr>\n",
       "    <tr>\n",
       "      <td>21452</td>\n",
       "      <td>1</td>\n",
       "      <td>высокий</td>\n",
       "    </tr>\n",
       "    <tr>\n",
       "      <td>21453</td>\n",
       "      <td>0</td>\n",
       "      <td>низкий</td>\n",
       "    </tr>\n",
       "  </tbody>\n",
       "</table>\n",
       "<p>21454 rows × 2 columns</p>\n",
       "</div>"
      ],
      "text/plain": [
       "       debt   total_income\n",
       "0         0        высокий\n",
       "1         0  ниже_среднего\n",
       "2         0        средний\n",
       "3         0        высокий\n",
       "4         0        средний\n",
       "...     ...            ...\n",
       "21449     0        высокий\n",
       "21450     0        средний\n",
       "21451     1         низкий\n",
       "21452     1        высокий\n",
       "21453     0         низкий\n",
       "\n",
       "[21454 rows x 2 columns]"
      ]
     },
     "execution_count": 73,
     "metadata": {},
     "output_type": "execute_result"
    }
   ],
   "source": [
    "df_total_income"
   ]
  },
  {
   "cell_type": "markdown",
   "metadata": {},
   "source": [
    "Сгрупперуем данные по total_income и посчитам их колличество(count) и сколько из них имели просрочку(sum)"
   ]
  },
  {
   "cell_type": "code",
   "execution_count": 74,
   "metadata": {},
   "outputs": [],
   "source": [
    "df_total_income_percent = df_total_income.groupby('total_income')['debt'].agg(['count','sum']).reset_index()"
   ]
  },
  {
   "cell_type": "markdown",
   "metadata": {},
   "source": [
    "Также вычеслим процент имевших просрочку"
   ]
  },
  {
   "cell_type": "code",
   "execution_count": 75,
   "metadata": {},
   "outputs": [],
   "source": [
    "df_total_income_percent['debt_percent'] = df_total_income_percent['sum'] / df_total_income_percent['count']* 100"
   ]
  },
  {
   "cell_type": "markdown",
   "metadata": {},
   "source": [
    "Выведим таблицу и график."
   ]
  },
  {
   "cell_type": "code",
   "execution_count": 76,
   "metadata": {},
   "outputs": [
    {
     "data": {
      "text/html": [
       "<div>\n",
       "<style scoped>\n",
       "    .dataframe tbody tr th:only-of-type {\n",
       "        vertical-align: middle;\n",
       "    }\n",
       "\n",
       "    .dataframe tbody tr th {\n",
       "        vertical-align: top;\n",
       "    }\n",
       "\n",
       "    .dataframe thead th {\n",
       "        text-align: right;\n",
       "    }\n",
       "</style>\n",
       "<table border=\"1\" class=\"dataframe\">\n",
       "  <thead>\n",
       "    <tr style=\"text-align: right;\">\n",
       "      <th></th>\n",
       "      <th>total_income</th>\n",
       "      <th>count</th>\n",
       "      <th>sum</th>\n",
       "      <th>debt_percent</th>\n",
       "    </tr>\n",
       "  </thead>\n",
       "  <tbody>\n",
       "    <tr>\n",
       "      <td>0</td>\n",
       "      <td>низкий</td>\n",
       "      <td>4291</td>\n",
       "      <td>344</td>\n",
       "      <td>8.016779</td>\n",
       "    </tr>\n",
       "    <tr>\n",
       "      <td>1</td>\n",
       "      <td>ниже_среднего</td>\n",
       "      <td>4291</td>\n",
       "      <td>361</td>\n",
       "      <td>8.412957</td>\n",
       "    </tr>\n",
       "    <tr>\n",
       "      <td>2</td>\n",
       "      <td>средний</td>\n",
       "      <td>4290</td>\n",
       "      <td>375</td>\n",
       "      <td>8.741259</td>\n",
       "    </tr>\n",
       "    <tr>\n",
       "      <td>3</td>\n",
       "      <td>выше_среднего</td>\n",
       "      <td>4291</td>\n",
       "      <td>361</td>\n",
       "      <td>8.412957</td>\n",
       "    </tr>\n",
       "    <tr>\n",
       "      <td>4</td>\n",
       "      <td>высокий</td>\n",
       "      <td>4291</td>\n",
       "      <td>300</td>\n",
       "      <td>6.991377</td>\n",
       "    </tr>\n",
       "  </tbody>\n",
       "</table>\n",
       "</div>"
      ],
      "text/plain": [
       "    total_income  count  sum  debt_percent\n",
       "0         низкий   4291  344      8.016779\n",
       "1  ниже_среднего   4291  361      8.412957\n",
       "2        средний   4290  375      8.741259\n",
       "3  выше_среднего   4291  361      8.412957\n",
       "4        высокий   4291  300      6.991377"
      ]
     },
     "execution_count": 76,
     "metadata": {},
     "output_type": "execute_result"
    }
   ],
   "source": [
    "df_total_income_percent"
   ]
  },
  {
   "cell_type": "code",
   "execution_count": 77,
   "metadata": {},
   "outputs": [
    {
     "data": {
      "image/png": "[encoded data removed]",
      "text/plain": [
       "<Figure size 432x288 with 1 Axes>"
      ]
     },
     "metadata": {
      "needs_background": "light"
     },
     "output_type": "display_data"
    }
   ],
   "source": [
    "df_total_income_percent.groupby('total_income')['debt_percent'].mean().plot(ylim=0)\n",
    "plt.ylabel(\"Просрочка (%)\")\n",
    "plt.grid()"
   ]
  },
  {
   "cell_type": "markdown",
   "metadata": {},
   "source": [
    "**Вывод**"
   ]
  },
  {
   "cell_type": "markdown",
   "metadata": {},
   "source": [
    "Максиальное число задолжностей у людей со средним доходом. С увеличением дохода от низкого до среднего значения задолженностей увеличивается. А после от средней зарплаты до высокой зарплатой задолженность уменьшается."
   ]
  },
  {
   "cell_type": "markdown",
   "metadata": {},
   "source": [
    "- Как разные цели кредита влияют на его возврат в срок?"
   ]
  },
  {
   "cell_type": "markdown",
   "metadata": {},
   "source": [
    "Запишем необходимые данные purpose и debt в отдельную таблицу для работы"
   ]
  },
  {
   "cell_type": "code",
   "execution_count": 78,
   "metadata": {},
   "outputs": [],
   "source": [
    "df_purpose = df[['purpose','debt']]"
   ]
  },
  {
   "cell_type": "code",
   "execution_count": 79,
   "metadata": {},
   "outputs": [
    {
     "data": {
      "text/html": [
       "<div>\n",
       "<style scoped>\n",
       "    .dataframe tbody tr th:only-of-type {\n",
       "        vertical-align: middle;\n",
       "    }\n",
       "\n",
       "    .dataframe tbody tr th {\n",
       "        vertical-align: top;\n",
       "    }\n",
       "\n",
       "    .dataframe thead th {\n",
       "        text-align: right;\n",
       "    }\n",
       "</style>\n",
       "<table border=\"1\" class=\"dataframe\">\n",
       "  <thead>\n",
       "    <tr style=\"text-align: right;\">\n",
       "      <th></th>\n",
       "      <th>purpose</th>\n",
       "      <th>debt</th>\n",
       "    </tr>\n",
       "  </thead>\n",
       "  <tbody>\n",
       "    <tr>\n",
       "      <td>0</td>\n",
       "      <td>недвижимость</td>\n",
       "      <td>0</td>\n",
       "    </tr>\n",
       "    <tr>\n",
       "      <td>1</td>\n",
       "      <td>автомобиль</td>\n",
       "      <td>0</td>\n",
       "    </tr>\n",
       "    <tr>\n",
       "      <td>2</td>\n",
       "      <td>недвижимость</td>\n",
       "      <td>0</td>\n",
       "    </tr>\n",
       "    <tr>\n",
       "      <td>3</td>\n",
       "      <td>образование</td>\n",
       "      <td>0</td>\n",
       "    </tr>\n",
       "    <tr>\n",
       "      <td>4</td>\n",
       "      <td>свадьба</td>\n",
       "      <td>0</td>\n",
       "    </tr>\n",
       "    <tr>\n",
       "      <td>...</td>\n",
       "      <td>...</td>\n",
       "      <td>...</td>\n",
       "    </tr>\n",
       "    <tr>\n",
       "      <td>21449</td>\n",
       "      <td>недвижимость</td>\n",
       "      <td>0</td>\n",
       "    </tr>\n",
       "    <tr>\n",
       "      <td>21450</td>\n",
       "      <td>автомобиль</td>\n",
       "      <td>0</td>\n",
       "    </tr>\n",
       "    <tr>\n",
       "      <td>21451</td>\n",
       "      <td>недвижимость</td>\n",
       "      <td>1</td>\n",
       "    </tr>\n",
       "    <tr>\n",
       "      <td>21452</td>\n",
       "      <td>автомобиль</td>\n",
       "      <td>1</td>\n",
       "    </tr>\n",
       "    <tr>\n",
       "      <td>21453</td>\n",
       "      <td>автомобиль</td>\n",
       "      <td>0</td>\n",
       "    </tr>\n",
       "  </tbody>\n",
       "</table>\n",
       "<p>21454 rows × 2 columns</p>\n",
       "</div>"
      ],
      "text/plain": [
       "            purpose  debt\n",
       "0      недвижимость     0\n",
       "1        автомобиль     0\n",
       "2      недвижимость     0\n",
       "3       образование     0\n",
       "4           свадьба     0\n",
       "...             ...   ...\n",
       "21449  недвижимость     0\n",
       "21450    автомобиль     0\n",
       "21451  недвижимость     1\n",
       "21452    автомобиль     1\n",
       "21453    автомобиль     0\n",
       "\n",
       "[21454 rows x 2 columns]"
      ]
     },
     "execution_count": 79,
     "metadata": {},
     "output_type": "execute_result"
    }
   ],
   "source": [
    "df_purpose"
   ]
  },
  {
   "cell_type": "markdown",
   "metadata": {},
   "source": [
    "Сгрупперуем данные по purpose и посчитам их колличество(count) и сколько из них имели просрочку(sum)"
   ]
  },
  {
   "cell_type": "code",
   "execution_count": 80,
   "metadata": {},
   "outputs": [],
   "source": [
    "df_purpose_percent = df_purpose.groupby('purpose')['debt'].agg(['count','sum']).reset_index()"
   ]
  },
  {
   "cell_type": "markdown",
   "metadata": {},
   "source": [
    "Также вычеслим процент имевших просрочку"
   ]
  },
  {
   "cell_type": "code",
   "execution_count": 81,
   "metadata": {},
   "outputs": [],
   "source": [
    "df_purpose_percent['debt_percent'] = df_purpose_percent['sum'] / df_purpose_percent['count']* 100"
   ]
  },
  {
   "cell_type": "markdown",
   "metadata": {},
   "source": [
    "Выведим таблицу и график."
   ]
  },
  {
   "cell_type": "code",
   "execution_count": 82,
   "metadata": {},
   "outputs": [
    {
     "data": {
      "text/html": [
       "<div>\n",
       "<style scoped>\n",
       "    .dataframe tbody tr th:only-of-type {\n",
       "        vertical-align: middle;\n",
       "    }\n",
       "\n",
       "    .dataframe tbody tr th {\n",
       "        vertical-align: top;\n",
       "    }\n",
       "\n",
       "    .dataframe thead th {\n",
       "        text-align: right;\n",
       "    }\n",
       "</style>\n",
       "<table border=\"1\" class=\"dataframe\">\n",
       "  <thead>\n",
       "    <tr style=\"text-align: right;\">\n",
       "      <th></th>\n",
       "      <th>purpose</th>\n",
       "      <th>count</th>\n",
       "      <th>sum</th>\n",
       "      <th>debt_percent</th>\n",
       "    </tr>\n",
       "  </thead>\n",
       "  <tbody>\n",
       "    <tr>\n",
       "      <td>0</td>\n",
       "      <td>автомобиль</td>\n",
       "      <td>4306</td>\n",
       "      <td>403</td>\n",
       "      <td>9.359034</td>\n",
       "    </tr>\n",
       "    <tr>\n",
       "      <td>1</td>\n",
       "      <td>недвижимость</td>\n",
       "      <td>8933</td>\n",
       "      <td>638</td>\n",
       "      <td>7.142058</td>\n",
       "    </tr>\n",
       "    <tr>\n",
       "      <td>2</td>\n",
       "      <td>образование</td>\n",
       "      <td>4013</td>\n",
       "      <td>370</td>\n",
       "      <td>9.220035</td>\n",
       "    </tr>\n",
       "    <tr>\n",
       "      <td>3</td>\n",
       "      <td>свадьба</td>\n",
       "      <td>2324</td>\n",
       "      <td>186</td>\n",
       "      <td>8.003442</td>\n",
       "    </tr>\n",
       "    <tr>\n",
       "      <td>4</td>\n",
       "      <td>строительство</td>\n",
       "      <td>1878</td>\n",
       "      <td>144</td>\n",
       "      <td>7.667732</td>\n",
       "    </tr>\n",
       "  </tbody>\n",
       "</table>\n",
       "</div>"
      ],
      "text/plain": [
       "         purpose  count  sum  debt_percent\n",
       "0     автомобиль   4306  403      9.359034\n",
       "1   недвижимость   8933  638      7.142058\n",
       "2    образование   4013  370      9.220035\n",
       "3        свадьба   2324  186      8.003442\n",
       "4  строительство   1878  144      7.667732"
      ]
     },
     "execution_count": 82,
     "metadata": {},
     "output_type": "execute_result"
    }
   ],
   "source": [
    "df_purpose_percent"
   ]
  },
  {
   "cell_type": "code",
   "execution_count": 83,
   "metadata": {
    "scrolled": false
   },
   "outputs": [
    {
     "data": {
      "image/png": "[encoded data removed]",
      "text/plain": [
       "<Figure size 432x288 with 1 Axes>"
      ]
     },
     "metadata": {
      "needs_background": "light"
     },
     "output_type": "display_data"
    }
   ],
   "source": [
    "plt.bar(df_purpose_percent['purpose'],df_purpose_percent['debt_percent'])\n",
    "plt.xlabel(\"family_status_id\")\n",
    "plt.ylabel(\"Просрочка (%)\")\n",
    "plt.xticks( rotation=90)\n",
    "plt.grid()"
   ]
  },
  {
   "cell_type": "code",
   "execution_count": 84,
   "metadata": {},
   "outputs": [
    {
     "data": {
      "text/html": [
       "<div>\n",
       "<style scoped>\n",
       "    .dataframe tbody tr th:only-of-type {\n",
       "        vertical-align: middle;\n",
       "    }\n",
       "\n",
       "    .dataframe tbody tr th {\n",
       "        vertical-align: top;\n",
       "    }\n",
       "\n",
       "    .dataframe thead th {\n",
       "        text-align: right;\n",
       "    }\n",
       "</style>\n",
       "<table border=\"1\" class=\"dataframe\">\n",
       "  <thead>\n",
       "    <tr style=\"text-align: right;\">\n",
       "      <th></th>\n",
       "      <th>children</th>\n",
       "      <th>days_employed</th>\n",
       "      <th>dob_years</th>\n",
       "      <th>education</th>\n",
       "      <th>education_id</th>\n",
       "      <th>family_status</th>\n",
       "      <th>family_status_id</th>\n",
       "      <th>gender</th>\n",
       "      <th>income_type</th>\n",
       "      <th>debt</th>\n",
       "      <th>total_income</th>\n",
       "      <th>purpose</th>\n",
       "    </tr>\n",
       "  </thead>\n",
       "  <tbody>\n",
       "    <tr>\n",
       "      <td>0</td>\n",
       "      <td>1</td>\n",
       "      <td>выше_среднего</td>\n",
       "      <td>42</td>\n",
       "      <td>высшее</td>\n",
       "      <td>0</td>\n",
       "      <td>женат / замужем</td>\n",
       "      <td>0</td>\n",
       "      <td>F</td>\n",
       "      <td>сотрудник</td>\n",
       "      <td>0</td>\n",
       "      <td>высокий</td>\n",
       "      <td>недвижимость</td>\n",
       "    </tr>\n",
       "    <tr>\n",
       "      <td>1</td>\n",
       "      <td>1</td>\n",
       "      <td>выше_среднего</td>\n",
       "      <td>36</td>\n",
       "      <td>среднее</td>\n",
       "      <td>1</td>\n",
       "      <td>женат / замужем</td>\n",
       "      <td>0</td>\n",
       "      <td>F</td>\n",
       "      <td>сотрудник</td>\n",
       "      <td>0</td>\n",
       "      <td>ниже_среднего</td>\n",
       "      <td>автомобиль</td>\n",
       "    </tr>\n",
       "    <tr>\n",
       "      <td>2</td>\n",
       "      <td>0</td>\n",
       "      <td>выше_среднего</td>\n",
       "      <td>33</td>\n",
       "      <td>среднее</td>\n",
       "      <td>1</td>\n",
       "      <td>женат / замужем</td>\n",
       "      <td>0</td>\n",
       "      <td>M</td>\n",
       "      <td>сотрудник</td>\n",
       "      <td>0</td>\n",
       "      <td>средний</td>\n",
       "      <td>недвижимость</td>\n",
       "    </tr>\n",
       "    <tr>\n",
       "      <td>3</td>\n",
       "      <td>3</td>\n",
       "      <td>выше_среднего</td>\n",
       "      <td>32</td>\n",
       "      <td>среднее</td>\n",
       "      <td>1</td>\n",
       "      <td>женат / замужем</td>\n",
       "      <td>0</td>\n",
       "      <td>M</td>\n",
       "      <td>сотрудник</td>\n",
       "      <td>0</td>\n",
       "      <td>высокий</td>\n",
       "      <td>образование</td>\n",
       "    </tr>\n",
       "    <tr>\n",
       "      <td>4</td>\n",
       "      <td>0</td>\n",
       "      <td>много</td>\n",
       "      <td>53</td>\n",
       "      <td>среднее</td>\n",
       "      <td>1</td>\n",
       "      <td>гражданский брак</td>\n",
       "      <td>1</td>\n",
       "      <td>F</td>\n",
       "      <td>пенсионер</td>\n",
       "      <td>0</td>\n",
       "      <td>средний</td>\n",
       "      <td>свадьба</td>\n",
       "    </tr>\n",
       "    <tr>\n",
       "      <td>...</td>\n",
       "      <td>...</td>\n",
       "      <td>...</td>\n",
       "      <td>...</td>\n",
       "      <td>...</td>\n",
       "      <td>...</td>\n",
       "      <td>...</td>\n",
       "      <td>...</td>\n",
       "      <td>...</td>\n",
       "      <td>...</td>\n",
       "      <td>...</td>\n",
       "      <td>...</td>\n",
       "      <td>...</td>\n",
       "    </tr>\n",
       "    <tr>\n",
       "      <td>21449</td>\n",
       "      <td>1</td>\n",
       "      <td>выше_среднего</td>\n",
       "      <td>43</td>\n",
       "      <td>среднее</td>\n",
       "      <td>1</td>\n",
       "      <td>гражданский брак</td>\n",
       "      <td>1</td>\n",
       "      <td>F</td>\n",
       "      <td>компаньон</td>\n",
       "      <td>0</td>\n",
       "      <td>высокий</td>\n",
       "      <td>недвижимость</td>\n",
       "    </tr>\n",
       "    <tr>\n",
       "      <td>21450</td>\n",
       "      <td>0</td>\n",
       "      <td>много</td>\n",
       "      <td>67</td>\n",
       "      <td>среднее</td>\n",
       "      <td>1</td>\n",
       "      <td>женат / замужем</td>\n",
       "      <td>0</td>\n",
       "      <td>F</td>\n",
       "      <td>пенсионер</td>\n",
       "      <td>0</td>\n",
       "      <td>средний</td>\n",
       "      <td>автомобиль</td>\n",
       "    </tr>\n",
       "    <tr>\n",
       "      <td>21451</td>\n",
       "      <td>1</td>\n",
       "      <td>средний</td>\n",
       "      <td>38</td>\n",
       "      <td>среднее</td>\n",
       "      <td>1</td>\n",
       "      <td>гражданский брак</td>\n",
       "      <td>1</td>\n",
       "      <td>M</td>\n",
       "      <td>сотрудник</td>\n",
       "      <td>1</td>\n",
       "      <td>низкий</td>\n",
       "      <td>недвижимость</td>\n",
       "    </tr>\n",
       "    <tr>\n",
       "      <td>21452</td>\n",
       "      <td>3</td>\n",
       "      <td>выше_среднего</td>\n",
       "      <td>38</td>\n",
       "      <td>среднее</td>\n",
       "      <td>1</td>\n",
       "      <td>женат / замужем</td>\n",
       "      <td>0</td>\n",
       "      <td>M</td>\n",
       "      <td>сотрудник</td>\n",
       "      <td>1</td>\n",
       "      <td>высокий</td>\n",
       "      <td>автомобиль</td>\n",
       "    </tr>\n",
       "    <tr>\n",
       "      <td>21453</td>\n",
       "      <td>2</td>\n",
       "      <td>средний</td>\n",
       "      <td>40</td>\n",
       "      <td>среднее</td>\n",
       "      <td>1</td>\n",
       "      <td>женат / замужем</td>\n",
       "      <td>0</td>\n",
       "      <td>F</td>\n",
       "      <td>сотрудник</td>\n",
       "      <td>0</td>\n",
       "      <td>низкий</td>\n",
       "      <td>автомобиль</td>\n",
       "    </tr>\n",
       "  </tbody>\n",
       "</table>\n",
       "<p>21454 rows × 12 columns</p>\n",
       "</div>"
      ],
      "text/plain": [
       "       children  days_employed  dob_years education  education_id  \\\n",
       "0             1  выше_среднего         42    высшее             0   \n",
       "1             1  выше_среднего         36   среднее             1   \n",
       "2             0  выше_среднего         33   среднее             1   \n",
       "3             3  выше_среднего         32   среднее             1   \n",
       "4             0          много         53   среднее             1   \n",
       "...         ...            ...        ...       ...           ...   \n",
       "21449         1  выше_среднего         43   среднее             1   \n",
       "21450         0          много         67   среднее             1   \n",
       "21451         1        средний         38   среднее             1   \n",
       "21452         3  выше_среднего         38   среднее             1   \n",
       "21453         2        средний         40   среднее             1   \n",
       "\n",
       "          family_status  family_status_id gender income_type  debt  \\\n",
       "0       женат / замужем                 0      F   сотрудник     0   \n",
       "1       женат / замужем                 0      F   сотрудник     0   \n",
       "2       женат / замужем                 0      M   сотрудник     0   \n",
       "3       женат / замужем                 0      M   сотрудник     0   \n",
       "4      гражданский брак                 1      F   пенсионер     0   \n",
       "...                 ...               ...    ...         ...   ...   \n",
       "21449  гражданский брак                 1      F   компаньон     0   \n",
       "21450   женат / замужем                 0      F   пенсионер     0   \n",
       "21451  гражданский брак                 1      M   сотрудник     1   \n",
       "21452   женат / замужем                 0      M   сотрудник     1   \n",
       "21453   женат / замужем                 0      F   сотрудник     0   \n",
       "\n",
       "        total_income       purpose  \n",
       "0            высокий  недвижимость  \n",
       "1      ниже_среднего    автомобиль  \n",
       "2            средний  недвижимость  \n",
       "3            высокий   образование  \n",
       "4            средний       свадьба  \n",
       "...              ...           ...  \n",
       "21449        высокий  недвижимость  \n",
       "21450        средний    автомобиль  \n",
       "21451         низкий  недвижимость  \n",
       "21452        высокий    автомобиль  \n",
       "21453         низкий    автомобиль  \n",
       "\n",
       "[21454 rows x 12 columns]"
      ]
     },
     "execution_count": 84,
     "metadata": {},
     "output_type": "execute_result"
    }
   ],
   "source": [
    "df"
   ]
  },
  {
   "cell_type": "markdown",
   "metadata": {},
   "source": [
    "### Вывод"
   ]
  },
  {
   "cell_type": "markdown",
   "metadata": {},
   "source": [
    "Людей которые меньше всего  имеют просрочку берут кредит для покупки недвижемости. Далее идут котрые берут для строительства и для свадьбы. И больше всего для образования и автомабиля"
   ]
  },
  {
   "cell_type": "markdown",
   "metadata": {},
   "source": [
    "## Шаг 4. Общий вывод"
   ]
  },
  {
   "cell_type": "markdown",
   "metadata": {},
   "source": [
    "Для исследования мы обработали данные а имнно:\n",
    "* Исправление значений days_employed в них были как отрицательные так и нериально большие значения.\n",
    "*Убрали пропуски. На каждый пропуск в total_income приходился пропуск в  days_employed.\n",
    "*Привели данные к одинаковому виду и убрали дубликаты\n",
    "*Сделали лемматизацию столбца purpose\n",
    "*Сделали классификацию purpose, total_income и days_employed\n",
    "\n",
    "В ходе иследования мы ответили на вопросы:\n",
    "* Есть ли зависимость между наличием детей и возвратом кредита в срок?<br>\n",
    "\n",
    "Люди без детей, имеют просрочку меньше, чем с детьми . Чем больше детей, тем больше процент просрочки.\n",
    "* Есть ли зависимость между семейным положением и возвратом кредита в срок?\n",
    "\n",
    "Люди которые меньше всего с просрочкой по кредиту  со статусом - вдовец / вдова. Далее идут - в разводе, женат / замужем. И больше всего имеют просрочку со статусом - гражданский брак, Не женат / не замужем.\n",
    "\n",
    "* Есть ли зависимость между уровнем дохода и возвратом кредита в срок?\n",
    "\n",
    "Максиальное число задолжностей у людей со средним доходом. С увеличением дохода от низкого до среднего значения задолженностей увеличивается. А после от средней зарплаты до высокой зарплаты задолженность уменьшается.\n",
    "* Как разные цели кредита влияют на его возврат в срок?\n",
    "\n",
    "Людей которые меньше всего  имеют просрочку берут кредит для покупки недвижемости. Далее идут котрые берут для строительства и для свадьбы. И больше всего для образования и покупки автомабиля."
   ]
  },
  {
   "cell_type": "markdown",
   "metadata": {},
   "source": [
    "## Чек-лист готовности проекта\n",
    "\n",
    "Поставьте 'x' в выполненных пунктах. Далее нажмите Shift+Enter."
   ]
  },
  {
   "cell_type": "markdown",
   "metadata": {},
   "source": [
    "- [x]  открыт файл;\n",
    "- [ ]  файл изучен;\n",
    "- [ ]  определены пропущенные значения;\n",
    "- [ ]  заполнены пропущенные значения;\n",
    "- [ ]  есть пояснение, какие пропущенные значения обнаружены;\n",
    "- [ ]  описаны возможные причины появления пропусков в данных;\n",
    "- [ ]  объяснено, по какому принципу заполнены пропуски;\n",
    "- [ ]  заменен вещественный тип данных на целочисленный;\n",
    "- [ ]  есть пояснение, какой метод используется для изменения типа данных и почему;\n",
    "- [ ]  удалены дубликаты;\n",
    "- [ ]  есть пояснение, какой метод используется для поиска и удаления дубликатов;\n",
    "- [ ]  описаны возможные причины появления дубликатов в данных;\n",
    "- [ ]  выделены леммы в значениях столбца с целями получения кредита;\n",
    "- [ ]  описан процесс лемматизации;\n",
    "- [ ]  данные категоризированы;\n",
    "- [ ]  есть объяснение принципа категоризации данных;\n",
    "- [ ]  есть ответ на вопрос: \"Есть ли зависимость между наличием детей и возвратом кредита в срок?\";\n",
    "- [ ]  есть ответ на вопрос: \"Есть ли зависимость между семейным положением и возвратом кредита в срок?\";\n",
    "- [ ]  есть ответ на вопрос: \"Есть ли зависимость между уровнем дохода и возвратом кредита в срок?\";\n",
    "- [ ]  есть ответ на вопрос: \"Как разные цели кредита влияют на его возврат в срок?\";\n",
    "- [ ]  в каждом этапе есть выводы;\n",
    "- [ ]  есть общий вывод."
   ]
  }
 ],
 "metadata": {
  "ExecuteTimeLog": [
   {
    "duration": 361,
    "start_time": "2021-11-23T15:52:15.093Z"
   },
   {
    "duration": 874,
    "start_time": "2021-11-23T15:53:23.464Z"
   },
   {
    "duration": 100,
    "start_time": "2021-11-23T16:01:37.280Z"
   },
   {
    "duration": 82,
    "start_time": "2021-11-23T16:03:27.544Z"
   },
   {
    "duration": 103,
    "start_time": "2021-11-23T16:03:39.978Z"
   },
   {
    "duration": 630,
    "start_time": "2021-11-24T15:09:44.749Z"
   },
   {
    "duration": 329,
    "start_time": "2021-11-26T10:02:26.561Z"
   },
   {
    "duration": 658,
    "start_time": "2021-11-26T10:02:30.312Z"
   },
   {
    "duration": 20,
    "start_time": "2021-11-26T10:02:32.579Z"
   },
   {
    "duration": 13,
    "start_time": "2021-11-26T10:02:38.003Z"
   },
   {
    "duration": 268,
    "start_time": "2021-11-26T10:03:59.860Z"
   },
   {
    "duration": 15,
    "start_time": "2021-11-26T10:05:48.405Z"
   },
   {
    "duration": 11,
    "start_time": "2021-11-26T10:58:32.513Z"
   },
   {
    "duration": 88,
    "start_time": "2021-11-26T10:59:49.952Z"
   },
   {
    "duration": 90,
    "start_time": "2021-11-26T11:07:13.961Z"
   },
   {
    "duration": 21,
    "start_time": "2021-11-26T11:25:49.631Z"
   },
   {
    "duration": 86,
    "start_time": "2021-11-26T11:42:20.790Z"
   },
   {
    "duration": 9,
    "start_time": "2021-11-26T11:48:52.304Z"
   },
   {
    "duration": 15,
    "start_time": "2021-11-26T11:49:08.528Z"
   },
   {
    "duration": 86,
    "start_time": "2021-11-26T11:50:05.258Z"
   },
   {
    "duration": 92,
    "start_time": "2021-11-26T12:00:40.950Z"
   },
   {
    "duration": 4,
    "start_time": "2021-11-26T12:04:31.366Z"
   },
   {
    "duration": 19,
    "start_time": "2021-11-26T12:04:52.415Z"
   },
   {
    "duration": 51,
    "start_time": "2021-11-26T12:05:08.124Z"
   },
   {
    "duration": 12,
    "start_time": "2021-11-26T12:05:08.177Z"
   },
   {
    "duration": 86,
    "start_time": "2021-11-26T12:05:08.191Z"
   },
   {
    "duration": 57,
    "start_time": "2021-11-26T12:05:08.222Z"
   },
   {
    "duration": 54,
    "start_time": "2021-11-26T12:05:08.226Z"
   },
   {
    "duration": 50,
    "start_time": "2021-11-26T12:05:08.231Z"
   },
   {
    "duration": 47,
    "start_time": "2021-11-26T12:05:08.235Z"
   },
   {
    "duration": 11,
    "start_time": "2021-11-26T12:05:33.679Z"
   },
   {
    "duration": 10,
    "start_time": "2021-11-26T12:05:38.263Z"
   },
   {
    "duration": 18,
    "start_time": "2021-11-26T12:05:42.822Z"
   },
   {
    "duration": 11,
    "start_time": "2021-11-26T12:05:57.992Z"
   },
   {
    "duration": 14,
    "start_time": "2021-11-26T12:06:23.368Z"
   },
   {
    "duration": 11,
    "start_time": "2021-11-26T12:06:26.152Z"
   },
   {
    "duration": 50,
    "start_time": "2021-11-26T12:06:57.400Z"
   },
   {
    "duration": 11,
    "start_time": "2021-11-26T12:06:57.452Z"
   },
   {
    "duration": 15,
    "start_time": "2021-11-26T12:06:57.465Z"
   },
   {
    "duration": 9,
    "start_time": "2021-11-26T12:06:57.482Z"
   },
   {
    "duration": 10,
    "start_time": "2021-11-26T12:06:57.493Z"
   },
   {
    "duration": 10,
    "start_time": "2021-11-26T12:06:57.505Z"
   },
   {
    "duration": 3,
    "start_time": "2021-11-26T12:13:06.474Z"
   },
   {
    "duration": 17,
    "start_time": "2021-11-26T12:24:12.110Z"
   },
   {
    "duration": 69,
    "start_time": "2021-11-26T12:24:18.104Z"
   },
   {
    "duration": 21,
    "start_time": "2021-11-26T12:24:18.176Z"
   },
   {
    "duration": 23,
    "start_time": "2021-11-26T12:24:18.199Z"
   },
   {
    "duration": 15,
    "start_time": "2021-11-26T12:24:18.225Z"
   },
   {
    "duration": 16,
    "start_time": "2021-11-26T12:24:18.263Z"
   },
   {
    "duration": 15,
    "start_time": "2021-11-26T12:24:18.282Z"
   },
   {
    "duration": 20,
    "start_time": "2021-11-26T12:27:41.952Z"
   },
   {
    "duration": 275,
    "start_time": "2021-11-26T12:42:46.794Z"
   },
   {
    "duration": 257,
    "start_time": "2021-11-26T12:43:37.557Z"
   },
   {
    "duration": 271,
    "start_time": "2021-11-26T12:44:15.013Z"
   },
   {
    "duration": 264,
    "start_time": "2021-11-26T12:44:20.885Z"
   },
   {
    "duration": 264,
    "start_time": "2021-11-26T12:45:24.822Z"
   },
   {
    "duration": 263,
    "start_time": "2021-11-26T12:45:31.805Z"
   },
   {
    "duration": 284,
    "start_time": "2021-11-26T12:48:30.596Z"
   },
   {
    "duration": 34,
    "start_time": "2021-11-26T12:50:31.888Z"
   },
   {
    "duration": 50,
    "start_time": "2021-11-26T12:50:55.906Z"
   },
   {
    "duration": 13,
    "start_time": "2021-11-26T12:50:55.957Z"
   },
   {
    "duration": 16,
    "start_time": "2021-11-26T12:50:55.972Z"
   },
   {
    "duration": 11,
    "start_time": "2021-11-26T12:50:55.990Z"
   },
   {
    "duration": 30,
    "start_time": "2021-11-26T12:52:40.321Z"
   },
   {
    "duration": 11,
    "start_time": "2021-11-26T12:52:47.207Z"
   },
   {
    "duration": 33,
    "start_time": "2021-11-26T12:53:16.966Z"
   },
   {
    "duration": 49,
    "start_time": "2021-11-26T12:53:39.552Z"
   },
   {
    "duration": 13,
    "start_time": "2021-11-26T12:53:39.603Z"
   },
   {
    "duration": 21,
    "start_time": "2021-11-26T12:53:39.618Z"
   },
   {
    "duration": 27,
    "start_time": "2021-11-26T12:53:39.641Z"
   },
   {
    "duration": 54,
    "start_time": "2021-11-26T12:53:39.670Z"
   },
   {
    "duration": 20,
    "start_time": "2021-11-26T12:53:39.726Z"
   },
   {
    "duration": 20,
    "start_time": "2021-11-26T12:53:39.748Z"
   },
   {
    "duration": 11,
    "start_time": "2021-11-26T12:53:39.770Z"
   },
   {
    "duration": 10,
    "start_time": "2021-11-26T12:54:27.890Z"
   },
   {
    "duration": 14,
    "start_time": "2021-11-26T12:54:38.901Z"
   },
   {
    "duration": 47,
    "start_time": "2021-11-26T12:55:17.105Z"
   },
   {
    "duration": 13,
    "start_time": "2021-11-26T12:55:17.154Z"
   },
   {
    "duration": 12,
    "start_time": "2021-11-26T12:55:17.168Z"
   },
   {
    "duration": 10,
    "start_time": "2021-11-26T12:55:17.182Z"
   },
   {
    "duration": 24,
    "start_time": "2021-11-26T12:55:23.210Z"
   },
   {
    "duration": 635,
    "start_time": "2021-11-26T12:55:40.391Z"
   },
   {
    "duration": 19,
    "start_time": "2021-11-26T12:55:41.028Z"
   },
   {
    "duration": 110,
    "start_time": "2021-11-26T12:55:41.049Z"
   },
   {
    "duration": 10,
    "start_time": "2021-11-26T12:55:41.161Z"
   },
   {
    "duration": 27,
    "start_time": "2021-11-26T12:55:51.000Z"
   },
   {
    "duration": 11,
    "start_time": "2021-11-26T12:57:59.898Z"
   },
   {
    "duration": 12,
    "start_time": "2021-11-26T12:58:31.488Z"
   },
   {
    "duration": 83,
    "start_time": "2021-11-26T12:58:37.176Z"
   },
   {
    "duration": 6203,
    "start_time": "2021-11-26T12:58:40.856Z"
   },
   {
    "duration": 11,
    "start_time": "2021-11-26T12:58:57.168Z"
   },
   {
    "duration": 11,
    "start_time": "2021-11-26T12:59:14.283Z"
   },
   {
    "duration": 11,
    "start_time": "2021-11-26T12:59:32.241Z"
   },
   {
    "duration": 13,
    "start_time": "2021-11-26T12:59:40.746Z"
   },
   {
    "duration": 11,
    "start_time": "2021-11-26T12:59:59.441Z"
   },
   {
    "duration": 3,
    "start_time": "2021-11-26T13:00:41.886Z"
   },
   {
    "duration": 276,
    "start_time": "2021-11-26T13:02:53.276Z"
   },
   {
    "duration": 12,
    "start_time": "2021-11-26T13:03:42.958Z"
   },
   {
    "duration": 105,
    "start_time": "2021-11-26T13:15:57.011Z"
   },
   {
    "duration": 89,
    "start_time": "2021-11-26T13:50:58.315Z"
   },
   {
    "duration": 5,
    "start_time": "2021-11-26T14:35:47.929Z"
   },
   {
    "duration": 10,
    "start_time": "2021-11-26T14:35:52.161Z"
   },
   {
    "duration": 52,
    "start_time": "2021-11-26T14:36:01.623Z"
   },
   {
    "duration": 14,
    "start_time": "2021-11-26T14:36:01.677Z"
   },
   {
    "duration": 17,
    "start_time": "2021-11-26T14:36:01.694Z"
   },
   {
    "duration": 16,
    "start_time": "2021-11-26T14:36:01.714Z"
   },
   {
    "duration": 37,
    "start_time": "2021-11-26T14:36:01.732Z"
   },
   {
    "duration": 6,
    "start_time": "2021-11-26T14:36:05.183Z"
   },
   {
    "duration": 10,
    "start_time": "2021-11-26T14:36:07.272Z"
   },
   {
    "duration": 17,
    "start_time": "2021-11-26T14:43:45.372Z"
   },
   {
    "duration": 7,
    "start_time": "2021-11-26T14:44:41.472Z"
   },
   {
    "duration": 8,
    "start_time": "2021-11-26T14:47:27.364Z"
   },
   {
    "duration": 8,
    "start_time": "2021-11-26T14:47:39.398Z"
   },
   {
    "duration": 9,
    "start_time": "2021-11-26T14:48:37.334Z"
   },
   {
    "duration": 8,
    "start_time": "2021-11-26T14:48:48.118Z"
   },
   {
    "duration": 9,
    "start_time": "2021-11-26T14:51:14.895Z"
   },
   {
    "duration": 9,
    "start_time": "2021-11-26T14:51:20.303Z"
   },
   {
    "duration": 69,
    "start_time": "2021-11-26T15:24:07.618Z"
   },
   {
    "duration": 17,
    "start_time": "2021-11-26T15:24:07.689Z"
   },
   {
    "duration": 27,
    "start_time": "2021-11-26T15:24:07.708Z"
   },
   {
    "duration": 31,
    "start_time": "2021-11-26T15:24:07.738Z"
   },
   {
    "duration": 15,
    "start_time": "2021-11-26T15:24:07.771Z"
   },
   {
    "duration": 8,
    "start_time": "2021-11-26T15:24:07.789Z"
   },
   {
    "duration": 10,
    "start_time": "2021-11-26T15:24:07.799Z"
   },
   {
    "duration": 308,
    "start_time": "2021-11-26T15:27:57.524Z"
   },
   {
    "duration": 261,
    "start_time": "2021-11-26T15:28:07.354Z"
   },
   {
    "duration": 273,
    "start_time": "2021-11-26T15:28:11.270Z"
   },
   {
    "duration": 266,
    "start_time": "2021-11-26T15:28:15.332Z"
   },
   {
    "duration": 291,
    "start_time": "2021-11-26T15:28:19.299Z"
   },
   {
    "duration": 280,
    "start_time": "2021-11-26T15:28:23.651Z"
   },
   {
    "duration": 272,
    "start_time": "2021-11-26T15:28:44.180Z"
   },
   {
    "duration": 274,
    "start_time": "2021-11-26T15:28:49.164Z"
   },
   {
    "duration": 272,
    "start_time": "2021-11-26T15:28:53.444Z"
   },
   {
    "duration": 535,
    "start_time": "2021-11-26T15:29:03.075Z"
   },
   {
    "duration": 12,
    "start_time": "2021-11-26T15:29:08.292Z"
   },
   {
    "duration": 310,
    "start_time": "2021-11-26T15:29:20.051Z"
   },
   {
    "duration": 89,
    "start_time": "2021-11-26T15:29:34.308Z"
   },
   {
    "duration": 11,
    "start_time": "2021-11-26T15:29:37.170Z"
   },
   {
    "duration": 13,
    "start_time": "2021-11-26T15:59:14.080Z"
   },
   {
    "duration": 12,
    "start_time": "2021-11-26T15:59:21.414Z"
   },
   {
    "duration": 5,
    "start_time": "2021-11-26T15:59:34.693Z"
   },
   {
    "duration": 11,
    "start_time": "2021-11-26T15:59:37.151Z"
   },
   {
    "duration": 4,
    "start_time": "2021-11-26T16:00:09.694Z"
   },
   {
    "duration": 13,
    "start_time": "2021-11-26T16:00:11.302Z"
   },
   {
    "duration": 18,
    "start_time": "2021-11-26T16:03:31.600Z"
   },
   {
    "duration": 4,
    "start_time": "2021-11-26T16:22:49.677Z"
   },
   {
    "duration": 7004,
    "start_time": "2021-11-26T16:23:30.904Z"
   },
   {
    "duration": 19,
    "start_time": "2021-11-26T16:23:51.146Z"
   },
   {
    "duration": 6,
    "start_time": "2021-11-26T16:24:17.593Z"
   },
   {
    "duration": 12,
    "start_time": "2021-11-26T16:25:50.752Z"
   },
   {
    "duration": 8,
    "start_time": "2021-11-26T16:25:52.481Z"
   },
   {
    "duration": 6,
    "start_time": "2021-11-26T16:28:34.404Z"
   },
   {
    "duration": 5,
    "start_time": "2021-11-26T16:29:43.636Z"
   },
   {
    "duration": 14,
    "start_time": "2021-11-26T16:33:29.821Z"
   },
   {
    "duration": 12,
    "start_time": "2021-11-26T16:33:47.490Z"
   },
   {
    "duration": 5,
    "start_time": "2021-11-26T16:34:30.976Z"
   },
   {
    "duration": 5,
    "start_time": "2021-11-26T16:35:21.466Z"
   },
   {
    "duration": 6,
    "start_time": "2021-11-26T16:38:09.631Z"
   },
   {
    "duration": 29,
    "start_time": "2021-11-26T17:16:53.672Z"
   },
   {
    "duration": 50,
    "start_time": "2021-11-26T17:17:37.203Z"
   },
   {
    "duration": 13,
    "start_time": "2021-11-26T17:17:37.255Z"
   },
   {
    "duration": 12,
    "start_time": "2021-11-26T17:17:37.270Z"
   },
   {
    "duration": 20,
    "start_time": "2021-11-26T17:17:37.283Z"
   },
   {
    "duration": 11,
    "start_time": "2021-11-26T17:17:37.305Z"
   },
   {
    "duration": 26,
    "start_time": "2021-11-26T17:17:42.317Z"
   },
   {
    "duration": 832,
    "start_time": "2021-11-26T17:17:59.583Z"
   },
   {
    "duration": 30,
    "start_time": "2021-11-26T17:18:00.417Z"
   },
   {
    "duration": 24,
    "start_time": "2021-11-26T17:18:00.450Z"
   },
   {
    "duration": 29,
    "start_time": "2021-11-26T17:18:00.477Z"
   },
   {
    "duration": 21,
    "start_time": "2021-11-26T17:18:00.508Z"
   },
   {
    "duration": 26,
    "start_time": "2021-11-26T17:18:03.294Z"
   },
   {
    "duration": 12,
    "start_time": "2021-11-26T17:18:11.375Z"
   },
   {
    "duration": 12,
    "start_time": "2021-11-26T17:18:20.102Z"
   },
   {
    "duration": 9,
    "start_time": "2021-11-26T17:18:25.614Z"
   },
   {
    "duration": 9,
    "start_time": "2021-11-26T17:19:55.853Z"
   },
   {
    "duration": 11,
    "start_time": "2021-11-26T17:19:59.132Z"
   },
   {
    "duration": 4,
    "start_time": "2021-11-26T17:20:00.756Z"
   },
   {
    "duration": 4,
    "start_time": "2021-11-26T17:20:09.564Z"
   },
   {
    "duration": 12,
    "start_time": "2021-11-26T17:20:10.485Z"
   },
   {
    "duration": 108,
    "start_time": "2021-11-26T17:20:19.902Z"
   },
   {
    "duration": 5,
    "start_time": "2021-11-26T17:20:33.614Z"
   },
   {
    "duration": 11,
    "start_time": "2021-11-26T17:20:36.565Z"
   },
   {
    "duration": 8,
    "start_time": "2021-11-26T17:20:37.686Z"
   },
   {
    "duration": 7,
    "start_time": "2021-11-26T17:20:42.692Z"
   },
   {
    "duration": 6,
    "start_time": "2021-11-26T17:20:45.597Z"
   },
   {
    "duration": 13,
    "start_time": "2021-11-26T17:20:48.656Z"
   },
   {
    "duration": 6,
    "start_time": "2021-11-26T17:20:50.637Z"
   },
   {
    "duration": 6,
    "start_time": "2021-11-26T17:20:53.981Z"
   },
   {
    "duration": 17,
    "start_time": "2021-11-26T17:28:07.289Z"
   },
   {
    "duration": 34,
    "start_time": "2021-11-26T17:28:14.888Z"
   },
   {
    "duration": 18,
    "start_time": "2021-11-26T17:28:22.590Z"
   },
   {
    "duration": 16,
    "start_time": "2021-11-26T17:36:55.724Z"
   },
   {
    "duration": 16,
    "start_time": "2021-11-26T17:37:13.076Z"
   },
   {
    "duration": 1068,
    "start_time": "2021-11-26T17:41:16.405Z"
   },
   {
    "duration": 18,
    "start_time": "2021-11-26T17:41:17.475Z"
   },
   {
    "duration": 18,
    "start_time": "2021-11-26T17:41:17.496Z"
   },
   {
    "duration": 9,
    "start_time": "2021-11-26T17:41:17.516Z"
   },
   {
    "duration": 11,
    "start_time": "2021-11-26T17:41:17.527Z"
   },
   {
    "duration": 20,
    "start_time": "2021-11-26T17:41:24.537Z"
   },
   {
    "duration": 18,
    "start_time": "2021-11-26T17:43:09.998Z"
   },
   {
    "duration": 16,
    "start_time": "2021-11-26T17:43:54.243Z"
   },
   {
    "duration": 17,
    "start_time": "2021-11-26T17:44:05.851Z"
   },
   {
    "duration": 24,
    "start_time": "2021-11-26T17:44:51.588Z"
   },
   {
    "duration": 431,
    "start_time": "2021-11-27T14:57:34.083Z"
   },
   {
    "duration": 821,
    "start_time": "2021-11-27T14:57:48.567Z"
   },
   {
    "duration": 30,
    "start_time": "2021-11-27T14:57:49.759Z"
   },
   {
    "duration": 6,
    "start_time": "2021-11-27T14:57:51.670Z"
   },
   {
    "duration": 6,
    "start_time": "2021-11-27T15:03:23.351Z"
   },
   {
    "duration": 6,
    "start_time": "2021-11-27T15:03:37.017Z"
   },
   {
    "duration": 7,
    "start_time": "2021-11-27T15:03:45.985Z"
   },
   {
    "duration": 5,
    "start_time": "2021-11-27T15:07:04.868Z"
   },
   {
    "duration": 35,
    "start_time": "2021-11-27T15:08:08.427Z"
   },
   {
    "duration": 339,
    "start_time": "2021-11-27T15:08:44.472Z"
   },
   {
    "duration": 269,
    "start_time": "2021-11-27T15:09:06.364Z"
   },
   {
    "duration": 255,
    "start_time": "2021-11-27T15:09:49.580Z"
   },
   {
    "duration": 1040,
    "start_time": "2021-11-27T15:09:55.491Z"
   },
   {
    "duration": 1079,
    "start_time": "2021-11-27T15:10:05.292Z"
   },
   {
    "duration": 1052,
    "start_time": "2021-11-27T15:10:11.868Z"
   },
   {
    "duration": 1289,
    "start_time": "2021-11-27T15:10:23.643Z"
   },
   {
    "duration": 1056,
    "start_time": "2021-11-27T15:10:56.717Z"
   },
   {
    "duration": 37,
    "start_time": "2021-11-27T15:11:14.049Z"
   },
   {
    "duration": 1064,
    "start_time": "2021-11-27T15:12:17.082Z"
   },
   {
    "duration": 1079,
    "start_time": "2021-11-27T15:12:25.389Z"
   },
   {
    "duration": 1062,
    "start_time": "2021-11-27T15:14:25.237Z"
   },
   {
    "duration": 1032,
    "start_time": "2021-11-27T15:15:46.815Z"
   },
   {
    "duration": 80,
    "start_time": "2021-11-27T15:16:06.813Z"
   },
   {
    "duration": 1080,
    "start_time": "2021-11-27T15:16:10.757Z"
   },
   {
    "duration": 269,
    "start_time": "2021-11-27T15:16:52.631Z"
   },
   {
    "duration": 272,
    "start_time": "2021-11-27T15:19:11.554Z"
   },
   {
    "duration": 277,
    "start_time": "2021-11-27T15:19:19.346Z"
   },
   {
    "duration": 828,
    "start_time": "2021-11-27T15:19:28.931Z"
   },
   {
    "duration": 31,
    "start_time": "2021-11-27T15:19:31.365Z"
   },
   {
    "duration": 415,
    "start_time": "2021-11-27T15:19:34.345Z"
   },
   {
    "duration": 44,
    "start_time": "2021-11-27T15:19:59.579Z"
   },
   {
    "duration": 42,
    "start_time": "2021-11-27T15:20:15.395Z"
   },
   {
    "duration": 37,
    "start_time": "2021-11-27T15:20:42.076Z"
   },
   {
    "duration": 7,
    "start_time": "2021-11-27T15:26:38.448Z"
   },
   {
    "duration": 436,
    "start_time": "2021-11-28T10:05:02.193Z"
   },
   {
    "duration": 856,
    "start_time": "2021-11-28T10:27:47.270Z"
   },
   {
    "duration": 30,
    "start_time": "2021-11-28T10:27:48.129Z"
   },
   {
    "duration": 19,
    "start_time": "2021-11-28T10:27:48.163Z"
   },
   {
    "duration": 17,
    "start_time": "2021-11-28T10:27:48.185Z"
   },
   {
    "duration": 14,
    "start_time": "2021-11-28T10:27:48.205Z"
   },
   {
    "duration": 45,
    "start_time": "2021-11-28T10:27:48.222Z"
   },
   {
    "duration": 15,
    "start_time": "2021-11-28T10:27:48.269Z"
   },
   {
    "duration": 19,
    "start_time": "2021-11-28T10:27:48.288Z"
   },
   {
    "duration": 14,
    "start_time": "2021-11-28T10:27:48.310Z"
   },
   {
    "duration": 9,
    "start_time": "2021-11-28T10:27:52.112Z"
   },
   {
    "duration": 10,
    "start_time": "2021-11-28T10:27:53.873Z"
   },
   {
    "duration": 7,
    "start_time": "2021-11-28T10:27:54.712Z"
   },
   {
    "duration": 7,
    "start_time": "2021-11-28T10:27:55.911Z"
   },
   {
    "duration": 5,
    "start_time": "2021-11-28T10:28:09.098Z"
   },
   {
    "duration": 11,
    "start_time": "2021-11-28T10:28:09.576Z"
   },
   {
    "duration": 17,
    "start_time": "2021-11-28T10:28:10.311Z"
   },
   {
    "duration": 8,
    "start_time": "2021-11-28T10:29:29.779Z"
   },
   {
    "duration": 15,
    "start_time": "2021-11-28T10:29:35.219Z"
   },
   {
    "duration": 8,
    "start_time": "2021-11-28T10:29:37.601Z"
   },
   {
    "duration": 8,
    "start_time": "2021-11-28T10:29:42.632Z"
   },
   {
    "duration": 7,
    "start_time": "2021-11-28T10:29:50.751Z"
   },
   {
    "duration": 19,
    "start_time": "2021-11-28T10:29:53.112Z"
   },
   {
    "duration": 7,
    "start_time": "2021-11-28T10:29:56.216Z"
   },
   {
    "duration": 10,
    "start_time": "2021-11-28T10:30:00.376Z"
   },
   {
    "duration": 20,
    "start_time": "2021-11-28T10:30:07.112Z"
   },
   {
    "duration": 475,
    "start_time": "2021-11-28T11:11:58.918Z"
   },
   {
    "duration": 898,
    "start_time": "2021-11-28T11:12:51.323Z"
   },
   {
    "duration": 393,
    "start_time": "2021-11-28T11:13:40.796Z"
   },
   {
    "duration": 418,
    "start_time": "2021-11-28T11:21:41.967Z"
   },
   {
    "duration": 15,
    "start_time": "2021-11-28T11:32:08.770Z"
   },
   {
    "duration": 17,
    "start_time": "2021-11-28T11:32:18.885Z"
   },
   {
    "duration": 867,
    "start_time": "2021-11-28T11:32:36.723Z"
   },
   {
    "duration": 31,
    "start_time": "2021-11-28T11:32:37.593Z"
   },
   {
    "duration": 16,
    "start_time": "2021-11-28T11:32:37.627Z"
   },
   {
    "duration": 24,
    "start_time": "2021-11-28T11:32:37.645Z"
   },
   {
    "duration": 13,
    "start_time": "2021-11-28T11:32:37.671Z"
   },
   {
    "duration": 27,
    "start_time": "2021-11-28T11:32:37.686Z"
   },
   {
    "duration": 5,
    "start_time": "2021-11-28T11:38:07.318Z"
   },
   {
    "duration": 5,
    "start_time": "2021-11-28T11:38:30.394Z"
   },
   {
    "duration": 19,
    "start_time": "2021-11-28T11:38:42.905Z"
   },
   {
    "duration": 34,
    "start_time": "2021-11-28T11:39:02.226Z"
   },
   {
    "duration": 19,
    "start_time": "2021-11-28T11:39:12.947Z"
   },
   {
    "duration": 17,
    "start_time": "2021-11-28T11:39:19.203Z"
   },
   {
    "duration": 12,
    "start_time": "2021-11-28T11:39:29.643Z"
   },
   {
    "duration": 15,
    "start_time": "2021-11-28T11:39:35.257Z"
   },
   {
    "duration": 21,
    "start_time": "2021-11-28T11:39:44.953Z"
   },
   {
    "duration": 10,
    "start_time": "2021-11-28T11:39:45.681Z"
   },
   {
    "duration": 6,
    "start_time": "2021-11-28T11:39:46.737Z"
   },
   {
    "duration": 6,
    "start_time": "2021-11-28T11:39:48.793Z"
   },
   {
    "duration": 5,
    "start_time": "2021-11-28T11:39:50.034Z"
   },
   {
    "duration": 6,
    "start_time": "2021-11-28T11:39:50.617Z"
   },
   {
    "duration": 16,
    "start_time": "2021-11-28T11:39:52.136Z"
   },
   {
    "duration": 7,
    "start_time": "2021-11-28T11:40:07.033Z"
   },
   {
    "duration": 17,
    "start_time": "2021-11-28T11:40:08.770Z"
   },
   {
    "duration": 9,
    "start_time": "2021-11-28T11:40:09.385Z"
   },
   {
    "duration": 8,
    "start_time": "2021-11-28T11:40:13.888Z"
   },
   {
    "duration": 7,
    "start_time": "2021-11-28T11:40:21.080Z"
   },
   {
    "duration": 18,
    "start_time": "2021-11-28T11:40:23.050Z"
   },
   {
    "duration": 8,
    "start_time": "2021-11-28T11:40:38.313Z"
   },
   {
    "duration": 8,
    "start_time": "2021-11-28T11:40:46.624Z"
   },
   {
    "duration": 23,
    "start_time": "2021-11-28T11:40:51.466Z"
   },
   {
    "duration": 45,
    "start_time": "2021-11-28T11:44:53.324Z"
   },
   {
    "duration": 22,
    "start_time": "2021-11-28T11:44:59.483Z"
   },
   {
    "duration": 26,
    "start_time": "2021-11-28T11:45:09.565Z"
   },
   {
    "duration": 23,
    "start_time": "2021-11-28T11:45:10.803Z"
   },
   {
    "duration": 30,
    "start_time": "2021-11-28T12:15:19.823Z"
   },
   {
    "duration": 186,
    "start_time": "2021-11-28T12:28:53.899Z"
   },
   {
    "duration": 17,
    "start_time": "2021-11-28T12:29:03.594Z"
   },
   {
    "duration": 10,
    "start_time": "2021-11-28T12:29:06.723Z"
   },
   {
    "duration": 7,
    "start_time": "2021-11-28T12:31:14.228Z"
   },
   {
    "duration": 192,
    "start_time": "2021-11-28T12:34:18.157Z"
   },
   {
    "duration": 20,
    "start_time": "2021-11-28T12:34:27.162Z"
   },
   {
    "duration": 13,
    "start_time": "2021-11-28T12:41:14.868Z"
   },
   {
    "duration": 27,
    "start_time": "2021-11-28T12:51:20.172Z"
   },
   {
    "duration": 38,
    "start_time": "2021-11-28T12:52:59.517Z"
   },
   {
    "duration": 816,
    "start_time": "2021-11-28T13:36:37.781Z"
   },
   {
    "duration": 31,
    "start_time": "2021-11-28T13:36:38.600Z"
   },
   {
    "duration": 33,
    "start_time": "2021-11-28T13:36:38.635Z"
   },
   {
    "duration": 14,
    "start_time": "2021-11-28T13:36:38.671Z"
   },
   {
    "duration": 14,
    "start_time": "2021-11-28T13:36:38.688Z"
   },
   {
    "duration": 60,
    "start_time": "2021-11-28T13:36:38.705Z"
   },
   {
    "duration": 5,
    "start_time": "2021-11-28T13:36:38.767Z"
   },
   {
    "duration": 9,
    "start_time": "2021-11-28T13:36:38.775Z"
   },
   {
    "duration": 21,
    "start_time": "2021-11-28T13:36:38.788Z"
   },
   {
    "duration": 13,
    "start_time": "2021-11-28T13:36:38.811Z"
   },
   {
    "duration": 15,
    "start_time": "2021-11-28T13:36:38.859Z"
   },
   {
    "duration": 13,
    "start_time": "2021-11-28T13:36:38.877Z"
   },
   {
    "duration": 7,
    "start_time": "2021-11-28T13:36:38.893Z"
   },
   {
    "duration": 6,
    "start_time": "2021-11-28T13:36:38.903Z"
   },
   {
    "duration": 6,
    "start_time": "2021-11-28T13:36:38.912Z"
   },
   {
    "duration": 5,
    "start_time": "2021-11-28T13:36:38.960Z"
   },
   {
    "duration": 6,
    "start_time": "2021-11-28T13:36:38.968Z"
   },
   {
    "duration": 18,
    "start_time": "2021-11-28T13:36:38.976Z"
   },
   {
    "duration": 7,
    "start_time": "2021-11-28T13:36:38.997Z"
   },
   {
    "duration": 55,
    "start_time": "2021-11-28T13:36:39.006Z"
   },
   {
    "duration": 12,
    "start_time": "2021-11-28T13:36:39.064Z"
   },
   {
    "duration": 8,
    "start_time": "2021-11-28T13:36:39.078Z"
   },
   {
    "duration": 11,
    "start_time": "2021-11-28T13:36:39.090Z"
   },
   {
    "duration": 22,
    "start_time": "2021-11-28T13:36:39.103Z"
   },
   {
    "duration": 143,
    "start_time": "2021-11-28T13:36:39.160Z"
   },
   {
    "duration": -62,
    "start_time": "2021-11-28T13:36:39.367Z"
   },
   {
    "duration": -78,
    "start_time": "2021-11-28T13:36:39.385Z"
   },
   {
    "duration": -93,
    "start_time": "2021-11-28T13:36:39.401Z"
   },
   {
    "duration": -99,
    "start_time": "2021-11-28T13:36:39.408Z"
   },
   {
    "duration": -103,
    "start_time": "2021-11-28T13:36:39.414Z"
   },
   {
    "duration": -117,
    "start_time": "2021-11-28T13:36:39.429Z"
   },
   {
    "duration": -138,
    "start_time": "2021-11-28T13:36:39.451Z"
   },
   {
    "duration": 9,
    "start_time": "2021-11-28T13:41:15.599Z"
   },
   {
    "duration": 9,
    "start_time": "2021-11-28T13:42:03.643Z"
   },
   {
    "duration": 5,
    "start_time": "2021-11-28T13:43:12.636Z"
   },
   {
    "duration": 15,
    "start_time": "2021-11-28T13:43:36.813Z"
   },
   {
    "duration": 9,
    "start_time": "2021-11-28T13:44:03.907Z"
   },
   {
    "duration": 29,
    "start_time": "2021-11-28T13:44:15.862Z"
   },
   {
    "duration": 22,
    "start_time": "2021-11-28T13:44:27.309Z"
   },
   {
    "duration": 113,
    "start_time": "2021-11-28T13:47:03.264Z"
   },
   {
    "duration": 9,
    "start_time": "2021-11-28T13:47:12.468Z"
   },
   {
    "duration": 10,
    "start_time": "2021-11-28T13:48:20.124Z"
   },
   {
    "duration": 119,
    "start_time": "2021-11-28T13:49:21.350Z"
   },
   {
    "duration": 14,
    "start_time": "2021-11-28T13:49:30.117Z"
   },
   {
    "duration": 11,
    "start_time": "2021-11-28T13:49:31.824Z"
   },
   {
    "duration": 7,
    "start_time": "2021-11-28T13:50:38.759Z"
   },
   {
    "duration": 6,
    "start_time": "2021-11-28T13:50:59.190Z"
   },
   {
    "duration": 821,
    "start_time": "2021-11-28T13:51:23.454Z"
   },
   {
    "duration": 28,
    "start_time": "2021-11-28T13:51:24.278Z"
   },
   {
    "duration": 22,
    "start_time": "2021-11-28T13:51:24.309Z"
   },
   {
    "duration": 30,
    "start_time": "2021-11-28T13:51:24.334Z"
   },
   {
    "duration": 14,
    "start_time": "2021-11-28T13:51:24.367Z"
   },
   {
    "duration": 25,
    "start_time": "2021-11-28T13:51:24.383Z"
   },
   {
    "duration": 5,
    "start_time": "2021-11-28T13:51:24.410Z"
   },
   {
    "duration": 43,
    "start_time": "2021-11-28T13:51:24.418Z"
   },
   {
    "duration": 12,
    "start_time": "2021-11-28T13:51:24.464Z"
   },
   {
    "duration": 15,
    "start_time": "2021-11-28T13:51:24.479Z"
   },
   {
    "duration": 15,
    "start_time": "2021-11-28T13:51:24.497Z"
   },
   {
    "duration": 46,
    "start_time": "2021-11-28T13:51:24.515Z"
   },
   {
    "duration": 6,
    "start_time": "2021-11-28T13:51:24.563Z"
   },
   {
    "duration": 9,
    "start_time": "2021-11-28T13:51:24.571Z"
   },
   {
    "duration": 5,
    "start_time": "2021-11-28T13:51:24.583Z"
   },
   {
    "duration": 6,
    "start_time": "2021-11-28T13:51:24.590Z"
   },
   {
    "duration": 17,
    "start_time": "2021-11-28T13:51:24.598Z"
   },
   {
    "duration": 44,
    "start_time": "2021-11-28T13:51:24.617Z"
   },
   {
    "duration": 28,
    "start_time": "2021-11-28T13:51:24.663Z"
   },
   {
    "duration": 16,
    "start_time": "2021-11-28T13:51:24.693Z"
   },
   {
    "duration": 23,
    "start_time": "2021-11-28T13:51:24.712Z"
   },
   {
    "duration": 16,
    "start_time": "2021-11-28T13:51:24.737Z"
   },
   {
    "duration": 17,
    "start_time": "2021-11-28T13:51:24.758Z"
   },
   {
    "duration": 13,
    "start_time": "2021-11-28T13:51:24.777Z"
   },
   {
    "duration": 18,
    "start_time": "2021-11-28T13:51:24.792Z"
   },
   {
    "duration": 9,
    "start_time": "2021-11-28T13:52:14.999Z"
   },
   {
    "duration": 10,
    "start_time": "2021-11-28T13:52:20.631Z"
   },
   {
    "duration": 10,
    "start_time": "2021-11-28T13:53:00.385Z"
   },
   {
    "duration": 10,
    "start_time": "2021-11-28T13:53:01.879Z"
   },
   {
    "duration": 8,
    "start_time": "2021-11-28T13:54:57.168Z"
   },
   {
    "duration": 124,
    "start_time": "2021-11-28T14:15:55.441Z"
   },
   {
    "duration": 10923,
    "start_time": "2021-11-28T14:24:25.108Z"
   },
   {
    "duration": -10,
    "start_time": "2021-11-28T14:24:36.044Z"
   },
   {
    "duration": -16,
    "start_time": "2021-11-28T14:24:36.052Z"
   },
   {
    "duration": -20,
    "start_time": "2021-11-28T14:24:36.058Z"
   },
   {
    "duration": 19,
    "start_time": "2021-11-28T14:24:45.139Z"
   },
   {
    "duration": 977,
    "start_time": "2021-11-28T14:24:58.794Z"
   },
   {
    "duration": 34,
    "start_time": "2021-11-28T14:24:59.774Z"
   },
   {
    "duration": 18,
    "start_time": "2021-11-28T14:24:59.811Z"
   },
   {
    "duration": 39,
    "start_time": "2021-11-28T14:24:59.833Z"
   },
   {
    "duration": 15,
    "start_time": "2021-11-28T14:24:59.875Z"
   },
   {
    "duration": 75,
    "start_time": "2021-11-28T14:24:59.893Z"
   },
   {
    "duration": 18,
    "start_time": "2021-11-28T14:24:59.971Z"
   },
   {
    "duration": 17,
    "start_time": "2021-11-28T14:25:14.028Z"
   },
   {
    "duration": 5,
    "start_time": "2021-11-28T14:25:36.914Z"
   },
   {
    "duration": 6,
    "start_time": "2021-11-28T14:25:37.431Z"
   },
   {
    "duration": 13,
    "start_time": "2021-11-28T14:25:50.816Z"
   },
   {
    "duration": 130,
    "start_time": "2021-11-28T16:24:56.361Z"
   },
   {
    "duration": 21,
    "start_time": "2021-11-28T16:26:55.190Z"
   },
   {
    "duration": 21,
    "start_time": "2021-11-28T16:27:01.138Z"
   },
   {
    "duration": 820,
    "start_time": "2021-11-28T16:27:08.455Z"
   },
   {
    "duration": 29,
    "start_time": "2021-11-28T16:27:09.278Z"
   },
   {
    "duration": 16,
    "start_time": "2021-11-28T16:27:09.310Z"
   },
   {
    "duration": 38,
    "start_time": "2021-11-28T16:27:09.329Z"
   },
   {
    "duration": 21,
    "start_time": "2021-11-28T16:27:09.369Z"
   },
   {
    "duration": 26,
    "start_time": "2021-11-28T16:27:09.392Z"
   },
   {
    "duration": 12,
    "start_time": "2021-11-28T16:27:09.421Z"
   },
   {
    "duration": 13,
    "start_time": "2021-11-28T16:27:13.131Z"
   },
   {
    "duration": 6,
    "start_time": "2021-11-28T16:27:43.691Z"
   },
   {
    "duration": 12,
    "start_time": "2021-11-28T16:28:01.075Z"
   },
   {
    "duration": 8,
    "start_time": "2021-11-28T16:28:53.556Z"
   },
   {
    "duration": 8,
    "start_time": "2021-11-28T16:29:34.859Z"
   },
   {
    "duration": 7,
    "start_time": "2021-11-28T16:29:41.564Z"
   },
   {
    "duration": 689,
    "start_time": "2021-11-28T16:35:26.998Z"
   },
   {
    "duration": 70,
    "start_time": "2021-11-28T16:35:27.620Z"
   },
   {
    "duration": 8,
    "start_time": "2021-11-28T16:36:15.829Z"
   },
   {
    "duration": 8,
    "start_time": "2021-11-28T16:36:16.413Z"
   },
   {
    "duration": 129,
    "start_time": "2021-11-28T16:36:47.622Z"
   },
   {
    "duration": 130,
    "start_time": "2021-11-28T16:43:27.322Z"
   },
   {
    "duration": 14,
    "start_time": "2021-11-28T17:22:25.257Z"
   },
   {
    "duration": 470,
    "start_time": "2021-11-28T17:23:12.768Z"
   },
   {
    "duration": 127,
    "start_time": "2021-11-28T17:24:17.967Z"
   },
   {
    "duration": 62,
    "start_time": "2021-11-28T17:24:43.021Z"
   },
   {
    "duration": 20,
    "start_time": "2021-11-28T17:24:43.087Z"
   },
   {
    "duration": 17,
    "start_time": "2021-11-28T17:24:43.111Z"
   },
   {
    "duration": 41,
    "start_time": "2021-11-28T17:24:43.131Z"
   },
   {
    "duration": 15,
    "start_time": "2021-11-28T17:24:43.175Z"
   },
   {
    "duration": 28,
    "start_time": "2021-11-28T17:24:43.193Z"
   },
   {
    "duration": 7,
    "start_time": "2021-11-28T17:24:43.260Z"
   },
   {
    "duration": 8,
    "start_time": "2021-11-28T17:24:43.270Z"
   },
   {
    "duration": 4,
    "start_time": "2021-11-28T17:24:43.281Z"
   },
   {
    "duration": 9,
    "start_time": "2021-11-28T17:24:43.287Z"
   },
   {
    "duration": 14,
    "start_time": "2021-11-28T17:24:43.298Z"
   },
   {
    "duration": 52,
    "start_time": "2021-11-28T17:24:43.314Z"
   },
   {
    "duration": 6,
    "start_time": "2021-11-28T17:24:46.454Z"
   },
   {
    "duration": 5,
    "start_time": "2021-11-28T17:24:49.384Z"
   },
   {
    "duration": 16,
    "start_time": "2021-11-28T17:24:53.135Z"
   },
   {
    "duration": 8,
    "start_time": "2021-11-28T17:47:09.259Z"
   },
   {
    "duration": 22,
    "start_time": "2021-11-28T17:47:12.874Z"
   },
   {
    "duration": 32,
    "start_time": "2021-11-28T17:47:15.258Z"
   },
   {
    "duration": 22,
    "start_time": "2021-11-28T17:47:15.891Z"
   },
   {
    "duration": 130,
    "start_time": "2021-11-28T17:48:29.277Z"
   },
   {
    "duration": 39,
    "start_time": "2021-11-28T17:48:52.972Z"
   },
   {
    "duration": 62,
    "start_time": "2021-11-28T17:49:12.112Z"
   },
   {
    "duration": 18,
    "start_time": "2021-11-28T17:49:12.177Z"
   },
   {
    "duration": 17,
    "start_time": "2021-11-28T17:49:12.198Z"
   },
   {
    "duration": 13,
    "start_time": "2021-11-28T17:49:12.218Z"
   },
   {
    "duration": 38,
    "start_time": "2021-11-28T17:49:12.233Z"
   },
   {
    "duration": 26,
    "start_time": "2021-11-28T17:49:12.274Z"
   },
   {
    "duration": 7,
    "start_time": "2021-11-28T17:49:12.303Z"
   },
   {
    "duration": 45,
    "start_time": "2021-11-28T17:49:12.314Z"
   },
   {
    "duration": 5,
    "start_time": "2021-11-28T17:49:12.362Z"
   },
   {
    "duration": 14,
    "start_time": "2021-11-28T17:49:12.369Z"
   },
   {
    "duration": 15,
    "start_time": "2021-11-28T17:49:12.386Z"
   },
   {
    "duration": 16,
    "start_time": "2021-11-28T17:49:12.403Z"
   },
   {
    "duration": 5,
    "start_time": "2021-11-28T17:49:12.421Z"
   },
   {
    "duration": 5,
    "start_time": "2021-11-28T17:49:12.460Z"
   },
   {
    "duration": 20,
    "start_time": "2021-11-28T17:49:12.468Z"
   },
   {
    "duration": 22,
    "start_time": "2021-11-28T17:49:17.387Z"
   },
   {
    "duration": 41,
    "start_time": "2021-11-28T17:49:38.115Z"
   },
   {
    "duration": 141,
    "start_time": "2021-11-28T17:53:38.694Z"
   },
   {
    "duration": 42,
    "start_time": "2021-11-28T17:53:58.223Z"
   },
   {
    "duration": 906,
    "start_time": "2021-12-04T09:35:43.924Z"
   },
   {
    "duration": 29,
    "start_time": "2021-12-04T09:35:45.736Z"
   },
   {
    "duration": 17,
    "start_time": "2021-12-04T09:35:48.331Z"
   },
   {
    "duration": 421,
    "start_time": "2021-12-04T09:35:52.542Z"
   },
   {
    "duration": 1469,
    "start_time": "2021-12-04T09:37:08.739Z"
   },
   {
    "duration": 317,
    "start_time": "2021-12-04T09:37:28.165Z"
   },
   {
    "duration": 339,
    "start_time": "2021-12-04T09:37:43.968Z"
   },
   {
    "duration": 306,
    "start_time": "2021-12-04T09:38:24.439Z"
   },
   {
    "duration": 96,
    "start_time": "2021-12-04T09:38:30.049Z"
   },
   {
    "duration": 11,
    "start_time": "2021-12-04T09:38:30.526Z"
   },
   {
    "duration": 311,
    "start_time": "2021-12-04T09:38:31.190Z"
   },
   {
    "duration": 398,
    "start_time": "2021-12-04T09:54:08.633Z"
   },
   {
    "duration": 852,
    "start_time": "2021-12-04T09:54:22.889Z"
   },
   {
    "duration": 30,
    "start_time": "2021-12-04T09:54:23.743Z"
   },
   {
    "duration": 24,
    "start_time": "2021-12-04T09:54:23.784Z"
   },
   {
    "duration": 446,
    "start_time": "2021-12-04T09:54:23.811Z"
   },
   {
    "duration": 339,
    "start_time": "2021-12-04T09:54:24.260Z"
   },
   {
    "duration": 362,
    "start_time": "2021-12-04T09:54:24.603Z"
   },
   {
    "duration": 20,
    "start_time": "2021-12-04T09:54:24.968Z"
   },
   {
    "duration": 13,
    "start_time": "2021-12-04T09:54:24.996Z"
   },
   {
    "duration": 510,
    "start_time": "2021-12-04T09:54:25.013Z"
   },
   {
    "duration": 19,
    "start_time": "2021-12-04T09:54:25.526Z"
   },
   {
    "duration": 36,
    "start_time": "2021-12-04T09:54:25.548Z"
   },
   {
    "duration": 39,
    "start_time": "2021-12-04T09:54:25.587Z"
   },
   {
    "duration": 10,
    "start_time": "2021-12-04T09:54:25.628Z"
   },
   {
    "duration": 43,
    "start_time": "2021-12-04T09:54:25.640Z"
   },
   {
    "duration": 6,
    "start_time": "2021-12-04T09:54:25.686Z"
   },
   {
    "duration": 6,
    "start_time": "2021-12-04T09:54:25.695Z"
   },
   {
    "duration": 19,
    "start_time": "2021-12-04T09:54:25.704Z"
   },
   {
    "duration": 57,
    "start_time": "2021-12-04T09:54:25.726Z"
   },
   {
    "duration": 10,
    "start_time": "2021-12-04T09:54:25.786Z"
   },
   {
    "duration": 8,
    "start_time": "2021-12-04T09:54:25.799Z"
   },
   {
    "duration": 34,
    "start_time": "2021-12-04T09:54:25.811Z"
   },
   {
    "duration": 48,
    "start_time": "2021-12-04T09:54:25.848Z"
   },
   {
    "duration": 44,
    "start_time": "2021-12-04T09:54:25.902Z"
   },
   {
    "duration": 5,
    "start_time": "2021-12-04T09:54:25.949Z"
   },
   {
    "duration": 30,
    "start_time": "2021-12-04T09:54:25.957Z"
   },
   {
    "duration": 11,
    "start_time": "2021-12-04T09:54:25.989Z"
   },
   {
    "duration": 18,
    "start_time": "2021-12-04T09:54:26.003Z"
   },
   {
    "duration": 12,
    "start_time": "2021-12-04T09:54:26.023Z"
   },
   {
    "duration": 59,
    "start_time": "2021-12-04T09:54:26.038Z"
   },
   {
    "duration": 9,
    "start_time": "2021-12-04T09:54:26.099Z"
   },
   {
    "duration": 22,
    "start_time": "2021-12-04T09:54:26.111Z"
   },
   {
    "duration": 50,
    "start_time": "2021-12-04T09:54:26.136Z"
   },
   {
    "duration": 10,
    "start_time": "2021-12-04T09:54:26.188Z"
   },
   {
    "duration": 16,
    "start_time": "2021-12-04T09:54:26.201Z"
   },
   {
    "duration": 9,
    "start_time": "2021-12-04T09:54:26.220Z"
   },
   {
    "duration": 11,
    "start_time": "2021-12-04T09:54:26.231Z"
   },
   {
    "duration": 34,
    "start_time": "2021-12-04T09:54:26.284Z"
   },
   {
    "duration": 26,
    "start_time": "2021-12-04T09:54:26.321Z"
   },
   {
    "duration": 51,
    "start_time": "2021-12-04T09:54:26.349Z"
   },
   {
    "duration": 393,
    "start_time": "2021-12-04T09:54:26.403Z"
   },
   {
    "duration": -488,
    "start_time": "2021-12-04T09:54:27.287Z"
   },
   {
    "duration": 355,
    "start_time": "2021-12-04T09:54:46.229Z"
   },
   {
    "duration": 301,
    "start_time": "2021-12-04T09:56:09.135Z"
   },
   {
    "duration": 15,
    "start_time": "2021-12-04T10:01:16.829Z"
   },
   {
    "duration": 22,
    "start_time": "2021-12-04T10:09:49.601Z"
   },
   {
    "duration": 15,
    "start_time": "2021-12-04T10:13:14.527Z"
   },
   {
    "duration": 307,
    "start_time": "2021-12-04T10:16:04.581Z"
   },
   {
    "duration": 93,
    "start_time": "2021-12-04T10:16:14.587Z"
   },
   {
    "duration": 300,
    "start_time": "2021-12-04T10:16:21.050Z"
   },
   {
    "duration": 417,
    "start_time": "2021-12-04T10:18:40.881Z"
   },
   {
    "duration": 528,
    "start_time": "2021-12-04T10:19:39.791Z"
   },
   {
    "duration": 308,
    "start_time": "2021-12-04T10:20:48.160Z"
   },
   {
    "duration": 17,
    "start_time": "2021-12-04T10:20:54.702Z"
   },
   {
    "duration": 6,
    "start_time": "2021-12-04T10:21:14.118Z"
   },
   {
    "duration": 9,
    "start_time": "2021-12-04T10:21:36.341Z"
   },
   {
    "duration": 6,
    "start_time": "2021-12-04T10:21:52.710Z"
   },
   {
    "duration": 10,
    "start_time": "2021-12-04T10:21:55.711Z"
   },
   {
    "duration": 328,
    "start_time": "2021-12-04T10:22:32.511Z"
   },
   {
    "duration": 389,
    "start_time": "2021-12-04T10:22:36.457Z"
   },
   {
    "duration": 293,
    "start_time": "2021-12-04T10:22:42.272Z"
   },
   {
    "duration": 436,
    "start_time": "2021-12-04T10:22:45.224Z"
   },
   {
    "duration": 1067,
    "start_time": "2021-12-04T10:23:32.591Z"
   },
   {
    "duration": 37,
    "start_time": "2021-12-04T10:23:33.661Z"
   },
   {
    "duration": 16,
    "start_time": "2021-12-04T10:23:33.701Z"
   },
   {
    "duration": 662,
    "start_time": "2021-12-04T10:23:33.720Z"
   },
   {
    "duration": 331,
    "start_time": "2021-12-04T10:23:34.385Z"
   },
   {
    "duration": 396,
    "start_time": "2021-12-04T10:23:34.719Z"
   },
   {
    "duration": 15,
    "start_time": "2021-12-04T10:23:35.117Z"
   },
   {
    "duration": 9,
    "start_time": "2021-12-04T10:23:35.136Z"
   },
   {
    "duration": 376,
    "start_time": "2021-12-04T10:23:35.148Z"
   },
   {
    "duration": 13,
    "start_time": "2021-12-04T10:23:35.526Z"
   },
   {
    "duration": 14,
    "start_time": "2021-12-04T10:23:35.541Z"
   },
   {
    "duration": 58,
    "start_time": "2021-12-04T10:23:35.558Z"
   },
   {
    "duration": 7,
    "start_time": "2021-12-04T10:23:35.618Z"
   },
   {
    "duration": 14,
    "start_time": "2021-12-04T10:23:35.627Z"
   },
   {
    "duration": 42,
    "start_time": "2021-12-04T10:23:35.643Z"
   },
   {
    "duration": 14,
    "start_time": "2021-12-04T10:23:35.688Z"
   },
   {
    "duration": 35,
    "start_time": "2021-12-04T10:23:35.705Z"
   },
   {
    "duration": 14,
    "start_time": "2021-12-04T10:23:35.742Z"
   },
   {
    "duration": 23,
    "start_time": "2021-12-04T10:23:35.759Z"
   },
   {
    "duration": 7,
    "start_time": "2021-12-04T10:23:35.785Z"
   },
   {
    "duration": 29,
    "start_time": "2021-12-04T10:23:35.794Z"
   },
   {
    "duration": 21,
    "start_time": "2021-12-04T10:23:35.826Z"
   },
   {
    "duration": 75,
    "start_time": "2021-12-04T10:23:35.852Z"
   },
   {
    "duration": 6,
    "start_time": "2021-12-04T10:23:35.929Z"
   },
   {
    "duration": 9,
    "start_time": "2021-12-04T10:23:35.937Z"
   },
   {
    "duration": 38,
    "start_time": "2021-12-04T10:23:35.949Z"
   },
   {
    "duration": 22,
    "start_time": "2021-12-04T10:23:35.991Z"
   },
   {
    "duration": 18,
    "start_time": "2021-12-04T10:23:36.016Z"
   },
   {
    "duration": 8,
    "start_time": "2021-12-04T10:23:36.036Z"
   },
   {
    "duration": 41,
    "start_time": "2021-12-04T10:23:36.047Z"
   },
   {
    "duration": 28,
    "start_time": "2021-12-04T10:23:36.091Z"
   },
   {
    "duration": 14,
    "start_time": "2021-12-04T10:23:36.121Z"
   },
   {
    "duration": 9,
    "start_time": "2021-12-04T10:23:36.137Z"
   },
   {
    "duration": 39,
    "start_time": "2021-12-04T10:23:36.148Z"
   },
   {
    "duration": 11,
    "start_time": "2021-12-04T10:23:36.190Z"
   },
   {
    "duration": 13,
    "start_time": "2021-12-04T10:23:36.205Z"
   },
   {
    "duration": 66,
    "start_time": "2021-12-04T10:23:36.221Z"
   },
   {
    "duration": 28,
    "start_time": "2021-12-04T10:23:36.290Z"
   },
   {
    "duration": 22,
    "start_time": "2021-12-04T10:23:36.321Z"
   },
   {
    "duration": 3,
    "start_time": "2021-12-04T10:23:36.345Z"
   },
   {
    "duration": 4,
    "start_time": "2021-12-04T10:23:38.430Z"
   },
   {
    "duration": 408,
    "start_time": "2021-12-04T10:23:40.347Z"
   },
   {
    "duration": 313,
    "start_time": "2021-12-04T10:23:56.709Z"
   },
   {
    "duration": 666,
    "start_time": "2021-12-04T10:24:00.902Z"
   },
   {
    "duration": 356,
    "start_time": "2021-12-04T10:24:31.966Z"
   },
   {
    "duration": 8,
    "start_time": "2021-12-04T10:25:52.304Z"
   },
   {
    "duration": 20,
    "start_time": "2021-12-04T10:26:38.542Z"
   },
   {
    "duration": 309,
    "start_time": "2021-12-04T10:27:38.193Z"
   },
   {
    "duration": 108,
    "start_time": "2021-12-04T10:29:57.729Z"
   },
   {
    "duration": 22,
    "start_time": "2021-12-04T10:30:14.613Z"
   },
   {
    "duration": 45,
    "start_time": "2021-12-04T10:30:19.730Z"
   },
   {
    "duration": 8575,
    "start_time": "2021-12-04T10:30:49.152Z"
   },
   {
    "duration": -119,
    "start_time": "2021-12-04T10:30:57.849Z"
   },
   {
    "duration": 15,
    "start_time": "2021-12-04T10:31:13.501Z"
   },
   {
    "duration": 12,
    "start_time": "2021-12-04T10:31:36.274Z"
   },
   {
    "duration": 29,
    "start_time": "2021-12-04T10:31:42.057Z"
   },
   {
    "duration": 10,
    "start_time": "2021-12-04T10:31:49.564Z"
   },
   {
    "duration": 7,
    "start_time": "2021-12-04T10:59:49.621Z"
   },
   {
    "duration": 111,
    "start_time": "2021-12-04T11:02:05.029Z"
   },
   {
    "duration": 30,
    "start_time": "2021-12-04T11:02:11.661Z"
   },
   {
    "duration": 18,
    "start_time": "2021-12-04T11:02:29.157Z"
   },
   {
    "duration": 12,
    "start_time": "2021-12-04T11:02:32.286Z"
   },
   {
    "duration": 8,
    "start_time": "2021-12-04T11:02:43.040Z"
   },
   {
    "duration": 8,
    "start_time": "2021-12-04T11:08:22.951Z"
   },
   {
    "duration": 9,
    "start_time": "2021-12-04T11:08:28.512Z"
   },
   {
    "duration": 7,
    "start_time": "2021-12-04T11:08:40.608Z"
   },
   {
    "duration": 98,
    "start_time": "2021-12-04T11:10:42.810Z"
   },
   {
    "duration": 7,
    "start_time": "2021-12-04T11:11:08.336Z"
   },
   {
    "duration": 8,
    "start_time": "2021-12-04T11:11:11.897Z"
   },
   {
    "duration": 6,
    "start_time": "2021-12-04T11:11:21.545Z"
   },
   {
    "duration": 9,
    "start_time": "2021-12-04T11:12:36.124Z"
   },
   {
    "duration": 10,
    "start_time": "2021-12-04T11:13:18.546Z"
   },
   {
    "duration": 8,
    "start_time": "2021-12-04T11:13:40.234Z"
   },
   {
    "duration": 10,
    "start_time": "2021-12-04T11:13:44.867Z"
   },
   {
    "duration": 7,
    "start_time": "2021-12-04T11:13:45.700Z"
   },
   {
    "duration": 8,
    "start_time": "2021-12-04T11:13:57.651Z"
   },
   {
    "duration": 6,
    "start_time": "2021-12-04T11:13:58.659Z"
   },
   {
    "duration": 12,
    "start_time": "2021-12-04T11:14:38.877Z"
   },
   {
    "duration": 9,
    "start_time": "2021-12-04T11:14:39.492Z"
   },
   {
    "duration": 6,
    "start_time": "2021-12-04T11:14:40.242Z"
   },
   {
    "duration": 7,
    "start_time": "2021-12-04T11:14:41.787Z"
   },
   {
    "duration": 23,
    "start_time": "2021-12-04T11:17:26.052Z"
   },
   {
    "duration": 27,
    "start_time": "2021-12-04T11:17:35.244Z"
   },
   {
    "duration": 32,
    "start_time": "2021-12-04T11:17:36.581Z"
   },
   {
    "duration": 8,
    "start_time": "2021-12-04T11:23:06.503Z"
   },
   {
    "duration": 7,
    "start_time": "2021-12-04T11:23:06.959Z"
   },
   {
    "duration": 7342,
    "start_time": "2021-12-04T11:23:37.112Z"
   },
   {
    "duration": 14,
    "start_time": "2021-12-04T11:23:44.443Z"
   },
   {
    "duration": 9,
    "start_time": "2021-12-04T11:23:44.450Z"
   },
   {
    "duration": 885,
    "start_time": "2021-12-04T11:24:05.253Z"
   },
   {
    "duration": 31,
    "start_time": "2021-12-04T11:24:06.141Z"
   },
   {
    "duration": 23,
    "start_time": "2021-12-04T11:24:06.183Z"
   },
   {
    "duration": 437,
    "start_time": "2021-12-04T11:24:06.209Z"
   },
   {
    "duration": 325,
    "start_time": "2021-12-04T11:24:06.648Z"
   },
   {
    "duration": 360,
    "start_time": "2021-12-04T11:24:06.976Z"
   },
   {
    "duration": 15,
    "start_time": "2021-12-04T11:24:07.339Z"
   },
   {
    "duration": 24,
    "start_time": "2021-12-04T11:24:07.358Z"
   },
   {
    "duration": 364,
    "start_time": "2021-12-04T11:24:07.386Z"
   },
   {
    "duration": 14,
    "start_time": "2021-12-04T11:24:07.752Z"
   },
   {
    "duration": 21,
    "start_time": "2021-12-04T11:24:07.783Z"
   },
   {
    "duration": 30,
    "start_time": "2021-12-04T11:24:07.807Z"
   },
   {
    "duration": 7,
    "start_time": "2021-12-04T11:24:07.839Z"
   },
   {
    "duration": 11,
    "start_time": "2021-12-04T11:24:07.883Z"
   },
   {
    "duration": 6,
    "start_time": "2021-12-04T11:24:07.899Z"
   },
   {
    "duration": 10,
    "start_time": "2021-12-04T11:24:07.907Z"
   },
   {
    "duration": 18,
    "start_time": "2021-12-04T11:24:07.919Z"
   },
   {
    "duration": 61,
    "start_time": "2021-12-04T11:24:07.939Z"
   },
   {
    "duration": 5,
    "start_time": "2021-12-04T11:24:08.003Z"
   },
   {
    "duration": 11,
    "start_time": "2021-12-04T11:24:08.011Z"
   },
   {
    "duration": 29,
    "start_time": "2021-12-04T11:24:08.025Z"
   },
   {
    "duration": 43,
    "start_time": "2021-12-04T11:24:08.057Z"
   },
   {
    "duration": 43,
    "start_time": "2021-12-04T11:24:08.107Z"
   },
   {
    "duration": 6,
    "start_time": "2021-12-04T11:24:08.153Z"
   },
   {
    "duration": 13,
    "start_time": "2021-12-04T11:24:08.182Z"
   },
   {
    "duration": 11,
    "start_time": "2021-12-04T11:24:08.199Z"
   },
   {
    "duration": 8,
    "start_time": "2021-12-04T11:24:08.214Z"
   },
   {
    "duration": 7,
    "start_time": "2021-12-04T11:24:08.225Z"
   },
   {
    "duration": 52,
    "start_time": "2021-12-04T11:24:08.235Z"
   },
   {
    "duration": 13,
    "start_time": "2021-12-04T11:24:08.291Z"
   },
   {
    "duration": 16,
    "start_time": "2021-12-04T11:24:08.306Z"
   },
   {
    "duration": 12,
    "start_time": "2021-12-04T11:24:08.325Z"
   },
   {
    "duration": 46,
    "start_time": "2021-12-04T11:24:08.339Z"
   },
   {
    "duration": 10,
    "start_time": "2021-12-04T11:24:08.388Z"
   },
   {
    "duration": 21,
    "start_time": "2021-12-04T11:24:08.402Z"
   },
   {
    "duration": 13,
    "start_time": "2021-12-04T11:24:08.426Z"
   },
   {
    "duration": 11,
    "start_time": "2021-12-04T11:24:08.483Z"
   },
   {
    "duration": 13,
    "start_time": "2021-12-04T11:24:08.497Z"
   },
   {
    "duration": 7,
    "start_time": "2021-12-04T11:24:08.512Z"
   },
   {
    "duration": 13,
    "start_time": "2021-12-04T11:24:08.521Z"
   },
   {
    "duration": 69,
    "start_time": "2021-12-04T11:24:08.536Z"
   },
   {
    "duration": 23,
    "start_time": "2021-12-04T11:24:08.608Z"
   },
   {
    "duration": 61,
    "start_time": "2021-12-04T11:24:08.634Z"
   },
   {
    "duration": 10484,
    "start_time": "2021-12-04T11:24:12.390Z"
   },
   {
    "duration": 7,
    "start_time": "2021-12-04T11:24:22.871Z"
   },
   {
    "duration": 35,
    "start_time": "2021-12-04T11:24:55.079Z"
   },
   {
    "duration": 22,
    "start_time": "2021-12-04T11:25:14.705Z"
   },
   {
    "duration": 7486,
    "start_time": "2021-12-04T11:25:27.630Z"
   },
   {
    "duration": 7756,
    "start_time": "2021-12-04T11:25:36.311Z"
   },
   {
    "duration": 6,
    "start_time": "2021-12-04T11:26:12.943Z"
   },
   {
    "duration": 7648,
    "start_time": "2021-12-04T11:26:29.672Z"
   },
   {
    "duration": 102,
    "start_time": "2021-12-04T11:26:43.808Z"
   },
   {
    "duration": 8,
    "start_time": "2021-12-04T11:26:48.680Z"
   },
   {
    "duration": 10,
    "start_time": "2021-12-04T11:28:51.999Z"
   },
   {
    "duration": 117,
    "start_time": "2021-12-04T11:29:22.400Z"
   },
   {
    "duration": 9,
    "start_time": "2021-12-04T11:29:33.482Z"
   },
   {
    "duration": 11,
    "start_time": "2021-12-04T11:30:01.569Z"
   },
   {
    "duration": 319,
    "start_time": "2021-12-04T11:30:02.697Z"
   },
   {
    "duration": 10,
    "start_time": "2021-12-04T11:30:05.705Z"
   },
   {
    "duration": 14,
    "start_time": "2021-12-04T11:32:09.530Z"
   },
   {
    "duration": 7,
    "start_time": "2021-12-04T11:32:14.321Z"
   },
   {
    "duration": 16,
    "start_time": "2021-12-04T11:33:19.890Z"
   },
   {
    "duration": 11,
    "start_time": "2021-12-04T11:33:20.374Z"
   },
   {
    "duration": 8273,
    "start_time": "2021-12-04T11:34:42.131Z"
   },
   {
    "duration": 897,
    "start_time": "2021-12-04T11:35:00.528Z"
   },
   {
    "duration": 30,
    "start_time": "2021-12-04T11:35:01.428Z"
   },
   {
    "duration": 29,
    "start_time": "2021-12-04T11:35:01.461Z"
   },
   {
    "duration": 454,
    "start_time": "2021-12-04T11:35:01.493Z"
   },
   {
    "duration": 324,
    "start_time": "2021-12-04T11:35:01.950Z"
   },
   {
    "duration": 378,
    "start_time": "2021-12-04T11:35:02.282Z"
   },
   {
    "duration": 20,
    "start_time": "2021-12-04T11:35:02.663Z"
   },
   {
    "duration": 11,
    "start_time": "2021-12-04T11:35:02.688Z"
   },
   {
    "duration": 389,
    "start_time": "2021-12-04T11:35:02.704Z"
   },
   {
    "duration": 17,
    "start_time": "2021-12-04T11:35:03.097Z"
   },
   {
    "duration": 14,
    "start_time": "2021-12-04T11:35:03.116Z"
   },
   {
    "duration": 58,
    "start_time": "2021-12-04T11:35:03.132Z"
   },
   {
    "duration": 10,
    "start_time": "2021-12-04T11:35:03.193Z"
   },
   {
    "duration": 14,
    "start_time": "2021-12-04T11:35:03.206Z"
   },
   {
    "duration": 9,
    "start_time": "2021-12-04T11:35:03.223Z"
   },
   {
    "duration": 8,
    "start_time": "2021-12-04T11:35:03.235Z"
   },
   {
    "duration": 50,
    "start_time": "2021-12-04T11:35:03.246Z"
   },
   {
    "duration": 22,
    "start_time": "2021-12-04T11:35:03.300Z"
   },
   {
    "duration": 4,
    "start_time": "2021-12-04T11:35:03.325Z"
   },
   {
    "duration": 50,
    "start_time": "2021-12-04T11:35:03.332Z"
   },
   {
    "duration": 30,
    "start_time": "2021-12-04T11:35:03.386Z"
   },
   {
    "duration": 31,
    "start_time": "2021-12-04T11:35:03.419Z"
   },
   {
    "duration": 61,
    "start_time": "2021-12-04T11:35:03.482Z"
   },
   {
    "duration": 8,
    "start_time": "2021-12-04T11:35:03.547Z"
   },
   {
    "duration": 31,
    "start_time": "2021-12-04T11:35:03.557Z"
   },
   {
    "duration": 12,
    "start_time": "2021-12-04T11:35:03.591Z"
   },
   {
    "duration": 7,
    "start_time": "2021-12-04T11:35:03.606Z"
   },
   {
    "duration": 9,
    "start_time": "2021-12-04T11:35:03.616Z"
   },
   {
    "duration": 8,
    "start_time": "2021-12-04T11:35:03.627Z"
   },
   {
    "duration": 51,
    "start_time": "2021-12-04T11:35:03.638Z"
   },
   {
    "duration": 27,
    "start_time": "2021-12-04T11:35:03.695Z"
   },
   {
    "duration": 8,
    "start_time": "2021-12-04T11:35:03.725Z"
   },
   {
    "duration": 8,
    "start_time": "2021-12-04T11:35:03.735Z"
   },
   {
    "duration": 9,
    "start_time": "2021-12-04T11:35:03.784Z"
   },
   {
    "duration": 24,
    "start_time": "2021-12-04T11:35:03.799Z"
   },
   {
    "duration": 12,
    "start_time": "2021-12-04T11:35:03.826Z"
   },
   {
    "duration": 45,
    "start_time": "2021-12-04T11:35:03.841Z"
   },
   {
    "duration": 14,
    "start_time": "2021-12-04T11:35:03.889Z"
   },
   {
    "duration": 11,
    "start_time": "2021-12-04T11:35:03.906Z"
   },
   {
    "duration": 11,
    "start_time": "2021-12-04T11:35:03.920Z"
   },
   {
    "duration": 69,
    "start_time": "2021-12-04T11:35:03.934Z"
   },
   {
    "duration": 25,
    "start_time": "2021-12-04T11:35:04.006Z"
   },
   {
    "duration": 57,
    "start_time": "2021-12-04T11:35:04.033Z"
   },
   {
    "duration": 37,
    "start_time": "2021-12-04T11:35:04.092Z"
   },
   {
    "duration": 8,
    "start_time": "2021-12-04T11:35:04.132Z"
   },
   {
    "duration": 7,
    "start_time": "2021-12-04T11:35:07.589Z"
   },
   {
    "duration": 6,
    "start_time": "2021-12-04T11:35:18.450Z"
   },
   {
    "duration": 774,
    "start_time": "2021-12-04T11:36:40.092Z"
   },
   {
    "duration": 13,
    "start_time": "2021-12-04T11:37:01.701Z"
   },
   {
    "duration": 466,
    "start_time": "2021-12-04T11:37:03.525Z"
   },
   {
    "duration": 274,
    "start_time": "2021-12-04T11:37:27.843Z"
   },
   {
    "duration": 8414,
    "start_time": "2021-12-04T11:40:04.940Z"
   },
   {
    "duration": -7,
    "start_time": "2021-12-04T11:40:13.363Z"
   },
   {
    "duration": 6,
    "start_time": "2021-12-04T11:40:24.542Z"
   },
   {
    "duration": 12,
    "start_time": "2021-12-04T11:40:27.324Z"
   },
   {
    "duration": 10,
    "start_time": "2021-12-04T11:41:26.165Z"
   },
   {
    "duration": 7592,
    "start_time": "2021-12-04T11:41:42.998Z"
   },
   {
    "duration": 5,
    "start_time": "2021-12-04T11:42:06.294Z"
   },
   {
    "duration": 8230,
    "start_time": "2021-12-04T11:42:07.479Z"
   },
   {
    "duration": 6,
    "start_time": "2021-12-04T11:42:20.886Z"
   },
   {
    "duration": 292,
    "start_time": "2021-12-04T11:42:21.516Z"
   },
   {
    "duration": 314,
    "start_time": "2021-12-04T11:42:50.015Z"
   },
   {
    "duration": 5,
    "start_time": "2021-12-04T11:43:01.463Z"
   },
   {
    "duration": 14,
    "start_time": "2021-12-04T11:43:01.893Z"
   },
   {
    "duration": 311,
    "start_time": "2021-12-04T11:43:02.927Z"
   },
   {
    "duration": 856,
    "start_time": "2021-12-04T11:43:33.611Z"
   },
   {
    "duration": 37,
    "start_time": "2021-12-04T11:43:34.470Z"
   },
   {
    "duration": 15,
    "start_time": "2021-12-04T11:43:34.510Z"
   },
   {
    "duration": 450,
    "start_time": "2021-12-04T11:43:34.528Z"
   },
   {
    "duration": 350,
    "start_time": "2021-12-04T11:43:34.983Z"
   },
   {
    "duration": 365,
    "start_time": "2021-12-04T11:43:35.336Z"
   },
   {
    "duration": 16,
    "start_time": "2021-12-04T11:43:35.703Z"
   },
   {
    "duration": 10,
    "start_time": "2021-12-04T11:43:35.723Z"
   },
   {
    "duration": 412,
    "start_time": "2021-12-04T11:43:35.737Z"
   },
   {
    "duration": 13,
    "start_time": "2021-12-04T11:43:36.151Z"
   },
   {
    "duration": 21,
    "start_time": "2021-12-04T11:43:36.182Z"
   },
   {
    "duration": 29,
    "start_time": "2021-12-04T11:43:36.207Z"
   },
   {
    "duration": 8,
    "start_time": "2021-12-04T11:43:36.238Z"
   },
   {
    "duration": 12,
    "start_time": "2021-12-04T11:43:36.284Z"
   },
   {
    "duration": 12,
    "start_time": "2021-12-04T11:43:36.299Z"
   },
   {
    "duration": 7,
    "start_time": "2021-12-04T11:43:36.314Z"
   },
   {
    "duration": 22,
    "start_time": "2021-12-04T11:43:36.324Z"
   },
   {
    "duration": 55,
    "start_time": "2021-12-04T11:43:36.348Z"
   },
   {
    "duration": 6,
    "start_time": "2021-12-04T11:43:36.405Z"
   },
   {
    "duration": 8,
    "start_time": "2021-12-04T11:43:36.414Z"
   },
   {
    "duration": 17,
    "start_time": "2021-12-04T11:43:36.425Z"
   },
   {
    "duration": 57,
    "start_time": "2021-12-04T11:43:36.445Z"
   },
   {
    "duration": 44,
    "start_time": "2021-12-04T11:43:36.508Z"
   },
   {
    "duration": 31,
    "start_time": "2021-12-04T11:43:36.556Z"
   },
   {
    "duration": 16,
    "start_time": "2021-12-04T11:43:36.590Z"
   },
   {
    "duration": 10,
    "start_time": "2021-12-04T11:43:36.609Z"
   },
   {
    "duration": 12,
    "start_time": "2021-12-04T11:43:36.621Z"
   },
   {
    "duration": 10,
    "start_time": "2021-12-04T11:43:36.635Z"
   },
   {
    "duration": 37,
    "start_time": "2021-12-04T11:43:36.647Z"
   },
   {
    "duration": 10,
    "start_time": "2021-12-04T11:43:36.687Z"
   },
   {
    "duration": 25,
    "start_time": "2021-12-04T11:43:36.700Z"
   },
   {
    "duration": 16,
    "start_time": "2021-12-04T11:43:36.727Z"
   },
   {
    "duration": 44,
    "start_time": "2021-12-04T11:43:36.745Z"
   },
   {
    "duration": 9,
    "start_time": "2021-12-04T11:43:36.793Z"
   },
   {
    "duration": 19,
    "start_time": "2021-12-04T11:43:36.805Z"
   },
   {
    "duration": 10,
    "start_time": "2021-12-04T11:43:36.827Z"
   },
   {
    "duration": 62,
    "start_time": "2021-12-04T11:43:36.839Z"
   },
   {
    "duration": 12,
    "start_time": "2021-12-04T11:43:36.904Z"
   },
   {
    "duration": 10,
    "start_time": "2021-12-04T11:43:36.919Z"
   },
   {
    "duration": 11,
    "start_time": "2021-12-04T11:43:36.932Z"
   },
   {
    "duration": 37,
    "start_time": "2021-12-04T11:43:36.983Z"
   },
   {
    "duration": 33,
    "start_time": "2021-12-04T11:43:37.023Z"
   },
   {
    "duration": 47,
    "start_time": "2021-12-04T11:43:37.059Z"
   },
   {
    "duration": 41,
    "start_time": "2021-12-04T11:43:37.109Z"
   },
   {
    "duration": 33,
    "start_time": "2021-12-04T11:43:37.152Z"
   },
   {
    "duration": 13,
    "start_time": "2021-12-04T11:43:37.188Z"
   },
   {
    "duration": 18,
    "start_time": "2021-12-04T11:43:37.204Z"
   },
   {
    "duration": 23,
    "start_time": "2021-12-04T11:43:37.225Z"
   },
   {
    "duration": 308,
    "start_time": "2021-12-04T11:43:37.251Z"
   },
   {
    "duration": 6,
    "start_time": "2021-12-04T11:43:37.561Z"
   },
   {
    "duration": 16,
    "start_time": "2021-12-04T11:43:37.583Z"
   },
   {
    "duration": 10,
    "start_time": "2021-12-04T11:43:41.555Z"
   },
   {
    "duration": 426,
    "start_time": "2021-12-04T11:43:46.499Z"
   },
   {
    "duration": 317,
    "start_time": "2021-12-04T11:43:59.821Z"
   },
   {
    "duration": 10,
    "start_time": "2021-12-04T11:45:44.639Z"
   },
   {
    "duration": 6,
    "start_time": "2021-12-04T11:45:53.048Z"
   },
   {
    "duration": 10,
    "start_time": "2021-12-04T11:46:38.407Z"
   },
   {
    "duration": 297,
    "start_time": "2021-12-04T11:50:59.898Z"
   },
   {
    "duration": 304,
    "start_time": "2021-12-04T11:51:04.210Z"
   },
   {
    "duration": 308,
    "start_time": "2021-12-04T11:52:01.667Z"
   },
   {
    "duration": 316,
    "start_time": "2021-12-04T11:52:27.154Z"
   },
   {
    "duration": 306,
    "start_time": "2021-12-04T11:52:33.618Z"
   },
   {
    "duration": 307,
    "start_time": "2021-12-04T11:53:55.315Z"
   },
   {
    "duration": 8399,
    "start_time": "2021-12-04T11:54:10.363Z"
   },
   {
    "duration": 8599,
    "start_time": "2021-12-04T11:57:26.048Z"
   },
   {
    "duration": 8238,
    "start_time": "2021-12-04T11:57:50.888Z"
   },
   {
    "duration": 322,
    "start_time": "2021-12-04T12:00:19.000Z"
   },
   {
    "duration": 450,
    "start_time": "2021-12-04T12:01:47.855Z"
   },
   {
    "duration": 284,
    "start_time": "2021-12-04T12:01:57.673Z"
   },
   {
    "duration": 337,
    "start_time": "2021-12-04T12:02:14.021Z"
   },
   {
    "duration": 311,
    "start_time": "2021-12-04T12:02:24.955Z"
   },
   {
    "duration": 317,
    "start_time": "2021-12-04T12:02:29.897Z"
   },
   {
    "duration": 8307,
    "start_time": "2021-12-04T12:08:06.772Z"
   },
   {
    "duration": 339,
    "start_time": "2021-12-04T12:08:35.117Z"
   },
   {
    "duration": 304,
    "start_time": "2021-12-04T12:08:43.208Z"
   },
   {
    "duration": 10,
    "start_time": "2021-12-04T12:09:48.641Z"
   },
   {
    "duration": 320,
    "start_time": "2021-12-04T12:10:13.959Z"
   },
   {
    "duration": 5,
    "start_time": "2021-12-04T12:10:21.252Z"
   },
   {
    "duration": 16,
    "start_time": "2021-12-04T12:10:21.852Z"
   },
   {
    "duration": 16,
    "start_time": "2021-12-04T12:10:23.474Z"
   },
   {
    "duration": 308,
    "start_time": "2021-12-04T12:10:25.692Z"
   },
   {
    "duration": 11,
    "start_time": "2021-12-04T12:10:26.208Z"
   },
   {
    "duration": 302,
    "start_time": "2021-12-04T12:11:26.731Z"
   },
   {
    "duration": 5,
    "start_time": "2021-12-04T12:11:32.923Z"
   },
   {
    "duration": 15,
    "start_time": "2021-12-04T12:11:33.374Z"
   },
   {
    "duration": 14,
    "start_time": "2021-12-04T12:11:34.031Z"
   },
   {
    "duration": 6,
    "start_time": "2021-12-04T12:11:39.507Z"
   },
   {
    "duration": 10,
    "start_time": "2021-12-04T12:11:41.630Z"
   },
   {
    "duration": 4,
    "start_time": "2021-12-04T12:11:46.666Z"
   },
   {
    "duration": 8003,
    "start_time": "2021-12-04T12:11:47.546Z"
   },
   {
    "duration": 4,
    "start_time": "2021-12-04T12:12:47.335Z"
   },
   {
    "duration": 7950,
    "start_time": "2021-12-04T12:12:47.999Z"
   },
   {
    "duration": 3,
    "start_time": "2021-12-04T12:13:47.161Z"
   },
   {
    "duration": 88,
    "start_time": "2021-12-04T12:13:57.821Z"
   },
   {
    "duration": 28,
    "start_time": "2021-12-04T12:13:57.912Z"
   },
   {
    "duration": 48,
    "start_time": "2021-12-04T12:13:57.944Z"
   },
   {
    "duration": 367,
    "start_time": "2021-12-04T12:13:57.996Z"
   },
   {
    "duration": 342,
    "start_time": "2021-12-04T12:13:58.366Z"
   },
   {
    "duration": 351,
    "start_time": "2021-12-04T12:13:58.710Z"
   },
   {
    "duration": 23,
    "start_time": "2021-12-04T12:13:59.063Z"
   },
   {
    "duration": 14,
    "start_time": "2021-12-04T12:13:59.092Z"
   },
   {
    "duration": 339,
    "start_time": "2021-12-04T12:13:59.110Z"
   },
   {
    "duration": 32,
    "start_time": "2021-12-04T12:13:59.452Z"
   },
   {
    "duration": 20,
    "start_time": "2021-12-04T12:13:59.486Z"
   },
   {
    "duration": 32,
    "start_time": "2021-12-04T12:13:59.509Z"
   },
   {
    "duration": 43,
    "start_time": "2021-12-04T12:13:59.543Z"
   },
   {
    "duration": 11,
    "start_time": "2021-12-04T12:13:59.591Z"
   },
   {
    "duration": 5,
    "start_time": "2021-12-04T12:13:59.605Z"
   },
   {
    "duration": 6,
    "start_time": "2021-12-04T12:13:59.612Z"
   },
   {
    "duration": 15,
    "start_time": "2021-12-04T12:13:59.620Z"
   },
   {
    "duration": 64,
    "start_time": "2021-12-04T12:13:59.637Z"
   },
   {
    "duration": 9,
    "start_time": "2021-12-04T12:13:59.703Z"
   },
   {
    "duration": 8,
    "start_time": "2021-12-04T12:13:59.715Z"
   },
   {
    "duration": 18,
    "start_time": "2021-12-04T12:13:59.726Z"
   },
   {
    "duration": 59,
    "start_time": "2021-12-04T12:13:59.747Z"
   },
   {
    "duration": 42,
    "start_time": "2021-12-04T12:13:59.811Z"
   },
   {
    "duration": 31,
    "start_time": "2021-12-04T12:13:59.856Z"
   },
   {
    "duration": 12,
    "start_time": "2021-12-04T12:13:59.890Z"
   },
   {
    "duration": 9,
    "start_time": "2021-12-04T12:13:59.909Z"
   },
   {
    "duration": 14,
    "start_time": "2021-12-04T12:13:59.921Z"
   },
   {
    "duration": 6,
    "start_time": "2021-12-04T12:13:59.938Z"
   },
   {
    "duration": 38,
    "start_time": "2021-12-04T12:13:59.947Z"
   },
   {
    "duration": 10,
    "start_time": "2021-12-04T12:13:59.988Z"
   },
   {
    "duration": 26,
    "start_time": "2021-12-04T12:14:00.001Z"
   },
   {
    "duration": 20,
    "start_time": "2021-12-04T12:14:00.029Z"
   },
   {
    "duration": 38,
    "start_time": "2021-12-04T12:14:00.051Z"
   },
   {
    "duration": 9,
    "start_time": "2021-12-04T12:14:00.093Z"
   },
   {
    "duration": 32,
    "start_time": "2021-12-04T12:14:00.105Z"
   },
   {
    "duration": 21,
    "start_time": "2021-12-04T12:14:00.140Z"
   },
   {
    "duration": 28,
    "start_time": "2021-12-04T12:14:00.164Z"
   },
   {
    "duration": 19,
    "start_time": "2021-12-04T12:14:00.194Z"
   },
   {
    "duration": 14,
    "start_time": "2021-12-04T12:14:00.216Z"
   },
   {
    "duration": 15,
    "start_time": "2021-12-04T12:14:00.232Z"
   },
   {
    "duration": 62,
    "start_time": "2021-12-04T12:14:00.249Z"
   },
   {
    "duration": 36,
    "start_time": "2021-12-04T12:14:00.314Z"
   },
   {
    "duration": 53,
    "start_time": "2021-12-04T12:14:00.353Z"
   },
   {
    "duration": 30,
    "start_time": "2021-12-04T12:14:00.408Z"
   },
   {
    "duration": 18,
    "start_time": "2021-12-04T12:14:00.440Z"
   },
   {
    "duration": 23,
    "start_time": "2021-12-04T12:14:00.461Z"
   },
   {
    "duration": 20,
    "start_time": "2021-12-04T12:14:00.487Z"
   },
   {
    "duration": 16,
    "start_time": "2021-12-04T12:14:00.510Z"
   },
   {
    "duration": 305,
    "start_time": "2021-12-04T12:14:00.529Z"
   },
   {
    "duration": 6,
    "start_time": "2021-12-04T12:14:00.838Z"
   },
   {
    "duration": 20,
    "start_time": "2021-12-04T12:14:00.847Z"
   },
   {
    "duration": 20,
    "start_time": "2021-12-04T12:14:00.884Z"
   },
   {
    "duration": 8,
    "start_time": "2021-12-04T12:14:00.906Z"
   },
   {
    "duration": 25,
    "start_time": "2021-12-04T12:14:00.916Z"
   },
   {
    "duration": 20,
    "start_time": "2021-12-04T12:14:00.944Z"
   },
   {
    "duration": 360,
    "start_time": "2021-12-04T12:14:14.604Z"
   },
   {
    "duration": 319,
    "start_time": "2021-12-04T12:14:58.206Z"
   },
   {
    "duration": 519,
    "start_time": "2021-12-04T14:13:40.599Z"
   },
   {
    "duration": 679,
    "start_time": "2021-12-04T14:15:34.214Z"
   },
   {
    "duration": 476,
    "start_time": "2021-12-04T14:15:45.898Z"
   },
   {
    "duration": 303,
    "start_time": "2021-12-04T14:16:02.138Z"
   },
   {
    "duration": 9118,
    "start_time": "2021-12-04T14:17:10.571Z"
   },
   {
    "duration": 481,
    "start_time": "2021-12-04T14:17:20.579Z"
   },
   {
    "duration": 64,
    "start_time": "2021-12-04T14:21:37.559Z"
   },
   {
    "duration": 464,
    "start_time": "2021-12-04T14:25:58.020Z"
   },
   {
    "duration": 5,
    "start_time": "2021-12-04T14:27:15.407Z"
   },
   {
    "duration": 14,
    "start_time": "2021-12-04T14:27:16.374Z"
   },
   {
    "duration": 12,
    "start_time": "2021-12-04T14:27:23.190Z"
   },
   {
    "duration": 6,
    "start_time": "2021-12-04T14:27:25.687Z"
   },
   {
    "duration": 11,
    "start_time": "2021-12-04T14:27:27.437Z"
   },
   {
    "duration": 5,
    "start_time": "2021-12-04T14:27:51.863Z"
   },
   {
    "duration": 224,
    "start_time": "2021-12-04T14:27:52.406Z"
   },
   {
    "duration": 5,
    "start_time": "2021-12-04T14:28:30.719Z"
   },
   {
    "duration": 13,
    "start_time": "2021-12-04T14:28:31.079Z"
   },
   {
    "duration": 10,
    "start_time": "2021-12-04T14:28:31.662Z"
   },
   {
    "duration": 8,
    "start_time": "2021-12-04T14:28:32.757Z"
   },
   {
    "duration": 13,
    "start_time": "2021-12-04T14:28:33.230Z"
   },
   {
    "duration": 4,
    "start_time": "2021-12-04T14:28:34.166Z"
   },
   {
    "duration": 265,
    "start_time": "2021-12-04T14:28:35.190Z"
   },
   {
    "duration": 286,
    "start_time": "2021-12-04T14:29:34.271Z"
   },
   {
    "duration": 6,
    "start_time": "2021-12-04T14:29:34.845Z"
   },
   {
    "duration": 6,
    "start_time": "2021-12-04T14:29:37.821Z"
   },
   {
    "duration": 13,
    "start_time": "2021-12-04T14:29:38.175Z"
   },
   {
    "duration": 10,
    "start_time": "2021-12-04T14:29:39.469Z"
   },
   {
    "duration": 6,
    "start_time": "2021-12-04T14:29:40.981Z"
   },
   {
    "duration": 10,
    "start_time": "2021-12-04T14:29:41.510Z"
   },
   {
    "duration": 4,
    "start_time": "2021-12-04T14:29:42.726Z"
   },
   {
    "duration": 249,
    "start_time": "2021-12-04T14:29:43.926Z"
   },
   {
    "duration": 52,
    "start_time": "2021-12-04T14:37:17.876Z"
   },
   {
    "duration": 28,
    "start_time": "2021-12-04T14:39:00.074Z"
   },
   {
    "duration": 95,
    "start_time": "2021-12-04T14:39:57.676Z"
   },
   {
    "duration": 712,
    "start_time": "2021-12-04T14:40:28.777Z"
   },
   {
    "duration": 65,
    "start_time": "2021-12-04T14:40:29.492Z"
   },
   {
    "duration": 25,
    "start_time": "2021-12-04T14:40:29.560Z"
   },
   {
    "duration": 19,
    "start_time": "2021-12-04T14:40:29.588Z"
   },
   {
    "duration": 334,
    "start_time": "2021-12-04T14:40:29.609Z"
   },
   {
    "duration": 308,
    "start_time": "2021-12-04T14:40:29.945Z"
   },
   {
    "duration": 339,
    "start_time": "2021-12-04T14:40:30.256Z"
   },
   {
    "duration": 34,
    "start_time": "2021-12-04T14:40:30.599Z"
   },
   {
    "duration": 48,
    "start_time": "2021-12-04T14:40:30.636Z"
   },
   {
    "duration": 21,
    "start_time": "2021-12-04T14:40:33.275Z"
   },
   {
    "duration": 89,
    "start_time": "2021-12-04T14:40:34.907Z"
   },
   {
    "duration": 24,
    "start_time": "2021-12-04T14:40:40.202Z"
   },
   {
    "duration": 12,
    "start_time": "2021-12-04T14:41:12.202Z"
   },
   {
    "duration": 11,
    "start_time": "2021-12-04T14:41:22.002Z"
   },
   {
    "duration": 9,
    "start_time": "2021-12-04T14:41:52.028Z"
   },
   {
    "duration": 9,
    "start_time": "2021-12-04T14:41:52.899Z"
   },
   {
    "duration": 290,
    "start_time": "2021-12-04T14:41:59.699Z"
   },
   {
    "duration": 143,
    "start_time": "2021-12-04T14:43:38.715Z"
   },
   {
    "duration": 110,
    "start_time": "2021-12-04T14:45:06.821Z"
   },
   {
    "duration": 124,
    "start_time": "2021-12-04T14:46:10.157Z"
   },
   {
    "duration": 437,
    "start_time": "2021-12-04T14:46:10.524Z"
   },
   {
    "duration": 288,
    "start_time": "2021-12-04T14:46:17.796Z"
   },
   {
    "duration": 1510,
    "start_time": "2021-12-04T14:46:37.195Z"
   },
   {
    "duration": 64,
    "start_time": "2021-12-04T14:46:38.708Z"
   },
   {
    "duration": 264,
    "start_time": "2021-12-04T14:46:38.775Z"
   },
   {
    "duration": 264,
    "start_time": "2021-12-04T14:46:39.041Z"
   },
   {
    "duration": 1056,
    "start_time": "2021-12-04T14:46:39.308Z"
   },
   {
    "duration": 295,
    "start_time": "2021-12-04T14:47:22.712Z"
   },
   {
    "duration": 150,
    "start_time": "2021-12-04T14:51:17.978Z"
   },
   {
    "duration": 22,
    "start_time": "2021-12-04T14:53:10.147Z"
   },
   {
    "duration": 39,
    "start_time": "2021-12-04T14:53:40.203Z"
   },
   {
    "duration": 94,
    "start_time": "2021-12-04T14:57:28.430Z"
   },
   {
    "duration": 6,
    "start_time": "2021-12-04T15:02:31.038Z"
   },
   {
    "duration": 1467,
    "start_time": "2021-12-04T15:02:43.191Z"
   },
   {
    "duration": 69,
    "start_time": "2021-12-04T15:02:44.661Z"
   },
   {
    "duration": 24,
    "start_time": "2021-12-04T15:02:44.733Z"
   },
   {
    "duration": 32,
    "start_time": "2021-12-04T15:02:44.759Z"
   },
   {
    "duration": 336,
    "start_time": "2021-12-04T15:02:44.794Z"
   },
   {
    "duration": 451,
    "start_time": "2021-12-04T15:02:45.133Z"
   },
   {
    "duration": 481,
    "start_time": "2021-12-04T15:02:45.587Z"
   },
   {
    "duration": 52,
    "start_time": "2021-12-04T15:02:46.081Z"
   },
   {
    "duration": 46,
    "start_time": "2021-12-04T15:02:46.136Z"
   },
   {
    "duration": 15,
    "start_time": "2021-12-04T15:02:46.185Z"
   },
   {
    "duration": 17,
    "start_time": "2021-12-04T15:02:46.203Z"
   },
   {
    "duration": 10,
    "start_time": "2021-12-04T15:02:46.223Z"
   },
   {
    "duration": 460,
    "start_time": "2021-12-04T15:02:46.236Z"
   },
   {
    "duration": 7,
    "start_time": "2021-12-04T15:02:54.249Z"
   },
   {
    "duration": 8,
    "start_time": "2021-12-04T15:03:10.672Z"
   },
   {
    "duration": 114,
    "start_time": "2021-12-04T15:04:45.632Z"
   },
   {
    "duration": 7,
    "start_time": "2021-12-04T15:04:50.129Z"
   },
   {
    "duration": 99,
    "start_time": "2021-12-04T15:10:21.771Z"
   },
   {
    "duration": 1388,
    "start_time": "2021-12-04T15:21:50.519Z"
   },
   {
    "duration": 65,
    "start_time": "2021-12-04T15:21:51.910Z"
   },
   {
    "duration": 26,
    "start_time": "2021-12-04T15:21:51.978Z"
   },
   {
    "duration": 17,
    "start_time": "2021-12-04T15:21:52.007Z"
   },
   {
    "duration": 322,
    "start_time": "2021-12-04T15:21:52.026Z"
   },
   {
    "duration": 296,
    "start_time": "2021-12-04T15:21:52.351Z"
   },
   {
    "duration": 317,
    "start_time": "2021-12-04T15:21:52.650Z"
   },
   {
    "duration": 42,
    "start_time": "2021-12-04T15:21:52.971Z"
   },
   {
    "duration": 20,
    "start_time": "2021-12-04T15:21:53.016Z"
   },
   {
    "duration": 45,
    "start_time": "2021-12-04T15:21:53.039Z"
   },
   {
    "duration": 15,
    "start_time": "2021-12-04T15:21:53.087Z"
   },
   {
    "duration": 9,
    "start_time": "2021-12-04T15:21:53.104Z"
   },
   {
    "duration": 316,
    "start_time": "2021-12-04T15:21:53.115Z"
   },
   {
    "duration": 8,
    "start_time": "2021-12-04T15:21:53.434Z"
   },
   {
    "duration": 7,
    "start_time": "2021-12-04T15:21:53.446Z"
   },
   {
    "duration": 44,
    "start_time": "2021-12-04T15:21:53.456Z"
   },
   {
    "duration": 18,
    "start_time": "2021-12-04T15:21:53.503Z"
   },
   {
    "duration": 62,
    "start_time": "2021-12-04T15:21:53.523Z"
   },
   {
    "duration": 10,
    "start_time": "2021-12-04T15:22:01.396Z"
   },
   {
    "duration": 27,
    "start_time": "2021-12-04T15:22:04.645Z"
   },
   {
    "duration": 14,
    "start_time": "2021-12-04T15:22:35.415Z"
   },
   {
    "duration": 26,
    "start_time": "2021-12-04T15:22:36.350Z"
   },
   {
    "duration": 1431,
    "start_time": "2021-12-04T15:23:13.521Z"
   },
   {
    "duration": 69,
    "start_time": "2021-12-04T15:23:14.955Z"
   },
   {
    "duration": 25,
    "start_time": "2021-12-04T15:23:15.028Z"
   },
   {
    "duration": 37,
    "start_time": "2021-12-04T15:23:15.057Z"
   },
   {
    "duration": 332,
    "start_time": "2021-12-04T15:23:15.098Z"
   },
   {
    "duration": 324,
    "start_time": "2021-12-04T15:23:15.433Z"
   },
   {
    "duration": 323,
    "start_time": "2021-12-04T15:23:15.759Z"
   },
   {
    "duration": 36,
    "start_time": "2021-12-04T15:23:16.086Z"
   },
   {
    "duration": 20,
    "start_time": "2021-12-04T15:23:16.125Z"
   },
   {
    "duration": 42,
    "start_time": "2021-12-04T15:23:16.148Z"
   },
   {
    "duration": 13,
    "start_time": "2021-12-04T15:23:16.192Z"
   },
   {
    "duration": 9,
    "start_time": "2021-12-04T15:23:16.208Z"
   },
   {
    "duration": 325,
    "start_time": "2021-12-04T15:23:16.219Z"
   },
   {
    "duration": 10,
    "start_time": "2021-12-04T15:23:16.547Z"
   },
   {
    "duration": 24,
    "start_time": "2021-12-04T15:23:16.559Z"
   },
   {
    "duration": 15,
    "start_time": "2021-12-04T15:23:16.586Z"
   },
   {
    "duration": 14,
    "start_time": "2021-12-04T15:23:16.603Z"
   },
   {
    "duration": 63,
    "start_time": "2021-12-04T15:23:16.620Z"
   },
   {
    "duration": 8,
    "start_time": "2021-12-04T15:23:16.686Z"
   },
   {
    "duration": 10,
    "start_time": "2021-12-04T15:23:19.808Z"
   },
   {
    "duration": 9,
    "start_time": "2021-12-04T15:23:20.511Z"
   },
   {
    "duration": 19,
    "start_time": "2021-12-04T15:23:22.864Z"
   },
   {
    "duration": 1937,
    "start_time": "2021-12-04T15:23:42.600Z"
   },
   {
    "duration": 90,
    "start_time": "2021-12-04T15:23:44.540Z"
   },
   {
    "duration": 34,
    "start_time": "2021-12-04T15:23:44.634Z"
   },
   {
    "duration": 30,
    "start_time": "2021-12-04T15:23:44.671Z"
   },
   {
    "duration": 317,
    "start_time": "2021-12-04T15:23:44.703Z"
   },
   {
    "duration": 301,
    "start_time": "2021-12-04T15:23:45.023Z"
   },
   {
    "duration": 323,
    "start_time": "2021-12-04T15:23:45.327Z"
   },
   {
    "duration": 63,
    "start_time": "2021-12-04T15:23:45.655Z"
   },
   {
    "duration": 29,
    "start_time": "2021-12-04T15:23:45.722Z"
   },
   {
    "duration": 33,
    "start_time": "2021-12-04T15:23:45.754Z"
   },
   {
    "duration": 17,
    "start_time": "2021-12-04T15:23:45.790Z"
   },
   {
    "duration": 9,
    "start_time": "2021-12-04T15:23:45.809Z"
   },
   {
    "duration": 316,
    "start_time": "2021-12-04T15:23:45.820Z"
   },
   {
    "duration": 6,
    "start_time": "2021-12-04T15:23:46.138Z"
   },
   {
    "duration": 10,
    "start_time": "2021-12-04T15:23:46.146Z"
   },
   {
    "duration": 35,
    "start_time": "2021-12-04T15:23:46.158Z"
   },
   {
    "duration": 21,
    "start_time": "2021-12-04T15:23:46.196Z"
   },
   {
    "duration": 27,
    "start_time": "2021-12-04T15:23:46.219Z"
   },
   {
    "duration": 9,
    "start_time": "2021-12-04T15:23:46.283Z"
   },
   {
    "duration": 8,
    "start_time": "2021-12-04T15:23:47.663Z"
   },
   {
    "duration": 27,
    "start_time": "2021-12-04T15:23:48.231Z"
   },
   {
    "duration": 9,
    "start_time": "2021-12-04T15:23:52.966Z"
   },
   {
    "duration": 27,
    "start_time": "2021-12-04T15:23:56.815Z"
   },
   {
    "duration": 9,
    "start_time": "2021-12-04T15:24:13.655Z"
   },
   {
    "duration": 11,
    "start_time": "2021-12-04T15:24:14.398Z"
   },
   {
    "duration": 8,
    "start_time": "2021-12-04T15:33:09.177Z"
   },
   {
    "duration": 9,
    "start_time": "2021-12-04T15:33:09.834Z"
   },
   {
    "duration": 15,
    "start_time": "2021-12-04T15:35:24.521Z"
   },
   {
    "duration": 16,
    "start_time": "2021-12-04T18:08:17.650Z"
   },
   {
    "duration": 6,
    "start_time": "2021-12-04T18:08:21.208Z"
   },
   {
    "duration": 7,
    "start_time": "2021-12-04T18:08:21.851Z"
   },
   {
    "duration": 23,
    "start_time": "2021-12-04T18:08:25.144Z"
   },
   {
    "duration": 32,
    "start_time": "2021-12-04T18:08:29.074Z"
   },
   {
    "duration": 44,
    "start_time": "2021-12-04T18:08:32.801Z"
   },
   {
    "duration": 7,
    "start_time": "2021-12-04T18:08:38.047Z"
   },
   {
    "duration": 11,
    "start_time": "2021-12-04T18:08:39.314Z"
   },
   {
    "duration": 12,
    "start_time": "2021-12-04T18:08:48.002Z"
   },
   {
    "duration": 7,
    "start_time": "2021-12-04T18:08:48.547Z"
   },
   {
    "duration": 6,
    "start_time": "2021-12-04T18:08:51.060Z"
   },
   {
    "duration": 6,
    "start_time": "2021-12-04T18:08:58.012Z"
   },
   {
    "duration": 7,
    "start_time": "2021-12-04T18:09:01.707Z"
   },
   {
    "duration": 15,
    "start_time": "2021-12-04T18:09:05.266Z"
   },
   {
    "duration": 9,
    "start_time": "2021-12-04T18:09:05.787Z"
   },
   {
    "duration": 9,
    "start_time": "2021-12-04T18:09:07.273Z"
   },
   {
    "duration": 111,
    "start_time": "2021-12-04T18:25:51.115Z"
   },
   {
    "duration": 103,
    "start_time": "2021-12-04T18:28:58.475Z"
   },
   {
    "duration": 131,
    "start_time": "2021-12-04T18:31:21.519Z"
   },
   {
    "duration": 7,
    "start_time": "2021-12-04T18:31:30.428Z"
   },
   {
    "duration": 6,
    "start_time": "2021-12-04T18:31:31.214Z"
   },
   {
    "duration": 99,
    "start_time": "2021-12-04T18:34:49.271Z"
   },
   {
    "duration": 8,
    "start_time": "2021-12-04T18:34:57.149Z"
   },
   {
    "duration": 10,
    "start_time": "2021-12-04T18:35:57.950Z"
   },
   {
    "duration": 31,
    "start_time": "2021-12-04T18:36:00.718Z"
   },
   {
    "duration": 22,
    "start_time": "2021-12-04T18:36:13.926Z"
   },
   {
    "duration": 27,
    "start_time": "2021-12-04T18:36:19.925Z"
   },
   {
    "duration": 23,
    "start_time": "2021-12-04T18:36:20.406Z"
   },
   {
    "duration": 5,
    "start_time": "2021-12-04T18:43:47.100Z"
   },
   {
    "duration": 11,
    "start_time": "2021-12-04T18:43:52.955Z"
   },
   {
    "duration": 409,
    "start_time": "2021-12-04T18:45:22.904Z"
   },
   {
    "duration": 1849,
    "start_time": "2021-12-04T18:47:11.467Z"
   },
   {
    "duration": 88,
    "start_time": "2021-12-04T18:47:13.319Z"
   },
   {
    "duration": 34,
    "start_time": "2021-12-04T18:47:13.411Z"
   },
   {
    "duration": 39,
    "start_time": "2021-12-04T18:47:13.448Z"
   },
   {
    "duration": 326,
    "start_time": "2021-12-04T18:47:13.489Z"
   },
   {
    "duration": 345,
    "start_time": "2021-12-04T18:47:13.817Z"
   },
   {
    "duration": 321,
    "start_time": "2021-12-04T18:47:14.164Z"
   },
   {
    "duration": 36,
    "start_time": "2021-12-04T18:47:14.488Z"
   },
   {
    "duration": 20,
    "start_time": "2021-12-04T18:47:14.527Z"
   },
   {
    "duration": 37,
    "start_time": "2021-12-04T18:47:14.549Z"
   },
   {
    "duration": 14,
    "start_time": "2021-12-04T18:47:14.589Z"
   },
   {
    "duration": 8,
    "start_time": "2021-12-04T18:47:14.606Z"
   },
   {
    "duration": 328,
    "start_time": "2021-12-04T18:47:14.616Z"
   },
   {
    "duration": 6,
    "start_time": "2021-12-04T18:47:14.946Z"
   },
   {
    "duration": 30,
    "start_time": "2021-12-04T18:47:14.954Z"
   },
   {
    "duration": 12,
    "start_time": "2021-12-04T18:47:14.986Z"
   },
   {
    "duration": 24,
    "start_time": "2021-12-04T18:47:15.000Z"
   },
   {
    "duration": 59,
    "start_time": "2021-12-04T18:47:15.026Z"
   },
   {
    "duration": 9,
    "start_time": "2021-12-04T18:47:15.087Z"
   },
   {
    "duration": 11,
    "start_time": "2021-12-04T18:47:15.099Z"
   },
   {
    "duration": 15,
    "start_time": "2021-12-04T18:47:15.112Z"
   },
   {
    "duration": 52,
    "start_time": "2021-12-04T18:47:15.130Z"
   },
   {
    "duration": 5,
    "start_time": "2021-12-04T18:47:15.189Z"
   },
   {
    "duration": 8,
    "start_time": "2021-12-04T18:47:15.198Z"
   },
   {
    "duration": 18,
    "start_time": "2021-12-04T18:47:15.209Z"
   },
   {
    "duration": 62,
    "start_time": "2021-12-04T18:47:15.230Z"
   },
   {
    "duration": 42,
    "start_time": "2021-12-04T18:47:15.294Z"
   },
   {
    "duration": 6,
    "start_time": "2021-12-04T18:47:15.339Z"
   },
   {
    "duration": 35,
    "start_time": "2021-12-04T18:47:15.347Z"
   },
   {
    "duration": 9,
    "start_time": "2021-12-04T18:47:15.385Z"
   },
   {
    "duration": 9,
    "start_time": "2021-12-04T18:47:15.396Z"
   },
   {
    "duration": 7,
    "start_time": "2021-12-04T18:47:15.407Z"
   },
   {
    "duration": 17,
    "start_time": "2021-12-04T18:47:15.417Z"
   },
   {
    "duration": 51,
    "start_time": "2021-12-04T18:47:15.437Z"
   },
   {
    "duration": 9,
    "start_time": "2021-12-04T18:47:15.492Z"
   },
   {
    "duration": 9,
    "start_time": "2021-12-04T18:47:15.504Z"
   },
   {
    "duration": 68,
    "start_time": "2021-12-04T18:47:15.516Z"
   },
   {
    "duration": 10,
    "start_time": "2021-12-04T18:47:15.588Z"
   },
   {
    "duration": 9,
    "start_time": "2021-12-04T18:47:15.600Z"
   },
   {
    "duration": 11,
    "start_time": "2021-12-04T18:47:15.611Z"
   },
   {
    "duration": 13,
    "start_time": "2021-12-04T18:47:15.625Z"
   },
   {
    "duration": 11,
    "start_time": "2021-12-04T18:47:15.682Z"
   },
   {
    "duration": 28,
    "start_time": "2021-12-04T18:47:15.696Z"
   },
   {
    "duration": 55,
    "start_time": "2021-12-04T18:47:15.727Z"
   },
   {
    "duration": 25,
    "start_time": "2021-12-04T18:47:15.785Z"
   },
   {
    "duration": 32,
    "start_time": "2021-12-04T18:47:15.813Z"
   },
   {
    "duration": 38,
    "start_time": "2021-12-04T18:47:15.848Z"
   },
   {
    "duration": 11,
    "start_time": "2021-12-04T18:47:15.889Z"
   },
   {
    "duration": 14,
    "start_time": "2021-12-04T18:47:15.903Z"
   },
   {
    "duration": 7469,
    "start_time": "2021-12-04T18:47:15.920Z"
   },
   {
    "duration": 10,
    "start_time": "2021-12-04T18:47:23.383Z"
   },
   {
    "duration": 1,
    "start_time": "2021-12-04T18:47:23.394Z"
   },
   {
    "duration": -18,
    "start_time": "2021-12-04T18:47:23.415Z"
   },
   {
    "duration": -48,
    "start_time": "2021-12-04T18:47:23.448Z"
   },
   {
    "duration": -68,
    "start_time": "2021-12-04T18:47:23.470Z"
   },
   {
    "duration": -91,
    "start_time": "2021-12-04T18:47:23.495Z"
   },
   {
    "duration": -112,
    "start_time": "2021-12-04T18:47:23.518Z"
   },
   {
    "duration": -135,
    "start_time": "2021-12-04T18:47:23.543Z"
   },
   {
    "duration": 6838,
    "start_time": "2021-12-04T18:47:37.570Z"
   },
   {
    "duration": 6825,
    "start_time": "2021-12-04T18:48:14.290Z"
   },
   {
    "duration": 12,
    "start_time": "2021-12-04T18:49:46.507Z"
   },
   {
    "duration": 6841,
    "start_time": "2021-12-04T18:49:52.050Z"
   },
   {
    "duration": 292,
    "start_time": "2021-12-04T18:50:12.290Z"
   },
   {
    "duration": 6727,
    "start_time": "2021-12-04T18:50:13.562Z"
   },
   {
    "duration": 293,
    "start_time": "2021-12-04T18:50:31.226Z"
   },
   {
    "duration": 10,
    "start_time": "2021-12-04T18:50:55.947Z"
   },
   {
    "duration": 1501,
    "start_time": "2021-12-04T18:51:07.969Z"
   },
   {
    "duration": 64,
    "start_time": "2021-12-04T18:51:09.473Z"
   },
   {
    "duration": 23,
    "start_time": "2021-12-04T18:51:09.540Z"
   },
   {
    "duration": 28,
    "start_time": "2021-12-04T18:51:09.566Z"
   },
   {
    "duration": 319,
    "start_time": "2021-12-04T18:51:09.597Z"
   },
   {
    "duration": 319,
    "start_time": "2021-12-04T18:51:09.919Z"
   },
   {
    "duration": 329,
    "start_time": "2021-12-04T18:51:10.241Z"
   },
   {
    "duration": 40,
    "start_time": "2021-12-04T18:51:10.575Z"
   },
   {
    "duration": 21,
    "start_time": "2021-12-04T18:51:10.618Z"
   },
   {
    "duration": 44,
    "start_time": "2021-12-04T18:51:10.642Z"
   },
   {
    "duration": 14,
    "start_time": "2021-12-04T18:51:10.689Z"
   },
   {
    "duration": 8,
    "start_time": "2021-12-04T18:51:10.706Z"
   },
   {
    "duration": 308,
    "start_time": "2021-12-04T18:51:10.716Z"
   },
   {
    "duration": 7,
    "start_time": "2021-12-04T18:51:11.026Z"
   },
   {
    "duration": 6,
    "start_time": "2021-12-04T18:51:11.036Z"
   },
   {
    "duration": 43,
    "start_time": "2021-12-04T18:51:11.044Z"
   },
   {
    "duration": 13,
    "start_time": "2021-12-04T18:51:11.089Z"
   },
   {
    "duration": 26,
    "start_time": "2021-12-04T18:51:11.105Z"
   },
   {
    "duration": 9,
    "start_time": "2021-12-04T18:51:11.133Z"
   },
   {
    "duration": 42,
    "start_time": "2021-12-04T18:51:11.144Z"
   },
   {
    "duration": 13,
    "start_time": "2021-12-04T18:51:11.189Z"
   },
   {
    "duration": 14,
    "start_time": "2021-12-04T18:51:11.205Z"
   },
   {
    "duration": 4,
    "start_time": "2021-12-04T18:51:11.225Z"
   },
   {
    "duration": 49,
    "start_time": "2021-12-04T18:51:11.233Z"
   },
   {
    "duration": 19,
    "start_time": "2021-12-04T18:51:11.285Z"
   },
   {
    "duration": 22,
    "start_time": "2021-12-04T18:51:11.306Z"
   },
   {
    "duration": 75,
    "start_time": "2021-12-04T18:51:11.330Z"
   },
   {
    "duration": 6,
    "start_time": "2021-12-04T18:51:11.407Z"
   },
   {
    "duration": 13,
    "start_time": "2021-12-04T18:51:11.415Z"
   },
   {
    "duration": 10,
    "start_time": "2021-12-04T18:51:11.430Z"
   },
   {
    "duration": 41,
    "start_time": "2021-12-04T18:51:11.443Z"
   },
   {
    "duration": 8,
    "start_time": "2021-12-04T18:51:11.486Z"
   },
   {
    "duration": 17,
    "start_time": "2021-12-04T18:51:11.496Z"
   },
   {
    "duration": 13,
    "start_time": "2021-12-04T18:51:11.516Z"
   },
   {
    "duration": 51,
    "start_time": "2021-12-04T18:51:11.531Z"
   },
   {
    "duration": 7,
    "start_time": "2021-12-04T18:51:11.584Z"
   },
   {
    "duration": 19,
    "start_time": "2021-12-04T18:51:11.593Z"
   },
   {
    "duration": 9,
    "start_time": "2021-12-04T18:51:11.615Z"
   },
   {
    "duration": 9,
    "start_time": "2021-12-04T18:51:11.627Z"
   },
   {
    "duration": 8,
    "start_time": "2021-12-04T18:51:11.682Z"
   },
   {
    "duration": 8,
    "start_time": "2021-12-04T18:51:11.692Z"
   },
   {
    "duration": 10,
    "start_time": "2021-12-04T18:51:11.703Z"
   },
   {
    "duration": 66,
    "start_time": "2021-12-04T18:51:11.716Z"
   },
   {
    "duration": 28,
    "start_time": "2021-12-04T18:51:11.784Z"
   },
   {
    "duration": 23,
    "start_time": "2021-12-04T18:51:11.815Z"
   },
   {
    "duration": 54,
    "start_time": "2021-12-04T18:51:11.840Z"
   },
   {
    "duration": 8,
    "start_time": "2021-12-04T18:51:11.897Z"
   },
   {
    "duration": 8,
    "start_time": "2021-12-04T18:51:11.907Z"
   },
   {
    "duration": 12,
    "start_time": "2021-12-04T18:51:28.385Z"
   },
   {
    "duration": 7359,
    "start_time": "2021-12-04T18:52:15.369Z"
   },
   {
    "duration": 11,
    "start_time": "2021-12-04T18:52:38.136Z"
   },
   {
    "duration": 7109,
    "start_time": "2021-12-04T18:52:49.192Z"
   },
   {
    "duration": 26,
    "start_time": "2021-12-04T18:54:19.953Z"
   },
   {
    "duration": 23,
    "start_time": "2021-12-04T18:54:20.433Z"
   },
   {
    "duration": 23,
    "start_time": "2021-12-04T18:54:29.178Z"
   },
   {
    "duration": 17,
    "start_time": "2021-12-04T18:54:49.201Z"
   },
   {
    "duration": 5,
    "start_time": "2021-12-04T18:55:04.170Z"
   },
   {
    "duration": 6,
    "start_time": "2021-12-04T18:55:04.704Z"
   },
   {
    "duration": 13,
    "start_time": "2021-12-04T18:55:05.257Z"
   },
   {
    "duration": 7210,
    "start_time": "2021-12-04T18:55:31.832Z"
   },
   {
    "duration": 11,
    "start_time": "2021-12-04T18:57:15.130Z"
   },
   {
    "duration": 7463,
    "start_time": "2021-12-04T18:57:20.042Z"
   },
   {
    "duration": -14,
    "start_time": "2021-12-04T18:57:27.522Z"
   },
   {
    "duration": 9,
    "start_time": "2021-12-04T18:57:44.601Z"
   },
   {
    "duration": 7671,
    "start_time": "2021-12-04T18:58:23.132Z"
   },
   {
    "duration": 7385,
    "start_time": "2021-12-04T18:58:36.284Z"
   },
   {
    "duration": 5,
    "start_time": "2021-12-04T18:59:00.117Z"
   },
   {
    "duration": 7169,
    "start_time": "2021-12-04T18:59:02.898Z"
   },
   {
    "duration": 348,
    "start_time": "2021-12-04T18:59:26.044Z"
   },
   {
    "duration": 18,
    "start_time": "2021-12-04T19:00:56.293Z"
   },
   {
    "duration": 7,
    "start_time": "2021-12-04T19:00:57.579Z"
   },
   {
    "duration": 8,
    "start_time": "2021-12-04T19:00:58.244Z"
   },
   {
    "duration": 12,
    "start_time": "2021-12-04T19:00:59.524Z"
   },
   {
    "duration": 13,
    "start_time": "2021-12-04T19:01:00.803Z"
   },
   {
    "duration": 10,
    "start_time": "2021-12-04T19:01:01.348Z"
   },
   {
    "duration": 6,
    "start_time": "2021-12-04T19:01:02.562Z"
   },
   {
    "duration": 246,
    "start_time": "2021-12-04T19:01:04.291Z"
   },
   {
    "duration": 13,
    "start_time": "2021-12-04T19:01:32.653Z"
   },
   {
    "duration": 6,
    "start_time": "2021-12-04T19:01:33.115Z"
   },
   {
    "duration": 11,
    "start_time": "2021-12-04T19:01:33.571Z"
   },
   {
    "duration": 450,
    "start_time": "2021-12-04T19:01:37.564Z"
   },
   {
    "duration": 6,
    "start_time": "2021-12-04T19:03:42.007Z"
   },
   {
    "duration": 14,
    "start_time": "2021-12-04T19:03:44.436Z"
   },
   {
    "duration": 11,
    "start_time": "2021-12-04T19:04:05.620Z"
   },
   {
    "duration": 7020,
    "start_time": "2021-12-04T19:04:06.284Z"
   },
   {
    "duration": -2,
    "start_time": "2021-12-04T19:04:13.309Z"
   },
   {
    "duration": 5,
    "start_time": "2021-12-04T19:04:21.734Z"
   },
   {
    "duration": 14,
    "start_time": "2021-12-04T19:04:26.491Z"
   },
   {
    "duration": 5,
    "start_time": "2021-12-04T19:04:36.581Z"
   },
   {
    "duration": 11,
    "start_time": "2021-12-04T19:04:37.061Z"
   },
   {
    "duration": 5,
    "start_time": "2021-12-04T19:04:37.484Z"
   },
   {
    "duration": 18,
    "start_time": "2021-12-04T19:04:37.892Z"
   },
   {
    "duration": 10,
    "start_time": "2021-12-04T19:04:51.012Z"
   },
   {
    "duration": 4,
    "start_time": "2021-12-04T19:05:18.004Z"
   },
   {
    "duration": 265,
    "start_time": "2021-12-04T19:05:18.476Z"
   },
   {
    "duration": 305,
    "start_time": "2021-12-04T19:17:05.300Z"
   },
   {
    "duration": 291,
    "start_time": "2021-12-04T19:17:34.082Z"
   },
   {
    "duration": 299,
    "start_time": "2021-12-04T19:18:30.916Z"
   },
   {
    "duration": 5,
    "start_time": "2021-12-04T19:18:50.682Z"
   },
   {
    "duration": 11,
    "start_time": "2021-12-04T19:18:52.835Z"
   },
   {
    "duration": 21,
    "start_time": "2021-12-04T19:20:20.107Z"
   },
   {
    "duration": 29,
    "start_time": "2021-12-04T19:22:11.285Z"
   },
   {
    "duration": 15,
    "start_time": "2021-12-04T19:22:20.627Z"
   },
   {
    "duration": 10,
    "start_time": "2021-12-04T19:22:27.695Z"
   },
   {
    "duration": 9,
    "start_time": "2021-12-04T19:22:30.747Z"
   },
   {
    "duration": 6,
    "start_time": "2021-12-04T19:25:09.859Z"
   },
   {
    "duration": 12,
    "start_time": "2021-12-04T19:25:10.361Z"
   },
   {
    "duration": 6,
    "start_time": "2021-12-04T19:25:10.805Z"
   },
   {
    "duration": 10,
    "start_time": "2021-12-04T19:25:11.373Z"
   },
   {
    "duration": 4,
    "start_time": "2021-12-04T19:25:12.955Z"
   },
   {
    "duration": 261,
    "start_time": "2021-12-04T19:25:17.656Z"
   },
   {
    "duration": 6,
    "start_time": "2021-12-04T19:25:20.488Z"
   },
   {
    "duration": 12,
    "start_time": "2021-12-04T19:25:21.482Z"
   },
   {
    "duration": 14,
    "start_time": "2021-12-04T19:25:29.282Z"
   },
   {
    "duration": 13,
    "start_time": "2021-12-04T19:26:08.940Z"
   },
   {
    "duration": 29,
    "start_time": "2021-12-04T19:26:11.019Z"
   },
   {
    "duration": 306,
    "start_time": "2021-12-04T19:26:16.273Z"
   },
   {
    "duration": 428,
    "start_time": "2021-12-04T19:27:11.937Z"
   },
   {
    "duration": 276,
    "start_time": "2021-12-04T19:27:24.702Z"
   },
   {
    "duration": 19,
    "start_time": "2021-12-04T19:27:51.242Z"
   },
   {
    "duration": 10,
    "start_time": "2021-12-04T19:31:06.773Z"
   },
   {
    "duration": 291,
    "start_time": "2021-12-04T19:31:15.101Z"
   },
   {
    "duration": 20,
    "start_time": "2021-12-04T19:31:17.172Z"
   },
   {
    "duration": 26,
    "start_time": "2021-12-04T19:41:45.057Z"
   },
   {
    "duration": 10,
    "start_time": "2021-12-04T19:42:18.262Z"
   },
   {
    "duration": 28,
    "start_time": "2021-12-04T19:43:07.233Z"
   },
   {
    "duration": 295,
    "start_time": "2021-12-04T19:45:07.897Z"
   },
   {
    "duration": 295,
    "start_time": "2021-12-04T19:47:33.979Z"
   },
   {
    "duration": 18,
    "start_time": "2021-12-04T19:51:15.219Z"
   },
   {
    "duration": 125,
    "start_time": "2021-12-04T19:51:59.040Z"
   },
   {
    "duration": 7,
    "start_time": "2021-12-04T19:52:58.163Z"
   },
   {
    "duration": 7,
    "start_time": "2021-12-04T19:53:00.211Z"
   },
   {
    "duration": 80,
    "start_time": "2021-12-04T19:53:56.398Z"
   },
   {
    "duration": 1363,
    "start_time": "2021-12-04T19:53:59.534Z"
   },
   {
    "duration": 30,
    "start_time": "2021-12-04T19:54:14.619Z"
   },
   {
    "duration": 325,
    "start_time": "2021-12-04T19:55:13.242Z"
   },
   {
    "duration": 12,
    "start_time": "2021-12-04T19:55:18.472Z"
   },
   {
    "duration": 77,
    "start_time": "2021-12-04T19:55:30.707Z"
   },
   {
    "duration": 141,
    "start_time": "2021-12-04T19:55:35.165Z"
   },
   {
    "duration": 31,
    "start_time": "2021-12-04T19:55:39.911Z"
   },
   {
    "duration": 75,
    "start_time": "2021-12-04T19:55:48.633Z"
   },
   {
    "duration": 34,
    "start_time": "2021-12-04T19:55:56.442Z"
   },
   {
    "duration": 269,
    "start_time": "2021-12-04T19:56:22.308Z"
   },
   {
    "duration": 297,
    "start_time": "2021-12-04T19:57:12.530Z"
   },
   {
    "duration": 147,
    "start_time": "2021-12-04T19:59:08.351Z"
   },
   {
    "duration": 35,
    "start_time": "2021-12-04T19:59:13.938Z"
   },
   {
    "duration": 297,
    "start_time": "2021-12-04T20:00:03.056Z"
   },
   {
    "duration": 1539,
    "start_time": "2021-12-04T20:00:35.332Z"
   },
   {
    "duration": 68,
    "start_time": "2021-12-04T20:00:36.874Z"
   },
   {
    "duration": 25,
    "start_time": "2021-12-04T20:00:36.945Z"
   },
   {
    "duration": 19,
    "start_time": "2021-12-04T20:00:36.984Z"
   },
   {
    "duration": 330,
    "start_time": "2021-12-04T20:00:37.005Z"
   },
   {
    "duration": 299,
    "start_time": "2021-12-04T20:00:37.337Z"
   },
   {
    "duration": 339,
    "start_time": "2021-12-04T20:00:37.638Z"
   },
   {
    "duration": 39,
    "start_time": "2021-12-04T20:00:37.980Z"
   },
   {
    "duration": 20,
    "start_time": "2021-12-04T20:00:38.023Z"
   },
   {
    "duration": 44,
    "start_time": "2021-12-04T20:00:38.046Z"
   },
   {
    "duration": 26,
    "start_time": "2021-12-04T20:00:38.092Z"
   },
   {
    "duration": 8,
    "start_time": "2021-12-04T20:00:38.121Z"
   },
   {
    "duration": 314,
    "start_time": "2021-12-04T20:00:38.132Z"
   },
   {
    "duration": 7,
    "start_time": "2021-12-04T20:00:38.448Z"
   },
   {
    "duration": 27,
    "start_time": "2021-12-04T20:00:38.457Z"
   },
   {
    "duration": 14,
    "start_time": "2021-12-04T20:00:38.486Z"
   },
   {
    "duration": 15,
    "start_time": "2021-12-04T20:00:38.502Z"
   },
   {
    "duration": 71,
    "start_time": "2021-12-04T20:00:38.519Z"
   },
   {
    "duration": 9,
    "start_time": "2021-12-04T20:00:38.592Z"
   },
   {
    "duration": 11,
    "start_time": "2021-12-04T20:00:38.603Z"
   },
   {
    "duration": 12,
    "start_time": "2021-12-04T20:00:38.617Z"
   },
   {
    "duration": 58,
    "start_time": "2021-12-04T20:00:38.631Z"
   },
   {
    "duration": 5,
    "start_time": "2021-12-04T20:00:38.696Z"
   },
   {
    "duration": 5,
    "start_time": "2021-12-04T20:00:38.705Z"
   },
   {
    "duration": 23,
    "start_time": "2021-12-04T20:00:38.713Z"
   },
   {
    "duration": 59,
    "start_time": "2021-12-04T20:00:38.739Z"
   },
   {
    "duration": 44,
    "start_time": "2021-12-04T20:00:38.801Z"
   },
   {
    "duration": 6,
    "start_time": "2021-12-04T20:00:38.848Z"
   },
   {
    "duration": 11,
    "start_time": "2021-12-04T20:00:38.883Z"
   },
   {
    "duration": 12,
    "start_time": "2021-12-04T20:00:38.897Z"
   },
   {
    "duration": 11,
    "start_time": "2021-12-04T20:00:38.912Z"
   },
   {
    "duration": 11,
    "start_time": "2021-12-04T20:00:38.925Z"
   },
   {
    "duration": 53,
    "start_time": "2021-12-04T20:00:38.939Z"
   },
   {
    "duration": 17,
    "start_time": "2021-12-04T20:00:38.994Z"
   },
   {
    "duration": 9,
    "start_time": "2021-12-04T20:00:39.014Z"
   },
   {
    "duration": 8,
    "start_time": "2021-12-04T20:00:39.026Z"
   },
   {
    "duration": 47,
    "start_time": "2021-12-04T20:00:39.037Z"
   },
   {
    "duration": 15,
    "start_time": "2021-12-04T20:00:39.087Z"
   },
   {
    "duration": 11,
    "start_time": "2021-12-04T20:00:39.105Z"
   },
   {
    "duration": 13,
    "start_time": "2021-12-04T20:00:39.119Z"
   },
   {
    "duration": 47,
    "start_time": "2021-12-04T20:00:39.135Z"
   },
   {
    "duration": 11,
    "start_time": "2021-12-04T20:00:39.184Z"
   },
   {
    "duration": 28,
    "start_time": "2021-12-04T20:00:39.198Z"
   },
   {
    "duration": 66,
    "start_time": "2021-12-04T20:00:39.229Z"
   },
   {
    "duration": 26,
    "start_time": "2021-12-04T20:00:39.298Z"
   },
   {
    "duration": 17,
    "start_time": "2021-12-04T20:00:39.327Z"
   },
   {
    "duration": 36,
    "start_time": "2021-12-04T20:00:39.346Z"
   },
   {
    "duration": 10,
    "start_time": "2021-12-04T20:00:39.385Z"
   },
   {
    "duration": 16,
    "start_time": "2021-12-04T20:00:39.398Z"
   },
   {
    "duration": 12,
    "start_time": "2021-12-04T20:00:39.417Z"
   },
   {
    "duration": 411,
    "start_time": "2021-12-04T20:00:39.432Z"
   },
   {
    "duration": -1048,
    "start_time": "2021-12-04T20:00:40.895Z"
   },
   {
    "duration": -1057,
    "start_time": "2021-12-04T20:00:40.905Z"
   },
   {
    "duration": -1063,
    "start_time": "2021-12-04T20:00:40.913Z"
   },
   {
    "duration": -1070,
    "start_time": "2021-12-04T20:00:40.922Z"
   },
   {
    "duration": -1076,
    "start_time": "2021-12-04T20:00:40.930Z"
   },
   {
    "duration": -1083,
    "start_time": "2021-12-04T20:00:40.939Z"
   },
   {
    "duration": -1090,
    "start_time": "2021-12-04T20:00:40.948Z"
   },
   {
    "duration": -1096,
    "start_time": "2021-12-04T20:00:40.956Z"
   },
   {
    "duration": -1102,
    "start_time": "2021-12-04T20:00:40.965Z"
   },
   {
    "duration": -1108,
    "start_time": "2021-12-04T20:00:40.973Z"
   },
   {
    "duration": -1114,
    "start_time": "2021-12-04T20:00:40.982Z"
   },
   {
    "duration": 5,
    "start_time": "2021-12-04T20:01:41.716Z"
   },
   {
    "duration": 10,
    "start_time": "2021-12-04T20:01:44.510Z"
   },
   {
    "duration": 258,
    "start_time": "2021-12-04T20:01:45.905Z"
   },
   {
    "duration": 6,
    "start_time": "2021-12-04T20:01:56.952Z"
   },
   {
    "duration": 10,
    "start_time": "2021-12-04T20:01:57.185Z"
   },
   {
    "duration": 5,
    "start_time": "2021-12-04T20:01:57.392Z"
   },
   {
    "duration": 11,
    "start_time": "2021-12-04T20:01:57.585Z"
   },
   {
    "duration": 3,
    "start_time": "2021-12-04T20:01:57.956Z"
   },
   {
    "duration": 242,
    "start_time": "2021-12-04T20:01:59.532Z"
   },
   {
    "duration": 5,
    "start_time": "2021-12-04T20:02:02.965Z"
   },
   {
    "duration": 8,
    "start_time": "2021-12-04T20:02:03.997Z"
   },
   {
    "duration": 7,
    "start_time": "2021-12-04T20:02:04.606Z"
   },
   {
    "duration": 15,
    "start_time": "2021-12-04T20:02:06.440Z"
   },
   {
    "duration": 327,
    "start_time": "2021-12-04T20:02:09.048Z"
   },
   {
    "duration": 30,
    "start_time": "2021-12-04T20:02:24.950Z"
   },
   {
    "duration": 14,
    "start_time": "2021-12-04T20:04:37.556Z"
   },
   {
    "duration": 86,
    "start_time": "2021-12-04T20:04:49.214Z"
   },
   {
    "duration": 27,
    "start_time": "2021-12-04T20:04:52.101Z"
   },
   {
    "duration": 303,
    "start_time": "2021-12-04T20:05:01.346Z"
   },
   {
    "duration": 420,
    "start_time": "2021-12-04T20:06:03.197Z"
   },
   {
    "duration": 4,
    "start_time": "2021-12-04T20:06:44.194Z"
   },
   {
    "duration": 68,
    "start_time": "2021-12-04T20:06:44.202Z"
   },
   {
    "duration": 20,
    "start_time": "2021-12-04T20:06:44.273Z"
   },
   {
    "duration": 15,
    "start_time": "2021-12-04T20:06:44.297Z"
   },
   {
    "duration": 349,
    "start_time": "2021-12-04T20:06:44.315Z"
   },
   {
    "duration": 319,
    "start_time": "2021-12-04T20:06:44.667Z"
   },
   {
    "duration": 333,
    "start_time": "2021-12-04T20:06:44.988Z"
   },
   {
    "duration": 34,
    "start_time": "2021-12-04T20:06:45.323Z"
   },
   {
    "duration": 35,
    "start_time": "2021-12-04T20:06:45.361Z"
   },
   {
    "duration": 13,
    "start_time": "2021-12-04T20:06:45.399Z"
   },
   {
    "duration": 8,
    "start_time": "2021-12-04T20:06:45.414Z"
   },
   {
    "duration": 12,
    "start_time": "2021-12-04T20:06:45.424Z"
   },
   {
    "duration": 425,
    "start_time": "2021-12-04T20:06:45.438Z"
   },
   {
    "duration": 6,
    "start_time": "2021-12-04T20:06:45.866Z"
   },
   {
    "duration": 11,
    "start_time": "2021-12-04T20:06:45.874Z"
   },
   {
    "duration": 14,
    "start_time": "2021-12-04T20:06:45.888Z"
   },
   {
    "duration": 14,
    "start_time": "2021-12-04T20:06:45.904Z"
   },
   {
    "duration": 72,
    "start_time": "2021-12-04T20:06:45.920Z"
   },
   {
    "duration": 8,
    "start_time": "2021-12-04T20:06:45.995Z"
   },
   {
    "duration": 11,
    "start_time": "2021-12-04T20:06:46.006Z"
   },
   {
    "duration": 12,
    "start_time": "2021-12-04T20:06:46.020Z"
   },
   {
    "duration": 51,
    "start_time": "2021-12-04T20:06:46.036Z"
   },
   {
    "duration": 4,
    "start_time": "2021-12-04T20:06:46.090Z"
   },
   {
    "duration": 5,
    "start_time": "2021-12-04T20:06:46.101Z"
   },
   {
    "duration": 25,
    "start_time": "2021-12-04T20:06:46.109Z"
   },
   {
    "duration": 57,
    "start_time": "2021-12-04T20:06:46.137Z"
   },
   {
    "duration": 43,
    "start_time": "2021-12-04T20:06:46.196Z"
   },
   {
    "duration": 6,
    "start_time": "2021-12-04T20:06:46.242Z"
   },
   {
    "duration": 38,
    "start_time": "2021-12-04T20:06:46.250Z"
   },
   {
    "duration": 9,
    "start_time": "2021-12-04T20:06:46.291Z"
   },
   {
    "duration": 8,
    "start_time": "2021-12-04T20:06:46.302Z"
   },
   {
    "duration": 9,
    "start_time": "2021-12-04T20:06:46.313Z"
   },
   {
    "duration": 64,
    "start_time": "2021-12-04T20:06:46.324Z"
   },
   {
    "duration": 12,
    "start_time": "2021-12-04T20:06:46.390Z"
   },
   {
    "duration": 8,
    "start_time": "2021-12-04T20:06:46.404Z"
   },
   {
    "duration": 6,
    "start_time": "2021-12-04T20:06:46.415Z"
   },
   {
    "duration": 65,
    "start_time": "2021-12-04T20:06:46.424Z"
   },
   {
    "duration": 9,
    "start_time": "2021-12-04T20:06:46.491Z"
   },
   {
    "duration": 10,
    "start_time": "2021-12-04T20:06:46.503Z"
   },
   {
    "duration": 10,
    "start_time": "2021-12-04T20:06:46.515Z"
   },
   {
    "duration": 8,
    "start_time": "2021-12-04T20:06:46.528Z"
   },
   {
    "duration": 8,
    "start_time": "2021-12-04T20:06:46.582Z"
   },
   {
    "duration": 32,
    "start_time": "2021-12-04T20:06:46.594Z"
   },
   {
    "duration": 67,
    "start_time": "2021-12-04T20:06:46.629Z"
   },
   {
    "duration": 31,
    "start_time": "2021-12-04T20:06:46.699Z"
   },
   {
    "duration": 23,
    "start_time": "2021-12-04T20:06:46.733Z"
   },
   {
    "duration": 24,
    "start_time": "2021-12-04T20:06:46.758Z"
   },
   {
    "duration": 9,
    "start_time": "2021-12-04T20:06:46.785Z"
   },
   {
    "duration": 15,
    "start_time": "2021-12-04T20:06:46.797Z"
   },
   {
    "duration": 11,
    "start_time": "2021-12-04T20:06:46.815Z"
   },
   {
    "duration": 6,
    "start_time": "2021-12-04T20:06:46.828Z"
   },
   {
    "duration": 52,
    "start_time": "2021-12-04T20:06:46.837Z"
   },
   {
    "duration": 285,
    "start_time": "2021-12-04T20:06:46.892Z"
   },
   {
    "duration": 8,
    "start_time": "2021-12-04T20:06:47.180Z"
   },
   {
    "duration": 12,
    "start_time": "2021-12-04T20:06:47.190Z"
   },
   {
    "duration": 4,
    "start_time": "2021-12-04T20:06:47.205Z"
   },
   {
    "duration": 13,
    "start_time": "2021-12-04T20:06:47.212Z"
   },
   {
    "duration": 4,
    "start_time": "2021-12-04T20:06:47.228Z"
   },
   {
    "duration": 319,
    "start_time": "2021-12-04T20:06:47.235Z"
   },
   {
    "duration": 5,
    "start_time": "2021-12-04T20:06:47.557Z"
   },
   {
    "duration": 22,
    "start_time": "2021-12-04T20:06:47.565Z"
   },
   {
    "duration": 8,
    "start_time": "2021-12-04T20:06:47.589Z"
   },
   {
    "duration": 18,
    "start_time": "2021-12-04T20:06:47.600Z"
   },
   {
    "duration": 182,
    "start_time": "2021-12-04T20:06:47.621Z"
   },
   {
    "duration": 20,
    "start_time": "2021-12-04T20:06:47.806Z"
   },
   {
    "duration": 353,
    "start_time": "2021-12-04T20:09:09.357Z"
   },
   {
    "duration": 17,
    "start_time": "2021-12-04T20:09:34.369Z"
   },
   {
    "duration": 304,
    "start_time": "2021-12-04T20:10:19.822Z"
   },
   {
    "duration": 285,
    "start_time": "2021-12-04T20:10:25.692Z"
   },
   {
    "duration": 285,
    "start_time": "2021-12-04T20:10:40.356Z"
   },
   {
    "duration": 312,
    "start_time": "2021-12-04T20:11:01.533Z"
   },
   {
    "duration": 5,
    "start_time": "2021-12-04T20:11:22.375Z"
   },
   {
    "duration": 6,
    "start_time": "2021-12-04T20:11:22.739Z"
   },
   {
    "duration": 7,
    "start_time": "2021-12-04T20:11:23.016Z"
   },
   {
    "duration": 13,
    "start_time": "2021-12-04T20:11:23.939Z"
   },
   {
    "duration": 233,
    "start_time": "2021-12-04T20:11:27.743Z"
   },
   {
    "duration": 20,
    "start_time": "2021-12-04T20:11:28.818Z"
   },
   {
    "duration": 17,
    "start_time": "2021-12-04T20:11:30.652Z"
   },
   {
    "duration": 272,
    "start_time": "2021-12-04T20:11:32.179Z"
   },
   {
    "duration": 124,
    "start_time": "2021-12-04T20:12:35.707Z"
   },
   {
    "duration": 25,
    "start_time": "2021-12-04T20:12:36.513Z"
   },
   {
    "duration": 22,
    "start_time": "2021-12-04T20:12:38.814Z"
   },
   {
    "duration": 404,
    "start_time": "2021-12-04T20:12:40.051Z"
   },
   {
    "duration": 7,
    "start_time": "2021-12-04T20:12:46.756Z"
   },
   {
    "duration": 7,
    "start_time": "2021-12-04T20:12:47.019Z"
   },
   {
    "duration": 7,
    "start_time": "2021-12-04T20:12:47.273Z"
   },
   {
    "duration": 13,
    "start_time": "2021-12-04T20:12:47.670Z"
   },
   {
    "duration": 239,
    "start_time": "2021-12-04T20:12:49.404Z"
   },
   {
    "duration": 20,
    "start_time": "2021-12-04T20:12:50.370Z"
   },
   {
    "duration": 18,
    "start_time": "2021-12-04T20:12:51.679Z"
   },
   {
    "duration": 269,
    "start_time": "2021-12-04T20:12:52.677Z"
   },
   {
    "duration": 77,
    "start_time": "2021-12-04T20:13:10.852Z"
   },
   {
    "duration": 21,
    "start_time": "2021-12-04T20:13:11.312Z"
   },
   {
    "duration": 18,
    "start_time": "2021-12-04T20:13:12.757Z"
   },
   {
    "duration": 266,
    "start_time": "2021-12-04T20:13:13.634Z"
   },
   {
    "duration": 16,
    "start_time": "2021-12-04T20:15:04.699Z"
   },
   {
    "duration": 267,
    "start_time": "2021-12-04T20:17:46.334Z"
   },
   {
    "duration": 239,
    "start_time": "2021-12-04T20:17:51.095Z"
   },
   {
    "duration": 413,
    "start_time": "2021-12-04T20:17:58.235Z"
   },
   {
    "duration": 409,
    "start_time": "2021-12-04T20:18:02.947Z"
   },
   {
    "duration": 280,
    "start_time": "2021-12-04T20:18:08.827Z"
   },
   {
    "duration": 369,
    "start_time": "2021-12-04T20:18:26.197Z"
   },
   {
    "duration": 16,
    "start_time": "2021-12-04T20:18:38.566Z"
   },
   {
    "duration": 269,
    "start_time": "2021-12-04T20:18:39.262Z"
   },
   {
    "duration": 6957,
    "start_time": "2021-12-04T20:19:31.754Z"
   },
   {
    "duration": 5,
    "start_time": "2021-12-04T20:19:59.152Z"
   },
   {
    "duration": 6,
    "start_time": "2021-12-04T20:19:59.392Z"
   },
   {
    "duration": 6,
    "start_time": "2021-12-04T20:19:59.667Z"
   },
   {
    "duration": 11,
    "start_time": "2021-12-04T20:19:59.924Z"
   },
   {
    "duration": 150,
    "start_time": "2021-12-04T20:20:01.445Z"
   },
   {
    "duration": 21,
    "start_time": "2021-12-04T20:20:01.841Z"
   },
   {
    "duration": 17,
    "start_time": "2021-12-04T20:20:03.297Z"
   },
   {
    "duration": 7366,
    "start_time": "2021-12-04T20:20:07.415Z"
   },
   {
    "duration": 18,
    "start_time": "2021-12-04T20:20:48.215Z"
   },
   {
    "duration": 7797,
    "start_time": "2021-12-04T20:20:51.001Z"
   },
   {
    "duration": 12,
    "start_time": "2021-12-04T20:22:44.279Z"
   },
   {
    "duration": 6,
    "start_time": "2021-12-04T20:22:58.217Z"
   },
   {
    "duration": 12,
    "start_time": "2021-12-04T20:23:08.648Z"
   },
   {
    "duration": 274,
    "start_time": "2021-12-04T20:24:33.031Z"
   },
   {
    "duration": 275,
    "start_time": "2021-12-04T20:25:32.524Z"
   },
   {
    "duration": 244,
    "start_time": "2021-12-04T20:25:53.150Z"
   },
   {
    "duration": 310,
    "start_time": "2021-12-04T20:29:30.287Z"
   },
   {
    "duration": 12,
    "start_time": "2021-12-04T20:29:35.607Z"
   },
   {
    "duration": 6,
    "start_time": "2021-12-04T20:29:36.253Z"
   },
   {
    "duration": 13,
    "start_time": "2021-12-04T20:29:36.854Z"
   },
   {
    "duration": 324,
    "start_time": "2021-12-04T20:29:42.900Z"
   },
   {
    "duration": 291,
    "start_time": "2021-12-04T20:30:14.538Z"
   },
   {
    "duration": 282,
    "start_time": "2021-12-04T20:30:43.505Z"
   },
   {
    "duration": 3899,
    "start_time": "2021-12-04T20:31:06.441Z"
   },
   {
    "duration": 286,
    "start_time": "2021-12-04T20:31:21.763Z"
   },
   {
    "duration": 262,
    "start_time": "2021-12-04T20:31:27.253Z"
   },
   {
    "duration": 1552,
    "start_time": "2021-12-04T20:45:53.762Z"
   },
   {
    "duration": 71,
    "start_time": "2021-12-04T20:45:55.317Z"
   },
   {
    "duration": 25,
    "start_time": "2021-12-04T20:45:55.392Z"
   },
   {
    "duration": 20,
    "start_time": "2021-12-04T20:45:55.420Z"
   },
   {
    "duration": 328,
    "start_time": "2021-12-04T20:45:55.443Z"
   },
   {
    "duration": 328,
    "start_time": "2021-12-04T20:45:55.774Z"
   },
   {
    "duration": 324,
    "start_time": "2021-12-04T20:45:56.104Z"
   },
   {
    "duration": 35,
    "start_time": "2021-12-04T20:45:56.432Z"
   },
   {
    "duration": 20,
    "start_time": "2021-12-04T20:45:56.483Z"
   },
   {
    "duration": 13,
    "start_time": "2021-12-04T20:45:56.506Z"
   },
   {
    "duration": 27,
    "start_time": "2021-12-04T20:45:56.521Z"
   },
   {
    "duration": 33,
    "start_time": "2021-12-04T20:45:56.551Z"
   },
   {
    "duration": 298,
    "start_time": "2021-12-04T20:45:56.587Z"
   },
   {
    "duration": 8,
    "start_time": "2021-12-04T20:45:56.888Z"
   },
   {
    "duration": 7,
    "start_time": "2021-12-04T20:45:56.899Z"
   },
   {
    "duration": 14,
    "start_time": "2021-12-04T20:45:56.909Z"
   },
   {
    "duration": 58,
    "start_time": "2021-12-04T20:45:56.926Z"
   },
   {
    "duration": 29,
    "start_time": "2021-12-04T20:45:56.987Z"
   },
   {
    "duration": 8,
    "start_time": "2021-12-04T20:45:57.019Z"
   },
   {
    "duration": 9,
    "start_time": "2021-12-04T20:45:57.030Z"
   },
   {
    "duration": 52,
    "start_time": "2021-12-04T20:45:57.041Z"
   },
   {
    "duration": 16,
    "start_time": "2021-12-04T20:45:57.096Z"
   },
   {
    "duration": 4,
    "start_time": "2021-12-04T20:45:57.120Z"
   },
   {
    "duration": 5,
    "start_time": "2021-12-04T20:45:57.130Z"
   },
   {
    "duration": 60,
    "start_time": "2021-12-04T20:45:57.138Z"
   },
   {
    "duration": 25,
    "start_time": "2021-12-04T20:45:57.201Z"
   },
   {
    "duration": 75,
    "start_time": "2021-12-04T20:45:57.228Z"
   },
   {
    "duration": 6,
    "start_time": "2021-12-04T20:45:57.306Z"
   },
   {
    "duration": 8,
    "start_time": "2021-12-04T20:45:57.315Z"
   },
   {
    "duration": 10,
    "start_time": "2021-12-04T20:45:57.325Z"
   },
   {
    "duration": 45,
    "start_time": "2021-12-04T20:45:57.337Z"
   },
   {
    "duration": 7,
    "start_time": "2021-12-04T20:45:57.384Z"
   },
   {
    "duration": 16,
    "start_time": "2021-12-04T20:45:57.393Z"
   },
   {
    "duration": 12,
    "start_time": "2021-12-04T20:45:57.412Z"
   },
   {
    "duration": 9,
    "start_time": "2021-12-04T20:45:57.427Z"
   },
   {
    "duration": 7,
    "start_time": "2021-12-04T20:45:57.483Z"
   },
   {
    "duration": 30,
    "start_time": "2021-12-04T20:45:57.493Z"
   },
   {
    "duration": 10,
    "start_time": "2021-12-04T20:45:57.525Z"
   },
   {
    "duration": 9,
    "start_time": "2021-12-04T20:45:57.538Z"
   },
   {
    "duration": 39,
    "start_time": "2021-12-04T20:45:57.549Z"
   },
   {
    "duration": 10,
    "start_time": "2021-12-04T20:45:57.591Z"
   },
   {
    "duration": 12,
    "start_time": "2021-12-04T20:45:57.604Z"
   },
   {
    "duration": 64,
    "start_time": "2021-12-04T20:45:57.619Z"
   },
   {
    "duration": 37,
    "start_time": "2021-12-04T20:45:57.686Z"
   },
   {
    "duration": 32,
    "start_time": "2021-12-04T20:45:57.726Z"
   },
   {
    "duration": 25,
    "start_time": "2021-12-04T20:45:57.781Z"
   },
   {
    "duration": 9,
    "start_time": "2021-12-04T20:45:57.809Z"
   },
   {
    "duration": 9,
    "start_time": "2021-12-04T20:45:57.820Z"
   },
   {
    "duration": 17,
    "start_time": "2021-12-04T20:45:57.831Z"
   },
   {
    "duration": 40,
    "start_time": "2021-12-04T20:45:57.851Z"
   },
   {
    "duration": 6,
    "start_time": "2021-12-04T20:45:57.894Z"
   },
   {
    "duration": 15,
    "start_time": "2021-12-04T20:45:57.902Z"
   },
   {
    "duration": 275,
    "start_time": "2021-12-04T20:45:57.919Z"
   },
   {
    "duration": 6,
    "start_time": "2021-12-04T20:45:58.196Z"
   },
   {
    "duration": 15,
    "start_time": "2021-12-04T20:45:58.204Z"
   },
   {
    "duration": 6,
    "start_time": "2021-12-04T20:45:58.221Z"
   },
   {
    "duration": 16,
    "start_time": "2021-12-04T20:45:58.230Z"
   },
   {
    "duration": 34,
    "start_time": "2021-12-04T20:45:58.249Z"
   },
   {
    "duration": 272,
    "start_time": "2021-12-04T20:45:58.287Z"
   },
   {
    "duration": 5,
    "start_time": "2021-12-04T20:45:58.561Z"
   },
   {
    "duration": 16,
    "start_time": "2021-12-04T20:45:58.569Z"
   },
   {
    "duration": 7,
    "start_time": "2021-12-04T20:45:58.588Z"
   },
   {
    "duration": 14,
    "start_time": "2021-12-04T20:45:58.597Z"
   },
   {
    "duration": 262,
    "start_time": "2021-12-04T20:45:58.613Z"
   },
   {
    "duration": 20,
    "start_time": "2021-12-04T20:45:58.877Z"
   },
   {
    "duration": 14,
    "start_time": "2021-12-04T20:45:58.899Z"
   },
   {
    "duration": 6,
    "start_time": "2021-12-04T20:45:58.915Z"
   },
   {
    "duration": 54,
    "start_time": "2021-12-04T20:45:58.927Z"
   },
   {
    "duration": 290,
    "start_time": "2021-12-04T20:45:58.984Z"
   },
   {
    "duration": 5,
    "start_time": "2021-12-04T20:46:35.150Z"
   },
   {
    "duration": 1841,
    "start_time": "2021-12-05T11:15:30.591Z"
   },
   {
    "duration": 66,
    "start_time": "2021-12-05T11:15:32.434Z"
   },
   {
    "duration": 34,
    "start_time": "2021-12-05T11:15:32.503Z"
   },
   {
    "duration": 16,
    "start_time": "2021-12-05T11:15:32.539Z"
   },
   {
    "duration": 340,
    "start_time": "2021-12-05T11:15:32.557Z"
   },
   {
    "duration": 311,
    "start_time": "2021-12-05T11:15:32.900Z"
   },
   {
    "duration": 465,
    "start_time": "2021-12-05T11:15:33.214Z"
   },
   {
    "duration": 62,
    "start_time": "2021-12-05T11:15:33.684Z"
   },
   {
    "duration": 29,
    "start_time": "2021-12-05T11:15:33.749Z"
   },
   {
    "duration": 14,
    "start_time": "2021-12-05T11:15:33.781Z"
   },
   {
    "duration": 55,
    "start_time": "2021-12-05T11:15:33.798Z"
   },
   {
    "duration": 8,
    "start_time": "2021-12-05T11:15:33.855Z"
   },
   {
    "duration": 411,
    "start_time": "2021-12-05T11:15:33.865Z"
   },
   {
    "duration": 8,
    "start_time": "2021-12-05T11:15:34.279Z"
   },
   {
    "duration": 10,
    "start_time": "2021-12-05T11:15:34.290Z"
   },
   {
    "duration": 45,
    "start_time": "2021-12-05T11:15:34.303Z"
   },
   {
    "duration": 19,
    "start_time": "2021-12-05T11:15:34.351Z"
   },
   {
    "duration": 59,
    "start_time": "2021-12-05T11:15:34.372Z"
   },
   {
    "duration": 14,
    "start_time": "2021-12-05T11:15:34.433Z"
   },
   {
    "duration": 9,
    "start_time": "2021-12-05T11:15:34.449Z"
   },
   {
    "duration": 14,
    "start_time": "2021-12-05T11:15:34.461Z"
   },
   {
    "duration": 56,
    "start_time": "2021-12-05T11:15:34.477Z"
   },
   {
    "duration": 7,
    "start_time": "2021-12-05T11:15:34.542Z"
   },
   {
    "duration": 11,
    "start_time": "2021-12-05T11:15:34.554Z"
   },
   {
    "duration": 29,
    "start_time": "2021-12-05T11:15:34.567Z"
   },
   {
    "duration": 48,
    "start_time": "2021-12-05T11:15:34.599Z"
   },
   {
    "duration": 44,
    "start_time": "2021-12-05T11:15:34.650Z"
   },
   {
    "duration": 34,
    "start_time": "2021-12-05T11:15:34.697Z"
   },
   {
    "duration": 15,
    "start_time": "2021-12-05T11:15:34.734Z"
   },
   {
    "duration": 15,
    "start_time": "2021-12-05T11:15:34.751Z"
   },
   {
    "duration": 11,
    "start_time": "2021-12-05T11:15:34.769Z"
   },
   {
    "duration": 45,
    "start_time": "2021-12-05T11:15:34.782Z"
   },
   {
    "duration": 39,
    "start_time": "2021-12-05T11:15:34.830Z"
   },
   {
    "duration": 82,
    "start_time": "2021-12-05T11:15:34.871Z"
   },
   {
    "duration": 9,
    "start_time": "2021-12-05T11:15:34.956Z"
   },
   {
    "duration": 7,
    "start_time": "2021-12-05T11:15:34.968Z"
   },
   {
    "duration": 21,
    "start_time": "2021-12-05T11:15:34.978Z"
   },
   {
    "duration": 28,
    "start_time": "2021-12-05T11:15:35.001Z"
   },
   {
    "duration": 9,
    "start_time": "2021-12-05T11:15:35.031Z"
   },
   {
    "duration": 14,
    "start_time": "2021-12-05T11:15:35.042Z"
   },
   {
    "duration": 13,
    "start_time": "2021-12-05T11:15:35.058Z"
   },
   {
    "duration": 13,
    "start_time": "2021-12-05T11:15:35.074Z"
   },
   {
    "duration": 24,
    "start_time": "2021-12-05T11:15:35.130Z"
   },
   {
    "duration": 27,
    "start_time": "2021-12-05T11:15:35.157Z"
   },
   {
    "duration": 61,
    "start_time": "2021-12-05T11:15:35.186Z"
   },
   {
    "duration": 17,
    "start_time": "2021-12-05T11:15:35.249Z"
   },
   {
    "duration": 13,
    "start_time": "2021-12-05T11:15:35.269Z"
   },
   {
    "duration": 15,
    "start_time": "2021-12-05T11:15:35.285Z"
   },
   {
    "duration": 36,
    "start_time": "2021-12-05T11:15:35.303Z"
   },
   {
    "duration": 13,
    "start_time": "2021-12-05T11:15:35.342Z"
   },
   {
    "duration": 7,
    "start_time": "2021-12-05T11:15:35.359Z"
   },
   {
    "duration": 14,
    "start_time": "2021-12-05T11:15:35.369Z"
   },
   {
    "duration": 298,
    "start_time": "2021-12-05T11:15:35.386Z"
   },
   {
    "duration": 6,
    "start_time": "2021-12-05T11:15:35.688Z"
   },
   {
    "duration": 33,
    "start_time": "2021-12-05T11:15:35.697Z"
   },
   {
    "duration": 8,
    "start_time": "2021-12-05T11:15:35.733Z"
   },
   {
    "duration": 17,
    "start_time": "2021-12-05T11:15:35.744Z"
   },
   {
    "duration": 11,
    "start_time": "2021-12-05T11:15:35.764Z"
   },
   {
    "duration": 285,
    "start_time": "2021-12-05T11:15:35.777Z"
   },
   {
    "duration": 5,
    "start_time": "2021-12-05T11:15:36.064Z"
   },
   {
    "duration": 13,
    "start_time": "2021-12-05T11:15:36.072Z"
   },
   {
    "duration": 9,
    "start_time": "2021-12-05T11:15:36.088Z"
   },
   {
    "duration": 13,
    "start_time": "2021-12-05T11:15:36.128Z"
   },
   {
    "duration": 249,
    "start_time": "2021-12-05T11:15:36.144Z"
   },
   {
    "duration": 33,
    "start_time": "2021-12-05T11:15:36.396Z"
   },
   {
    "duration": 11,
    "start_time": "2021-12-05T11:15:36.432Z"
   },
   {
    "duration": 5,
    "start_time": "2021-12-05T11:15:36.445Z"
   },
   {
    "duration": 14,
    "start_time": "2021-12-05T11:15:36.458Z"
   },
   {
    "duration": 313,
    "start_time": "2021-12-05T11:15:36.475Z"
   },
   {
    "duration": 7,
    "start_time": "2021-12-05T11:15:36.791Z"
   },
   {
    "duration": 282,
    "start_time": "2021-12-05T12:00:18.188Z"
   },
   {
    "duration": 1152,
    "start_time": "2021-12-05T12:00:23.710Z"
   },
   {
    "duration": 50,
    "start_time": "2021-12-05T12:00:24.864Z"
   },
   {
    "duration": 17,
    "start_time": "2021-12-05T12:00:24.916Z"
   },
   {
    "duration": 16,
    "start_time": "2021-12-05T12:00:24.934Z"
   },
   {
    "duration": 189,
    "start_time": "2021-12-05T12:00:27.541Z"
   },
   {
    "duration": 3,
    "start_time": "2021-12-05T12:02:22.336Z"
   },
   {
    "duration": 63,
    "start_time": "2021-12-05T12:02:22.345Z"
   },
   {
    "duration": 12,
    "start_time": "2021-12-05T12:02:22.410Z"
   },
   {
    "duration": 14,
    "start_time": "2021-12-05T12:02:22.424Z"
   },
   {
    "duration": 208,
    "start_time": "2021-12-05T12:02:22.440Z"
   },
   {
    "duration": 196,
    "start_time": "2021-12-05T12:02:22.650Z"
   },
   {
    "duration": 201,
    "start_time": "2021-12-05T12:02:22.848Z"
   },
   {
    "duration": 29,
    "start_time": "2021-12-05T12:02:23.050Z"
   },
   {
    "duration": 12,
    "start_time": "2021-12-05T12:02:23.082Z"
   },
   {
    "duration": 18,
    "start_time": "2021-12-05T12:02:23.096Z"
   },
   {
    "duration": 21,
    "start_time": "2021-12-05T12:02:23.116Z"
   },
   {
    "duration": 26,
    "start_time": "2021-12-05T12:02:23.139Z"
   },
   {
    "duration": 198,
    "start_time": "2021-12-05T12:02:23.167Z"
   },
   {
    "duration": 5,
    "start_time": "2021-12-05T12:02:23.367Z"
   },
   {
    "duration": 9,
    "start_time": "2021-12-05T12:02:23.373Z"
   },
   {
    "duration": 14,
    "start_time": "2021-12-05T12:02:23.383Z"
   },
   {
    "duration": 16,
    "start_time": "2021-12-05T12:02:23.399Z"
   },
   {
    "duration": 55,
    "start_time": "2021-12-05T12:02:23.417Z"
   },
   {
    "duration": 8,
    "start_time": "2021-12-05T12:02:25.244Z"
   },
   {
    "duration": 7,
    "start_time": "2021-12-05T12:03:30.090Z"
   },
   {
    "duration": 7,
    "start_time": "2021-12-05T12:03:31.157Z"
   },
   {
    "duration": 12,
    "start_time": "2021-12-05T12:03:42.876Z"
   },
   {
    "duration": 11,
    "start_time": "2021-12-05T12:03:45.485Z"
   },
   {
    "duration": 5,
    "start_time": "2021-12-05T12:03:46.537Z"
   },
   {
    "duration": 5,
    "start_time": "2021-12-05T12:03:46.974Z"
   },
   {
    "duration": 13,
    "start_time": "2021-12-05T12:03:47.556Z"
   },
   {
    "duration": 5,
    "start_time": "2021-12-05T12:03:50.166Z"
   },
   {
    "duration": 6,
    "start_time": "2021-12-05T12:03:50.756Z"
   },
   {
    "duration": 7,
    "start_time": "2021-12-05T12:03:51.367Z"
   },
   {
    "duration": 5,
    "start_time": "2021-12-05T12:03:51.574Z"
   },
   {
    "duration": 6,
    "start_time": "2021-12-05T12:03:51.957Z"
   },
   {
    "duration": 13,
    "start_time": "2021-12-05T12:03:52.691Z"
   },
   {
    "duration": 8,
    "start_time": "2021-12-05T12:03:52.920Z"
   },
   {
    "duration": 5,
    "start_time": "2021-12-05T12:03:53.365Z"
   },
   {
    "duration": 5,
    "start_time": "2021-12-05T12:03:54.029Z"
   },
   {
    "duration": 13,
    "start_time": "2021-12-05T12:03:54.477Z"
   },
   {
    "duration": 8,
    "start_time": "2021-12-05T12:03:54.925Z"
   },
   {
    "duration": 8,
    "start_time": "2021-12-05T12:03:55.925Z"
   },
   {
    "duration": 8,
    "start_time": "2021-12-05T12:03:56.125Z"
   },
   {
    "duration": 5,
    "start_time": "2021-12-05T12:03:56.565Z"
   },
   {
    "duration": 6,
    "start_time": "2021-12-05T12:03:57.021Z"
   },
   {
    "duration": 18,
    "start_time": "2021-12-05T12:03:57.513Z"
   },
   {
    "duration": 18,
    "start_time": "2021-12-05T12:03:58.268Z"
   },
   {
    "duration": 16,
    "start_time": "2021-12-05T12:03:58.486Z"
   },
   {
    "duration": 16,
    "start_time": "2021-12-05T12:04:45.030Z"
   },
   {
    "duration": 20,
    "start_time": "2021-12-05T12:04:47.254Z"
   },
   {
    "duration": 17,
    "start_time": "2021-12-05T12:04:47.759Z"
   },
   {
    "duration": 5,
    "start_time": "2021-12-05T12:06:27.558Z"
   },
   {
    "duration": 7,
    "start_time": "2021-12-05T12:06:29.167Z"
   },
   {
    "duration": 3,
    "start_time": "2021-12-05T12:06:29.400Z"
   },
   {
    "duration": 3904,
    "start_time": "2021-12-05T12:06:29.590Z"
   },
   {
    "duration": 21,
    "start_time": "2021-12-05T12:06:33.496Z"
   },
   {
    "duration": 13,
    "start_time": "2021-12-05T12:07:52.391Z"
   },
   {
    "duration": 296,
    "start_time": "2021-12-05T12:12:39.099Z"
   },
   {
    "duration": 267,
    "start_time": "2021-12-05T12:19:16.880Z"
   },
   {
    "duration": 1289,
    "start_time": "2021-12-05T12:19:37.777Z"
   },
   {
    "duration": 56,
    "start_time": "2021-12-05T12:19:39.068Z"
   },
   {
    "duration": 19,
    "start_time": "2021-12-05T12:19:39.126Z"
   },
   {
    "duration": 27,
    "start_time": "2021-12-05T12:19:39.147Z"
   },
   {
    "duration": 312,
    "start_time": "2021-12-05T12:19:39.176Z"
   },
   {
    "duration": 205,
    "start_time": "2021-12-05T12:19:39.490Z"
   },
   {
    "duration": 202,
    "start_time": "2021-12-05T12:19:39.697Z"
   },
   {
    "duration": 21,
    "start_time": "2021-12-05T12:19:39.902Z"
   },
   {
    "duration": 13,
    "start_time": "2021-12-05T12:19:39.926Z"
   },
   {
    "duration": 30,
    "start_time": "2021-12-05T12:19:39.941Z"
   },
   {
    "duration": 14,
    "start_time": "2021-12-05T12:19:39.973Z"
   },
   {
    "duration": 7,
    "start_time": "2021-12-05T12:19:39.989Z"
   },
   {
    "duration": 206,
    "start_time": "2021-12-05T12:19:39.998Z"
   },
   {
    "duration": 5,
    "start_time": "2021-12-05T12:19:40.207Z"
   },
   {
    "duration": 6,
    "start_time": "2021-12-05T12:19:40.213Z"
   },
   {
    "duration": 10,
    "start_time": "2021-12-05T12:19:40.221Z"
   },
   {
    "duration": 39,
    "start_time": "2021-12-05T12:19:40.233Z"
   },
   {
    "duration": 19,
    "start_time": "2021-12-05T12:19:40.274Z"
   },
   {
    "duration": 7,
    "start_time": "2021-12-05T12:19:40.295Z"
   },
   {
    "duration": 7,
    "start_time": "2021-12-05T12:19:40.304Z"
   },
   {
    "duration": 12,
    "start_time": "2021-12-05T12:19:40.312Z"
   },
   {
    "duration": 12,
    "start_time": "2021-12-05T12:19:40.362Z"
   },
   {
    "duration": 4,
    "start_time": "2021-12-05T12:19:40.378Z"
   },
   {
    "duration": 6,
    "start_time": "2021-12-05T12:19:40.385Z"
   },
   {
    "duration": 14,
    "start_time": "2021-12-05T12:19:40.392Z"
   },
   {
    "duration": 4,
    "start_time": "2021-12-05T12:19:40.408Z"
   },
   {
    "duration": 8,
    "start_time": "2021-12-05T12:19:40.413Z"
   },
   {
    "duration": 46,
    "start_time": "2021-12-05T12:19:40.422Z"
   },
   {
    "duration": 6,
    "start_time": "2021-12-05T12:19:40.469Z"
   },
   {
    "duration": 5,
    "start_time": "2021-12-05T12:19:40.477Z"
   },
   {
    "duration": 11,
    "start_time": "2021-12-05T12:19:40.484Z"
   },
   {
    "duration": 12,
    "start_time": "2021-12-05T12:19:40.497Z"
   },
   {
    "duration": 11,
    "start_time": "2021-12-05T12:19:40.511Z"
   },
   {
    "duration": 40,
    "start_time": "2021-12-05T12:19:40.524Z"
   },
   {
    "duration": 13,
    "start_time": "2021-12-05T12:19:40.566Z"
   },
   {
    "duration": 8,
    "start_time": "2021-12-05T12:19:40.581Z"
   },
   {
    "duration": 7,
    "start_time": "2021-12-05T12:19:40.591Z"
   },
   {
    "duration": 11,
    "start_time": "2021-12-05T12:19:40.600Z"
   },
   {
    "duration": 51,
    "start_time": "2021-12-05T12:19:40.613Z"
   },
   {
    "duration": 7,
    "start_time": "2021-12-05T12:19:40.667Z"
   },
   {
    "duration": 22,
    "start_time": "2021-12-05T12:19:40.675Z"
   },
   {
    "duration": 20,
    "start_time": "2021-12-05T12:19:40.699Z"
   },
   {
    "duration": 56,
    "start_time": "2021-12-05T12:19:40.721Z"
   },
   {
    "duration": 5,
    "start_time": "2021-12-05T12:19:40.779Z"
   },
   {
    "duration": 9,
    "start_time": "2021-12-05T12:19:40.786Z"
   },
   {
    "duration": 5,
    "start_time": "2021-12-05T12:19:40.797Z"
   },
   {
    "duration": 3816,
    "start_time": "2021-12-05T12:19:40.804Z"
   },
   {
    "duration": 21,
    "start_time": "2021-12-05T12:19:44.623Z"
   },
   {
    "duration": 31,
    "start_time": "2021-12-05T12:19:44.646Z"
   },
   {
    "duration": 16,
    "start_time": "2021-12-05T12:19:44.679Z"
   },
   {
    "duration": 40,
    "start_time": "2021-12-05T12:19:44.697Z"
   },
   {
    "duration": 34,
    "start_time": "2021-12-05T12:19:44.739Z"
   },
   {
    "duration": 32,
    "start_time": "2021-12-05T12:19:44.775Z"
   },
   {
    "duration": 38,
    "start_time": "2021-12-05T12:19:44.809Z"
   },
   {
    "duration": 61,
    "start_time": "2021-12-05T12:19:44.849Z"
   },
   {
    "duration": 38,
    "start_time": "2021-12-05T12:19:44.912Z"
   },
   {
    "duration": 25,
    "start_time": "2021-12-05T12:19:44.952Z"
   },
   {
    "duration": 22,
    "start_time": "2021-12-05T12:19:44.979Z"
   },
   {
    "duration": 34,
    "start_time": "2021-12-05T12:19:45.003Z"
   },
   {
    "duration": 37,
    "start_time": "2021-12-05T12:19:45.039Z"
   },
   {
    "duration": 34,
    "start_time": "2021-12-05T12:19:45.078Z"
   },
   {
    "duration": 591,
    "start_time": "2021-12-05T12:19:45.114Z"
   },
   {
    "duration": -532,
    "start_time": "2021-12-05T12:19:46.240Z"
   },
   {
    "duration": -541,
    "start_time": "2021-12-05T12:19:46.250Z"
   },
   {
    "duration": -551,
    "start_time": "2021-12-05T12:19:46.261Z"
   },
   {
    "duration": -559,
    "start_time": "2021-12-05T12:19:46.270Z"
   },
   {
    "duration": -592,
    "start_time": "2021-12-05T12:19:46.304Z"
   },
   {
    "duration": -601,
    "start_time": "2021-12-05T12:19:46.314Z"
   },
   {
    "duration": -611,
    "start_time": "2021-12-05T12:19:46.325Z"
   },
   {
    "duration": -620,
    "start_time": "2021-12-05T12:19:46.335Z"
   },
   {
    "duration": -629,
    "start_time": "2021-12-05T12:19:46.345Z"
   },
   {
    "duration": -637,
    "start_time": "2021-12-05T12:19:46.354Z"
   },
   {
    "duration": -646,
    "start_time": "2021-12-05T12:19:46.364Z"
   },
   {
    "duration": -654,
    "start_time": "2021-12-05T12:19:46.373Z"
   },
   {
    "duration": -664,
    "start_time": "2021-12-05T12:19:46.384Z"
   },
   {
    "duration": -671,
    "start_time": "2021-12-05T12:19:46.393Z"
   },
   {
    "duration": -696,
    "start_time": "2021-12-05T12:19:46.419Z"
   },
   {
    "duration": -704,
    "start_time": "2021-12-05T12:19:46.428Z"
   },
   {
    "duration": -715,
    "start_time": "2021-12-05T12:19:46.440Z"
   },
   {
    "duration": -724,
    "start_time": "2021-12-05T12:19:46.450Z"
   },
   {
    "duration": -732,
    "start_time": "2021-12-05T12:19:46.460Z"
   },
   {
    "duration": -741,
    "start_time": "2021-12-05T12:19:46.470Z"
   },
   {
    "duration": -751,
    "start_time": "2021-12-05T12:19:46.481Z"
   },
   {
    "duration": 394,
    "start_time": "2021-12-05T12:20:20.295Z"
   },
   {
    "duration": 465,
    "start_time": "2021-12-05T12:21:37.200Z"
   },
   {
    "duration": 2,
    "start_time": "2021-12-05T12:23:49.848Z"
   },
   {
    "duration": 60,
    "start_time": "2021-12-05T12:23:49.856Z"
   },
   {
    "duration": 18,
    "start_time": "2021-12-05T12:23:49.919Z"
   },
   {
    "duration": 29,
    "start_time": "2021-12-05T12:23:49.940Z"
   },
   {
    "duration": 201,
    "start_time": "2021-12-05T12:23:49.971Z"
   },
   {
    "duration": 214,
    "start_time": "2021-12-05T12:23:50.174Z"
   },
   {
    "duration": 209,
    "start_time": "2021-12-05T12:23:50.390Z"
   },
   {
    "duration": 21,
    "start_time": "2021-12-05T12:23:50.601Z"
   },
   {
    "duration": 41,
    "start_time": "2021-12-05T12:23:50.624Z"
   },
   {
    "duration": 27,
    "start_time": "2021-12-05T12:23:50.667Z"
   },
   {
    "duration": 25,
    "start_time": "2021-12-05T12:23:50.695Z"
   },
   {
    "duration": 26,
    "start_time": "2021-12-05T12:23:50.721Z"
   },
   {
    "duration": 192,
    "start_time": "2021-12-05T12:23:50.749Z"
   },
   {
    "duration": 5,
    "start_time": "2021-12-05T12:23:50.942Z"
   },
   {
    "duration": 26,
    "start_time": "2021-12-05T12:23:50.948Z"
   },
   {
    "duration": 29,
    "start_time": "2021-12-05T12:23:50.976Z"
   },
   {
    "duration": 24,
    "start_time": "2021-12-05T12:23:51.006Z"
   },
   {
    "duration": 42,
    "start_time": "2021-12-05T12:23:51.031Z"
   },
   {
    "duration": 50,
    "start_time": "2021-12-05T12:23:51.074Z"
   },
   {
    "duration": 21,
    "start_time": "2021-12-05T12:23:51.125Z"
   },
   {
    "duration": 24,
    "start_time": "2021-12-05T12:23:51.148Z"
   },
   {
    "duration": 24,
    "start_time": "2021-12-05T12:23:51.174Z"
   },
   {
    "duration": 31,
    "start_time": "2021-12-05T12:23:51.200Z"
   },
   {
    "duration": 17,
    "start_time": "2021-12-05T12:23:51.235Z"
   },
   {
    "duration": 29,
    "start_time": "2021-12-05T12:23:51.255Z"
   },
   {
    "duration": 14,
    "start_time": "2021-12-05T12:23:51.286Z"
   },
   {
    "duration": 27,
    "start_time": "2021-12-05T12:23:51.301Z"
   },
   {
    "duration": 29,
    "start_time": "2021-12-05T12:23:51.330Z"
   },
   {
    "duration": 25,
    "start_time": "2021-12-05T12:23:51.361Z"
   },
   {
    "duration": 36,
    "start_time": "2021-12-05T12:23:51.388Z"
   },
   {
    "duration": 24,
    "start_time": "2021-12-05T12:23:51.427Z"
   },
   {
    "duration": 27,
    "start_time": "2021-12-05T12:23:51.453Z"
   },
   {
    "duration": 28,
    "start_time": "2021-12-05T12:23:51.483Z"
   },
   {
    "duration": 27,
    "start_time": "2021-12-05T12:23:51.513Z"
   },
   {
    "duration": 40,
    "start_time": "2021-12-05T12:23:51.542Z"
   },
   {
    "duration": 21,
    "start_time": "2021-12-05T12:23:51.584Z"
   },
   {
    "duration": 19,
    "start_time": "2021-12-05T12:23:51.607Z"
   },
   {
    "duration": 28,
    "start_time": "2021-12-05T12:23:51.628Z"
   },
   {
    "duration": 20,
    "start_time": "2021-12-05T12:23:51.658Z"
   },
   {
    "duration": 30,
    "start_time": "2021-12-05T12:23:51.679Z"
   },
   {
    "duration": 30,
    "start_time": "2021-12-05T12:23:51.711Z"
   },
   {
    "duration": 28,
    "start_time": "2021-12-05T12:23:51.743Z"
   },
   {
    "duration": 21,
    "start_time": "2021-12-05T12:23:51.773Z"
   },
   {
    "duration": 8,
    "start_time": "2021-12-05T12:23:51.797Z"
   },
   {
    "duration": 50,
    "start_time": "2021-12-05T12:23:51.807Z"
   },
   {
    "duration": 12,
    "start_time": "2021-12-05T12:23:51.859Z"
   },
   {
    "duration": 3782,
    "start_time": "2021-12-05T12:23:51.873Z"
   },
   {
    "duration": 21,
    "start_time": "2021-12-05T12:23:55.664Z"
   },
   {
    "duration": 13,
    "start_time": "2021-12-05T12:23:55.687Z"
   },
   {
    "duration": 5,
    "start_time": "2021-12-05T12:23:55.701Z"
   },
   {
    "duration": 18,
    "start_time": "2021-12-05T12:23:55.707Z"
   },
   {
    "duration": 46,
    "start_time": "2021-12-05T12:23:55.727Z"
   },
   {
    "duration": 8,
    "start_time": "2021-12-05T12:23:55.775Z"
   },
   {
    "duration": 14,
    "start_time": "2021-12-05T12:23:55.785Z"
   },
   {
    "duration": 11,
    "start_time": "2021-12-05T12:23:55.801Z"
   },
   {
    "duration": 5,
    "start_time": "2021-12-05T12:23:55.814Z"
   },
   {
    "duration": 7,
    "start_time": "2021-12-05T12:23:55.821Z"
   },
   {
    "duration": 39,
    "start_time": "2021-12-05T12:23:55.829Z"
   },
   {
    "duration": 9,
    "start_time": "2021-12-05T12:23:55.870Z"
   },
   {
    "duration": 4,
    "start_time": "2021-12-05T12:23:55.881Z"
   },
   {
    "duration": 13,
    "start_time": "2021-12-05T12:23:55.886Z"
   },
   {
    "duration": 176,
    "start_time": "2021-12-05T12:23:55.901Z"
   },
   {
    "duration": 4,
    "start_time": "2021-12-05T12:23:56.079Z"
   },
   {
    "duration": 13,
    "start_time": "2021-12-05T12:23:56.085Z"
   },
   {
    "duration": 3,
    "start_time": "2021-12-05T12:23:56.100Z"
   },
   {
    "duration": 9,
    "start_time": "2021-12-05T12:23:56.105Z"
   },
   {
    "duration": 6,
    "start_time": "2021-12-05T12:23:56.116Z"
   },
   {
    "duration": 181,
    "start_time": "2021-12-05T12:23:56.124Z"
   },
   {
    "duration": 4,
    "start_time": "2021-12-05T12:23:56.313Z"
   },
   {
    "duration": 7,
    "start_time": "2021-12-05T12:23:56.319Z"
   },
   {
    "duration": 9,
    "start_time": "2021-12-05T12:23:56.329Z"
   },
   {
    "duration": 27,
    "start_time": "2021-12-05T12:23:56.340Z"
   },
   {
    "duration": 197,
    "start_time": "2021-12-05T12:23:56.369Z"
   },
   {
    "duration": 13,
    "start_time": "2021-12-05T12:23:56.568Z"
   },
   {
    "duration": 10,
    "start_time": "2021-12-05T12:23:56.583Z"
   },
   {
    "duration": 3,
    "start_time": "2021-12-05T12:23:56.595Z"
   },
   {
    "duration": 12,
    "start_time": "2021-12-05T12:23:56.600Z"
   },
   {
    "duration": 199,
    "start_time": "2021-12-05T12:23:56.614Z"
   },
   {
    "duration": 6,
    "start_time": "2021-12-05T12:23:56.815Z"
   },
   {
    "duration": 21,
    "start_time": "2021-12-05T12:23:56.823Z"
   },
   {
    "duration": 30,
    "start_time": "2021-12-05T12:23:56.846Z"
   },
   {
    "duration": 39,
    "start_time": "2021-12-05T12:23:56.878Z"
   },
   {
    "duration": 170,
    "start_time": "2021-12-05T12:23:56.919Z"
   },
   {
    "duration": 5,
    "start_time": "2021-12-05T12:23:57.091Z"
   },
   {
    "duration": 174,
    "start_time": "2021-12-05T12:25:49.059Z"
   },
   {
    "duration": 183,
    "start_time": "2021-12-05T12:26:03.338Z"
   },
   {
    "duration": 186,
    "start_time": "2021-12-05T12:28:50.193Z"
   },
   {
    "duration": 188,
    "start_time": "2021-12-05T12:34:33.523Z"
   },
   {
    "duration": 192,
    "start_time": "2021-12-05T12:36:36.044Z"
   },
   {
    "duration": 3,
    "start_time": "2021-12-05T12:37:58.103Z"
   },
   {
    "duration": 53,
    "start_time": "2021-12-05T12:37:58.112Z"
   },
   {
    "duration": 13,
    "start_time": "2021-12-05T12:37:58.167Z"
   },
   {
    "duration": 17,
    "start_time": "2021-12-05T12:37:58.182Z"
   },
   {
    "duration": 201,
    "start_time": "2021-12-05T12:37:58.223Z"
   },
   {
    "duration": 92,
    "start_time": "2021-12-05T12:37:58.426Z"
   },
   {
    "duration": -369,
    "start_time": "2021-12-05T12:37:58.889Z"
   },
   {
    "duration": -379,
    "start_time": "2021-12-05T12:37:58.900Z"
   },
   {
    "duration": -389,
    "start_time": "2021-12-05T12:37:58.911Z"
   },
   {
    "duration": -398,
    "start_time": "2021-12-05T12:37:58.921Z"
   },
   {
    "duration": -409,
    "start_time": "2021-12-05T12:37:58.933Z"
   },
   {
    "duration": -419,
    "start_time": "2021-12-05T12:37:58.945Z"
   },
   {
    "duration": -428,
    "start_time": "2021-12-05T12:37:58.955Z"
   },
   {
    "duration": 190,
    "start_time": "2021-12-05T12:38:03.923Z"
   },
   {
    "duration": 1162,
    "start_time": "2021-12-05T12:38:21.289Z"
   },
   {
    "duration": 53,
    "start_time": "2021-12-05T12:38:22.453Z"
   },
   {
    "duration": 15,
    "start_time": "2021-12-05T12:38:22.507Z"
   },
   {
    "duration": 30,
    "start_time": "2021-12-05T12:38:22.524Z"
   },
   {
    "duration": 200,
    "start_time": "2021-12-05T12:38:22.556Z"
   },
   {
    "duration": 81,
    "start_time": "2021-12-05T12:38:22.763Z"
   },
   {
    "duration": -9,
    "start_time": "2021-12-05T12:38:22.855Z"
   },
   {
    "duration": -53,
    "start_time": "2021-12-05T12:38:22.900Z"
   },
   {
    "duration": -62,
    "start_time": "2021-12-05T12:38:22.910Z"
   },
   {
    "duration": -72,
    "start_time": "2021-12-05T12:38:22.921Z"
   },
   {
    "duration": -80,
    "start_time": "2021-12-05T12:38:22.930Z"
   },
   {
    "duration": -90,
    "start_time": "2021-12-05T12:38:22.941Z"
   },
   {
    "duration": -96,
    "start_time": "2021-12-05T12:38:22.949Z"
   },
   {
    "duration": 184,
    "start_time": "2021-12-05T12:38:27.784Z"
   },
   {
    "duration": 5,
    "start_time": "2021-12-05T12:38:28.582Z"
   },
   {
    "duration": 4,
    "start_time": "2021-12-05T12:38:28.791Z"
   },
   {
    "duration": 11,
    "start_time": "2021-12-05T12:38:30.094Z"
   },
   {
    "duration": 11,
    "start_time": "2021-12-05T12:38:30.670Z"
   },
   {
    "duration": 20,
    "start_time": "2021-12-05T12:38:31.037Z"
   },
   {
    "duration": 16,
    "start_time": "2021-12-05T12:38:31.630Z"
   },
   {
    "duration": 8,
    "start_time": "2021-12-05T12:38:32.629Z"
   },
   {
    "duration": 11,
    "start_time": "2021-12-05T12:38:33.990Z"
   },
   {
    "duration": 12,
    "start_time": "2021-12-05T12:38:35.005Z"
   },
   {
    "duration": 4,
    "start_time": "2021-12-05T12:38:35.437Z"
   },
   {
    "duration": 197,
    "start_time": "2021-12-05T12:39:07.247Z"
   },
   {
    "duration": 207,
    "start_time": "2021-12-05T12:39:09.168Z"
   },
   {
    "duration": 1232,
    "start_time": "2021-12-05T12:39:59.942Z"
   },
   {
    "duration": 55,
    "start_time": "2021-12-05T12:40:01.176Z"
   },
   {
    "duration": 18,
    "start_time": "2021-12-05T12:40:01.233Z"
   },
   {
    "duration": 12,
    "start_time": "2021-12-05T12:40:01.348Z"
   },
   {
    "duration": 202,
    "start_time": "2021-12-05T12:40:07.051Z"
   },
   {
    "duration": 183,
    "start_time": "2021-12-05T12:40:11.027Z"
   },
   {
    "duration": 217,
    "start_time": "2021-12-05T12:40:12.947Z"
   },
   {
    "duration": 22,
    "start_time": "2021-12-05T12:40:20.274Z"
   },
   {
    "duration": 15,
    "start_time": "2021-12-05T12:40:22.130Z"
   },
   {
    "duration": 9,
    "start_time": "2021-12-05T12:40:23.283Z"
   },
   {
    "duration": 11,
    "start_time": "2021-12-05T12:40:24.787Z"
   },
   {
    "duration": 8,
    "start_time": "2021-12-05T12:40:25.252Z"
   },
   {
    "duration": 184,
    "start_time": "2021-12-05T12:40:25.906Z"
   },
   {
    "duration": 5,
    "start_time": "2021-12-05T12:40:41.058Z"
   },
   {
    "duration": 5,
    "start_time": "2021-12-05T12:40:41.637Z"
   },
   {
    "duration": 186,
    "start_time": "2021-12-05T12:41:41.980Z"
   },
   {
    "duration": 177,
    "start_time": "2021-12-05T12:41:47.828Z"
   },
   {
    "duration": 3,
    "start_time": "2021-12-05T12:48:31.790Z"
   },
   {
    "duration": 51,
    "start_time": "2021-12-05T12:48:32.016Z"
   },
   {
    "duration": 14,
    "start_time": "2021-12-05T12:48:32.461Z"
   },
   {
    "duration": 12,
    "start_time": "2021-12-05T12:48:33.229Z"
   },
   {
    "duration": 283,
    "start_time": "2021-12-05T12:48:35.822Z"
   },
   {
    "duration": 190,
    "start_time": "2021-12-05T12:48:36.614Z"
   },
   {
    "duration": 202,
    "start_time": "2021-12-05T12:48:37.486Z"
   },
   {
    "duration": 24,
    "start_time": "2021-12-05T12:48:39.047Z"
   },
   {
    "duration": 15,
    "start_time": "2021-12-05T12:48:40.272Z"
   },
   {
    "duration": 9,
    "start_time": "2021-12-05T12:48:41.518Z"
   },
   {
    "duration": 7,
    "start_time": "2021-12-05T12:48:43.262Z"
   },
   {
    "duration": 8,
    "start_time": "2021-12-05T12:48:43.759Z"
   },
   {
    "duration": 196,
    "start_time": "2021-12-05T12:48:45.566Z"
   },
   {
    "duration": 4,
    "start_time": "2021-12-05T12:48:46.767Z"
   },
   {
    "duration": 5,
    "start_time": "2021-12-05T12:48:47.079Z"
   },
   {
    "duration": 12,
    "start_time": "2021-12-05T12:48:49.254Z"
   },
   {
    "duration": 11,
    "start_time": "2021-12-05T12:48:50.685Z"
   },
   {
    "duration": 19,
    "start_time": "2021-12-05T12:48:51.672Z"
   },
   {
    "duration": 8,
    "start_time": "2021-12-05T12:48:53.215Z"
   },
   {
    "duration": 8,
    "start_time": "2021-12-05T12:48:54.375Z"
   },
   {
    "duration": 10,
    "start_time": "2021-12-05T12:48:56.863Z"
   },
   {
    "duration": 12,
    "start_time": "2021-12-05T12:48:58.305Z"
   },
   {
    "duration": 4,
    "start_time": "2021-12-05T12:48:58.941Z"
   },
   {
    "duration": 4,
    "start_time": "2021-12-05T12:48:59.495Z"
   },
   {
    "duration": 13,
    "start_time": "2021-12-05T12:48:59.986Z"
   },
   {
    "duration": 6,
    "start_time": "2021-12-05T12:49:02.705Z"
   },
   {
    "duration": 10,
    "start_time": "2021-12-05T12:49:05.199Z"
   },
   {
    "duration": 9,
    "start_time": "2021-12-05T12:49:05.678Z"
   },
   {
    "duration": 9,
    "start_time": "2021-12-05T12:49:05.887Z"
   },
   {
    "duration": 6,
    "start_time": "2021-12-05T12:49:06.302Z"
   },
   {
    "duration": 15,
    "start_time": "2021-12-05T12:49:07.367Z"
   },
   {
    "duration": 7,
    "start_time": "2021-12-05T12:49:07.808Z"
   },
   {
    "duration": 6,
    "start_time": "2021-12-05T12:49:08.662Z"
   },
   {
    "duration": 5,
    "start_time": "2021-12-05T12:49:09.654Z"
   },
   {
    "duration": 12,
    "start_time": "2021-12-05T12:49:10.822Z"
   },
   {
    "duration": 7,
    "start_time": "2021-12-05T12:49:11.950Z"
   },
   {
    "duration": 7,
    "start_time": "2021-12-05T12:49:13.022Z"
   },
   {
    "duration": 7,
    "start_time": "2021-12-05T12:49:13.319Z"
   },
   {
    "duration": 5,
    "start_time": "2021-12-05T12:49:14.255Z"
   },
   {
    "duration": 6,
    "start_time": "2021-12-05T12:49:15.150Z"
   },
   {
    "duration": 16,
    "start_time": "2021-12-05T12:49:17.039Z"
   },
   {
    "duration": 18,
    "start_time": "2021-12-05T12:49:18.062Z"
   },
   {
    "duration": 16,
    "start_time": "2021-12-05T12:49:18.531Z"
   },
   {
    "duration": 6,
    "start_time": "2021-12-05T12:49:21.863Z"
   },
   {
    "duration": 8,
    "start_time": "2021-12-05T12:49:22.400Z"
   },
   {
    "duration": 3,
    "start_time": "2021-12-05T12:49:23.144Z"
   },
   {
    "duration": 3483,
    "start_time": "2021-12-05T12:49:23.544Z"
   },
   {
    "duration": 36,
    "start_time": "2021-12-05T12:49:27.029Z"
   },
   {
    "duration": 122,
    "start_time": "2021-12-05T13:08:33.767Z"
   },
   {
    "duration": 3,
    "start_time": "2021-12-05T13:08:39.487Z"
   },
   {
    "duration": 10,
    "start_time": "2021-12-05T13:09:39.976Z"
   },
   {
    "duration": 18,
    "start_time": "2021-12-05T13:09:45.753Z"
   },
   {
    "duration": 3,
    "start_time": "2021-12-05T13:09:46.312Z"
   },
   {
    "duration": 3595,
    "start_time": "2021-12-05T13:09:46.519Z"
   },
   {
    "duration": 11,
    "start_time": "2021-12-05T13:09:50.116Z"
   },
   {
    "duration": 20,
    "start_time": "2021-12-05T13:10:04.481Z"
   },
   {
    "duration": 27,
    "start_time": "2021-12-05T13:10:33.455Z"
   },
   {
    "duration": 19,
    "start_time": "2021-12-05T13:10:59.952Z"
   },
   {
    "duration": 1233,
    "start_time": "2021-12-05T14:29:23.737Z"
   },
   {
    "duration": 53,
    "start_time": "2021-12-05T14:29:24.972Z"
   },
   {
    "duration": 15,
    "start_time": "2021-12-05T14:29:25.027Z"
   },
   {
    "duration": 17,
    "start_time": "2021-12-05T14:29:25.044Z"
   },
   {
    "duration": 205,
    "start_time": "2021-12-05T14:29:25.063Z"
   },
   {
    "duration": 197,
    "start_time": "2021-12-05T14:29:25.271Z"
   },
   {
    "duration": 198,
    "start_time": "2021-12-05T14:29:25.470Z"
   },
   {
    "duration": 23,
    "start_time": "2021-12-05T14:29:25.670Z"
   },
   {
    "duration": 29,
    "start_time": "2021-12-05T14:29:25.695Z"
   },
   {
    "duration": 28,
    "start_time": "2021-12-05T14:29:25.726Z"
   },
   {
    "duration": 30,
    "start_time": "2021-12-05T14:29:25.755Z"
   },
   {
    "duration": 18,
    "start_time": "2021-12-05T14:29:25.787Z"
   },
   {
    "duration": 209,
    "start_time": "2021-12-05T14:29:25.807Z"
   },
   {
    "duration": 4,
    "start_time": "2021-12-05T14:29:26.018Z"
   },
   {
    "duration": 20,
    "start_time": "2021-12-05T14:29:26.024Z"
   },
   {
    "duration": 12,
    "start_time": "2021-12-05T14:29:26.046Z"
   },
   {
    "duration": 11,
    "start_time": "2021-12-05T14:29:26.060Z"
   },
   {
    "duration": 19,
    "start_time": "2021-12-05T14:29:26.072Z"
   },
   {
    "duration": 7,
    "start_time": "2021-12-05T14:29:26.092Z"
   },
   {
    "duration": 7,
    "start_time": "2021-12-05T14:29:26.101Z"
   },
   {
    "duration": 10,
    "start_time": "2021-12-05T14:29:26.109Z"
   },
   {
    "duration": 42,
    "start_time": "2021-12-05T14:29:26.121Z"
   },
   {
    "duration": 4,
    "start_time": "2021-12-05T14:29:26.167Z"
   },
   {
    "duration": 11,
    "start_time": "2021-12-05T14:29:26.173Z"
   },
   {
    "duration": 15,
    "start_time": "2021-12-05T14:29:26.186Z"
   },
   {
    "duration": 5,
    "start_time": "2021-12-05T14:29:26.203Z"
   },
   {
    "duration": 11,
    "start_time": "2021-12-05T14:29:26.210Z"
   },
   {
    "duration": 24,
    "start_time": "2021-12-05T14:29:26.222Z"
   },
   {
    "duration": 7,
    "start_time": "2021-12-05T14:29:26.248Z"
   },
   {
    "duration": 7,
    "start_time": "2021-12-05T14:29:26.264Z"
   },
   {
    "duration": 13,
    "start_time": "2021-12-05T14:29:26.273Z"
   },
   {
    "duration": 18,
    "start_time": "2021-12-05T14:29:26.288Z"
   },
   {
    "duration": 9,
    "start_time": "2021-12-05T14:29:26.308Z"
   },
   {
    "duration": 6,
    "start_time": "2021-12-05T14:29:26.319Z"
   },
   {
    "duration": 18,
    "start_time": "2021-12-05T14:29:26.326Z"
   },
   {
    "duration": 23,
    "start_time": "2021-12-05T14:29:26.346Z"
   },
   {
    "duration": 9,
    "start_time": "2021-12-05T14:29:26.371Z"
   },
   {
    "duration": 10,
    "start_time": "2021-12-05T14:29:26.382Z"
   },
   {
    "duration": 7,
    "start_time": "2021-12-05T14:29:26.394Z"
   },
   {
    "duration": 9,
    "start_time": "2021-12-05T14:29:26.403Z"
   },
   {
    "duration": 22,
    "start_time": "2021-12-05T14:29:26.414Z"
   },
   {
    "duration": 39,
    "start_time": "2021-12-05T14:29:26.438Z"
   },
   {
    "duration": 16,
    "start_time": "2021-12-05T14:29:26.478Z"
   },
   {
    "duration": 4,
    "start_time": "2021-12-05T14:29:26.496Z"
   },
   {
    "duration": 3,
    "start_time": "2021-12-05T14:29:26.502Z"
   },
   {
    "duration": 3577,
    "start_time": "2021-12-05T14:29:26.507Z"
   },
   {
    "duration": 25,
    "start_time": "2021-12-05T14:29:30.086Z"
   },
   {
    "duration": 31,
    "start_time": "2021-12-05T14:29:30.113Z"
   },
   {
    "duration": 24,
    "start_time": "2021-12-05T14:29:30.147Z"
   },
   {
    "duration": 17,
    "start_time": "2021-12-05T14:29:30.173Z"
   },
   {
    "duration": 23,
    "start_time": "2021-12-05T14:29:30.192Z"
   },
   {
    "duration": 11,
    "start_time": "2021-12-05T14:29:30.217Z"
   },
   {
    "duration": 12,
    "start_time": "2021-12-05T14:29:30.230Z"
   },
   {
    "duration": 331,
    "start_time": "2021-12-05T14:29:46.924Z"
   },
   {
    "duration": 135,
    "start_time": "2021-12-05T14:30:02.296Z"
   },
   {
    "duration": 26,
    "start_time": "2021-12-05T14:30:13.018Z"
   },
   {
    "duration": 81,
    "start_time": "2021-12-05T14:30:53.464Z"
   },
   {
    "duration": 8,
    "start_time": "2021-12-05T14:30:57.831Z"
   },
   {
    "duration": 299,
    "start_time": "2021-12-05T14:31:58.356Z"
   },
   {
    "duration": 7,
    "start_time": "2021-12-05T14:32:09.953Z"
   },
   {
    "duration": 1184,
    "start_time": "2021-12-05T14:41:19.461Z"
   },
   {
    "duration": 9,
    "start_time": "2021-12-05T14:41:20.638Z"
   },
   {
    "duration": 1183,
    "start_time": "2021-12-05T14:41:46.477Z"
   },
   {
    "duration": 284,
    "start_time": "2021-12-05T14:41:57.809Z"
   },
   {
    "duration": 1187,
    "start_time": "2021-12-05T14:42:04.576Z"
   },
   {
    "duration": 51,
    "start_time": "2021-12-05T14:42:05.765Z"
   },
   {
    "duration": 16,
    "start_time": "2021-12-05T14:42:05.818Z"
   },
   {
    "duration": 43,
    "start_time": "2021-12-05T14:42:05.836Z"
   },
   {
    "duration": 202,
    "start_time": "2021-12-05T14:42:05.881Z"
   },
   {
    "duration": 194,
    "start_time": "2021-12-05T14:42:06.085Z"
   },
   {
    "duration": 208,
    "start_time": "2021-12-05T14:42:06.280Z"
   },
   {
    "duration": 20,
    "start_time": "2021-12-05T14:42:06.491Z"
   },
   {
    "duration": 17,
    "start_time": "2021-12-05T14:42:06.513Z"
   },
   {
    "duration": 21,
    "start_time": "2021-12-05T14:42:06.532Z"
   },
   {
    "duration": 19,
    "start_time": "2021-12-05T14:42:06.564Z"
   },
   {
    "duration": 22,
    "start_time": "2021-12-05T14:42:06.584Z"
   },
   {
    "duration": 199,
    "start_time": "2021-12-05T14:42:06.607Z"
   },
   {
    "duration": 5,
    "start_time": "2021-12-05T14:42:06.808Z"
   },
   {
    "duration": 28,
    "start_time": "2021-12-05T14:42:06.814Z"
   },
   {
    "duration": 32,
    "start_time": "2021-12-05T14:42:06.844Z"
   },
   {
    "duration": 28,
    "start_time": "2021-12-05T14:42:06.878Z"
   },
   {
    "duration": 34,
    "start_time": "2021-12-05T14:42:06.907Z"
   },
   {
    "duration": 18,
    "start_time": "2021-12-05T14:42:06.943Z"
   },
   {
    "duration": 25,
    "start_time": "2021-12-05T14:42:06.963Z"
   },
   {
    "duration": 44,
    "start_time": "2021-12-05T14:42:06.989Z"
   },
   {
    "duration": 109,
    "start_time": "2021-12-05T14:42:07.035Z"
   },
   {
    "duration": 17,
    "start_time": "2021-12-05T14:42:07.149Z"
   },
   {
    "duration": 25,
    "start_time": "2021-12-05T14:42:07.168Z"
   },
   {
    "duration": 32,
    "start_time": "2021-12-05T14:42:07.195Z"
   },
   {
    "duration": 8,
    "start_time": "2021-12-05T14:42:07.229Z"
   },
   {
    "duration": 27,
    "start_time": "2021-12-05T14:42:07.239Z"
   },
   {
    "duration": 18,
    "start_time": "2021-12-05T14:42:07.268Z"
   },
   {
    "duration": 13,
    "start_time": "2021-12-05T14:42:07.288Z"
   },
   {
    "duration": 27,
    "start_time": "2021-12-05T14:42:07.302Z"
   },
   {
    "duration": 31,
    "start_time": "2021-12-05T14:42:07.331Z"
   },
   {
    "duration": 40,
    "start_time": "2021-12-05T14:42:07.364Z"
   },
   {
    "duration": 19,
    "start_time": "2021-12-05T14:42:07.406Z"
   },
   {
    "duration": 18,
    "start_time": "2021-12-05T14:42:07.427Z"
   },
   {
    "duration": 26,
    "start_time": "2021-12-05T14:42:07.447Z"
   },
   {
    "duration": 18,
    "start_time": "2021-12-05T14:42:07.475Z"
   },
   {
    "duration": 9,
    "start_time": "2021-12-05T14:42:07.495Z"
   },
   {
    "duration": 43,
    "start_time": "2021-12-05T14:42:07.506Z"
   },
   {
    "duration": 17,
    "start_time": "2021-12-05T14:42:07.551Z"
   },
   {
    "duration": 40,
    "start_time": "2021-12-05T14:42:07.570Z"
   },
   {
    "duration": 34,
    "start_time": "2021-12-05T14:42:07.612Z"
   },
   {
    "duration": 28,
    "start_time": "2021-12-05T14:42:07.648Z"
   },
   {
    "duration": 18,
    "start_time": "2021-12-05T14:42:07.678Z"
   },
   {
    "duration": 37,
    "start_time": "2021-12-05T14:42:07.698Z"
   },
   {
    "duration": 24,
    "start_time": "2021-12-05T14:42:07.737Z"
   },
   {
    "duration": 3632,
    "start_time": "2021-12-05T14:42:07.763Z"
   },
   {
    "duration": 18,
    "start_time": "2021-12-05T14:42:11.397Z"
   },
   {
    "duration": 20,
    "start_time": "2021-12-05T14:42:11.417Z"
   },
   {
    "duration": 22,
    "start_time": "2021-12-05T14:42:11.439Z"
   },
   {
    "duration": 35,
    "start_time": "2021-12-05T14:42:11.463Z"
   },
   {
    "duration": 46,
    "start_time": "2021-12-05T14:42:11.500Z"
   },
   {
    "duration": 23,
    "start_time": "2021-12-05T14:42:11.548Z"
   },
   {
    "duration": 22,
    "start_time": "2021-12-05T14:42:11.572Z"
   },
   {
    "duration": 11,
    "start_time": "2021-12-05T14:42:13.397Z"
   },
   {
    "duration": 6,
    "start_time": "2021-12-05T14:42:16.486Z"
   },
   {
    "duration": 23,
    "start_time": "2021-12-05T14:42:29.599Z"
   },
   {
    "duration": 1254,
    "start_time": "2021-12-05T14:43:46.409Z"
   },
   {
    "duration": -9,
    "start_time": "2021-12-05T14:43:47.675Z"
   },
   {
    "duration": 3,
    "start_time": "2021-12-05T14:43:52.569Z"
   },
   {
    "duration": 52,
    "start_time": "2021-12-05T14:43:52.577Z"
   },
   {
    "duration": 14,
    "start_time": "2021-12-05T14:43:52.631Z"
   },
   {
    "duration": 22,
    "start_time": "2021-12-05T14:43:52.647Z"
   },
   {
    "duration": 221,
    "start_time": "2021-12-05T14:43:52.671Z"
   },
   {
    "duration": 227,
    "start_time": "2021-12-05T14:43:52.894Z"
   },
   {
    "duration": 296,
    "start_time": "2021-12-05T14:43:53.123Z"
   },
   {
    "duration": 23,
    "start_time": "2021-12-05T14:43:53.421Z"
   },
   {
    "duration": 29,
    "start_time": "2021-12-05T14:43:53.446Z"
   },
   {
    "duration": 8,
    "start_time": "2021-12-05T14:43:53.478Z"
   },
   {
    "duration": 9,
    "start_time": "2021-12-05T14:43:53.488Z"
   },
   {
    "duration": 8,
    "start_time": "2021-12-05T14:43:53.499Z"
   },
   {
    "duration": 216,
    "start_time": "2021-12-05T14:43:53.509Z"
   },
   {
    "duration": 5,
    "start_time": "2021-12-05T14:43:53.728Z"
   },
   {
    "duration": 31,
    "start_time": "2021-12-05T14:43:53.735Z"
   },
   {
    "duration": 12,
    "start_time": "2021-12-05T14:43:53.768Z"
   },
   {
    "duration": 12,
    "start_time": "2021-12-05T14:43:53.782Z"
   },
   {
    "duration": 20,
    "start_time": "2021-12-05T14:43:53.796Z"
   },
   {
    "duration": 9,
    "start_time": "2021-12-05T14:43:53.818Z"
   },
   {
    "duration": 41,
    "start_time": "2021-12-05T14:43:53.829Z"
   },
   {
    "duration": 11,
    "start_time": "2021-12-05T14:43:53.872Z"
   },
   {
    "duration": 11,
    "start_time": "2021-12-05T14:43:53.885Z"
   },
   {
    "duration": 5,
    "start_time": "2021-12-05T14:43:53.898Z"
   },
   {
    "duration": 4,
    "start_time": "2021-12-05T14:43:53.907Z"
   },
   {
    "duration": 16,
    "start_time": "2021-12-05T14:43:53.914Z"
   },
   {
    "duration": 7,
    "start_time": "2021-12-05T14:43:53.964Z"
   },
   {
    "duration": 10,
    "start_time": "2021-12-05T14:43:53.973Z"
   },
   {
    "duration": 7,
    "start_time": "2021-12-05T14:43:53.985Z"
   },
   {
    "duration": 7,
    "start_time": "2021-12-05T14:43:53.994Z"
   },
   {
    "duration": 9,
    "start_time": "2021-12-05T14:43:54.003Z"
   },
   {
    "duration": 15,
    "start_time": "2021-12-05T14:43:54.013Z"
   },
   {
    "duration": 34,
    "start_time": "2021-12-05T14:43:54.030Z"
   },
   {
    "duration": 7,
    "start_time": "2021-12-05T14:43:54.067Z"
   },
   {
    "duration": 7,
    "start_time": "2021-12-05T14:43:54.076Z"
   },
   {
    "duration": 17,
    "start_time": "2021-12-05T14:43:54.084Z"
   },
   {
    "duration": 10,
    "start_time": "2021-12-05T14:43:54.103Z"
   },
   {
    "duration": 11,
    "start_time": "2021-12-05T14:43:54.115Z"
   },
   {
    "duration": 41,
    "start_time": "2021-12-05T14:43:54.128Z"
   },
   {
    "duration": 6,
    "start_time": "2021-12-05T14:43:54.171Z"
   },
   {
    "duration": 8,
    "start_time": "2021-12-05T14:43:54.179Z"
   },
   {
    "duration": 18,
    "start_time": "2021-12-05T14:43:54.188Z"
   },
   {
    "duration": 19,
    "start_time": "2021-12-05T14:43:54.208Z"
   },
   {
    "duration": 17,
    "start_time": "2021-12-05T14:43:54.265Z"
   },
   {
    "duration": 21,
    "start_time": "2021-12-05T14:43:54.284Z"
   },
   {
    "duration": 3,
    "start_time": "2021-12-05T14:43:54.307Z"
   },
   {
    "duration": 3760,
    "start_time": "2021-12-05T14:43:54.311Z"
   },
   {
    "duration": 23,
    "start_time": "2021-12-05T14:43:58.074Z"
   },
   {
    "duration": 6,
    "start_time": "2021-12-05T14:43:58.099Z"
   },
   {
    "duration": 15,
    "start_time": "2021-12-05T14:43:58.107Z"
   },
   {
    "duration": 17,
    "start_time": "2021-12-05T14:43:58.124Z"
   },
   {
    "duration": 40,
    "start_time": "2021-12-05T14:43:58.143Z"
   },
   {
    "duration": 6,
    "start_time": "2021-12-05T14:43:58.185Z"
   },
   {
    "duration": 8,
    "start_time": "2021-12-05T14:43:58.193Z"
   },
   {
    "duration": 14,
    "start_time": "2021-12-05T14:43:58.203Z"
   },
   {
    "duration": 7,
    "start_time": "2021-12-05T14:43:58.219Z"
   },
   {
    "duration": 7,
    "start_time": "2021-12-05T14:44:00.230Z"
   },
   {
    "duration": 24,
    "start_time": "2021-12-05T14:44:00.800Z"
   },
   {
    "duration": 2,
    "start_time": "2021-12-05T14:46:11.851Z"
   },
   {
    "duration": 55,
    "start_time": "2021-12-05T14:46:11.857Z"
   },
   {
    "duration": 13,
    "start_time": "2021-12-05T14:46:11.914Z"
   },
   {
    "duration": 18,
    "start_time": "2021-12-05T14:46:11.929Z"
   },
   {
    "duration": 218,
    "start_time": "2021-12-05T14:46:11.950Z"
   },
   {
    "duration": 224,
    "start_time": "2021-12-05T14:46:12.170Z"
   },
   {
    "duration": 219,
    "start_time": "2021-12-05T14:46:12.396Z"
   },
   {
    "duration": 24,
    "start_time": "2021-12-05T14:46:12.617Z"
   },
   {
    "duration": 31,
    "start_time": "2021-12-05T14:46:12.644Z"
   },
   {
    "duration": 14,
    "start_time": "2021-12-05T14:46:12.678Z"
   },
   {
    "duration": 10,
    "start_time": "2021-12-05T14:46:12.696Z"
   },
   {
    "duration": 15,
    "start_time": "2021-12-05T14:46:12.708Z"
   },
   {
    "duration": 223,
    "start_time": "2021-12-05T14:46:12.726Z"
   },
   {
    "duration": 15,
    "start_time": "2021-12-05T14:46:12.951Z"
   },
   {
    "duration": 23,
    "start_time": "2021-12-05T14:46:12.968Z"
   },
   {
    "duration": 38,
    "start_time": "2021-12-05T14:46:12.993Z"
   },
   {
    "duration": 64,
    "start_time": "2021-12-05T14:46:13.033Z"
   },
   {
    "duration": 43,
    "start_time": "2021-12-05T14:46:13.100Z"
   },
   {
    "duration": 10,
    "start_time": "2021-12-05T14:46:13.145Z"
   },
   {
    "duration": 18,
    "start_time": "2021-12-05T14:46:13.157Z"
   },
   {
    "duration": 41,
    "start_time": "2021-12-05T14:46:13.177Z"
   },
   {
    "duration": 14,
    "start_time": "2021-12-05T14:46:13.220Z"
   },
   {
    "duration": 16,
    "start_time": "2021-12-05T14:46:13.238Z"
   },
   {
    "duration": 27,
    "start_time": "2021-12-05T14:46:13.256Z"
   },
   {
    "duration": 24,
    "start_time": "2021-12-05T14:46:13.285Z"
   },
   {
    "duration": 31,
    "start_time": "2021-12-05T14:46:13.311Z"
   },
   {
    "duration": 24,
    "start_time": "2021-12-05T14:46:13.344Z"
   },
   {
    "duration": 15,
    "start_time": "2021-12-05T14:46:13.370Z"
   },
   {
    "duration": 9,
    "start_time": "2021-12-05T14:46:13.387Z"
   },
   {
    "duration": 9,
    "start_time": "2021-12-05T14:46:13.398Z"
   },
   {
    "duration": 16,
    "start_time": "2021-12-05T14:46:13.409Z"
   },
   {
    "duration": 20,
    "start_time": "2021-12-05T14:46:13.427Z"
   },
   {
    "duration": 47,
    "start_time": "2021-12-05T14:46:13.449Z"
   },
   {
    "duration": 7,
    "start_time": "2021-12-05T14:46:13.499Z"
   },
   {
    "duration": 26,
    "start_time": "2021-12-05T14:46:13.508Z"
   },
   {
    "duration": 14,
    "start_time": "2021-12-05T14:46:13.536Z"
   },
   {
    "duration": 11,
    "start_time": "2021-12-05T14:46:13.551Z"
   },
   {
    "duration": 26,
    "start_time": "2021-12-05T14:46:13.563Z"
   },
   {
    "duration": 9,
    "start_time": "2021-12-05T14:46:13.591Z"
   },
   {
    "duration": 12,
    "start_time": "2021-12-05T14:46:13.602Z"
   },
   {
    "duration": 21,
    "start_time": "2021-12-05T14:46:13.615Z"
   },
   {
    "duration": 52,
    "start_time": "2021-12-05T14:46:13.638Z"
   },
   {
    "duration": 17,
    "start_time": "2021-12-05T14:46:13.691Z"
   },
   {
    "duration": 22,
    "start_time": "2021-12-05T14:46:13.710Z"
   },
   {
    "duration": 2,
    "start_time": "2021-12-05T14:46:13.735Z"
   },
   {
    "duration": 4095,
    "start_time": "2021-12-05T14:46:13.739Z"
   },
   {
    "duration": 28,
    "start_time": "2021-12-05T14:46:17.837Z"
   },
   {
    "duration": 5,
    "start_time": "2021-12-05T14:46:17.867Z"
   },
   {
    "duration": 6,
    "start_time": "2021-12-05T14:46:17.874Z"
   },
   {
    "duration": 16,
    "start_time": "2021-12-05T14:46:17.882Z"
   },
   {
    "duration": 26,
    "start_time": "2021-12-05T14:46:17.900Z"
   },
   {
    "duration": 38,
    "start_time": "2021-12-05T14:46:17.927Z"
   },
   {
    "duration": 13,
    "start_time": "2021-12-05T14:46:17.967Z"
   },
   {
    "duration": 27,
    "start_time": "2021-12-05T14:46:17.982Z"
   },
   {
    "duration": 1012,
    "start_time": "2021-12-05T14:46:22.472Z"
   },
   {
    "duration": -21,
    "start_time": "2021-12-05T14:46:23.507Z"
   },
   {
    "duration": 19,
    "start_time": "2021-12-05T14:46:23.665Z"
   },
   {
    "duration": 1084,
    "start_time": "2021-12-05T14:48:43.588Z"
   },
   {
    "duration": 1216,
    "start_time": "2021-12-05T14:49:22.020Z"
   },
   {
    "duration": 1172,
    "start_time": "2021-12-05T14:50:01.525Z"
   },
   {
    "duration": 53,
    "start_time": "2021-12-05T14:50:02.699Z"
   },
   {
    "duration": 25,
    "start_time": "2021-12-05T14:50:02.754Z"
   },
   {
    "duration": 48,
    "start_time": "2021-12-05T14:50:02.781Z"
   },
   {
    "duration": 219,
    "start_time": "2021-12-05T14:50:02.831Z"
   },
   {
    "duration": 192,
    "start_time": "2021-12-05T14:50:03.052Z"
   },
   {
    "duration": 207,
    "start_time": "2021-12-05T14:50:03.245Z"
   },
   {
    "duration": 26,
    "start_time": "2021-12-05T14:50:03.455Z"
   },
   {
    "duration": 28,
    "start_time": "2021-12-05T14:50:03.483Z"
   },
   {
    "duration": 33,
    "start_time": "2021-12-05T14:50:03.513Z"
   },
   {
    "duration": 24,
    "start_time": "2021-12-05T14:50:03.548Z"
   },
   {
    "duration": 26,
    "start_time": "2021-12-05T14:50:03.574Z"
   },
   {
    "duration": 196,
    "start_time": "2021-12-05T14:50:03.601Z"
   },
   {
    "duration": 5,
    "start_time": "2021-12-05T14:50:03.798Z"
   },
   {
    "duration": 71,
    "start_time": "2021-12-05T14:50:03.805Z"
   },
   {
    "duration": 27,
    "start_time": "2021-12-05T14:50:03.877Z"
   },
   {
    "duration": 22,
    "start_time": "2021-12-05T14:50:03.906Z"
   },
   {
    "duration": 26,
    "start_time": "2021-12-05T14:50:03.930Z"
   },
   {
    "duration": 8,
    "start_time": "2021-12-05T14:50:03.957Z"
   },
   {
    "duration": 27,
    "start_time": "2021-12-05T14:50:03.966Z"
   },
   {
    "duration": 26,
    "start_time": "2021-12-05T14:50:03.994Z"
   },
   {
    "duration": 23,
    "start_time": "2021-12-05T14:50:04.022Z"
   },
   {
    "duration": 15,
    "start_time": "2021-12-05T14:50:04.049Z"
   },
   {
    "duration": 23,
    "start_time": "2021-12-05T14:50:04.066Z"
   },
   {
    "duration": 26,
    "start_time": "2021-12-05T14:50:04.091Z"
   },
   {
    "duration": 50,
    "start_time": "2021-12-05T14:50:04.119Z"
   },
   {
    "duration": 21,
    "start_time": "2021-12-05T14:50:04.170Z"
   },
   {
    "duration": 36,
    "start_time": "2021-12-05T14:50:04.193Z"
   },
   {
    "duration": 18,
    "start_time": "2021-12-05T14:50:04.231Z"
   },
   {
    "duration": 34,
    "start_time": "2021-12-05T14:50:04.251Z"
   },
   {
    "duration": 43,
    "start_time": "2021-12-05T14:50:04.287Z"
   },
   {
    "duration": 72,
    "start_time": "2021-12-05T14:50:04.332Z"
   },
   {
    "duration": 71,
    "start_time": "2021-12-05T14:50:04.406Z"
   },
   {
    "duration": 100,
    "start_time": "2021-12-05T14:50:04.478Z"
   },
   {
    "duration": 73,
    "start_time": "2021-12-05T14:50:04.580Z"
   },
   {
    "duration": 83,
    "start_time": "2021-12-05T14:50:04.655Z"
   },
   {
    "duration": 39,
    "start_time": "2021-12-05T14:50:04.740Z"
   },
   {
    "duration": 14,
    "start_time": "2021-12-05T14:50:04.780Z"
   },
   {
    "duration": 8,
    "start_time": "2021-12-05T14:50:04.795Z"
   },
   {
    "duration": 11,
    "start_time": "2021-12-05T14:50:04.805Z"
   },
   {
    "duration": 21,
    "start_time": "2021-12-05T14:50:04.818Z"
   },
   {
    "duration": 18,
    "start_time": "2021-12-05T14:50:04.841Z"
   },
   {
    "duration": 15,
    "start_time": "2021-12-05T14:50:04.861Z"
   },
   {
    "duration": 7,
    "start_time": "2021-12-05T14:50:04.877Z"
   },
   {
    "duration": 8,
    "start_time": "2021-12-05T14:50:04.886Z"
   },
   {
    "duration": 3559,
    "start_time": "2021-12-05T14:50:04.896Z"
   },
   {
    "duration": 19,
    "start_time": "2021-12-05T14:50:08.464Z"
   },
   {
    "duration": 33,
    "start_time": "2021-12-05T14:50:08.484Z"
   },
   {
    "duration": 16,
    "start_time": "2021-12-05T14:50:08.519Z"
   },
   {
    "duration": 34,
    "start_time": "2021-12-05T14:50:08.537Z"
   },
   {
    "duration": 31,
    "start_time": "2021-12-05T14:50:08.573Z"
   },
   {
    "duration": 19,
    "start_time": "2021-12-05T14:50:08.606Z"
   },
   {
    "duration": 29,
    "start_time": "2021-12-05T14:50:08.627Z"
   },
   {
    "duration": 17,
    "start_time": "2021-12-05T14:50:08.658Z"
   },
   {
    "duration": 21,
    "start_time": "2021-12-05T14:50:08.676Z"
   },
   {
    "duration": 22,
    "start_time": "2021-12-05T14:50:08.698Z"
   },
   {
    "duration": 10,
    "start_time": "2021-12-05T14:50:08.722Z"
   },
   {
    "duration": 7,
    "start_time": "2021-12-05T14:50:08.734Z"
   },
   {
    "duration": 10,
    "start_time": "2021-12-05T14:50:08.743Z"
   },
   {
    "duration": 10,
    "start_time": "2021-12-05T14:50:08.754Z"
   },
   {
    "duration": 9,
    "start_time": "2021-12-05T14:50:08.766Z"
   },
   {
    "duration": 6,
    "start_time": "2021-12-05T14:50:08.776Z"
   },
   {
    "duration": 12,
    "start_time": "2021-12-05T14:50:08.783Z"
   },
   {
    "duration": 161,
    "start_time": "2021-12-05T14:50:08.797Z"
   },
   {
    "duration": 5,
    "start_time": "2021-12-05T14:50:08.963Z"
   },
   {
    "duration": 11,
    "start_time": "2021-12-05T14:50:08.970Z"
   },
   {
    "duration": 3,
    "start_time": "2021-12-05T14:50:08.983Z"
   },
   {
    "duration": 6,
    "start_time": "2021-12-05T14:50:08.992Z"
   },
   {
    "duration": 6,
    "start_time": "2021-12-05T14:50:09.000Z"
   },
   {
    "duration": 169,
    "start_time": "2021-12-05T14:50:09.007Z"
   },
   {
    "duration": 4,
    "start_time": "2021-12-05T14:50:09.178Z"
   },
   {
    "duration": 7,
    "start_time": "2021-12-05T14:50:09.184Z"
   },
   {
    "duration": 6,
    "start_time": "2021-12-05T14:50:09.193Z"
   },
   {
    "duration": 11,
    "start_time": "2021-12-05T14:50:09.201Z"
   },
   {
    "duration": 1178,
    "start_time": "2021-12-05T14:50:09.214Z"
   },
   {
    "duration": -872,
    "start_time": "2021-12-05T14:50:11.266Z"
   },
   {
    "duration": -881,
    "start_time": "2021-12-05T14:50:11.277Z"
   },
   {
    "duration": -892,
    "start_time": "2021-12-05T14:50:11.288Z"
   },
   {
    "duration": -900,
    "start_time": "2021-12-05T14:50:11.298Z"
   },
   {
    "duration": -909,
    "start_time": "2021-12-05T14:50:11.308Z"
   },
   {
    "duration": -917,
    "start_time": "2021-12-05T14:50:11.317Z"
   },
   {
    "duration": -927,
    "start_time": "2021-12-05T14:50:11.328Z"
   },
   {
    "duration": -936,
    "start_time": "2021-12-05T14:50:11.338Z"
   },
   {
    "duration": -965,
    "start_time": "2021-12-05T14:50:11.368Z"
   },
   {
    "duration": -975,
    "start_time": "2021-12-05T14:50:11.379Z"
   },
   {
    "duration": -984,
    "start_time": "2021-12-05T14:50:11.389Z"
   },
   {
    "duration": 9,
    "start_time": "2021-12-05T14:54:12.593Z"
   },
   {
    "duration": 5,
    "start_time": "2021-12-05T14:54:16.649Z"
   },
   {
    "duration": 24,
    "start_time": "2021-12-05T14:54:17.521Z"
   },
   {
    "duration": 13,
    "start_time": "2021-12-05T14:56:29.489Z"
   },
   {
    "duration": 87,
    "start_time": "2021-12-05T15:00:01.313Z"
   },
   {
    "duration": 4,
    "start_time": "2021-12-05T15:01:34.644Z"
   },
   {
    "duration": 12,
    "start_time": "2021-12-05T15:01:35.035Z"
   },
   {
    "duration": 4,
    "start_time": "2021-12-05T15:01:57.609Z"
   },
   {
    "duration": 13,
    "start_time": "2021-12-05T15:01:58.714Z"
   },
   {
    "duration": 104,
    "start_time": "2021-12-05T15:01:59.068Z"
   },
   {
    "duration": 6,
    "start_time": "2021-12-05T15:02:07.058Z"
   },
   {
    "duration": 24,
    "start_time": "2021-12-05T15:02:19.769Z"
   },
   {
    "duration": 94,
    "start_time": "2021-12-05T15:05:10.437Z"
   },
   {
    "duration": 81,
    "start_time": "2021-12-05T15:18:14.625Z"
   },
   {
    "duration": 5,
    "start_time": "2021-12-05T15:18:19.152Z"
   },
   {
    "duration": 101,
    "start_time": "2021-12-05T15:18:44.657Z"
   },
   {
    "duration": 948,
    "start_time": "2021-12-05T15:21:13.144Z"
   },
   {
    "duration": 29,
    "start_time": "2021-12-05T15:21:14.066Z"
   },
   {
    "duration": 8,
    "start_time": "2021-12-05T15:21:22.929Z"
   },
   {
    "duration": 93,
    "start_time": "2021-12-05T15:21:23.720Z"
   },
   {
    "duration": 946,
    "start_time": "2021-12-05T15:21:36.799Z"
   },
   {
    "duration": 42,
    "start_time": "2021-12-05T15:21:37.705Z"
   },
   {
    "duration": 957,
    "start_time": "2021-12-05T15:21:54.835Z"
   },
   {
    "duration": 13,
    "start_time": "2021-12-05T15:21:55.780Z"
   },
   {
    "duration": 1178,
    "start_time": "2021-12-05T15:22:30.218Z"
   },
   {
    "duration": 54,
    "start_time": "2021-12-05T15:22:31.398Z"
   },
   {
    "duration": 15,
    "start_time": "2021-12-05T15:22:31.454Z"
   },
   {
    "duration": 25,
    "start_time": "2021-12-05T15:22:31.471Z"
   },
   {
    "duration": 226,
    "start_time": "2021-12-05T15:22:31.498Z"
   },
   {
    "duration": 200,
    "start_time": "2021-12-05T15:22:31.726Z"
   },
   {
    "duration": 210,
    "start_time": "2021-12-05T15:22:31.928Z"
   },
   {
    "duration": 31,
    "start_time": "2021-12-05T15:22:32.141Z"
   },
   {
    "duration": 14,
    "start_time": "2021-12-05T15:22:32.174Z"
   },
   {
    "duration": 27,
    "start_time": "2021-12-05T15:22:32.190Z"
   },
   {
    "duration": 38,
    "start_time": "2021-12-05T15:22:32.219Z"
   },
   {
    "duration": 18,
    "start_time": "2021-12-05T15:22:32.260Z"
   },
   {
    "duration": 212,
    "start_time": "2021-12-05T15:22:32.281Z"
   },
   {
    "duration": 5,
    "start_time": "2021-12-05T15:22:32.496Z"
   },
   {
    "duration": 47,
    "start_time": "2021-12-05T15:22:32.503Z"
   },
   {
    "duration": 26,
    "start_time": "2021-12-05T15:22:32.553Z"
   },
   {
    "duration": 12,
    "start_time": "2021-12-05T15:22:32.581Z"
   },
   {
    "duration": 44,
    "start_time": "2021-12-05T15:22:32.595Z"
   },
   {
    "duration": 7,
    "start_time": "2021-12-05T15:22:32.641Z"
   },
   {
    "duration": 19,
    "start_time": "2021-12-05T15:22:32.650Z"
   },
   {
    "duration": 20,
    "start_time": "2021-12-05T15:22:32.670Z"
   },
   {
    "duration": 25,
    "start_time": "2021-12-05T15:22:32.692Z"
   },
   {
    "duration": 7,
    "start_time": "2021-12-05T15:22:32.721Z"
   },
   {
    "duration": 9,
    "start_time": "2021-12-05T15:22:32.730Z"
   },
   {
    "duration": 36,
    "start_time": "2021-12-05T15:22:32.740Z"
   },
   {
    "duration": 5,
    "start_time": "2021-12-05T15:22:32.778Z"
   },
   {
    "duration": 15,
    "start_time": "2021-12-05T15:22:32.785Z"
   },
   {
    "duration": 13,
    "start_time": "2021-12-05T15:22:32.802Z"
   },
   {
    "duration": 10,
    "start_time": "2021-12-05T15:22:32.817Z"
   },
   {
    "duration": 11,
    "start_time": "2021-12-05T15:22:32.829Z"
   },
   {
    "duration": 15,
    "start_time": "2021-12-05T15:22:32.842Z"
   },
   {
    "duration": 14,
    "start_time": "2021-12-05T15:22:32.859Z"
   },
   {
    "duration": 30,
    "start_time": "2021-12-05T15:22:32.875Z"
   },
   {
    "duration": 42,
    "start_time": "2021-12-05T15:22:32.908Z"
   },
   {
    "duration": 32,
    "start_time": "2021-12-05T15:22:32.952Z"
   },
   {
    "duration": 12,
    "start_time": "2021-12-05T15:22:32.986Z"
   },
   {
    "duration": 9,
    "start_time": "2021-12-05T15:22:32.999Z"
   },
   {
    "duration": 17,
    "start_time": "2021-12-05T15:22:33.010Z"
   },
   {
    "duration": 7,
    "start_time": "2021-12-05T15:22:33.029Z"
   },
   {
    "duration": 12,
    "start_time": "2021-12-05T15:22:33.038Z"
   },
   {
    "duration": 23,
    "start_time": "2021-12-05T15:22:33.052Z"
   },
   {
    "duration": 19,
    "start_time": "2021-12-05T15:22:33.077Z"
   },
   {
    "duration": 18,
    "start_time": "2021-12-05T15:22:33.098Z"
   },
   {
    "duration": 8,
    "start_time": "2021-12-05T15:22:33.118Z"
   },
   {
    "duration": 5,
    "start_time": "2021-12-05T15:22:33.128Z"
   },
   {
    "duration": 3729,
    "start_time": "2021-12-05T15:22:33.135Z"
   },
   {
    "duration": 22,
    "start_time": "2021-12-05T15:22:36.867Z"
   },
   {
    "duration": 4,
    "start_time": "2021-12-05T15:22:36.891Z"
   },
   {
    "duration": 16,
    "start_time": "2021-12-05T15:22:36.896Z"
   },
   {
    "duration": 20,
    "start_time": "2021-12-05T15:22:36.914Z"
   },
   {
    "duration": 32,
    "start_time": "2021-12-05T15:22:36.936Z"
   },
   {
    "duration": 12,
    "start_time": "2021-12-05T15:22:36.970Z"
   },
   {
    "duration": 361,
    "start_time": "2021-12-05T15:22:36.984Z"
   },
   {
    "duration": 38,
    "start_time": "2021-12-05T15:22:37.309Z"
   },
   {
    "duration": 29,
    "start_time": "2021-12-05T15:22:37.319Z"
   },
   {
    "duration": 19,
    "start_time": "2021-12-05T15:22:37.330Z"
   },
   {
    "duration": 5,
    "start_time": "2021-12-05T15:23:04.262Z"
   },
   {
    "duration": 10,
    "start_time": "2021-12-05T15:23:12.406Z"
   },
   {
    "duration": 6,
    "start_time": "2021-12-05T15:23:12.799Z"
   },
   {
    "duration": 26,
    "start_time": "2021-12-05T15:23:15.925Z"
   },
   {
    "duration": 12,
    "start_time": "2021-12-05T15:23:19.481Z"
   },
   {
    "duration": 24,
    "start_time": "2021-12-05T15:24:03.911Z"
   },
   {
    "duration": 11,
    "start_time": "2021-12-05T15:24:06.561Z"
   },
   {
    "duration": 5,
    "start_time": "2021-12-05T15:31:23.529Z"
   },
   {
    "duration": 5,
    "start_time": "2021-12-05T15:31:24.123Z"
   },
   {
    "duration": 9,
    "start_time": "2021-12-05T15:31:34.719Z"
   },
   {
    "duration": 9,
    "start_time": "2021-12-05T15:31:43.642Z"
   },
   {
    "duration": 4,
    "start_time": "2021-12-05T15:31:44.105Z"
   },
   {
    "duration": 8,
    "start_time": "2021-12-05T15:35:48.258Z"
   },
   {
    "duration": 4,
    "start_time": "2021-12-05T15:38:49.123Z"
   },
   {
    "duration": 10,
    "start_time": "2021-12-05T15:38:49.660Z"
   },
   {
    "duration": 238,
    "start_time": "2021-12-05T15:39:12.327Z"
   },
   {
    "duration": 245,
    "start_time": "2021-12-05T15:40:19.005Z"
   },
   {
    "duration": 101,
    "start_time": "2021-12-05T15:47:28.394Z"
   },
   {
    "duration": 243,
    "start_time": "2021-12-05T15:51:37.659Z"
   },
   {
    "duration": 4,
    "start_time": "2021-12-05T15:51:44.147Z"
   },
   {
    "duration": 7,
    "start_time": "2021-12-05T15:51:44.737Z"
   },
   {
    "duration": 102,
    "start_time": "2021-12-05T15:53:13.938Z"
   },
   {
    "duration": 248,
    "start_time": "2021-12-05T15:56:02.571Z"
   },
   {
    "duration": 6,
    "start_time": "2021-12-05T15:56:09.669Z"
   },
   {
    "duration": 9,
    "start_time": "2021-12-05T15:56:09.980Z"
   },
   {
    "duration": 255,
    "start_time": "2021-12-05T15:56:11.148Z"
   },
   {
    "duration": 19,
    "start_time": "2021-12-05T15:56:19.762Z"
   },
   {
    "duration": 20,
    "start_time": "2021-12-05T15:58:40.171Z"
   },
   {
    "duration": 30,
    "start_time": "2021-12-05T15:58:55.452Z"
   },
   {
    "duration": 253,
    "start_time": "2021-12-05T15:59:51.343Z"
   },
   {
    "duration": 1218,
    "start_time": "2021-12-05T16:00:02.332Z"
   },
   {
    "duration": 5,
    "start_time": "2021-12-05T16:00:19.350Z"
   },
   {
    "duration": 8,
    "start_time": "2021-12-05T16:00:20.124Z"
   },
   {
    "duration": 8,
    "start_time": "2021-12-05T16:00:21.650Z"
   },
   {
    "duration": 8,
    "start_time": "2021-12-05T16:00:22.971Z"
   },
   {
    "duration": 9,
    "start_time": "2021-12-05T16:00:24.085Z"
   },
   {
    "duration": 193,
    "start_time": "2021-12-05T16:00:25.917Z"
   },
   {
    "duration": 85,
    "start_time": "2021-12-05T16:00:46.661Z"
   },
   {
    "duration": 83,
    "start_time": "2021-12-05T16:06:42.276Z"
   },
   {
    "duration": 7,
    "start_time": "2021-12-05T16:08:11.169Z"
   },
   {
    "duration": 12,
    "start_time": "2021-12-05T16:08:11.525Z"
   },
   {
    "duration": 305,
    "start_time": "2021-12-05T16:08:14.025Z"
   },
   {
    "duration": 554,
    "start_time": "2021-12-05T16:10:06.176Z"
   },
   {
    "duration": 4,
    "start_time": "2021-12-05T16:10:10.002Z"
   },
   {
    "duration": 12,
    "start_time": "2021-12-05T16:10:10.400Z"
   },
   {
    "duration": 8,
    "start_time": "2021-12-05T16:10:11.938Z"
   },
   {
    "duration": 1006,
    "start_time": "2021-12-05T16:10:14.520Z"
   },
   {
    "duration": 8,
    "start_time": "2021-12-05T16:10:42.513Z"
   },
   {
    "duration": 15,
    "start_time": "2021-12-05T16:10:42.779Z"
   },
   {
    "duration": 7,
    "start_time": "2021-12-05T16:10:53.107Z"
   },
   {
    "duration": 249,
    "start_time": "2021-12-05T16:11:02.898Z"
   },
   {
    "duration": 4,
    "start_time": "2021-12-05T16:11:20.735Z"
   },
   {
    "duration": 20,
    "start_time": "2021-12-05T16:11:21.561Z"
   },
   {
    "duration": 270,
    "start_time": "2021-12-05T16:11:25.865Z"
   },
   {
    "duration": 182,
    "start_time": "2021-12-05T16:11:45.994Z"
   },
   {
    "duration": 283,
    "start_time": "2021-12-05T16:11:52.977Z"
   },
   {
    "duration": 87,
    "start_time": "2021-12-05T16:19:38.693Z"
   },
   {
    "duration": 83,
    "start_time": "2021-12-05T16:22:56.488Z"
   },
   {
    "duration": 18,
    "start_time": "2021-12-05T16:23:00.864Z"
   },
   {
    "duration": 8,
    "start_time": "2021-12-05T16:23:05.485Z"
   },
   {
    "duration": 77,
    "start_time": "2021-12-05T16:24:23.438Z"
   },
   {
    "duration": 251,
    "start_time": "2021-12-05T16:25:19.577Z"
   },
   {
    "duration": 250,
    "start_time": "2021-12-05T16:25:22.471Z"
   },
   {
    "duration": 4,
    "start_time": "2021-12-05T16:25:26.454Z"
   },
   {
    "duration": 11,
    "start_time": "2021-12-05T16:25:26.719Z"
   },
   {
    "duration": 8,
    "start_time": "2021-12-05T16:25:27.949Z"
   },
   {
    "duration": 4,
    "start_time": "2021-12-05T16:25:28.541Z"
   },
   {
    "duration": 8,
    "start_time": "2021-12-05T16:25:29.213Z"
   },
   {
    "duration": 222,
    "start_time": "2021-12-05T16:25:30.423Z"
   },
   {
    "duration": 182,
    "start_time": "2021-12-05T16:25:35.606Z"
   },
   {
    "duration": 5,
    "start_time": "2021-12-05T16:29:36.928Z"
   },
   {
    "duration": 267,
    "start_time": "2021-12-05T16:29:38.526Z"
   },
   {
    "duration": 245,
    "start_time": "2021-12-05T16:30:26.194Z"
   },
   {
    "duration": 92,
    "start_time": "2021-12-05T16:31:05.601Z"
   },
   {
    "duration": 9,
    "start_time": "2021-12-05T16:32:18.497Z"
   },
   {
    "duration": 4,
    "start_time": "2021-12-05T16:32:19.913Z"
   },
   {
    "duration": 11,
    "start_time": "2021-12-05T16:32:21.883Z"
   },
   {
    "duration": 6842,
    "start_time": "2021-12-05T16:32:24.185Z"
   },
   {
    "duration": 7183,
    "start_time": "2021-12-05T16:32:41.122Z"
   },
   {
    "duration": 7345,
    "start_time": "2021-12-05T16:34:25.412Z"
   },
   {
    "duration": 1263,
    "start_time": "2021-12-05T16:34:56.091Z"
   },
   {
    "duration": 61,
    "start_time": "2021-12-05T16:34:57.356Z"
   },
   {
    "duration": 16,
    "start_time": "2021-12-05T16:34:57.419Z"
   },
   {
    "duration": 33,
    "start_time": "2021-12-05T16:34:57.438Z"
   },
   {
    "duration": 230,
    "start_time": "2021-12-05T16:34:57.475Z"
   },
   {
    "duration": 269,
    "start_time": "2021-12-05T16:34:57.707Z"
   },
   {
    "duration": 340,
    "start_time": "2021-12-05T16:34:57.979Z"
   },
   {
    "duration": 25,
    "start_time": "2021-12-05T16:34:58.323Z"
   },
   {
    "duration": 42,
    "start_time": "2021-12-05T16:34:58.351Z"
   },
   {
    "duration": 8,
    "start_time": "2021-12-05T16:34:58.395Z"
   },
   {
    "duration": 13,
    "start_time": "2021-12-05T16:34:58.405Z"
   },
   {
    "duration": 8,
    "start_time": "2021-12-05T16:34:58.420Z"
   },
   {
    "duration": 262,
    "start_time": "2021-12-05T16:34:58.430Z"
   },
   {
    "duration": 5,
    "start_time": "2021-12-05T16:34:58.693Z"
   },
   {
    "duration": 7,
    "start_time": "2021-12-05T16:34:58.699Z"
   },
   {
    "duration": 12,
    "start_time": "2021-12-05T16:34:58.707Z"
   },
   {
    "duration": 10,
    "start_time": "2021-12-05T16:34:58.720Z"
   },
   {
    "duration": 51,
    "start_time": "2021-12-05T16:34:58.732Z"
   },
   {
    "duration": 13,
    "start_time": "2021-12-05T16:34:58.786Z"
   },
   {
    "duration": 8,
    "start_time": "2021-12-05T16:34:58.802Z"
   },
   {
    "duration": 18,
    "start_time": "2021-12-05T16:34:58.812Z"
   },
   {
    "duration": 39,
    "start_time": "2021-12-05T16:34:58.832Z"
   },
   {
    "duration": 6,
    "start_time": "2021-12-05T16:34:58.879Z"
   },
   {
    "duration": 5,
    "start_time": "2021-12-05T16:34:58.891Z"
   },
   {
    "duration": 14,
    "start_time": "2021-12-05T16:34:58.898Z"
   },
   {
    "duration": 4,
    "start_time": "2021-12-05T16:34:58.914Z"
   },
   {
    "duration": 10,
    "start_time": "2021-12-05T16:34:58.919Z"
   },
   {
    "duration": 38,
    "start_time": "2021-12-05T16:34:58.930Z"
   },
   {
    "duration": 8,
    "start_time": "2021-12-05T16:34:58.971Z"
   },
   {
    "duration": 17,
    "start_time": "2021-12-05T16:34:58.984Z"
   },
   {
    "duration": 12,
    "start_time": "2021-12-05T16:34:59.003Z"
   },
   {
    "duration": 42,
    "start_time": "2021-12-05T16:34:59.017Z"
   },
   {
    "duration": 34,
    "start_time": "2021-12-05T16:34:59.061Z"
   },
   {
    "duration": 29,
    "start_time": "2021-12-05T16:34:59.097Z"
   },
   {
    "duration": 48,
    "start_time": "2021-12-05T16:34:59.127Z"
   },
   {
    "duration": 29,
    "start_time": "2021-12-05T16:34:59.179Z"
   },
   {
    "duration": 26,
    "start_time": "2021-12-05T16:34:59.209Z"
   },
   {
    "duration": 10,
    "start_time": "2021-12-05T16:34:59.237Z"
   },
   {
    "duration": 7,
    "start_time": "2021-12-05T16:34:59.249Z"
   },
   {
    "duration": 15,
    "start_time": "2021-12-05T16:34:59.258Z"
   },
   {
    "duration": 27,
    "start_time": "2021-12-05T16:34:59.275Z"
   },
   {
    "duration": 19,
    "start_time": "2021-12-05T16:34:59.304Z"
   },
   {
    "duration": 18,
    "start_time": "2021-12-05T16:34:59.325Z"
   },
   {
    "duration": 24,
    "start_time": "2021-12-05T16:34:59.345Z"
   },
   {
    "duration": 8,
    "start_time": "2021-12-05T16:34:59.371Z"
   },
   {
    "duration": 4170,
    "start_time": "2021-12-05T16:34:59.380Z"
   },
   {
    "duration": 30,
    "start_time": "2021-12-05T16:35:03.552Z"
   },
   {
    "duration": 19,
    "start_time": "2021-12-05T16:35:03.584Z"
   },
   {
    "duration": 46,
    "start_time": "2021-12-05T16:35:03.605Z"
   },
   {
    "duration": 43,
    "start_time": "2021-12-05T16:35:03.653Z"
   },
   {
    "duration": 5,
    "start_time": "2021-12-05T16:35:03.698Z"
   },
   {
    "duration": 12,
    "start_time": "2021-12-05T16:35:03.705Z"
   },
   {
    "duration": 6,
    "start_time": "2021-12-05T16:35:03.719Z"
   },
   {
    "duration": 13,
    "start_time": "2021-12-05T16:35:03.727Z"
   },
   {
    "duration": 16,
    "start_time": "2021-12-05T16:35:03.741Z"
   },
   {
    "duration": 49,
    "start_time": "2021-12-05T16:35:03.758Z"
   },
   {
    "duration": 12,
    "start_time": "2021-12-05T16:35:03.809Z"
   },
   {
    "duration": 21,
    "start_time": "2021-12-05T16:35:03.822Z"
   },
   {
    "duration": 36,
    "start_time": "2021-12-05T16:35:03.845Z"
   },
   {
    "duration": 16,
    "start_time": "2021-12-05T16:35:03.889Z"
   },
   {
    "duration": 13,
    "start_time": "2021-12-05T16:35:03.907Z"
   },
   {
    "duration": 76,
    "start_time": "2021-12-05T16:35:03.922Z"
   },
   {
    "duration": 73,
    "start_time": "2021-12-05T16:35:04.000Z"
   },
   {
    "duration": 40,
    "start_time": "2021-12-05T16:35:04.076Z"
   },
   {
    "duration": 176,
    "start_time": "2021-12-05T16:35:04.118Z"
   },
   {
    "duration": 5,
    "start_time": "2021-12-05T16:35:04.296Z"
   },
   {
    "duration": 44,
    "start_time": "2021-12-05T16:35:04.302Z"
   },
   {
    "duration": 32,
    "start_time": "2021-12-05T16:35:04.351Z"
   },
   {
    "duration": 77,
    "start_time": "2021-12-05T16:35:04.386Z"
   },
   {
    "duration": 30,
    "start_time": "2021-12-05T16:35:04.466Z"
   },
   {
    "duration": 300,
    "start_time": "2021-12-05T16:35:04.498Z"
   },
   {
    "duration": 4,
    "start_time": "2021-12-05T16:35:04.800Z"
   },
   {
    "duration": 22,
    "start_time": "2021-12-05T16:35:04.806Z"
   },
   {
    "duration": 21,
    "start_time": "2021-12-05T16:35:04.830Z"
   },
   {
    "duration": 7,
    "start_time": "2021-12-05T16:35:04.853Z"
   },
   {
    "duration": 15,
    "start_time": "2021-12-05T16:35:04.862Z"
   },
   {
    "duration": 195,
    "start_time": "2021-12-05T16:35:04.880Z"
   },
   {
    "duration": 7,
    "start_time": "2021-12-05T16:35:05.087Z"
   },
   {
    "duration": 10,
    "start_time": "2021-12-05T16:35:05.097Z"
   },
   {
    "duration": 4,
    "start_time": "2021-12-05T16:35:05.109Z"
   },
   {
    "duration": 9,
    "start_time": "2021-12-05T16:35:05.115Z"
   },
   {
    "duration": 6827,
    "start_time": "2021-12-05T16:35:05.126Z"
   },
   {
    "duration": 63,
    "start_time": "2021-12-05T16:35:11.892Z"
   },
   {
    "duration": 9,
    "start_time": "2021-12-05T16:35:14.725Z"
   },
   {
    "duration": 10,
    "start_time": "2021-12-05T16:35:37.639Z"
   },
   {
    "duration": 14,
    "start_time": "2021-12-05T16:36:23.566Z"
   },
   {
    "duration": 10,
    "start_time": "2021-12-05T16:36:23.815Z"
   },
   {
    "duration": 10,
    "start_time": "2021-12-05T16:36:25.948Z"
   },
   {
    "duration": 5,
    "start_time": "2021-12-05T16:36:27.092Z"
   },
   {
    "duration": 10,
    "start_time": "2021-12-05T16:36:29.085Z"
   },
   {
    "duration": 181,
    "start_time": "2021-12-05T16:36:31.253Z"
   },
   {
    "duration": 158,
    "start_time": "2021-12-05T16:38:28.902Z"
   },
   {
    "duration": 28,
    "start_time": "2021-12-05T16:51:03.013Z"
   },
   {
    "duration": 188,
    "start_time": "2021-12-05T17:24:45.882Z"
   },
   {
    "duration": 196,
    "start_time": "2021-12-05T17:25:34.735Z"
   },
   {
    "duration": 175,
    "start_time": "2021-12-05T17:28:35.722Z"
   },
   {
    "duration": 20,
    "start_time": "2021-12-05T18:35:08.368Z"
   },
   {
    "duration": 53,
    "start_time": "2021-12-05T18:35:08.389Z"
   },
   {
    "duration": 13,
    "start_time": "2021-12-05T18:35:08.443Z"
   },
   {
    "duration": 11,
    "start_time": "2021-12-05T18:35:08.457Z"
   },
   {
    "duration": 278,
    "start_time": "2021-12-05T18:35:08.470Z"
   },
   {
    "duration": 184,
    "start_time": "2021-12-05T18:35:08.750Z"
   },
   {
    "duration": 293,
    "start_time": "2021-12-05T18:35:08.936Z"
   },
   {
    "duration": 21,
    "start_time": "2021-12-05T18:35:09.231Z"
   },
   {
    "duration": 14,
    "start_time": "2021-12-05T18:35:09.253Z"
   },
   {
    "duration": 25,
    "start_time": "2021-12-05T18:35:09.268Z"
   },
   {
    "duration": 7,
    "start_time": "2021-12-05T18:35:09.295Z"
   },
   {
    "duration": 7,
    "start_time": "2021-12-05T18:35:09.303Z"
   },
   {
    "duration": 184,
    "start_time": "2021-12-05T18:35:09.312Z"
   },
   {
    "duration": 4,
    "start_time": "2021-12-05T18:35:09.498Z"
   },
   {
    "duration": 6,
    "start_time": "2021-12-05T18:35:09.504Z"
   },
   {
    "duration": 11,
    "start_time": "2021-12-05T18:35:09.511Z"
   },
   {
    "duration": 11,
    "start_time": "2021-12-05T18:35:09.524Z"
   },
   {
    "duration": 54,
    "start_time": "2021-12-05T18:35:09.536Z"
   },
   {
    "duration": 8,
    "start_time": "2021-12-05T18:35:09.592Z"
   },
   {
    "duration": 7,
    "start_time": "2021-12-05T18:35:09.602Z"
   },
   {
    "duration": 8,
    "start_time": "2021-12-05T18:35:09.610Z"
   },
   {
    "duration": 9,
    "start_time": "2021-12-05T18:35:09.620Z"
   },
   {
    "duration": 3,
    "start_time": "2021-12-05T18:35:09.630Z"
   },
   {
    "duration": 4,
    "start_time": "2021-12-05T18:35:09.635Z"
   },
   {
    "duration": 14,
    "start_time": "2021-12-05T18:35:09.640Z"
   },
   {
    "duration": 35,
    "start_time": "2021-12-05T18:35:09.655Z"
   },
   {
    "duration": 7,
    "start_time": "2021-12-05T18:35:09.691Z"
   },
   {
    "duration": 6,
    "start_time": "2021-12-05T18:35:09.700Z"
   },
   {
    "duration": 8,
    "start_time": "2021-12-05T18:35:09.708Z"
   },
   {
    "duration": 4,
    "start_time": "2021-12-05T18:35:09.718Z"
   },
   {
    "duration": 10,
    "start_time": "2021-12-05T18:35:09.724Z"
   },
   {
    "duration": 8,
    "start_time": "2021-12-05T18:35:09.736Z"
   },
   {
    "duration": 4,
    "start_time": "2021-12-05T18:35:09.746Z"
   },
   {
    "duration": 35,
    "start_time": "2021-12-05T18:35:09.752Z"
   },
   {
    "duration": 12,
    "start_time": "2021-12-05T18:35:09.789Z"
   },
   {
    "duration": 12,
    "start_time": "2021-12-05T18:35:09.803Z"
   },
   {
    "duration": 7,
    "start_time": "2021-12-05T18:35:09.817Z"
   },
   {
    "duration": 8,
    "start_time": "2021-12-05T18:35:09.825Z"
   },
   {
    "duration": 5,
    "start_time": "2021-12-05T18:35:09.834Z"
   },
   {
    "duration": 6,
    "start_time": "2021-12-05T18:35:09.840Z"
   },
   {
    "duration": 41,
    "start_time": "2021-12-05T18:35:09.848Z"
   },
   {
    "duration": 19,
    "start_time": "2021-12-05T18:35:09.890Z"
   },
   {
    "duration": 14,
    "start_time": "2021-12-05T18:35:09.910Z"
   },
   {
    "duration": 24,
    "start_time": "2021-12-05T18:35:09.926Z"
   },
   {
    "duration": 3,
    "start_time": "2021-12-05T18:35:09.952Z"
   },
   {
    "duration": 3140,
    "start_time": "2021-12-05T18:35:09.957Z"
   },
   {
    "duration": 19,
    "start_time": "2021-12-05T18:35:13.099Z"
   },
   {
    "duration": 5,
    "start_time": "2021-12-05T18:35:13.120Z"
   },
   {
    "duration": 17,
    "start_time": "2021-12-05T18:35:13.126Z"
   },
   {
    "duration": 18,
    "start_time": "2021-12-05T18:35:13.145Z"
   },
   {
    "duration": 24,
    "start_time": "2021-12-05T18:35:13.164Z"
   },
   {
    "duration": 9,
    "start_time": "2021-12-05T18:35:13.190Z"
   },
   {
    "duration": 5,
    "start_time": "2021-12-05T18:35:13.200Z"
   },
   {
    "duration": 11,
    "start_time": "2021-12-05T18:35:13.207Z"
   },
   {
    "duration": 6,
    "start_time": "2021-12-05T18:35:13.219Z"
   },
   {
    "duration": 19,
    "start_time": "2021-12-05T18:35:13.226Z"
   },
   {
    "duration": 41,
    "start_time": "2021-12-05T18:35:13.246Z"
   },
   {
    "duration": 10,
    "start_time": "2021-12-05T18:35:13.289Z"
   },
   {
    "duration": 4,
    "start_time": "2021-12-05T18:35:13.301Z"
   },
   {
    "duration": 5,
    "start_time": "2021-12-05T18:35:13.306Z"
   },
   {
    "duration": 7,
    "start_time": "2021-12-05T18:35:13.313Z"
   },
   {
    "duration": 7,
    "start_time": "2021-12-05T18:35:13.322Z"
   },
   {
    "duration": 3,
    "start_time": "2021-12-05T18:35:13.331Z"
   },
   {
    "duration": 8,
    "start_time": "2021-12-05T18:35:13.335Z"
   },
   {
    "duration": 178,
    "start_time": "2021-12-05T18:35:13.345Z"
   },
   {
    "duration": 3,
    "start_time": "2021-12-05T18:35:13.525Z"
   },
   {
    "duration": 10,
    "start_time": "2021-12-05T18:35:13.530Z"
   },
   {
    "duration": 11,
    "start_time": "2021-12-05T18:35:13.541Z"
   },
   {
    "duration": 3,
    "start_time": "2021-12-05T18:35:13.553Z"
   },
   {
    "duration": 8,
    "start_time": "2021-12-05T18:35:13.558Z"
   },
   {
    "duration": 147,
    "start_time": "2021-12-05T18:35:13.588Z"
   },
   {
    "duration": 4,
    "start_time": "2021-12-05T18:35:13.737Z"
   },
   {
    "duration": 11,
    "start_time": "2021-12-05T18:35:13.743Z"
   },
   {
    "duration": 6,
    "start_time": "2021-12-05T18:35:13.756Z"
   },
   {
    "duration": 23,
    "start_time": "2021-12-05T18:35:13.764Z"
   },
   {
    "duration": 7,
    "start_time": "2021-12-05T18:35:13.789Z"
   },
   {
    "duration": 151,
    "start_time": "2021-12-05T18:35:13.798Z"
   },
   {
    "duration": 4,
    "start_time": "2021-12-05T18:35:13.951Z"
   },
   {
    "duration": 10,
    "start_time": "2021-12-05T18:35:13.957Z"
   },
   {
    "duration": 24,
    "start_time": "2021-12-05T18:35:13.968Z"
   },
   {
    "duration": 3,
    "start_time": "2021-12-05T18:35:13.994Z"
   },
   {
    "duration": 26,
    "start_time": "2021-12-05T18:35:13.998Z"
   },
   {
    "duration": 132,
    "start_time": "2021-12-05T18:35:14.025Z"
   },
   {
    "duration": 21,
    "start_time": "2021-12-05T18:35:14.159Z"
   },
   {
    "duration": 8,
    "start_time": "2021-12-05T18:35:14.181Z"
   },
   {
    "duration": 1475,
    "start_time": "2022-02-12T18:07:49.065Z"
   },
   {
    "duration": 65,
    "start_time": "2022-02-12T18:07:50.543Z"
   },
   {
    "duration": 23,
    "start_time": "2022-02-12T18:07:50.610Z"
   },
   {
    "duration": 39,
    "start_time": "2022-02-12T18:07:50.635Z"
   },
   {
    "duration": 329,
    "start_time": "2022-02-12T18:07:50.677Z"
   },
   {
    "duration": 334,
    "start_time": "2022-02-12T18:07:51.009Z"
   },
   {
    "duration": 340,
    "start_time": "2022-02-12T18:07:51.345Z"
   },
   {
    "duration": 38,
    "start_time": "2022-02-12T18:07:51.689Z"
   },
   {
    "duration": 26,
    "start_time": "2022-02-12T18:07:51.752Z"
   },
   {
    "duration": 10,
    "start_time": "2022-02-12T18:07:51.781Z"
   },
   {
    "duration": 17,
    "start_time": "2022-02-12T18:07:51.794Z"
   },
   {
    "duration": 8,
    "start_time": "2022-02-12T18:07:51.813Z"
   },
   {
    "duration": 357,
    "start_time": "2022-02-12T18:07:51.823Z"
   },
   {
    "duration": 6,
    "start_time": "2022-02-12T18:07:52.183Z"
   },
   {
    "duration": 8,
    "start_time": "2022-02-12T18:07:52.192Z"
   },
   {
    "duration": 46,
    "start_time": "2022-02-12T18:07:52.202Z"
   },
   {
    "duration": 18,
    "start_time": "2022-02-12T18:07:52.256Z"
   },
   {
    "duration": 37,
    "start_time": "2022-02-12T18:07:52.277Z"
   },
   {
    "duration": 36,
    "start_time": "2022-02-12T18:07:52.317Z"
   },
   {
    "duration": 12,
    "start_time": "2022-02-12T18:07:52.356Z"
   },
   {
    "duration": 15,
    "start_time": "2022-02-12T18:07:52.370Z"
   },
   {
    "duration": 15,
    "start_time": "2022-02-12T18:07:52.388Z"
   },
   {
    "duration": 6,
    "start_time": "2022-02-12T18:07:52.450Z"
   },
   {
    "duration": 8,
    "start_time": "2022-02-12T18:07:52.466Z"
   },
   {
    "duration": 19,
    "start_time": "2022-02-12T18:07:52.476Z"
   },
   {
    "duration": 7,
    "start_time": "2022-02-12T18:07:52.497Z"
   },
   {
    "duration": 8,
    "start_time": "2022-02-12T18:07:52.506Z"
   },
   {
    "duration": 39,
    "start_time": "2022-02-12T18:07:52.517Z"
   },
   {
    "duration": 10,
    "start_time": "2022-02-12T18:07:52.559Z"
   },
   {
    "duration": 12,
    "start_time": "2022-02-12T18:07:52.572Z"
   },
   {
    "duration": 16,
    "start_time": "2022-02-12T18:07:52.586Z"
   },
   {
    "duration": 13,
    "start_time": "2022-02-12T18:07:52.605Z"
   },
   {
    "duration": 33,
    "start_time": "2022-02-12T18:07:52.621Z"
   },
   {
    "duration": 14,
    "start_time": "2022-02-12T18:07:52.657Z"
   },
   {
    "duration": 18,
    "start_time": "2022-02-12T18:07:52.674Z"
   },
   {
    "duration": 11,
    "start_time": "2022-02-12T18:07:52.695Z"
   },
   {
    "duration": 41,
    "start_time": "2022-02-12T18:07:52.709Z"
   },
   {
    "duration": 12,
    "start_time": "2022-02-12T18:07:52.753Z"
   },
   {
    "duration": 11,
    "start_time": "2022-02-12T18:07:52.768Z"
   },
   {
    "duration": 9,
    "start_time": "2022-02-12T18:07:52.782Z"
   },
   {
    "duration": 69,
    "start_time": "2022-02-12T18:07:52.793Z"
   },
   {
    "duration": 24,
    "start_time": "2022-02-12T18:07:52.865Z"
   },
   {
    "duration": 22,
    "start_time": "2022-02-12T18:07:52.891Z"
   },
   {
    "duration": 36,
    "start_time": "2022-02-12T18:07:52.916Z"
   },
   {
    "duration": 4,
    "start_time": "2022-02-12T18:07:52.955Z"
   },
   {
    "duration": 5065,
    "start_time": "2022-02-12T18:07:52.962Z"
   },
   {
    "duration": 50,
    "start_time": "2022-02-12T18:07:58.030Z"
   },
   {
    "duration": 5,
    "start_time": "2022-02-12T18:07:58.083Z"
   },
   {
    "duration": 38,
    "start_time": "2022-02-12T18:07:58.091Z"
   },
   {
    "duration": 63,
    "start_time": "2022-02-12T18:07:58.132Z"
   },
   {
    "duration": 23,
    "start_time": "2022-02-12T18:07:58.198Z"
   },
   {
    "duration": 35,
    "start_time": "2022-02-12T18:07:58.224Z"
   },
   {
    "duration": 21,
    "start_time": "2022-02-12T18:07:58.262Z"
   },
   {
    "duration": 30,
    "start_time": "2022-02-12T18:07:58.285Z"
   },
   {
    "duration": 26,
    "start_time": "2022-02-12T18:07:58.317Z"
   },
   {
    "duration": 49,
    "start_time": "2022-02-12T18:07:58.345Z"
   },
   {
    "duration": 21,
    "start_time": "2022-02-12T18:07:58.397Z"
   },
   {
    "duration": 42,
    "start_time": "2022-02-12T18:07:58.421Z"
   },
   {
    "duration": 20,
    "start_time": "2022-02-12T18:07:58.465Z"
   },
   {
    "duration": 30,
    "start_time": "2022-02-12T18:07:58.487Z"
   },
   {
    "duration": 43,
    "start_time": "2022-02-12T18:07:58.519Z"
   },
   {
    "duration": 14,
    "start_time": "2022-02-12T18:07:58.565Z"
   },
   {
    "duration": 14,
    "start_time": "2022-02-12T18:07:58.582Z"
   },
   {
    "duration": 34,
    "start_time": "2022-02-12T18:07:58.598Z"
   },
   {
    "duration": 313,
    "start_time": "2022-02-12T18:07:58.635Z"
   },
   {
    "duration": 17,
    "start_time": "2022-02-12T18:07:58.951Z"
   },
   {
    "duration": 160,
    "start_time": "2022-02-12T18:07:58.977Z"
   },
   {
    "duration": 155,
    "start_time": "2022-02-12T18:07:59.168Z"
   },
   {
    "duration": 122,
    "start_time": "2022-02-12T18:07:59.339Z"
   },
   {
    "duration": 70,
    "start_time": "2022-02-12T18:07:59.469Z"
   },
   {
    "duration": 420,
    "start_time": "2022-02-12T18:07:59.543Z"
   },
   {
    "duration": 6,
    "start_time": "2022-02-12T18:07:59.966Z"
   },
   {
    "duration": 29,
    "start_time": "2022-02-12T18:07:59.974Z"
   },
   {
    "duration": 23,
    "start_time": "2022-02-12T18:08:00.006Z"
   },
   {
    "duration": 16,
    "start_time": "2022-02-12T18:08:00.032Z"
   },
   {
    "duration": 27,
    "start_time": "2022-02-12T18:08:00.050Z"
   },
   {
    "duration": 271,
    "start_time": "2022-02-12T18:08:00.080Z"
   },
   {
    "duration": 8,
    "start_time": "2022-02-12T18:08:00.356Z"
   },
   {
    "duration": 46,
    "start_time": "2022-02-12T18:08:00.366Z"
   },
   {
    "duration": 42,
    "start_time": "2022-02-12T18:08:00.415Z"
   },
   {
    "duration": 9,
    "start_time": "2022-02-12T18:08:00.461Z"
   },
   {
    "duration": 19,
    "start_time": "2022-02-12T18:08:00.472Z"
   },
   {
    "duration": 239,
    "start_time": "2022-02-12T18:08:00.494Z"
   },
   {
    "duration": 46,
    "start_time": "2022-02-12T18:08:00.737Z"
   }
  ],
  "kernelspec": {
   "display_name": "Python 3",
   "language": "python",
   "name": "python3"
  },
  "language_info": {
   "codemirror_mode": {
    "name": "ipython",
    "version": 3
   },
   "file_extension": ".py",
   "mimetype": "text/x-python",
   "name": "python",
   "nbconvert_exporter": "python",
   "pygments_lexer": "ipython3",
   "version": "3.7.8"
  },
  "toc": {
   "base_numbering": 1,
   "nav_menu": {},
   "number_sections": true,
   "sideBar": true,
   "skip_h1_title": true,
   "title_cell": "Table of Contents",
   "title_sidebar": "Contents",
   "toc_cell": false,
   "toc_position": {},
   "toc_section_display": true,
   "toc_window_display": false
  }
 },
 "nbformat": 4,
 "nbformat_minor": 2
}
